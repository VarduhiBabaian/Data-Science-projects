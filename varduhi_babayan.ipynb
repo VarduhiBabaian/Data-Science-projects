{
 "cells": [
  {
   "cell_type": "code",
   "execution_count": null,
   "metadata": {
    "application/vnd.databricks.v1+cell": {
     "cellMetadata": {
      "byteLimit": 2048000,
      "rowLimit": 10000
     },
     "inputWidgets": {},
     "nuid": "4f391f33-9687-4689-8f54-11d84edfc355",
     "showTitle": false,
     "tableResultSettingsMap": {},
     "title": ""
    }
   },
   "outputs": [],
   "source": [
    "from pyspark.sql import SparkSession\n",
    "import pyspark.sql.functions as F "
   ]
  },
  {
   "cell_type": "code",
   "execution_count": null,
   "metadata": {
    "application/vnd.databricks.v1+cell": {
     "cellMetadata": {
      "byteLimit": 2048000,
      "rowLimit": 10000
     },
     "inputWidgets": {},
     "nuid": "1994fa67-ce21-45fb-b130-3d21e680672d",
     "showTitle": false,
     "tableResultSettingsMap": {},
     "title": ""
    }
   },
   "outputs": [],
   "source": [
    "spark = SparkSession.builder.appName(\"midterm_exam_app\").getOrCreate()"
   ]
  },
  {
   "cell_type": "code",
   "execution_count": null,
   "metadata": {
    "application/vnd.databricks.v1+cell": {
     "cellMetadata": {
      "byteLimit": 2048000,
      "rowLimit": 10000
     },
     "inputWidgets": {},
     "nuid": "289920df-99a1-47b1-a097-1cff2f05587c",
     "showTitle": false,
     "tableResultSettingsMap": {},
     "title": ""
    }
   },
   "outputs": [
    {
     "data": {
      "text/html": [
       "\n",
       "            <div>\n",
       "                <p><b>SparkSession - hive</b></p>\n",
       "                \n",
       "        <div>\n",
       "            <p><b>SparkContext</b></p>\n",
       "\n",
       "            <p><a href=\"/?o=4331484460011979#setting/sparkui/1128-202527-icm21bfq/driver-2979883635235075642\">Spark UI</a></p>\n",
       "\n",
       "            <dl>\n",
       "              <dt>Version</dt>\n",
       "                <dd><code>v3.3.2</code></dd>\n",
       "              <dt>Master</dt>\n",
       "                <dd><code>local[8]</code></dd>\n",
       "              <dt>AppName</dt>\n",
       "                <dd><code>Databricks Shell</code></dd>\n",
       "            </dl>\n",
       "        </div>\n",
       "        \n",
       "            </div>\n",
       "        "
      ]
     },
     "metadata": {
      "application/vnd.databricks.v1+output": {
       "addedWidgets": {},
       "arguments": {},
       "data": "\n            <div>\n                <p><b>SparkSession - hive</b></p>\n                \n        <div>\n            <p><b>SparkContext</b></p>\n\n            <p><a href=\"/?o=4331484460011979#setting/sparkui/1128-202527-icm21bfq/driver-2979883635235075642\">Spark UI</a></p>\n\n            <dl>\n              <dt>Version</dt>\n                <dd><code>v3.3.2</code></dd>\n              <dt>Master</dt>\n                <dd><code>local[8]</code></dd>\n              <dt>AppName</dt>\n                <dd><code>Databricks Shell</code></dd>\n            </dl>\n        </div>\n        \n            </div>\n        ",
       "datasetInfos": [],
       "metadata": {},
       "removedWidgets": [],
       "textData": null,
       "type": "htmlSandbox"
      }
     },
     "output_type": "display_data"
    }
   ],
   "source": [
    "spark"
   ]
  },
  {
   "cell_type": "code",
   "execution_count": null,
   "metadata": {
    "application/vnd.databricks.v1+cell": {
     "cellMetadata": {
      "byteLimit": 2048000,
      "rowLimit": 10000
     },
     "inputWidgets": {},
     "nuid": "76e549d2-8dd8-4955-80a5-979f62b93b3c",
     "showTitle": false,
     "tableResultSettingsMap": {},
     "title": ""
    }
   },
   "outputs": [],
   "source": [
    "df_articles = spark.read.csv(\"/FileStore/tables/articles.csv\", header = True, inferSchema= True)\n",
    "df_customers = spark.read.csv(\"/FileStore/tables/customers.csv\", header = True, inferSchema= True)\n",
    "df_transactions = spark.read.csv(\"/FileStore/tables/transactions.csv\", header = True, inferSchema= True)"
   ]
  },
  {
   "cell_type": "code",
   "execution_count": null,
   "metadata": {
    "application/vnd.databricks.v1+cell": {
     "cellMetadata": {
      "byteLimit": 2048000,
      "rowLimit": 10000
     },
     "inputWidgets": {},
     "nuid": "08e104a8-d91b-45b5-896b-f4663c5c1294",
     "showTitle": false,
     "tableResultSettingsMap": {},
     "title": ""
    }
   },
   "outputs": [
    {
     "name": "stdout",
     "output_type": "stream",
     "text": [
      "-RECORD 0---------------------------------------------------------------\n",
      " article_id                   | 108775015                               \n",
      " product_code                 | 108775                                  \n",
      " prod_name                    | Strap top                               \n",
      " product_type_no              | 253                                     \n",
      " product_type_name            | Vest top                                \n",
      " product_group_name           | Garment Upper body                      \n",
      " graphical_appearance_no      | 1010016                                 \n",
      " graphical_appearance_name    | Solid                                   \n",
      " colour_group_code            | 9                                       \n",
      " colour_group_name            | Black                                   \n",
      " perceived_colour_value_id    | 4                                       \n",
      " perceived_colour_value_name  | Dark                                    \n",
      " perceived_colour_master_id   | 5                                       \n",
      " perceived_colour_master_name | Black                                   \n",
      " department_no                | 1676                                    \n",
      " department_name              | Jersey Basic                            \n",
      " index_code                   | A                                       \n",
      " index_name                   | Ladieswear                              \n",
      " index_group_no               | 1                                       \n",
      " index_group_name             | Ladieswear                              \n",
      " section_no                   | 16                                      \n",
      " section_name                 | Womens Everyday Basics                  \n",
      " garment_group_no             | 1002                                    \n",
      " garment_group_name           | Jersey Basic                            \n",
      " detail_desc                  | Jersey top with narrow shoulder straps. \n",
      "only showing top 1 row\n",
      "\n"
     ]
    }
   ],
   "source": [
    "df_articles.show(1, False, True)"
   ]
  },
  {
   "cell_type": "code",
   "execution_count": null,
   "metadata": {
    "application/vnd.databricks.v1+cell": {
     "cellMetadata": {
      "byteLimit": 2048000,
      "rowLimit": 10000
     },
     "inputWidgets": {},
     "nuid": "7407fe65-71dd-49bc-8eec-5a7ba92ff070",
     "showTitle": false,
     "tableResultSettingsMap": {},
     "title": ""
    }
   },
   "outputs": [
    {
     "name": "stdout",
     "output_type": "stream",
     "text": [
      "-RECORD 0----------------------------------------------------------------------------------\n",
      " customer_id            | 0000423b00ade91418cceaf3b26c6af3dd342b51fd051eec9c12fb36984420fa \n",
      " FN                     | null                                                             \n",
      " Active                 | null                                                             \n",
      " club_member_status     | ACTIVE                                                           \n",
      " fashion_news_frequency | NONE                                                             \n",
      " age                    | 25                                                               \n",
      " postal_code            | 2973abc54daa8a5f8ccfe9362140c63247c5eee03f1d93f4c830291c32bc3057 \n",
      "only showing top 1 row\n",
      "\n"
     ]
    }
   ],
   "source": [
    "df_customers.show(1, False, True)"
   ]
  },
  {
   "cell_type": "code",
   "execution_count": null,
   "metadata": {
    "application/vnd.databricks.v1+cell": {
     "cellMetadata": {
      "byteLimit": 2048000,
      "rowLimit": 10000
     },
     "inputWidgets": {},
     "nuid": "dcd12616-139e-4af5-851c-37385012020f",
     "showTitle": false,
     "tableResultSettingsMap": {},
     "title": ""
    }
   },
   "outputs": [
    {
     "name": "stdout",
     "output_type": "stream",
     "text": [
      "-RECORD 0----------------------------------------------------------------------------\n",
      " t_dat            | 2019-02-28 20:00:00                                              \n",
      " customer_id      | 0002db27a1651998a3de4463437b580b45dfa7d8107afa778daad67b3d015d94 \n",
      " article_id       | 688873010                                                        \n",
      " price            | 0.033881355932203386                                             \n",
      " sales_channel_id | 1                                                                \n",
      "only showing top 1 row\n",
      "\n"
     ]
    }
   ],
   "source": [
    "df_transactions.show(1, False, True)"
   ]
  },
  {
   "cell_type": "code",
   "execution_count": null,
   "metadata": {
    "application/vnd.databricks.v1+cell": {
     "cellMetadata": {
      "byteLimit": 2048000,
      "rowLimit": 10000
     },
     "inputWidgets": {},
     "nuid": "a35ad74d-04fb-409c-ac9d-0a23b6974d16",
     "showTitle": false,
     "tableResultSettingsMap": {},
     "title": ""
    }
   },
   "outputs": [
    {
     "name": "stdout",
     "output_type": "stream",
     "text": [
      "Out[19]: 482189"
     ]
    }
   ],
   "source": [
    "df_transactions.count()"
   ]
  },
  {
   "cell_type": "code",
   "execution_count": null,
   "metadata": {
    "application/vnd.databricks.v1+cell": {
     "cellMetadata": {
      "byteLimit": 2048000,
      "rowLimit": 10000
     },
     "inputWidgets": {},
     "nuid": "bc931c11-e3b8-4c26-a93b-a9dc4d3ff5e1",
     "showTitle": false,
     "tableResultSettingsMap": {},
     "title": ""
    }
   },
   "outputs": [
    {
     "name": "stdout",
     "output_type": "stream",
     "text": [
      "Out[26]: 294058"
     ]
    }
   ],
   "source": [
    "df_transactions.select('customer_id').distinct().count()"
   ]
  },
  {
   "cell_type": "code",
   "execution_count": null,
   "metadata": {
    "application/vnd.databricks.v1+cell": {
     "cellMetadata": {
      "byteLimit": 2048000,
      "rowLimit": 10000
     },
     "inputWidgets": {},
     "nuid": "fdadc39f-8a75-4df4-b598-92213e9de9ff",
     "showTitle": false,
     "tableResultSettingsMap": {},
     "title": ""
    }
   },
   "outputs": [
    {
     "name": "stdout",
     "output_type": "stream",
     "text": [
      "Out[27]: 409862"
     ]
    }
   ],
   "source": [
    "df_customers.count()"
   ]
  },
  {
   "cell_type": "code",
   "execution_count": null,
   "metadata": {
    "application/vnd.databricks.v1+cell": {
     "cellMetadata": {
      "byteLimit": 2048000,
      "rowLimit": 10000
     },
     "inputWidgets": {},
     "nuid": "a617ad38-e263-4697-97f6-a725186cfa84",
     "showTitle": false,
     "tableResultSettingsMap": {},
     "title": ""
    }
   },
   "outputs": [
    {
     "name": "stdout",
     "output_type": "stream",
     "text": [
      "Out[24]: 105542"
     ]
    }
   ],
   "source": [
    "df_articles.count()"
   ]
  },
  {
   "cell_type": "markdown",
   "metadata": {
    "application/vnd.databricks.v1+cell": {
     "cellMetadata": {},
     "inputWidgets": {},
     "nuid": "7ae3912b-0c91-46bb-84ab-81cdc13d7c10",
     "showTitle": false,
     "tableResultSettingsMap": {},
     "title": ""
    }
   },
   "source": [
    "### Analyzing product trends over seasons and years"
   ]
  },
  {
   "cell_type": "code",
   "execution_count": null,
   "metadata": {
    "application/vnd.databricks.v1+cell": {
     "cellMetadata": {
      "byteLimit": 2048000,
      "rowLimit": 10000
     },
     "inputWidgets": {},
     "nuid": "e63799e0-ea0f-4ca3-bb48-fcb106c01e1d",
     "showTitle": false,
     "tableResultSettingsMap": {},
     "title": ""
    }
   },
   "outputs": [],
   "source": [
    "from pyspark.sql.types import DateType"
   ]
  },
  {
   "cell_type": "code",
   "execution_count": null,
   "metadata": {
    "application/vnd.databricks.v1+cell": {
     "cellMetadata": {
      "byteLimit": 2048000,
      "rowLimit": 10000
     },
     "inputWidgets": {},
     "nuid": "a4a99bb5-682b-460e-aa83-35af711169d7",
     "showTitle": false,
     "tableResultSettingsMap": {},
     "title": ""
    }
   },
   "outputs": [],
   "source": [
    "df_transactions = df_transactions.withColumn('date', F.col('t_dat').cast(DateType()))"
   ]
  },
  {
   "cell_type": "code",
   "execution_count": null,
   "metadata": {
    "application/vnd.databricks.v1+cell": {
     "cellMetadata": {
      "byteLimit": 2048000,
      "rowLimit": 10000
     },
     "inputWidgets": {},
     "nuid": "c83ba75a-762d-432e-92e7-f2e4e9f6d60e",
     "showTitle": false,
     "tableResultSettingsMap": {},
     "title": ""
    }
   },
   "outputs": [
    {
     "name": "stdout",
     "output_type": "stream",
     "text": [
      "-RECORD 0----------------------------------------------------------------------------\n",
      " t_dat            | 2019-02-28 20:00:00                                              \n",
      " customer_id      | 0002db27a1651998a3de4463437b580b45dfa7d8107afa778daad67b3d015d94 \n",
      " article_id       | 688873010                                                        \n",
      " price            | 0.033881355932203386                                             \n",
      " sales_channel_id | 1                                                                \n",
      " date             | 2019-02-28                                                       \n",
      "-RECORD 1----------------------------------------------------------------------------\n",
      " t_dat            | 2019-02-28 20:00:00                                              \n",
      " customer_id      | 0031a3ee9e817a6268d6bb4d598fd6922eb35f26dd0054dbfeed3c7fded09112 \n",
      " article_id       | 562245046                                                        \n",
      " price            | 0.030508474576271188                                             \n",
      " sales_channel_id | 2                                                                \n",
      " date             | 2019-02-28                                                       \n",
      "-RECORD 2----------------------------------------------------------------------------\n",
      " t_dat            | 2019-02-28 20:00:00                                              \n",
      " customer_id      | 00daef2733086cfb0176a97646cb510472ca608f74c475b9f5b8c753a8a20b66 \n",
      " article_id       | 715124001                                                        \n",
      " price            | 0.020322033898305086                                             \n",
      " sales_channel_id | 2                                                                \n",
      " date             | 2019-02-28                                                       \n",
      "only showing top 3 rows\n",
      "\n"
     ]
    }
   ],
   "source": [
    "df_transactions.show(3,False, True)"
   ]
  },
  {
   "cell_type": "code",
   "execution_count": null,
   "metadata": {
    "application/vnd.databricks.v1+cell": {
     "cellMetadata": {
      "byteLimit": 2048000,
      "rowLimit": 10000
     },
     "inputWidgets": {},
     "nuid": "da82f4a2-b018-4217-977d-5488fa5c74ae",
     "showTitle": false,
     "tableResultSettingsMap": {},
     "title": ""
    }
   },
   "outputs": [],
   "source": [
    "from pyspark.sql.functions import year, month, when\n"
   ]
  },
  {
   "cell_type": "code",
   "execution_count": null,
   "metadata": {
    "application/vnd.databricks.v1+cell": {
     "cellMetadata": {
      "byteLimit": 2048000,
      "rowLimit": 10000
     },
     "inputWidgets": {},
     "nuid": "f3bef768-dd5d-49e3-a324-957689f01277",
     "showTitle": false,
     "tableResultSettingsMap": {},
     "title": ""
    }
   },
   "outputs": [],
   "source": [
    "df_transactions = df_transactions.withColumn('year', year(\"date\").cast(\"int\"))"
   ]
  },
  {
   "cell_type": "code",
   "execution_count": null,
   "metadata": {
    "application/vnd.databricks.v1+cell": {
     "cellMetadata": {
      "byteLimit": 2048000,
      "rowLimit": 10000
     },
     "inputWidgets": {},
     "nuid": "cdff1c4e-caf3-4b45-a0c5-15cff1432611",
     "showTitle": false,
     "tableResultSettingsMap": {},
     "title": ""
    }
   },
   "outputs": [],
   "source": [
    "df_transactions = df_transactions.withColumn(\"Season\", when((month(\"date\").between(3, 5)), \"Spring\")\n",
    "                                                    .when((month(\"date\").between(6, 8)), \"Summer\")\n",
    "                                                    .when((month(\"date\").between(9, 11)), \"Autumn\")\n",
    "                                                    .otherwise(\"Winter\")\n",
    "                                            )"
   ]
  },
  {
   "cell_type": "code",
   "execution_count": null,
   "metadata": {
    "application/vnd.databricks.v1+cell": {
     "cellMetadata": {
      "byteLimit": 2048000,
      "rowLimit": 10000
     },
     "inputWidgets": {},
     "nuid": "976b5418-d2de-4dbb-a095-8e9a89d668e4",
     "showTitle": false,
     "tableResultSettingsMap": {},
     "title": ""
    }
   },
   "outputs": [
    {
     "name": "stdout",
     "output_type": "stream",
     "text": [
      "-RECORD 0----------------------------------------------------------------------------\n",
      " t_dat            | 2019-02-28 20:00:00                                              \n",
      " customer_id      | 0002db27a1651998a3de4463437b580b45dfa7d8107afa778daad67b3d015d94 \n",
      " article_id       | 688873010                                                        \n",
      " price            | 0.033881355932203386                                             \n",
      " sales_channel_id | 1                                                                \n",
      " date             | 2019-02-28                                                       \n",
      " year             | 2019                                                             \n",
      " Season           | Winter                                                           \n",
      "-RECORD 1----------------------------------------------------------------------------\n",
      " t_dat            | 2019-02-28 20:00:00                                              \n",
      " customer_id      | 0031a3ee9e817a6268d6bb4d598fd6922eb35f26dd0054dbfeed3c7fded09112 \n",
      " article_id       | 562245046                                                        \n",
      " price            | 0.030508474576271188                                             \n",
      " sales_channel_id | 2                                                                \n",
      " date             | 2019-02-28                                                       \n",
      " year             | 2019                                                             \n",
      " Season           | Winter                                                           \n",
      "-RECORD 2----------------------------------------------------------------------------\n",
      " t_dat            | 2019-02-28 20:00:00                                              \n",
      " customer_id      | 00daef2733086cfb0176a97646cb510472ca608f74c475b9f5b8c753a8a20b66 \n",
      " article_id       | 715124001                                                        \n",
      " price            | 0.020322033898305086                                             \n",
      " sales_channel_id | 2                                                                \n",
      " date             | 2019-02-28                                                       \n",
      " year             | 2019                                                             \n",
      " Season           | Winter                                                           \n",
      "-RECORD 3----------------------------------------------------------------------------\n",
      " t_dat            | 2019-02-28 20:00:00                                              \n",
      " customer_id      | 0101910585fb22dc4df1433e1d97ce79f4dae9f91bef6d5093ad59704978ce7f \n",
      " article_id       | 698276001                                                        \n",
      " price            | 0.050830508474576264                                             \n",
      " sales_channel_id | 2                                                                \n",
      " date             | 2019-02-28                                                       \n",
      " year             | 2019                                                             \n",
      " Season           | Winter                                                           \n",
      "-RECORD 4----------------------------------------------------------------------------\n",
      " t_dat            | 2019-02-28 20:00:00                                              \n",
      " customer_id      | 012cfe5d988e9635b9260b5128e7432aebb72467782f1cfff0981a289aa8f9d6 \n",
      " article_id       | 700345001                                                        \n",
      " price            | 0.04794915254237288                                              \n",
      " sales_channel_id | 2                                                                \n",
      " date             | 2019-02-28                                                       \n",
      " year             | 2019                                                             \n",
      " Season           | Winter                                                           \n",
      "-RECORD 5----------------------------------------------------------------------------\n",
      " t_dat            | 2019-02-28 20:00:00                                              \n",
      " customer_id      | 0136908b67875e99ecb7af161229e0c8f3b070ae85d2d4cb5f880652c4259d2d \n",
      " article_id       | 576775006                                                        \n",
      " price            | 0.01523728813559322                                              \n",
      " sales_channel_id | 2                                                                \n",
      " date             | 2019-02-28                                                       \n",
      " year             | 2019                                                             \n",
      " Season           | Winter                                                           \n",
      "-RECORD 6----------------------------------------------------------------------------\n",
      " t_dat            | 2019-02-28 20:00:00                                              \n",
      " customer_id      | 01c51fc769136d663046efd4e65aaaa07507a0c15c754676aaac73b734a495cb \n",
      " article_id       | 685812002                                                        \n",
      " price            | 0.033881355932203386                                             \n",
      " sales_channel_id | 1                                                                \n",
      " date             | 2019-02-28                                                       \n",
      " year             | 2019                                                             \n",
      " Season           | Winter                                                           \n",
      "-RECORD 7----------------------------------------------------------------------------\n",
      " t_dat            | 2019-02-28 20:00:00                                              \n",
      " customer_id      | 01fbdad80e1e11ce382c56e66800716298f31111994b1282653100318f9f5848 \n",
      " article_id       | 610776040                                                        \n",
      " price            | 0.008457627118644067                                             \n",
      " sales_channel_id | 2                                                                \n",
      " date             | 2019-02-28                                                       \n",
      " year             | 2019                                                             \n",
      " Season           | Winter                                                           \n",
      "-RECORD 8----------------------------------------------------------------------------\n",
      " t_dat            | 2019-02-28 20:00:00                                              \n",
      " customer_id      | 0254772be48717879411464bc5fd892c9ec6686c7396ef25be4901c4ad6b949b \n",
      " article_id       | 509629008                                                        \n",
      " price            | 0.01523728813559322                                              \n",
      " sales_channel_id | 1                                                                \n",
      " date             | 2019-02-28                                                       \n",
      " year             | 2019                                                             \n",
      " Season           | Winter                                                           \n",
      "-RECORD 9----------------------------------------------------------------------------\n",
      " t_dat            | 2019-02-28 20:00:00                                              \n",
      " customer_id      | 031514905d5870ecf630a26f81dbc6b1557bdb7e78ce45b17be1700886a73cfc \n",
      " article_id       | 684209001                                                        \n",
      " price            | 0.025406779661016947                                             \n",
      " sales_channel_id | 2                                                                \n",
      " date             | 2019-02-28                                                       \n",
      " year             | 2019                                                             \n",
      " Season           | Winter                                                           \n",
      "only showing top 10 rows\n",
      "\n"
     ]
    }
   ],
   "source": [
    "df_transactions.show(10, False, True)"
   ]
  },
  {
   "cell_type": "markdown",
   "metadata": {
    "application/vnd.databricks.v1+cell": {
     "cellMetadata": {},
     "inputWidgets": {},
     "nuid": "7b9532e8-ffe1-446a-936a-1d888e295199",
     "showTitle": false,
     "tableResultSettingsMap": {},
     "title": ""
    }
   },
   "source": [
    "Having separate year and season features, now we can do some grouping and aggregation. We also use \"articles\" dataset for having comprehensive analysis about products"
   ]
  },
  {
   "cell_type": "code",
   "execution_count": null,
   "metadata": {
    "application/vnd.databricks.v1+cell": {
     "cellMetadata": {
      "byteLimit": 2048000,
      "rowLimit": 10000
     },
     "inputWidgets": {},
     "nuid": "f960b982-6c8f-498a-94bd-c4e5a52742c6",
     "showTitle": false,
     "tableResultSettingsMap": {},
     "title": ""
    }
   },
   "outputs": [],
   "source": [
    "transactions_with_articles = df_transactions.join(df_articles, on=\"article_id\")"
   ]
  },
  {
   "cell_type": "code",
   "execution_count": null,
   "metadata": {
    "application/vnd.databricks.v1+cell": {
     "cellMetadata": {
      "byteLimit": 2048000,
      "rowLimit": 10000
     },
     "inputWidgets": {},
     "nuid": "993b0770-6c47-400a-aa6f-d54f756ebb8a",
     "showTitle": false,
     "tableResultSettingsMap": {},
     "title": ""
    }
   },
   "outputs": [],
   "source": [
    "season_trend = transactions_with_articles.groupBy(\"year\", \"season\", \"article_id\") \\\n",
    "    .count() \\\n",
    "    .orderBy(\"year\", \"season\", \"count\", ascending=False)\n"
   ]
  },
  {
   "cell_type": "code",
   "execution_count": null,
   "metadata": {
    "application/vnd.databricks.v1+cell": {
     "cellMetadata": {
      "byteLimit": 2048000,
      "rowLimit": 10000
     },
     "inputWidgets": {},
     "nuid": "94dc78e4-02f1-46a7-b4d5-70e67c918e12",
     "showTitle": false,
     "tableResultSettingsMap": {},
     "title": ""
    }
   },
   "outputs": [
    {
     "name": "stdout",
     "output_type": "stream",
     "text": [
      "+----+------+----------+-----+\n",
      "|year|season|article_id|count|\n",
      "+----+------+----------+-----+\n",
      "|2020|Winter| 720125001|  116|\n",
      "|2020|Winter| 706016001|  115|\n",
      "|2020|Winter| 866383001|  103|\n",
      "|2020|Winter| 537116001|   99|\n",
      "|2020|Winter| 799421001|   98|\n",
      "|2020|Winter| 706016002|   96|\n",
      "|2020|Winter| 733098018|   92|\n",
      "|2020|Winter| 799421004|   91|\n",
      "|2020|Winter| 799417004|   90|\n",
      "|2020|Winter| 706016003|   87|\n",
      "|2020|Winter| 791587001|   87|\n",
      "|2020|Winter| 464297007|   81|\n",
      "|2020|Winter| 590928001|   77|\n",
      "|2020|Winter| 562245046|   77|\n",
      "|2020|Winter| 372860001|   77|\n",
      "|2020|Winter| 803757001|   73|\n",
      "|2020|Winter| 599580041|   72|\n",
      "|2020|Winter| 810838011|   71|\n",
      "|2020|Winter| 730683041|   70|\n",
      "|2020|Winter| 832361007|   70|\n",
      "+----+------+----------+-----+\n",
      "only showing top 20 rows\n",
      "\n"
     ]
    }
   ],
   "source": [
    "season_trend.show()"
   ]
  },
  {
   "cell_type": "code",
   "execution_count": null,
   "metadata": {
    "application/vnd.databricks.v1+cell": {
     "cellMetadata": {
      "byteLimit": 2048000,
      "rowLimit": 10000
     },
     "inputWidgets": {},
     "nuid": "19dbd6f7-3d83-4217-a153-97137ca4f6e3",
     "showTitle": false,
     "tableResultSettingsMap": {},
     "title": ""
    }
   },
   "outputs": [
    {
     "name": "stdout",
     "output_type": "stream",
     "text": [
      "+----+----------+-----+\n",
      "|year|article_id|count|\n",
      "+----+----------+-----+\n",
      "|2020| 720125001|  116|\n",
      "|2020| 706016001|  115|\n",
      "|2020| 866383001|  103|\n",
      "|2020| 537116001|   99|\n",
      "|2020| 799421001|   98|\n",
      "|2020| 706016002|   96|\n",
      "|2020| 733098018|   92|\n",
      "|2020| 799421004|   91|\n",
      "|2020| 799417004|   90|\n",
      "|2020| 706016003|   87|\n",
      "|2020| 791587001|   87|\n",
      "|2020| 464297007|   81|\n",
      "|2020| 590928001|   77|\n",
      "|2020| 372860001|   77|\n",
      "|2020| 562245046|   77|\n",
      "|2020| 803757001|   73|\n",
      "|2020| 599580041|   72|\n",
      "|2020| 810838011|   71|\n",
      "|2020| 832361007|   70|\n",
      "|2020| 730683041|   70|\n",
      "+----+----------+-----+\n",
      "only showing top 20 rows\n",
      "\n"
     ]
    }
   ],
   "source": [
    "year_trend = transactions_with_articles.groupBy(\"year\", \"article_id\") \\\n",
    "    .count() \\\n",
    "    .orderBy(\"year\", \"count\", ascending=False)\n",
    "\n",
    "year_trend.show()"
   ]
  },
  {
   "cell_type": "markdown",
   "metadata": {
    "application/vnd.databricks.v1+cell": {
     "cellMetadata": {},
     "inputWidgets": {},
     "nuid": "38867300-fe40-4a28-8723-d608659f64b5",
     "showTitle": false,
     "tableResultSettingsMap": {},
     "title": ""
    }
   },
   "source": [
    "**Analyzing product trend by years (2019 and 2020)**"
   ]
  },
  {
   "cell_type": "code",
   "execution_count": null,
   "metadata": {
    "application/vnd.databricks.v1+cell": {
     "cellMetadata": {
      "byteLimit": 2048000,
      "rowLimit": 10000
     },
     "inputWidgets": {},
     "nuid": "afdb8258-9c3b-4683-a00e-dd0dc1aa523b",
     "showTitle": false,
     "tableResultSettingsMap": {},
     "title": ""
    }
   },
   "outputs": [
    {
     "name": "stdout",
     "output_type": "stream",
     "text": [
      "+----+-----------------+-----------------+-----+\n",
      "|year|product_type_name|colour_group_name|count|\n",
      "+----+-----------------+-----------------+-----+\n",
      "|2020|         Trousers|            Black| 3304|\n",
      "|2020|            Dress|            Black| 2136|\n",
      "|2020|  Leggings/Tights|            Black| 1739|\n",
      "|2020|              Top|            Black| 1516|\n",
      "|2020|          Sweater|            Black| 1499|\n",
      "|2020|              Bra|            Black| 1491|\n",
      "|2020| Underwear bottom|            Black| 1215|\n",
      "|2020|         Trousers|        Dark Blue| 1139|\n",
      "|2020|         Trousers|             Blue| 1084|\n",
      "|2020|          T-shirt|            Black| 1043|\n",
      "|2020|         Vest top|            Black| 1021|\n",
      "|2020|          T-shirt|            White|  897|\n",
      "|2020|            Skirt|            Black|  822|\n",
      "|2020|  Swimwear bottom|            Black|  746|\n",
      "|2020|       Bikini top|            Black|  720|\n",
      "|2020|          Sweater|            Beige|  664|\n",
      "|2020|         Trousers|       Light Blue|  651|\n",
      "|2020|           Blouse|            Black|  568|\n",
      "|2020|            Socks|            Black|  558|\n",
      "|2020|           Blouse|            White|  540|\n",
      "+----+-----------------+-----------------+-----+\n",
      "only showing top 20 rows\n",
      "\n"
     ]
    }
   ],
   "source": [
    "year_trend_product = transactions_with_articles.groupBy(\"year\", 'product_type_name', 'colour_group_name').count().orderBy('year', 'count', ascending=False)\n",
    "year_trend_product.show()"
   ]
  },
  {
   "cell_type": "code",
   "execution_count": null,
   "metadata": {
    "application/vnd.databricks.v1+cell": {
     "cellMetadata": {
      "byteLimit": 2048000,
      "rowLimit": 10000
     },
     "inputWidgets": {},
     "nuid": "4c1cded3-a37c-4bc9-8053-38f886f5289e",
     "showTitle": false,
     "tableResultSettingsMap": {},
     "title": ""
    }
   },
   "outputs": [],
   "source": [
    "pd_year_trend = year_trend_product.toPandas()"
   ]
  },
  {
   "cell_type": "code",
   "execution_count": null,
   "metadata": {
    "application/vnd.databricks.v1+cell": {
     "cellMetadata": {
      "byteLimit": 2048000,
      "rowLimit": 10000
     },
     "inputWidgets": {},
     "nuid": "923a4ab6-7c36-49cb-a184-26e31a2d9d56",
     "showTitle": false,
     "tableResultSettingsMap": {},
     "title": ""
    }
   },
   "outputs": [
    {
     "data": {
      "text/html": [
       "<html>\n",
       "<head><meta charset=\"utf-8\" /></head>\n",
       "<body>\n",
       "    <div>            <script src=\"https://cdnjs.cloudflare.com/ajax/libs/mathjax/2.7.5/MathJax.js?config=TeX-AMS-MML_SVG\"></script><script type=\"text/javascript\">if (window.MathJax) {MathJax.Hub.Config({SVG: {font: \"STIX-Web\"}});}</script>                <script type=\"text/javascript\">window.PlotlyConfig = {MathJaxConfig: 'local'};</script>\n",
       "        <script src=\"https://cdn.plot.ly/plotly-2.9.0.min.js\"></script>                <div id=\"1d7b8aa1-2769-4e10-bb78-5a225049a049\" class=\"plotly-graph-div\" style=\"height:100%; width:100%;\"></div>            <script type=\"text/javascript\">                                    window.PLOTLYENV=window.PLOTLYENV || {};                                    if (document.getElementById(\"1d7b8aa1-2769-4e10-bb78-5a225049a049\")) {                    Plotly.newPlot(                        \"1d7b8aa1-2769-4e10-bb78-5a225049a049\",                        [{\"alignmentgroup\":\"True\",\"bingroup\":\"x\",\"histfunc\":\"sum\",\"hovertemplate\":\"year=2020<br>product_type_name=%{x}<br>sum of count=%{y}<extra></extra>\",\"legendgroup\":\"2020\",\"marker\":{\"color\":\"#636efa\",\"pattern\":{\"shape\":\"\"}},\"name\":\"2020\",\"offsetgroup\":\"2020\",\"orientation\":\"v\",\"showlegend\":true,\"x\":[\"Trousers\",\"Dress\",\"Leggings/Tights\",\"Top\",\"Sweater\",\"Bra\",\"Underwear bottom\",\"Trousers\",\"Trousers\",\"T-shirt\",\"Vest top\",\"T-shirt\",\"Skirt\",\"Swimwear bottom\",\"Bikini top\",\"Sweater\",\"Trousers\",\"Blouse\",\"Socks\",\"Blouse\",\"Jacket\",\"Sweater\",\"Sweater\",\"Shirt\",\"Trousers\",\"Sweater\",\"Boots\",\"Belt\",\"Top\",\"Sweater\",\"Hoodie\",\"Blazer\",\"Underwear Tights\",\"Bra\",\"Bra\",\"Shirt\",\"Bag\",\"Trousers\",\"Vest top\",\"Dress\",\"Trousers\",\"Swimsuit\",\"Dress\",\"Dress\",\"Dress\",\"Blouse\",\"Dress\",\"Sweater\",\"Trousers\",\"Sweater\",\"Sweater\",\"Top\",\"Underwear bottom\",\"Socks\",\"Swimwear bottom\",\"Bra\",\"Sweater\",\"Sweater\",\"Earring\",\"Sweater\",\"Bikini top\",\"Necklace\",\"Trousers\",\"Dress\",\"Dress\",\"T-shirt\",\"Blouse\",\"Shorts\",\"Top\",\"Blouse\",\"Underwear body\",\"Trousers\",\"T-shirt\",\"T-shirt\",\"Bra\",\"Top\",\"Sweater\",\"Sweater\",\"Trousers\",\"Underwear bottom\",\"Sweater\",\"Underwear bottom\",\"Sweater\",\"Cardigan\",\"Bodysuit\",\"T-shirt\",\"Jacket\",\"Jumpsuit/Playsuit\",\"Leggings/Tights\",\"Bra\",\"Underwear bottom\",\"Underwear bottom\",\"T-shirt\",\"Dress\",\"Trousers\",\"Sweater\",\"Dress\",\"Top\",\"Trousers\",\"Dress\",\"Unknown\",\"Bra\",\"Dress\",\"Underwear bottom\",\"Jacket\",\"Blouse\",\"Top\",\"Bikini top\",\"Sweater\",\"Shirt\",\"Dress\",\"Jacket\",\"Vest top\",\"Trousers\",\"Pyjama set\",\"Blouse\",\"Blouse\",\"Bra\",\"Bikini top\",\"Shirt\",\"Swimwear bottom\",\"Vest top\",\"Hoodie\",\"Blazer\",\"Socks\",\"Pyjama set\",\"Hoodie\",\"Shorts\",\"Blazer\",\"Sweater\",\"Shirt\",\"Swimwear bottom\",\"Dress\",\"Blazer\",\"Skirt\",\"Blazer\",\"T-shirt\",\"Hoodie\",\"Hair/alice band\",\"Shirt\",\"Skirt\",\"Sweater\",\"Sneakers\",\"T-shirt\",\"Hat/beanie\",\"Shirt\",\"Leggings/Tights\",\"Top\",\"Blouse\",\"Underwear bottom\",\"Top\",\"Earring\",\"Swimwear bottom\",\"Jacket\",\"Bra\",\"Dress\",\"Blouse\",\"Cardigan\",\"Jacket\",\"Shirt\",\"Sweater\",\"Dress\",\"Scarf\",\"Blazer\",\"Leggings/Tights\",\"Sweater\",\"Bikini top\",\"Hoodie\",\"Sweater\",\"Trousers\",\"T-shirt\",\"Vest top\",\"Bra\",\"Necklace\",\"Dress\",\"Shirt\",\"Skirt\",\"Bra\",\"Underwear bottom\",\"Bikini top\",\"Trousers\",\"Bikini top\",\"T-shirt\",\"Pyjama bottom\",\"Top\",\"Swimwear bottom\",\"Underwear bottom\",\"Sweater\",\"T-shirt\",\"Top\",\"Cardigan\",\"Bra\",\"Gloves\",\"Socks\",\"Hoodie\",\"Bra\",\"Coat\",\"Trousers\",\"Socks\",\"Underwear bottom\",\"Bra\",\"Dress\",\"Blouse\",\"Skirt\",\"Underwear Tights\",\"Shirt\",\"Shirt\",\"Top\",\"Top\",\"Skirt\",\"Jacket\",\"Socks\",\"Hoodie\",\"Socks\",\"Swimwear set\",\"Vest top\",\"Scarf\",\"Top\",\"Blouse\",\"Hoodie\",\"Bra\",\"Dress\",\"Hoodie\",\"Blazer\",\"Leggings/Tights\",\"Scarf\",\"Underwear bottom\",\"Dress\",\"Vest top\",\"Shirt\",\"Bra\",\"Sneakers\",\"Underwear bottom\",\"Hair ties\",\"Swimwear bottom\",\"Sweater\",\"Trousers\",\"Night gown\",\"Skirt\",\"Sunglasses\",\"Socks\",\"Earring\",\"Blouse\",\"Cardigan\",\"Sweater\",\"Sarong\",\"Belt\",\"Pyjama bottom\",\"Flat shoe\",\"Vest top\",\"Shirt\",\"Ring\",\"Skirt\",\"Bikini top\",\"Other accessories\",\"Shorts\",\"Underwear bottom\",\"Robe\",\"Hoodie\",\"T-shirt\",\"Underwear bottom\",\"Swimwear bottom\",\"T-shirt\",\"Skirt\",\"Sweater\",\"Swimsuit\",\"Bra\",\"Pyjama bottom\",\"Dress\",\"Dress\",\"Jacket\",\"Bikini top\",\"Blouse\",\"Trousers\",\"Blazer\",\"Cardigan\",\"Jacket\",\"Swimsuit\",\"Sweater\",\"Pyjama set\",\"Jacket\",\"Shorts\",\"Trousers\",\"Underwear body\",\"Top\",\"Top\",\"Blazer\",\"Trousers\",\"Hoodie\",\"Hoodie\",\"T-shirt\",\"Cardigan\",\"Boots\",\"Blouse\",\"Skirt\",\"Scarf\",\"Skirt\",\"Top\",\"Cardigan\",\"Skirt\",\"Ballerinas\",\"T-shirt\",\"Bikini top\",\"Top\",\"Hoodie\",\"Swimwear bottom\",\"Sweater\",\"Blazer\",\"Leggings/Tights\",\"Vest top\",\"Jacket\",\"Hair clip\",\"Cardigan\",\"Vest top\",\"Swimwear bottom\",\"Blazer\",\"Jumpsuit/Playsuit\",\"Night gown\",\"Scarf\",\"Bikini top\",\"Cardigan\",\"Bodysuit\",\"Coat\",\"Blazer\",\"Pyjama set\",\"Hair/alice band\",\"Hat/beanie\",\"Unknown\",\"Sweater\",\"Dress\",\"Blazer\",\"Shorts\",\"Jacket\",\"Blazer\",\"Top\",\"Scarf\",\"Jacket\",\"Bikini top\",\"Sarong\",\"Coat\",\"Jumpsuit/Playsuit\",\"Pyjama bottom\",\"Cardigan\",\"Socks\",\"Blazer\",\"Skirt\",\"Boots\",\"Skirt\",\"Vest top\",\"T-shirt\",\"Swimwear bottom\",\"Blouse\",\"Pyjama set\",\"Coat\",\"Dress\",\"Skirt\",\"Sweater\",\"Polo shirt\",\"Hoodie\",\"Bikini top\",\"Trousers\",\"Swimwear set\",\"Cap/peaked\",\"Vest top\",\"Leggings/Tights\",\"Blazer\",\"Sneakers\",\"Dress\",\"Shorts\",\"Pyjama bottom\",\"Skirt\",\"Blouse\",\"Swimsuit\",\"Bikini top\",\"Coat\",\"Bag\",\"Pyjama bottom\",\"Scarf\",\"T-shirt\",\"Jacket\",\"Bag\",\"Blouse\",\"Blouse\",\"Blazer\",\"Blouse\",\"Cardigan\",\"Other accessories\",\"Dress\",\"Swimwear bottom\",\"Scarf\",\"Scarf\",\"Swimwear set\",\"Vest top\",\"Sandals\",\"Dress\",\"Swimwear bottom\",\"Hoodie\",\"Shirt\",\"Hair ties\",\"Blazer\",\"Pyjama set\",\"Hair string\",\"Jumpsuit/Playsuit\",\"Skirt\",\"Jumpsuit/Playsuit\",\"Skirt\",\"Underwear bottom\",\"Hair string\",\"Bikini top\",\"Trousers\",\"Top\",\"T-shirt\",\"Dress\",\"Hoodie\",\"T-shirt\",\"Scarf\",\"Bikini top\",\"Unknown\",\"Ring\",\"Sarong\",\"Swimwear bottom\",\"Hair/alice band\",\"Bikini top\",\"Coat\",\"Pumps\",\"Cardigan\",\"Dress\",\"Skirt\",\"Pyjama set\",\"Jumpsuit/Playsuit\",\"Underwear set\",\"Swimwear set\",\"Other accessories\",\"Vest top\",\"Swimsuit\",\"Hoodie\",\"Skirt\",\"Cardigan\",\"Top\",\"Coat\",\"Other shoe\",\"Unknown\",\"Shorts\",\"Outdoor trousers\",\"Hoodie\",\"Bra\",\"Hat/brim\",\"Hair ties\",\"Hair string\",\"Hair ties\",\"Socks\",\"Bodysuit\",\"Shirt\",\"Scarf\",\"Cardigan\",\"Swimsuit\",\"T-shirt\",\"Shorts\",\"Bikini top\",\"Polo shirt\",\"Pyjama bottom\",\"Shirt\",\"Bodysuit\",\"Underwear body\",\"Underwear bottom\",\"Blouse\",\"Other accessories\",\"Hair clip\",\"Cardigan\",\"Blazer\",\"Bra\",\"Skirt\",\"Jacket\",\"Jumpsuit/Playsuit\",\"Top\",\"Coat\",\"Jacket\",\"Bikini top\",\"Shirt\",\"Underwear bottom\",\"Hat/beanie\",\"Tote bag\",\"Hair clip\",\"Other accessories\",\"Bodysuit\",\"Dungarees\",\"Cardigan\",\"Bra\",\"Hat/beanie\",\"Bikini top\",\"Boots\",\"Other accessories\",\"Bodysuit\",\"Scarf\",\"Dress\",\"Scarf\",\"Robe\",\"Vest top\",\"Jumpsuit/Playsuit\",\"Bag\",\"Garment Set\",\"Bra\",\"Jumpsuit/Playsuit\",\"Sweater\",\"Blouse\",\"Sneakers\",\"Sunglasses\",\"Swimwear bottom\",\"Shorts\",\"Vest top\",\"Cardigan\",\"Shorts\",\"Earring\",\"Shirt\",\"Swimwear bottom\",\"Coat\",\"Shorts\",\"Top\",\"Trousers\",\"Coat\",\"Socks\",\"Hair/alice band\",\"Skirt\",\"Skirt\",\"Shirt\",\"Leggings/Tights\",\"Vest top\",\"Vest top\",\"Pyjama set\",\"Shorts\",\"Robe\",\"T-shirt\",\"Leggings/Tights\",\"Leggings/Tights\",\"Underwear set\",\"Sunglasses\",\"Underwear bottom\",\"Vest top\",\"Swimwear bottom\",\"Hair string\",\"Sunglasses\",\"Hoodie\",\"Leggings/Tights\",\"Pyjama set\",\"Scarf\",\"Dress\",\"Polo shirt\",\"T-shirt\",\"Swimwear bottom\",\"Hairband\",\"Sneakers\",\"Hair string\",\"Socks\",\"Bodysuit\",\"Bodysuit\",\"Jacket\",\"Garment Set\",\"Hair clip\",\"Swimsuit\",\"Jacket\",\"Sandals\",\"Skirt\",\"Hat/beanie\",\"Shirt\",\"Bag\",\"Slippers\",\"Pyjama jumpsuit/playsuit\",\"Bucket hat\",\"Swimsuit\",\"Boots\",\"Hair/alice band\",\"Underwear bottom\",\"Dungarees\",\"Sweater\",\"Swimsuit\",\"Hair/alice band\",\"T-shirt\",\"Underwear set\",\"Pyjama set\",\"Night gown\",\"Jacket\",\"Underdress\",\"Hat/beanie\",\"Shorts\",\"Top\",\"Sunglasses\",\"Night gown\",\"Jumpsuit/Playsuit\",\"Bag\",\"Bra\",\"Vest top\",\"Underwear bottom\",\"Swimsuit\",\"Shirt\",\"Skirt\",\"Hoodie\",\"Vest top\",\"Hair/alice band\",\"Flat shoe\",\"Umbrella\",\"Bag\",\"Hoodie\",\"Jacket\",\"Blazer\",\"Cardigan\",\"Backpack\",\"Top\",\"Vest top\",\"Swimsuit\",\"Night gown\",\"Top\",\"Trousers\",\"Swimwear bottom\",\"Pyjama bottom\",\"Top\",\"T-shirt\",\"Bag\",\"Bikini top\",\"Underwear Tights\",\"Hat/beanie\",\"Scarf\",\"Hat/beanie\",\"Bag\",\"Pyjama set\",\"Hat/beanie\",\"Socks\",\"Shorts\",\"Boots\",\"Socks\",\"Sunglasses\",\"Dress\",\"Leggings/Tights\",\"Jacket\",\"Jacket\",\"T-shirt\",\"Mobile case\",\"Swimwear bottom\",\"Heeled sandals\",\"Leggings/Tights\",\"Skirt\",\"Jacket\",\"Trousers\",\"Hair string\",\"Vest top\",\"Hoodie\",\"Dress\",\"Coat\",\"Earrings\",\"Vest top\",\"Blouse\",\"Skirt\",\"Top\",\"Hoodie\",\"Dress\",\"Hat/beanie\",\"Scarf\",\"Gloves\",\"Bag\",\"Coat\",\"Costumes\",\"Skirt\",\"Jumpsuit/Playsuit\",\"Vest top\",\"Jacket\",\"Wallet\",\"Sunglasses\",\"Hair/alice band\",\"Unknown\",\"Earrings\",\"Hoodie\",\"Dungarees\",\"Leggings/Tights\",\"Bag\",\"Socks\",\"Dress\",\"Cardigan\",\"Scarf\",\"Trousers\",\"Bag\",\"Cardigan\",\"Shorts\",\"Swimsuit\",\"Night gown\",\"Blazer\",\"Swimwear bottom\",\"Shorts\",\"Coat\",\"Leggings/Tights\",\"Top\",\"Garment Set\",\"Underwear bottom\",\"Cardigan\",\"Shorts\",\"Hair clip\",\"Necklace\",\"Flip flop\",\"Socks\",\"Coat\",\"Flat shoe\",\"Underwear Tights\",\"Other accessories\",\"Jumpsuit/Playsuit\",\"Socks\",\"Unknown\",\"Trousers\",\"Top\",\"Pyjama jumpsuit/playsuit\",\"Trousers\",\"Sneakers\",\"Scarf\",\"T-shirt\",\"Scarf\",\"Boots\",\"Cardigan\",\"Hat/beanie\",\"Cap/peaked\",\"Trousers\",\"Jacket\",\"Belt\",\"Hat/beanie\",\"Beanie\",\"Swimwear bottom\",\"Hair string\",\"Hat/beanie\",\"Jumpsuit/Playsuit\",\"Vest top\",\"Blazer\",\"Bodysuit\",\"Top\",\"Pyjama set\",\"Weekend/Gym bag\",\"Gloves\",\"Ballerinas\",\"Hat/beanie\",\"Polo shirt\",\"Hair/alice band\",\"Skirt\",\"Pumps\",\"Shirt\",\"Bag\",\"Night gown\",\"Shorts\",\"Sneakers\",\"Hair ties\",\"Blazer\",\"Blouse\",\"Hair/alice band\",\"Bodysuit\",\"Flat shoe\",\"Swimwear bottom\",\"Swimwear bottom\",\"Cardigan\",\"Polo shirt\",\"Top\",\"Bracelet\",\"Heeled sandals\",\"Blazer\",\"Sweater\",\"Bodysuit\",\"Blazer\",\"Other accessories\",\"Bag\",\"Pyjama bottom\",\"Hat/brim\",\"Tie\",\"Bodysuit\",\"Garment Set\",\"Hair/alice band\",\"Scarf\",\"Scarf\",\"Other accessories\",\"Bra extender\",\"Belt\",\"Sneakers\",\"Shorts\",\"Scarf\",\"Top\",\"Vest top\",\"Hoodie\",\"Heels\",\"Slippers\",\"Sneakers\",\"Hair clip\",\"Dungarees\",\"Top\",\"Bikini top\",\"Hair ties\",\"Sunglasses\",\"Kids Underwear top\",\"Shorts\",\"Dungarees\",\"Nipple covers\",\"Flat shoe\",\"Socks\",\"T-shirt\",\"Bag\",\"Top\",\"Sarong\",\"Unknown\",\"Sunglasses\",\"Shorts\",\"Vest top\",\"Belt\",\"Other accessories\",\"Bikini top\",\"Swimwear bottom\",\"Socks\",\"Shirt\",\"Watch\",\"Hair string\",\"Swimsuit\",\"Garment Set\",\"Pumps\",\"Shorts\",\"Sarong\",\"Tailored Waistcoat\",\"Scarf\",\"Bikini top\",\"Jumpsuit/Playsuit\",\"Hat/beanie\",\"Pyjama bottom\",\"Bodysuit\",\"Earring\",\"Shirt\",\"Socks\",\"Jumpsuit/Playsuit\",\"Swimwear bottom\",\"Robe\",\"Other accessories\",\"Blazer\",\"Hair string\",\"Blazer\",\"Trousers\",\"Bikini top\",\"Underwear Tights\",\"Alice band\",\"Earring\",\"Mobile case\",\"Coat\",\"Dress\",\"Socks\",\"Robe\",\"Jacket\",\"Hair/alice band\",\"Earring\",\"Other accessories\",\"Top\",\"Skirt\",\"Shirt\",\"Cap/peaked\",\"Hair string\",\"Dress\",\"Weekend/Gym bag\",\"Nipple covers\",\"T-shirt\",\"Sneakers\",\"Shorts\",\"Blouse\",\"Necklace\",\"Hat/beanie\",\"Hair/alice band\",\"Underdress\",\"Earring\",\"Scarf\",\"Swimsuit\",\"Polo shirt\",\"Hair string\",\"Swimsuit\",\"Leggings/Tights\",\"Pyjama jumpsuit/playsuit\",\"Dungarees\",\"Blouse\",\"Hoodie\",\"Hair ties\",\"Jacket\",\"Swimsuit\",\"Polo shirt\",\"Dungarees\",\"Sandals\",\"Socks\",\"Shorts\",\"Socks\",\"Socks\",\"Earring\",\"Polo shirt\",\"Vest top\",\"Sneakers\",\"Felt hat\",\"Wallet\",\"Underwear bottom\",\"Shorts\",\"Garment Set\",\"Costumes\",\"Bodysuit\",\"Hair/alice band\",\"Necklace\",\"Socks\",\"Cap/peaked\",\"Sweater\",\"T-shirt\",\"Swimsuit\",\"Hair/alice band\",\"Pumps\",\"Ballerinas\",\"Polo shirt\",\"Pyjama bottom\",\"Shirt\",\"Cap/peaked\",\"Dungarees\",\"Heels\",\"Gloves\",\"Blouse\",\"Hat/beanie\",\"Hat/beanie\",\"Bikini top\",\"Pyjama jumpsuit/playsuit\",\"Bag\",\"Scarf\",\"Necklace\",\"Beanie\",\"Skirt\",\"Other accessories\",\"Hair/alice band\",\"Kids Underwear top\",\"Jacket\",\"Bracelet\",\"Bikini top\",\"Other accessories\",\"Garment Set\",\"Swimsuit\",\"Sunglasses\",\"Sneakers\",\"Cap/peaked\",\"Ballerinas\",\"T-shirt\",\"Hat/beanie\",\"Bodysuit\",\"Leggings/Tights\",\"Bodysuit\",\"Underwear body\",\"Hat/beanie\",\"Kids Underwear top\",\"Garment Set\",\"Garment Set\",\"Bikini top\",\"Leggings/Tights\",\"Bikini top\",\"Pyjama bottom\",\"Earring\",\"Coat\",\"Sandals\",\"Other accessories\",\"Skirt\",\"Hoodie\",\"Bag\",\"Bodysuit\",\"Pyjama set\",\"Earring\",\"Swimsuit\",\"Umbrella\",\"Ring\",\"Scarf\",\"Earring\",\"Swimwear bottom\",\"Necklace\",\"Bikini top\",\"Skirt\",\"Hoodie\",\"Tie\",\"Hat/brim\",\"Outdoor overall\",\"Pumps\",\"Sneakers\",\"Garment Set\",\"Flat shoes\",\"Robe\",\"Other accessories\",\"Jumpsuit/Playsuit\",\"Underwear Tights\",\"Other accessories\",\"Jumpsuit/Playsuit\",\"Pumps\",\"Bag\",\"Gloves\",\"Sunglasses\",\"Swimwear set\",\"Jumpsuit/Playsuit\",\"Blouse\",\"Pyjama jumpsuit/playsuit\",\"Wedge\",\"Skirt\",\"Swimsuit\",\"Blouse\",\"Bag\",\"Swimwear bottom\",\"Trousers\",\"Belt\",\"Hat/beanie\",\"Garment Set\",\"Vest top\",\"Outdoor Waistcoat\",\"Wallet\",\"Underwear Tights\",\"Blazer\",\"Flip flop\",\"Pumps\",\"Swimsuit\",\"Socks\",\"Sneakers\",\"Wedge\",\"Fine cosmetics\",\"Hair string\",\"Leggings/Tights\",\"Outdoor trousers\",\"Flip flop\",\"Blouse\",\"Ring\",\"Sandals\",\"T-shirt\",\"Other shoe\",\"Nipple covers\",\"Shirt\",\"Swimsuit\",\"Coat\",\"Skirt\",\"Hair/alice band\",\"Hat/beanie\",\"Outdoor overall\",\"Garment Set\",\"Jumpsuit/Playsuit\",\"Swimwear bottom\",\"Underwear bottom\",\"Costumes\",\"Bodysuit\",\"Outdoor Waistcoat\",\"Hair/alice band\",\"Leggings/Tights\",\"Shoulder bag\",\"Socks\",\"Outdoor Waistcoat\",\"Underwear Tights\",\"Bag\",\"Belt\",\"Outdoor overall\",\"Night gown\",\"T-shirt\",\"Dress\",\"Gloves\",\"Bag\",\"Outdoor Waistcoat\",\"Boots\",\"Pyjama set\",\"Jumpsuit/Playsuit\",\"Vest top\",\"Hat/beanie\",\"Sandals\",\"Hair clip\",\"Garment Set\",\"Pyjama set\",\"Bag\",\"Underwear set\",\"Swimwear bottom\",\"Hat/brim\",\"T-shirt\",\"Pyjama jumpsuit/playsuit\",\"Shorts\",\"Jumpsuit/Playsuit\",\"Jacket\",\"Dress\",\"Shorts\",\"Hat/beanie\",\"Heeled sandals\",\"Night gown\",\"Swimwear bottom\",\"Underwear body\",\"Vest top\",\"Hair/alice band\",\"Hat/beanie\",\"Bikini top\",\"Underwear Tights\",\"Scarf\",\"Night gown\",\"Earring\",\"Robe\",\"Earrings\",\"Pumps\",\"Earring\",\"Dungarees\",\"Underwear set\",\"Garment Set\",\"Hair string\",\"Ballerinas\",\"Jumpsuit/Playsuit\",\"Hat/beanie\",\"Blouse\",\"Bag\",\"Socks\",\"Shorts\",\"Ring\",\"Cap\",\"Sunglasses\",\"Vest top\",\"Sarong\",\"Hair/alice band\",\"Braces\",\"Wedge\",\"Garment Set\",\"Braces\",\"Swimsuit\",\"Ballerinas\",\"Coat\",\"Cardigan\",\"Hat/brim\",\"Pyjama set\",\"Sandals\",\"Pumps\",\"Scarf\",\"Pyjama bottom\",\"Sneakers\",\"Hair/alice band\",\"Hat/beanie\",\"Sneakers\",\"Other accessories\",\"Scarf\",\"Garment Set\",\"Sneakers\",\"Bodysuit\",\"Ballerinas\",\"Sneakers\",\"Bodysuit\",\"Unknown\",\"Sarong\",\"Hat/brim\",\"Flat shoe\",\"Pyjama set\",\"Shorts\",\"Ballerinas\",\"Sunglasses\",\"Bodysuit\",\"Outdoor overall\",\"Sweater\",\"Belt\",\"Other shoe\",\"Underwear bottom\",\"Boots\",\"Boots\",\"Cardigan\",\"Ring\",\"Leggings/Tights\",\"Flip flop\",\"Socks\",\"Pumps\",\"Swimwear bottom\",\"Hair clip\",\"Other shoe\",\"Hair/alice band\",\"Other shoe\",\"Hair clip\",\"Blouse\",\"Dungarees\",\"Bodysuit\",\"Garment Set\",\"Beanie\",\"Earring\",\"Shirt\",\"Blazer\",\"Trousers\",\"Other shoe\",\"Bag\",\"Sneakers\",\"Pyjama jumpsuit/playsuit\",\"Slippers\",\"Other accessories\",\"Hair clip\",\"Cap/peaked\",\"Scarf\",\"Cap/peaked\",\"Ballerinas\",\"Necklace\",\"Sweater\",\"Hair/alice band\",\"Earring\",\"Other accessories\",\"Watch\",\"Scarf\",\"Hair clip\",\"Shorts\",\"Bodysuit\",\"Dress\",\"Other accessories\",\"Dungarees\",\"Polo shirt\",\"Boots\",\"Trousers\",\"Slippers\",\"Cardigan\",\"Hair string\",\"Vest top\",\"Earring\",\"Giftbox\",\"Long John\",\"Leggings/Tights\",\"Sunglasses\",\"Hat/beanie\",\"Earring\",\"Dress\",\"Tailored Waistcoat\",\"Jacket\",\"Bodysuit\",\"Underwear Tights\",\"Costumes\",\"Swimwear bottom\",\"Blouse\",\"Garment Set\",\"Sandals\",\"Outdoor Waistcoat\",\"Gloves\",\"Pyjama set\",\"Belt\",\"Vest top\",\"Underwear set\",\"Costumes\",\"Hoodie\",\"Watch\",\"Bikini top\",\"Wedge\",\"Ballerinas\",\"Hair ties\",\"Outdoor overall\",\"Belt\",\"Headband\",\"Leggings/Tights\",\"Hair clip\",\"Outdoor trousers\",\"Bootie\",\"Bodysuit\",\"Vest top\",\"Watch\",\"Gloves\",\"Cap/peaked\",\"Blazer\",\"Jacket\",\"Pyjama jumpsuit/playsuit\",\"Tie\",\"Boots\",\"Other accessories\",\"Shorts\",\"Pyjama jumpsuit/playsuit\",\"Outdoor overall\",\"Slippers\",\"Hat/beanie\",\"Pyjama jumpsuit/playsuit\",\"Swimwear bottom\",\"Sneakers\",\"Bodysuit\",\"Heeled sandals\",\"Swimsuit\",\"Wedge\",\"Pyjama set\",\"Hair/alice band\",\"Sunglasses\",\"Bikini top\",\"Sarong\",\"Top\",\"Garment Set\",\"Socks\",\"Hat/beanie\",\"Outdoor trousers\",\"Leggings/Tights\",\"Top\",\"Pumps\",\"Outdoor trousers\",\"Bag\",\"Hat/brim\",\"Hoodie\",\"Hat/beanie\",\"Flat shoe\",\"Jumpsuit/Playsuit\",\"Cardigan\",\"Ballerinas\",\"Boots\",\"Underwear bottom\",\"Boots\",\"Pyjama set\",\"Hat/brim\",\"Swimsuit\",\"Polo shirt\",\"Hair clip\",\"Robe\",\"Jacket\",\"Earring\",\"Gloves\",\"Skirt\",\"Pyjama set\",\"Other accessories\",\"Bracelet\",\"Hoodie\",\"Sandals\",\"Shorts\",\"Sandals\",\"Sunglasses\",\"Slippers\",\"Earring\",\"T-shirt\",\"Scarf\",\"Bag\",\"Flat shoe\",\"Swimsuit\",\"Pyjama set\",\"Sneakers\",\"Bodysuit\",\"Jumpsuit/Playsuit\",\"Dress\",\"Necklace\",\"Underwear body\",\"Bra\",\"Dog Wear\",\"Underwear Tights\",\"Bra\",\"Watch\",\"Garment Set\",\"Underwear bottom\",\"Top\",\"Cap/peaked\",\"Bikini top\",\"Bootie\",\"Other accessories\",\"Sunglasses\",\"Scarf\",\"Shorts\",\"Shirt\",\"Pyjama set\",\"Swimwear set\",\"Top\",\"Towel\",\"Hair/alice band\",\"Jumpsuit/Playsuit\",\"Hair clip\",\"Costumes\",\"Cardigan\",\"Bag\",\"Tailored Waistcoat\",\"Belt\",\"Earring\",\"Dog Wear\",\"Other accessories\",\"Vest top\",\"Slippers\",\"Dungarees\",\"Fine cosmetics\",\"Pyjama set\",\"Shorts\",\"Cross-body bag\",\"Sandals\",\"Dog Wear\",\"Jacket\",\"Skirt\",\"Sandals\",\"Watch\",\"Other shoe\",\"Outdoor overall\",\"Hair clip\",\"Felt hat\",\"Outdoor Waistcoat\",\"Heeled sandals\",\"Trousers\",\"Flat shoe\",\"Hair/alice band\",\"Leggings/Tights\",\"Earring\",\"Flat shoe\",\"Flip flop\",\"Tailored Waistcoat\",\"Jumpsuit/Playsuit\",\"Hoodie\",\"Socks\",\"Hat/brim\",\"Other accessories\",\"Dog Wear\",\"Sandals\",\"Gloves\",\"Hair/alice band\",\"Costumes\",\"Boots\",\"Blazer\",\"Heeled sandals\",\"Costumes\",\"Dress\",\"Bracelet\",\"Pumps\",\"Swimwear bottom\",\"Coat\",\"Jacket\",\"Wedge\",\"Polo shirt\",\"Dog Wear\",\"Ballerinas\",\"Sneakers\",\"Dress\",\"Hair/alice band\",\"Vest top\"],\"xaxis\":\"x\",\"y\":[3304,2136,1739,1516,1499,1491,1215,1139,1084,1043,1021,897,822,746,720,664,651,568,558,540,528,487,481,479,469,458,421,406,404,386,379,365,354,331,327,327,302,291,288,287,287,274,270,265,249,248,245,229,228,212,212,207,198,194,193,191,189,188,187,185,177,175,173,170,167,166,164,163,163,163,162,160,160,159,159,154,149,149,147,145,144,142,141,139,138,137,136,135,129,129,128,128,126,124,123,122,122,121,121,115,115,114,113,112,110,110,105,104,102,100,99,99,99,97,96,96,96,95,95,95,93,93,93,89,89,89,88,88,87,87,86,86,85,84,84,84,83,83,83,82,82,81,81,80,79,78,76,75,74,74,74,74,73,72,72,72,72,72,72,72,71,71,70,69,69,68,68,68,66,66,65,65,65,64,64,64,63,63,63,63,63,63,62,62,62,61,60,60,60,59,59,59,59,57,56,54,54,53,53,52,52,52,52,52,52,52,52,52,51,51,50,50,50,50,50,50,50,49,49,49,49,49,49,48,48,48,48,48,48,47,46,46,46,46,46,45,45,45,44,44,44,44,43,43,43,43,42,42,42,42,42,41,41,41,41,41,41,39,39,39,39,39,38,38,38,38,38,38,37,37,37,37,37,37,37,37,36,36,36,36,36,35,35,35,35,35,35,35,35,35,35,35,35,35,35,34,34,34,34,34,34,33,33,33,33,33,33,33,32,32,32,32,31,31,31,31,30,30,30,30,30,29,29,29,29,29,29,28,28,28,28,28,28,27,27,27,27,27,27,27,27,26,26,26,26,26,26,26,26,25,25,25,25,25,25,25,25,24,24,24,24,24,24,24,24,24,23,23,23,23,23,23,23,23,23,23,23,23,23,23,22,22,22,22,22,22,22,22,22,22,21,21,21,21,21,21,21,21,21,21,21,21,21,21,21,20,20,20,20,20,20,20,20,20,20,20,20,20,20,20,19,19,19,19,19,19,19,19,19,19,19,19,19,19,18,18,18,18,18,18,18,18,18,18,18,18,18,18,17,17,17,17,17,17,17,17,17,17,17,17,17,17,16,16,16,16,16,16,16,16,16,16,16,16,16,16,16,16,16,16,15,15,15,15,15,15,15,15,15,15,14,14,14,14,14,14,14,14,14,14,14,14,14,14,14,14,14,14,14,14,14,14,14,14,14,13,13,13,13,13,13,13,13,13,13,13,13,13,13,13,13,13,13,13,13,13,12,12,12,12,12,12,12,12,12,12,12,12,12,12,12,12,12,12,12,12,12,12,12,12,12,12,12,12,12,11,11,11,11,11,11,11,11,11,11,11,11,11,11,11,11,11,11,11,11,11,11,11,11,11,10,10,10,10,10,10,10,10,10,10,10,10,10,10,10,10,10,10,10,10,10,10,10,10,10,10,10,10,9,9,9,9,9,9,9,9,9,9,9,9,9,9,9,9,9,9,9,9,9,9,9,9,9,9,9,9,9,9,9,9,9,9,8,8,8,8,8,8,8,8,8,8,8,8,8,8,8,8,8,8,8,8,8,8,8,8,8,8,8,8,8,8,7,7,7,7,7,7,7,7,7,7,7,7,7,7,7,7,7,7,7,7,7,7,7,7,7,7,7,7,7,7,7,7,7,7,7,7,7,7,7,7,7,7,7,7,7,7,7,7,6,6,6,6,6,6,6,6,6,6,6,6,6,6,6,6,6,6,6,6,6,6,6,6,6,6,6,6,6,6,6,6,6,6,6,6,6,6,6,5,5,5,5,5,5,5,5,5,5,5,5,5,5,5,5,5,5,5,5,5,5,5,5,5,5,5,5,5,5,5,5,5,5,5,5,5,5,5,5,5,5,5,5,5,5,5,5,5,5,5,5,5,5,5,5,5,5,5,5,5,5,5,4,4,4,4,4,4,4,4,4,4,4,4,4,4,4,4,4,4,4,4,4,4,4,4,4,4,4,4,4,4,4,4,4,4,4,4,4,4,4,4,4,4,4,4,4,4,4,4,4,4,4,4,4,4,4,4,4,4,4,4,4,4,4,4,4,4,4,4,4,4,4,4,3,3,3,3,3,3,3,3,3,3,3,3,3,3,3,3,3,3,3,3,3,3,3,3,3,3,3,3,3,3,3,3,3,3,3,3,3,3,3,3,3,3,3,3,3,3,3,3,3,3,3,3,3,3,3,3,3,3,3,3,3,3,3,3,3,3,3,3,3,3,3,3,3,3,3,3,3,3,3,3,3,3,3,3,3,3,3,3,2,2,2,2,2,2,2,2,2,2,2,2,2,2,2,2,2,2,2,2,2,2,2,2,2,2,2,2,2,2,2,2,2,2,2,2,2,2,2,2,2,2,2,2,2,2,2,2,2,2,2,2,2,2,2,2,2,2,2,2,2,2,2,2,2,2,2,2,2,2,2,2,2,2,2,2,2,2,2,2,2,2,2,2,2,2,2,2,2,2,2,2,2,2,2,2,2,2,2,2,2,2,2,2,2,2,2,2,2,2,2,2,2,2,2,2,2,2,2,2,2,2,2,2,2,2,2,2,2,2,2,2,2,2,2,2,2,2,2,2,2,2,2,2,2,2,2,2,2,2,2,2,2,1,1,1,1,1,1,1,1,1,1,1,1,1,1,1,1,1,1,1,1,1,1,1,1,1,1,1,1,1,1,1,1,1,1,1,1,1,1,1,1,1,1,1,1,1,1,1,1,1,1,1,1,1,1,1,1,1,1,1,1,1,1,1,1,1,1,1,1,1,1,1,1,1,1,1,1,1,1,1,1,1,1,1,1,1,1,1,1,1,1,1,1,1,1,1,1,1,1,1,1,1,1,1,1,1,1,1,1,1,1,1,1,1,1,1,1,1,1,1,1,1,1,1,1,1,1,1,1,1,1,1,1,1,1,1,1,1,1,1,1,1,1,1,1,1,1,1,1,1,1,1,1,1,1,1,1,1,1,1,1,1,1,1,1,1,1,1,1,1,1,1,1,1,1,1,1,1,1,1,1,1,1,1,1,1,1,1,1,1,1,1,1,1,1,1,1,1,1,1,1,1,1,1,1,1,1,1,1,1,1,1,1,1,1,1,1,1,1,1,1,1,1,1,1,1,1,1,1,1,1,1,1,1,1,1,1,1,1,1,1,1,1,1,1,1,1,1,1,1,1,1,1,1,1,1,1],\"yaxis\":\"y\",\"type\":\"histogram\"},{\"alignmentgroup\":\"True\",\"bingroup\":\"x\",\"histfunc\":\"sum\",\"hovertemplate\":\"year=2019<br>product_type_name=%{x}<br>sum of count=%{y}<extra></extra>\",\"legendgroup\":\"2019\",\"marker\":{\"color\":\"#EF553B\",\"pattern\":{\"shape\":\"\"}},\"name\":\"2019\",\"offsetgroup\":\"2019\",\"orientation\":\"v\",\"showlegend\":true,\"x\":[\"Trousers\",\"Dress\",\"T-shirt\",\"Top\",\"T-shirt\",\"Trousers\",\"Vest top\",\"Sweater\",\"Bra\",\"Leggings/Tights\",\"Trousers\",\"Blouse\",\"Swimwear bottom\",\"Underwear bottom\",\"Shorts\",\"Bikini top\",\"Skirt\",\"Top\",\"Vest top\",\"Blouse\",\"Trousers\",\"Dress\",\"Shirt\",\"Jacket\",\"Dress\",\"Trousers\",\"Dress\",\"Sweater\",\"Sweater\",\"Shorts\",\"Sweater\",\"Dress\",\"Bra\",\"Sweater\",\"Socks\",\"Shorts\",\"Trousers\",\"T-shirt\",\"Underwear Tights\",\"Belt\",\"Dress\",\"Boots\",\"Blazer\",\"Sweater\",\"Hoodie\",\"Dress\",\"Sweater\",\"Shorts\",\"Trousers\",\"Jumpsuit/Playsuit\",\"Blouse\",\"Swimsuit\",\"Swimwear bottom\",\"Bra\",\"Dress\",\"Bag\",\"Trousers\",\"Bikini top\",\"Shirt\",\"Earring\",\"Blouse\",\"Underwear bottom\",\"Sweater\",\"Trousers\",\"Sweater\",\"Cardigan\",\"Swimwear bottom\",\"Bikini top\",\"Socks\",\"Sweater\",\"Swimwear bottom\",\"T-shirt\",\"Skirt\",\"Bikini top\",\"Sweater\",\"Vest top\",\"Trousers\",\"Sweater\",\"Sweater\",\"Bra\",\"Top\",\"Dress\",\"Sweater\",\"Dress\",\"Shorts\",\"Trousers\",\"Blouse\",\"T-shirt\",\"Top\",\"Sweater\",\"Dress\",\"Sandals\",\"Dress\",\"Swimwear bottom\",\"Bodysuit\",\"Necklace\",\"Trousers\",\"Trousers\",\"Bikini top\",\"Dress\",\"Dress\",\"Shirt\",\"Bra\",\"Underwear bottom\",\"Shorts\",\"Top\",\"T-shirt\",\"Bra\",\"Blouse\",\"Shorts\",\"Dress\",\"Underwear bottom\",\"Sweater\",\"Shirt\",\"Vest top\",\"T-shirt\",\"Underwear bottom\",\"Swimwear bottom\",\"Bikini top\",\"T-shirt\",\"Top\",\"Dress\",\"Underwear bottom\",\"Sweater\",\"Shirt\",\"Shorts\",\"Shorts\",\"Blouse\",\"T-shirt\",\"Skirt\",\"Vest top\",\"Blouse\",\"Trousers\",\"Skirt\",\"Underwear body\",\"Bikini top\",\"Swimwear bottom\",\"Top\",\"Pyjama set\",\"Blouse\",\"T-shirt\",\"Sunglasses\",\"T-shirt\",\"Vest top\",\"Sneakers\",\"Top\",\"Sweater\",\"Skirt\",\"Vest top\",\"Bikini top\",\"Underwear bottom\",\"Bra\",\"Vest top\",\"Skirt\",\"Underwear bottom\",\"Vest top\",\"Dress\",\"T-shirt\",\"Dress\",\"Blouse\",\"Cardigan\",\"Jacket\",\"Swimwear bottom\",\"Trousers\",\"Dress\",\"Hoodie\",\"Jacket\",\"Necklace\",\"Bikini top\",\"Blouse\",\"Trousers\",\"Sweater\",\"Skirt\",\"Heeled sandals\",\"Leggings/Tights\",\"Socks\",\"Sweater\",\"Skirt\",\"Dress\",\"Swimwear bottom\",\"Coat\",\"Sneakers\",\"Skirt\",\"Top\",\"T-shirt\",\"Flat shoe\",\"Blazer\",\"Vest top\",\"Top\",\"Underwear bottom\",\"Top\",\"Blouse\",\"Dress\",\"Blazer\",\"T-shirt\",\"Blouse\",\"Shorts\",\"Jacket\",\"Scarf\",\"Bikini top\",\"Hoodie\",\"Sweater\",\"Bra\",\"Jacket\",\"Sweater\",\"T-shirt\",\"Earring\",\"Unknown\",\"Vest top\",\"Jumpsuit/Playsuit\",\"Bra\",\"Leggings/Tights\",\"Top\",\"Shirt\",\"Blouse\",\"Swimwear bottom\",\"Bikini top\",\"Hoodie\",\"Blouse\",\"Vest top\",\"Hoodie\",\"Hair ties\",\"Shirt\",\"Swimwear bottom\",\"Underwear bottom\",\"Socks\",\"Dress\",\"Top\",\"Bikini top\",\"Pyjama set\",\"Blouse\",\"Shirt\",\"Cardigan\",\"Pyjama bottom\",\"Jumpsuit/Playsuit\",\"Polo shirt\",\"Blazer\",\"Dress\",\"Bra\",\"Sweater\",\"Blouse\",\"Shorts\",\"Ballerinas\",\"Underwear bottom\",\"Jacket\",\"Bra\",\"Dress\",\"Belt\",\"T-shirt\",\"Blouse\",\"Dress\",\"Swimwear bottom\",\"Top\",\"Jumpsuit/Playsuit\",\"Blouse\",\"Shirt\",\"Bikini top\",\"Jacket\",\"Wedge\",\"Leggings/Tights\",\"Vest top\",\"Shirt\",\"Blazer\",\"Jacket\",\"Hair/alice band\",\"T-shirt\",\"T-shirt\",\"Sweater\",\"Sunglasses\",\"Skirt\",\"Socks\",\"Skirt\",\"Dress\",\"Underwear Tights\",\"Swimsuit\",\"Underwear bottom\",\"Top\",\"Swimsuit\",\"Bikini top\",\"Skirt\",\"Blazer\",\"Skirt\",\"Bikini top\",\"Gloves\",\"Swimsuit\",\"Swimwear bottom\",\"Skirt\",\"Top\",\"Socks\",\"Polo shirt\",\"Top\",\"Skirt\",\"Trousers\",\"Pyjama set\",\"T-shirt\",\"Vest top\",\"Ring\",\"Swimsuit\",\"T-shirt\",\"Trousers\",\"Sunglasses\",\"Dress\",\"Cardigan\",\"Trousers\",\"Top\",\"Hat/beanie\",\"Blazer\",\"Bikini top\",\"Swimwear bottom\",\"Jumpsuit/Playsuit\",\"Dress\",\"Swimwear bottom\",\"Cardigan\",\"Blazer\",\"Bikini top\",\"Swimsuit\",\"Other shoe\",\"Pumps\",\"Skirt\",\"Cardigan\",\"Scarf\",\"Pyjama set\",\"Hoodie\",\"Vest top\",\"T-shirt\",\"Night gown\",\"Blouse\",\"Bra\",\"Sweater\",\"Bra\",\"Polo shirt\",\"Jacket\",\"Vest top\",\"Pyjama set\",\"Top\",\"Shorts\",\"Socks\",\"Boots\",\"Other accessories\",\"Hoodie\",\"Cardigan\",\"Cardigan\",\"Flip flop\",\"Bag\",\"Swimwear bottom\",\"Sweater\",\"Coat\",\"Swimwear bottom\",\"Trousers\",\"Sweater\",\"Hoodie\",\"Hoodie\",\"Skirt\",\"Sarong\",\"Coat\",\"Hoodie\",\"Hoodie\",\"Swimwear bottom\",\"Hair clip\",\"Hoodie\",\"Shorts\",\"Leggings/Tights\",\"Hoodie\",\"Underwear bottom\",\"Swimwear bottom\",\"Top\",\"Vest top\",\"Coat\",\"Swimsuit\",\"Cardigan\",\"Dress\",\"Swimsuit\",\"Shorts\",\"Shirt\",\"Pyjama bottom\",\"T-shirt\",\"Top\",\"Dress\",\"Shirt\",\"Robe\",\"Bag\",\"Blazer\",\"Top\",\"Shorts\",\"Cap/peaked\",\"Underwear body\",\"Pyjama bottom\",\"Shorts\",\"Hoodie\",\"Jacket\",\"Blazer\",\"Bikini top\",\"T-shirt\",\"Shorts\",\"Socks\",\"Bikini top\",\"Shorts\",\"T-shirt\",\"Cardigan\",\"Bra\",\"Sandals\",\"Jacket\",\"Jumpsuit/Playsuit\",\"Blazer\",\"Vest top\",\"Bag\",\"Underwear bottom\",\"Dungarees\",\"Blouse\",\"Shirt\",\"Shorts\",\"Swimsuit\",\"Scarf\",\"Shirt\",\"Cardigan\",\"Shorts\",\"Pyjama bottom\",\"Pyjama set\",\"Cardigan\",\"Necklace\",\"Blouse\",\"Hoodie\",\"Hair/alice band\",\"Swimsuit\",\"Shirt\",\"Top\",\"Sarong\",\"Vest top\",\"Hair string\",\"Hair/alice band\",\"Shirt\",\"Bra\",\"Bag\",\"Sunglasses\",\"Sweater\",\"Cardigan\",\"Vest top\",\"Blazer\",\"Scarf\",\"Cardigan\",\"Vest top\",\"Jacket\",\"Bag\",\"Bikini top\",\"Swimwear bottom\",\"Jacket\",\"Jumpsuit/Playsuit\",\"Swimwear bottom\",\"Shorts\",\"Bodysuit\",\"Swimwear bottom\",\"Vest top\",\"Cardigan\",\"T-shirt\",\"Blouse\",\"Hair clip\",\"Trousers\",\"Bikini top\",\"Other accessories\",\"Pyjama set\",\"Jumpsuit/Playsuit\",\"Shorts\",\"Sarong\",\"Hat/brim\",\"Pyjama bottom\",\"Jacket\",\"Heeled sandals\",\"Skirt\",\"Blazer\",\"Hat/beanie\",\"Sweater\",\"T-shirt\",\"Leggings/Tights\",\"Bikini top\",\"Jacket\",\"Jacket\",\"Cardigan\",\"Sandals\",\"Earring\",\"Hair clip\",\"Sneakers\",\"Jacket\",\"Swimwear bottom\",\"Coat\",\"Blazer\",\"Pyjama set\",\"Top\",\"Swimwear bottom\",\"Shirt\",\"Pyjama set\",\"T-shirt\",\"Vest top\",\"Earring\",\"Hoodie\",\"Scarf\",\"Bikini top\",\"Blouse\",\"Hair ties\",\"Skirt\",\"Coat\",\"Blazer\",\"Shorts\",\"Jacket\",\"Vest top\",\"Shirt\",\"Unknown\",\"Trousers\",\"Jacket\",\"Unknown\",\"Ballerinas\",\"Sneakers\",\"Ring\",\"Cardigan\",\"Swimsuit\",\"T-shirt\",\"Skirt\",\"Scarf\",\"Swimsuit\",\"Scarf\",\"Sweater\",\"Dress\",\"Hair string\",\"Sandals\",\"Socks\",\"Scarf\",\"Coat\",\"Sunglasses\",\"Blazer\",\"Socks\",\"Leggings/Tights\",\"Blouse\",\"Other accessories\",\"Jumpsuit/Playsuit\",\"Night gown\",\"Cardigan\",\"Sneakers\",\"Socks\",\"Coat\",\"Vest top\",\"Sweater\",\"Top\",\"Pyjama bottom\",\"Bag\",\"Underdress\",\"Scarf\",\"Sweater\",\"Costumes\",\"Leggings/Tights\",\"Jacket\",\"Underwear bottom\",\"Underwear bottom\",\"Skirt\",\"Skirt\",\"Coat\",\"Garment Set\",\"Dungarees\",\"Trousers\",\"Pyjama set\",\"Hoodie\",\"Sunglasses\",\"Hat/brim\",\"Bag\",\"Bag\",\"T-shirt\",\"Other accessories\",\"Pyjama bottom\",\"Garment Set\",\"Socks\",\"Socks\",\"Hoodie\",\"Blouse\",\"Blouse\",\"Bikini top\",\"Coat\",\"Trousers\",\"Sweater\",\"Scarf\",\"Heeled sandals\",\"Dress\",\"Hair ties\",\"Flat shoe\",\"Heels\",\"Robe\",\"Shorts\",\"Underdress\",\"Skirt\",\"Bodysuit\",\"Sneakers\",\"Underwear bottom\",\"Bikini top\",\"Dress\",\"Hair/alice band\",\"Bracelet\",\"Trousers\",\"Flat shoe\",\"Skirt\",\"Earring\",\"Sunglasses\",\"Swimsuit\",\"Bodysuit\",\"Shorts\",\"T-shirt\",\"Underwear bottom\",\"Cardigan\",\"Earrings\",\"Sandals\",\"Leggings/Tights\",\"Necklace\",\"Skirt\",\"Belt\",\"Hoodie\",\"Dungarees\",\"Swimwear bottom\",\"Belt\",\"Polo shirt\",\"Top\",\"Jumpsuit/Playsuit\",\"Sandals\",\"Jumpsuit/Playsuit\",\"Bag\",\"Earring\",\"Beanie\",\"Necklace\",\"Hair string\",\"Scarf\",\"Bodysuit\",\"Heeled sandals\",\"Shirt\",\"Hat/brim\",\"Polo shirt\",\"Bag\",\"Vest top\",\"Vest top\",\"Blazer\",\"Earring\",\"Flat shoe\",\"Jumpsuit/Playsuit\",\"Sarong\",\"Swimsuit\",\"Hat/beanie\",\"Leggings/Tights\",\"Earrings\",\"Swimwear bottom\",\"Swimwear bottom\",\"Skirt\",\"Top\",\"Leggings/Tights\",\"Bra\",\"Hair ties\",\"Other accessories\",\"Sweater\",\"Bodysuit\",\"Pyjama set\",\"Top\",\"Blouse\",\"Vest top\",\"Shorts\",\"Sarong\",\"Top\",\"Bikini top\",\"Sweater\",\"Blouse\",\"Bikini top\",\"Shorts\",\"Leggings/Tights\",\"Night gown\",\"Garment Set\",\"Leggings/Tights\",\"Jacket\",\"Blazer\",\"Slippers\",\"Hat/beanie\",\"Skirt\",\"Swimsuit\",\"Socks\",\"Coat\",\"Hair/alice band\",\"Hair/alice band\",\"Scarf\",\"Trousers\",\"T-shirt\",\"Shirt\",\"Unknown\",\"Blazer\",\"Hair/alice band\",\"Sunglasses\",\"Tote bag\",\"Sarong\",\"Bikini top\",\"Vest top\",\"Skirt\",\"Swimsuit\",\"T-shirt\",\"Belt\",\"Polo shirt\",\"Swimwear bottom\",\"Swimsuit\",\"Polo shirt\",\"Sandals\",\"Hat/beanie\",\"Hair string\",\"Sarong\",\"Pyjama set\",\"Jacket\",\"Boots\",\"Cardigan\",\"Hair/alice band\",\"Bag\",\"Heeled sandals\",\"Dress\",\"Pumps\",\"Outdoor trousers\",\"Shirt\",\"Leggings/Tights\",\"Underwear set\",\"Jumpsuit/Playsuit\",\"Wedge\",\"Shorts\",\"Boots\",\"Sunglasses\",\"Earring\",\"Jacket\",\"Wedge\",\"Shirt\",\"Skirt\",\"Night gown\",\"Underwear Tights\",\"Wedge\",\"Jacket\",\"Hat/beanie\",\"Sandals\",\"Robe\",\"Pyjama set\",\"Skirt\",\"Sunglasses\",\"Nipple covers\",\"Shirt\",\"Bikini top\",\"Pyjama bottom\",\"Costumes\",\"Kids Underwear top\",\"Umbrella\",\"Heeled sandals\",\"Bag\",\"Blouse\",\"Blazer\",\"Coat\",\"Robe\",\"Bag\",\"Ballerinas\",\"Blouse\",\"Other shoe\",\"Shorts\",\"Hair/alice band\",\"Sneakers\",\"Swimwear bottom\",\"Leggings/Tights\",\"Socks\",\"Hair clip\",\"Hat/beanie\",\"Underwear set\",\"Bodysuit\",\"Coat\",\"Hat/beanie\",\"Trousers\",\"Shirt\",\"Other accessories\",\"Hair ties\",\"Swimwear set\",\"Dress\",\"Blazer\",\"Swimwear bottom\",\"Socks\",\"Shirt\",\"Underwear bottom\",\"Cap/peaked\",\"Ballerinas\",\"Underwear Tights\",\"Swimsuit\",\"Leggings/Tights\",\"Jumpsuit/Playsuit\",\"Trousers\",\"Flip flop\",\"Belt\",\"Night gown\",\"Bag\",\"Blouse\",\"Hat/beanie\",\"Pyjama set\",\"Other accessories\",\"Underwear set\",\"Other shoe\",\"Bodysuit\",\"Vest top\",\"Bra\",\"Jumpsuit/Playsuit\",\"Shirt\",\"Sneakers\",\"Underwear body\",\"Night gown\",\"Scarf\",\"Hair string\",\"Other accessories\",\"Night gown\",\"Sandals\",\"Jumpsuit/Playsuit\",\"Other accessories\",\"Other accessories\",\"T-shirt\",\"Bodysuit\",\"Cardigan\",\"Heeled sandals\",\"Pumps\",\"Flat shoe\",\"Kids Underwear top\",\"Belt\",\"Shirt\",\"Kids Underwear top\",\"Sandals\",\"Flat shoe\",\"Swimsuit\",\"Bodysuit\",\"Hair/alice band\",\"Underwear Tights\",\"Other shoe\",\"Hoodie\",\"Shorts\",\"Jacket\",\"Pyjama jumpsuit/playsuit\",\"Sandals\",\"T-shirt\",\"Hair/alice band\",\"Hair/alice band\",\"Jumpsuit/Playsuit\",\"Hair/alice band\",\"Hat/brim\",\"Coat\",\"Belt\",\"Wedge\",\"Socks\",\"Underwear bottom\",\"Bag\",\"Sandals\",\"Bodysuit\",\"Polo shirt\",\"Heeled sandals\",\"Hoodie\",\"Cardigan\",\"Shorts\",\"Blazer\",\"Necklace\",\"Bag\",\"Dungarees\",\"Sneakers\",\"Pyjama jumpsuit/playsuit\",\"Outdoor Waistcoat\",\"Pyjama bottom\",\"Hair clip\",\"Ballerinas\",\"Dress\",\"Other accessories\",\"Garment Set\",\"Polo shirt\",\"Hair/alice band\",\"Ballerinas\",\"Scarf\",\"Pumps\",\"Flip flop\",\"Jumpsuit/Playsuit\",\"Blazer\",\"Flat shoe\",\"Dungarees\",\"Bodysuit\",\"Jumpsuit/Playsuit\",\"Hoodie\",\"Dungarees\",\"Scarf\",\"Bra\",\"Bag\",\"Hair string\",\"Shorts\",\"Sunglasses\",\"Jumpsuit/Playsuit\",\"Ballerinas\",\"Outdoor Waistcoat\",\"Sandals\",\"Socks\",\"Hoodie\",\"Sunglasses\",\"Polo shirt\",\"Pyjama set\",\"Scarf\",\"Pyjama bottom\",\"Slippers\",\"Sandals\",\"Bodysuit\",\"Socks\",\"Underwear bottom\",\"Heeled sandals\",\"Hair ties\",\"Hat/beanie\",\"Blouse\",\"T-shirt\",\"Coat\",\"Swimwear bottom\",\"Other accessories\",\"Sneakers\",\"Bodysuit\",\"Shirt\",\"Hair/alice band\",\"Hair/alice band\",\"Trousers\",\"Hoodie\",\"Vest top\",\"Scarf\",\"Wedge\",\"Jumpsuit/Playsuit\",\"Bra\",\"Tie\",\"Trousers\",\"Hair ties\",\"Boots\",\"Cap/peaked\",\"Earring\",\"Hat/beanie\",\"Shorts\",\"T-shirt\",\"Hairband\",\"Blouse\",\"Robe\",\"Bikini top\",\"Dress\",\"Gloves\",\"Bodysuit\",\"Pyjama set\",\"Bra\",\"Blazer\",\"Backpack\",\"Nipple covers\",\"Bra\",\"Vest top\",\"Scarf\",\"Sandals\",\"Hat/beanie\",\"Tie\",\"Bag\",\"Hoodie\",\"Necklace\",\"Sunglasses\",\"Garment Set\",\"Skirt\",\"Sunglasses\",\"Cap/peaked\",\"Necklace\",\"Watch\",\"Shorts\",\"Vest top\",\"Other accessories\",\"Socks\",\"Earring\",\"Underwear Tights\",\"Socks\",\"Belt\",\"Swimsuit\",\"Bag\",\"Other shoe\",\"Slippers\",\"Wedge\",\"Bodysuit\",\"Underwear body\",\"Underwear body\",\"Hat/brim\",\"Bra extender\",\"Swimwear bottom\",\"Garment Set\",\"Sunglasses\",\"Hair/alice band\",\"Socks\",\"Pyjama bottom\",\"Bag\",\"Sarong\",\"Leggings/Tights\",\"Earring\",\"Blazer\",\"Polo shirt\",\"Skirt\",\"Ballerinas\",\"Tailored Waistcoat\",\"Swimwear bottom\",\"Wedge\",\"Top\",\"Dress\",\"Cardigan\",\"Top\",\"Leggings/Tights\",\"Unknown\",\"Jumpsuit/Playsuit\",\"Sneakers\",\"Slippers\",\"Bag\",\"Sunglasses\",\"Belt\",\"Leggings/Tights\",\"Earring\",\"Bra\",\"Jacket\",\"Sweater\",\"Shorts\",\"Sneakers\",\"Hat/beanie\",\"Jumpsuit/Playsuit\",\"Skirt\",\"Blazer\",\"Underwear set\",\"Scarf\",\"Pyjama bottom\",\"Cardigan\",\"Top\",\"Cap/peaked\",\"Swimwear set\",\"Leggings/Tights\",\"Other shoe\",\"Sneakers\",\"Sandals\",\"Hat/brim\",\"Vest top\",\"Underwear bottom\",\"Night gown\",\"Other shoe\",\"Night gown\",\"Underwear corset\",\"Ballerinas\",\"Coat\",\"Ballerinas\",\"Underwear set\",\"Dungarees\",\"Hoodie\",\"Bodysuit\",\"Boots\",\"Hat/brim\",\"Sunglasses\",\"Blazer\",\"Swimwear set\",\"Tailored Waistcoat\",\"Belt\",\"Wallet\",\"Garment Set\",\"Scarf\",\"Swimsuit\",\"Bikini top\",\"Necklace\",\"Socks\",\"Sunglasses\",\"Hair clip\",\"Pumps\",\"Flat shoe\",\"Underwear bottom\",\"Dog Wear\",\"Wedge\",\"Bag\",\"Trousers\",\"Swimwear set\",\"Bag\",\"Sarong\",\"Sarong\",\"Skirt\",\"Other accessories\",\"Scarf\",\"Sandals\",\"Watch\",\"Socks\",\"Cap/peaked\",\"Bag\",\"Outdoor Waistcoat\",\"Braces\",\"Hat/beanie\",\"Pyjama jumpsuit/playsuit\",\"Wallet\",\"Bodysuit\",\"Bodysuit\",\"Underwear set\",\"Night gown\",\"Trousers\",\"Swimwear set\",\"Nipple covers\",\"Ring\",\"Shirt\",\"Other accessories\",\"Swimsuit\",\"Top\",\"Night gown\",\"Polo shirt\",\"Ballerinas\",\"Vest top\",\"Other shoe\",\"Garment Set\",\"Boots\",\"Earring\",\"Shorts\",\"Pumps\",\"Trousers\",\"Flip flop\",\"Cap/peaked\",\"Robe\",\"Hair/alice band\",\"Earring\",\"Side table\",\"Blouse\",\"Sweater\",\"Sandals\",\"Garment Set\",\"Socks\",\"Heeled sandals\",\"Bag\",\"Bodysuit\",\"Trousers\",\"Cardigan\",\"Vest top\",\"Felt hat\",\"Top\",\"Hair/alice band\",\"Vest top\",\"Swimwear bottom\",\"Jacket\",\"Flip flop\",\"Other accessories\",\"Dungarees\",\"Night gown\",\"Hair/alice band\",\"Braces\",\"Hair/alice band\",\"Hair clip\",\"Other accessories\",\"Bra\",\"Underwear bottom\",\"Night gown\",\"Garment Set\",\"Gloves\",\"Skirt\",\"Underwear body\",\"Scarf\",\"Outdoor trousers\",\"Trousers\",\"Bodysuit\",\"Jacket\",\"Hair string\",\"Top\",\"Ballerinas\",\"Earring\",\"Earring\",\"Hair/alice band\",\"Shorts\",\"Skirt\",\"Underwear body\",\"Dog Wear\",\"Blouse\",\"Bodysuit\",\"Jumpsuit/Playsuit\",\"Blazer\",\"Sandals\",\"Underwear body\",\"Pyjama jumpsuit/playsuit\",\"Slippers\",\"Swimwear set\",\"Outdoor Waistcoat\",\"Hair ties\",\"Bucket hat\",\"Sunglasses\",\"Wedge\",\"Bikini top\",\"Blouse\",\"Bra\",\"Bodysuit\",\"Leggings/Tights\",\"Bodysuit\",\"Shirt\",\"Shorts\",\"Other accessories\",\"Robe\",\"Leggings/Tights\",\"Underwear Tights\",\"Pyjama jumpsuit/playsuit\",\"Socks\",\"Pyjama set\",\"Hat/beanie\",\"Hat/beanie\",\"Hat/beanie\",\"Scarf\",\"Shirt\",\"Hat/beanie\",\"Sandals\",\"Top\",\"Underwear Tights\",\"Necklace\",\"Underwear bottom\",\"Swimwear set\",\"Cardigan\",\"Blazer\",\"Robe\",\"Dress\",\"Robe\",\"Bra\",\"Ring\",\"Skirt\",\"Trousers\",\"Hat/brim\",\"Boots\",\"Sneakers\",\"Swimwear set\",\"Underwear Tights\",\"Shorts\",\"Blouse\",\"Dungarees\",\"Bikini top\",\"Bikini top\",\"Coat\",\"T-shirt\",\"Swimsuit\",\"Heeled sandals\",\"Other accessories\",\"Shirt\",\"Night gown\",\"Earring\",\"Gloves\",\"Bikini top\",\"Underwear Tights\",\"Robe\",\"Dress\",\"Robe\",\"Other accessories\",\"Polo shirt\",\"Scarf\",\"Swimwear bottom\",\"Pumps\",\"Jacket\",\"Polo shirt\",\"Hair string\",\"Cardigan\",\"Pumps\",\"T-shirt\",\"Pyjama bottom\",\"Pyjama set\",\"Belt\",\"Boots\",\"Sweater\",\"Bag\",\"Hat/beanie\",\"Socks\",\"Cap\",\"Jumpsuit/Playsuit\",\"Cardigan\",\"Dungarees\",\"Ring\",\"Bra\",\"Belt\",\"Gloves\",\"Scarf\",\"Slippers\",\"Skirt\",\"Dog Wear\",\"Polo shirt\",\"Bootie\",\"Dress\",\"Other accessories\",\"Scarf\",\"Vest top\",\"Pyjama bottom\",\"Hair/alice band\",\"Underwear body\",\"Swimwear bottom\",\"Tailored Waistcoat\",\"Garment Set\",\"Shorts\",\"Other accessories\",\"Sneakers\",\"Leggings/Tights\",\"Nipple covers\",\"Slippers\",\"Waterbottle\",\"Dress\",\"Gloves\",\"Bra\",\"Sandals\",\"Swimsuit\",\"Shirt\",\"Hair clip\",\"Jumpsuit/Playsuit\",\"Slippers\",\"Jacket\",\"Garment Set\",\"Hat/beanie\",\"Cardigan\",\"Socks\",\"Swimsuit\",\"Slippers\",\"Long John\",\"Coat\",\"Cap/peaked\",\"Pyjama bottom\",\"Ring\",\"Cap/peaked\",\"Boots\",\"Swimsuit\",\"Pumps\",\"Kids Underwear top\",\"Swimwear bottom\",\"Pyjama bottom\",\"Shirt\",\"Sneakers\",\"Jacket\",\"Bag\",\"Coat\",\"Underwear bottom\",\"Hair/alice band\",\"Sarong\",\"Cap/peaked\",\"Swimwear bottom\",\"Flat shoe\",\"Swimsuit\",\"Pyjama jumpsuit/playsuit\",\"Hair string\",\"Underwear set\",\"Pyjama set\",\"Dungarees\",\"Boots\",\"Leggings/Tights\",\"Underwear set\",\"Dog Wear\",\"Hair clip\",\"Gloves\",\"Pyjama jumpsuit/playsuit\",\"Slippers\",\"Polo shirt\",\"Hat/brim\",\"Sneakers\",\"Other accessories\",\"Jumpsuit/Playsuit\",\"Hat/beanie\",\"Nipple covers\",\"Outdoor Waistcoat\",\"Jumpsuit/Playsuit\",\"Socks\",\"Underwear Tights\",\"Sunglasses\",\"Sneakers\",\"Wedge\",\"Polo shirt\",\"Sunglasses\",\"Sarong\",\"Other shoe\",\"Jacket\",\"Sweater\",\"Heeled sandals\",\"Slippers\",\"Ring\",\"Flip flop\",\"Shirt\",\"Other accessories\",\"Garment Set\",\"Bracelet\",\"Cap/peaked\",\"Straw hat\",\"Bra\",\"Garment Set\",\"Umbrella\",\"Pyjama set\",\"Sunglasses\",\"Weekend/Gym bag\",\"Belt\",\"Flip flop\",\"Wallet\",\"Garment Set\",\"Hat/beanie\",\"Dog Wear\",\"Hat/beanie\",\"Gloves\",\"Underwear body\",\"Hair clip\",\"Sweater\",\"Hat/beanie\",\"Slippers\",\"Slippers\",\"Boots\",\"Sarong\",\"Leggings/Tights\",\"Sunglasses\",\"Sunglasses\",\"Wallet\",\"Socks\",\"Ring\",\"Watch\",\"Ballerinas\",\"Pumps\",\"Bracelet\",\"Flip flop\",\"Ballerinas\",\"Socks\",\"Sneakers\",\"T-shirt\",\"Underwear bottom\",\"Blazer\",\"Bra\",\"Watch\",\"Polo shirt\",\"Flat shoe\",\"Polo shirt\",\"Blouse\",\"Shorts\",\"Vest top\",\"Ballerinas\",\"Kids Underwear top\",\"Vest top\",\"Sneakers\",\"Tie\",\"Gloves\",\"Slippers\",\"Outdoor Waistcoat\",\"Ring\",\"Polo shirt\",\"Bag\",\"Sweater\",\"Sunglasses\",\"Jumpsuit/Playsuit\",\"Earring\",\"Trousers\",\"Outdoor trousers\",\"Other accessories\",\"Socks\",\"Sandals\",\"Hat/brim\",\"Dungarees\",\"Ring\",\"Hair clip\",\"Socks\",\"Heeled sandals\",\"Polo shirt\",\"Underwear Tights\",\"Socks\",\"Dungarees\",\"Trousers\",\"Ring\",\"Hair/alice band\",\"Sarong\",\"Scarf\",\"Bracelet\",\"Alice band\",\"Bootie\",\"Dog Wear\",\"Bootie\",\"Boots\",\"Dog Wear\",\"Hat/beanie\",\"Hair/alice band\",\"Alice band\",\"Hat/beanie\",\"Hoodie\",\"Swimsuit\",\"Other accessories\",\"Wallet\",\"Underwear bottom\",\"Leggings/Tights\",\"Heeled sandals\",\"Pyjama set\",\"Outdoor trousers\",\"Sunglasses\",\"Cardigan\",\"Slippers\",\"Swimwear set\",\"Other accessories\",\"Necklace\",\"Dungarees\",\"Polo shirt\",\"Hat/beanie\",\"Underwear bottom\",\"Garment Set\",\"Outdoor trousers\",\"Garment Set\",\"Trousers\",\"Sandals\",\"Shorts\",\"Boots\",\"Sandals\",\"Pumps\",\"Sarong\",\"Cardigan\",\"Hair/alice band\",\"Sneakers\",\"Boots\",\"Bikini top\",\"Wallet\",\"Flat shoe\",\"Boots\",\"Boots\",\"Swimwear set\",\"Sandals\",\"Straw hat\",\"Garment Set\",\"Sneakers\",\"Trousers\",\"Skirt\",\"Night gown\",\"Wedge\",\"Flat shoe\",\"Blouse\",\"Watch\",\"Watch\",\"Cap/peaked\",\"Bracelet\",\"Coat\",\"Jacket\",\"Shoulder bag\",\"Earring\",\"Cardigan\",\"Earrings\",\"Pumps\",\"Dog Wear\",\"Underwear bottom\",\"Underwear set\",\"Watch\",\"Dog Wear\",\"Bag\",\"Gloves\",\"Blouse\",\"Slippers\",\"Mobile case\",\"Beanie\",\"Swimwear set\",\"Top\",\"Leggings/Tights\",\"Coat\",\"Belt\",\"Pumps\",\"T-shirt\",\"Heeled sandals\",\"Hair string\",\"Other accessories\",\"Pumps\",\"Swimsuit\",\"Wallet\",\"Kids Underwear top\",\"Hair string\",\"Pyjama jumpsuit/playsuit\",\"Flip flop\",\"Bracelet\",\"Polo shirt\",\"Hair/alice band\",\"Garment Set\",\"Cardigan\",\"Jacket\",\"Boots\",\"Earring\",\"Flat shoe\",\"Boots\",\"Hoodie\",\"Cap/peaked\",\"Flip flop\",\"Leggings/Tights\",\"Blouse\",\"Pyjama set\",\"Garment Set\",\"Tailored Waistcoat\",\"Top\",\"Umbrella\",\"Other shoe\",\"Socks\",\"Heeled sandals\",\"Straw hat\",\"Sneakers\",\"Polo shirt\",\"Pumps\",\"Hoodie\",\"Tailored Waistcoat\",\"Necklace\",\"Bracelet\",\"Blazer\",\"Swimsuit\",\"Pyjama jumpsuit/playsuit\",\"Heels\",\"Vest top\",\"Other accessories\",\"Cap\",\"Dungarees\",\"Sarong\",\"Hat/brim\",\"Belt\",\"Earring\",\"Hat/brim\",\"Beanie\",\"Earring\",\"Ring\",\"Bootie\",\"Underwear body\",\"Hat/beanie\",\"Gloves\",\"Coat\",\"Outdoor Waistcoat\",\"Coat\",\"Boots\",\"Coat\",\"Hat/beanie\",\"Blazer\",\"Polo shirt\",\"Leggings/Tights\",\"Earring\",\"Blouse\",\"Hat/brim\",\"Bracelet\",\"Shorts\",\"Underwear body\",\"Earring\",\"Bodysuit\",\"Bra\",\"Wedge\",\"Pyjama set\",\"Heeled sandals\",\"Pumps\",\"Bodysuit\",\"Sandals\",\"Waterbottle\",\"Bra\",\"Sneakers\",\"Pumps\",\"Hoodie\",\"Blazer\",\"Watch\",\"Bodysuit\",\"Slippers\",\"Flat shoe\",\"Bodysuit\",\"Nipple covers\",\"Ballerinas\",\"Sneakers\",\"Scarf\",\"Other shoe\",\"Bodysuit\",\"Hair clip\",\"Cap/peaked\",\"Garment Set\",\"Shorts\",\"Swimwear set\",\"Scarf\",\"Dungarees\",\"Other accessories\",\"Swimsuit\",\"Tailored Waistcoat\",\"Bag\",\"Watch\",\"Hair/alice band\",\"Other shoe\",\"Other accessories\",\"Ring\",\"Cap/peaked\",\"Swimsuit\",\"Other accessories\",\"Ring\",\"Nipple covers\",\"Necklace\",\"Bag\",\"Dungarees\",\"Garment Set\",\"Garment Set\",\"Wallet\",\"Bodysuit\",\"Hair clip\",\"Shirt\",\"Boots\",\"Dog Wear\",\"Necklace\",\"Outdoor Waistcoat\",\"Pyjama jumpsuit/playsuit\",\"Earring\",\"Outdoor overall\",\"Jacket\",\"Hoodie\",\"Dog Wear\",\"Outdoor overall\",\"Top\",\"Side table\",\"Ballerinas\",\"Tie\",\"Alice band\",\"Hair string\",\"Dress\",\"Flat shoe\",\"Tailored Waistcoat\",\"Tailored Waistcoat\",\"Wallet\",\"Outdoor trousers\",\"Cap/peaked\",\"Bracelet\",\"Kids Underwear top\",\"Nipple covers\",\"Hoodie\",\"Slippers\",\"Other shoe\",\"Skirt\",\"Leggings/Tights\",\"Pumps\",\"Other shoe\",\"Bootie\",\"Bodysuit\",\"Tailored Waistcoat\",\"Other shoe\",\"Earring\",\"Jumpsuit/Playsuit\",\"Wallet\",\"Hair clip\",\"Sandals\",\"Weekend/Gym bag\",\"Cap/peaked\",\"Flat shoe\",\"Flat shoe\",\"Robe\",\"Boots\",\"Bag\",\"Wedge\",\"Underwear bottom\",\"Coat\",\"Bra\",\"Wallet\",\"Earring\",\"Other shoe\",\"Unknown\",\"Flip flop\",\"Wallet\",\"Underwear Tights\",\"Pumps\",\"Garment Set\",\"Leggings/Tights\",\"Wallet\",\"Belt\",\"Trousers\",\"Bodysuit\",\"Hair/alice band\",\"Swimwear set\",\"Hoodie\",\"Garment Set\",\"Gloves\",\"Tie\",\"Flip flop\",\"Hat/brim\",\"Flip flop\",\"Cardigan\",\"Bracelet\",\"Cap/peaked\",\"Cap/peaked\",\"Other accessories\",\"Soft Toys\",\"Bikini top\",\"Other shoe\",\"Hair/alice band\",\"Skirt\",\"Underwear Tights\",\"Sunglasses\",\"Ring\",\"Pumps\",\"Polo shirt\",\"Vest top\",\"Flat shoe\",\"Soft Toys\",\"Underwear bottom\",\"Underwear bottom\",\"Nipple covers\",\"Slippers\",\"Sewing kit\",\"Belt\",\"Pyjama jumpsuit/playsuit\",\"Chem. cosmetics\",\"Sleeping sack\",\"Earring\",\"Garment Set\",\"Bag\",\"Keychain\",\"Outdoor Waistcoat\",\"Headband\",\"Cardigan\",\"Hair clip\",\"Sleeping sack\",\"Heels\",\"Slippers\",\"Boots\",\"Outdoor overall\",\"Hat/beanie\",\"Hair/alice band\",\"Pyjama jumpsuit/playsuit\",\"Hat/beanie\",\"Gloves\",\"Scarf\",\"Ring\",\"Jumpsuit/Playsuit\",\"Robe\",\"Dress\",\"Tailored Waistcoat\",\"Earring\",\"Leggings/Tights\",\"Hair/alice band\",\"Costumes\",\"Underwear corset\",\"Pyjama set\",\"Hair string\",\"Hair/alice band\",\"Swimwear top\",\"Hoodie\",\"Other shoe\",\"Top\",\"Underwear Tights\",\"Hoodie\",\"Cap/peaked\",\"Boots\",\"Other shoe\",\"Heeled sandals\",\"Hat/brim\",\"Pumps\",\"Necklace\",\"Belt\",\"Dungarees\",\"Skirt\",\"Sunglasses\",\"Night gown\",\"Dungarees\",\"Earring\",\"Blouse\",\"Hat/brim\",\"Polo shirt\",\"Soft Toys\",\"Tie\",\"Leggings/Tights\",\"Hair string\",\"Outdoor trousers\",\"Scarf\",\"Hair string\",\"Pyjama jumpsuit/playsuit\",\"Bracelet\",\"Pumps\",\"Hat/brim\",\"Dungarees\",\"Waterbottle\",\"Hair clip\",\"Jumpsuit/Playsuit\",\"Bra\",\"Sunglasses\",\"Kids Underwear top\",\"Other accessories\",\"Vest top\",\"Jumpsuit/Playsuit\",\"Shirt\",\"T-shirt\",\"Hat/brim\",\"Flat shoes\",\"Sleeping sack\",\"Costumes\",\"Polo shirt\",\"Flip flop\",\"Cushion\",\"Ballerinas\",\"Hat/brim\",\"Bag\",\"Bracelet\",\"Bracelet\",\"Hair string\",\"Cap/peaked\",\"Unknown\",\"Other accessories\",\"Bracelet\",\"Long John\",\"Hair/alice band\",\"Underwear bottom\",\"Heeled sandals\",\"Dress\",\"Ring\",\"Pyjama set\",\"Other accessories\",\"Hat/brim\",\"Sneakers\",\"Umbrella\",\"Umbrella\",\"Other shoe\",\"Flat shoes\",\"Underwear Tights\",\"Hat/brim\",\"Swimwear top\",\"Swimwear top\",\"Gloves\",\"Giftbox\",\"Blouse\",\"Flat shoes\",\"Necklace\",\"Swimwear set\",\"Flip flop\",\"Pyjama jumpsuit/playsuit\",\"Outdoor Waistcoat\",\"Sneakers\",\"Hair string\",\"Sunglasses\",\"Sneakers\",\"Slippers\",\"Baby Bib\",\"Shirt\",\"Sneakers\",\"Soft Toys\",\"Underwear Tights\",\"Coat\",\"Ballerinas\",\"Slippers\",\"Sneakers\",\"Fine cosmetics\",\"Wallet\",\"Underwear Tights\",\"Sneakers\",\"Watch\",\"Pyjama set\",\"Beanie\",\"Jacket\",\"Outdoor Waistcoat\",\"Fine cosmetics\",\"Underwear bottom\",\"Jumpsuit/Playsuit\",\"Soft Toys\",\"Gloves\",\"Leg warmers\",\"Beanie\",\"Kids Underwear top\",\"Bracelet\",\"Leggings/Tights\",\"Other accessories\",\"Scarf\",\"Slippers\",\"Giftbox\",\"Other shoe\",\"Sweater\",\"Watch\",\"Costumes\",\"Leggings/Tights\",\"Gloves\",\"Boots\",\"Long John\",\"Costumes\",\"Coat\",\"Flat shoe\",\"Hat/beanie\",\"Heeled sandals\",\"Shirt\",\"Tie\",\"Gloves\",\"Outdoor overall\",\"Long John\",\"Pyjama set\",\"Bodysuit\",\"Dungarees\",\"Leggings/Tights\",\"Costumes\",\"Unknown\",\"Outdoor overall\",\"Top\",\"Beanie\",\"Gloves\",\"Costumes\",\"Hair string\",\"Beanie\",\"Bikini top\",\"Earring\",\"Underwear bottom\",\"Other shoe\",\"Jacket\",\"Baby Bib\",\"Bracelet\",\"Hoodie\",\"Necklace\",\"Pyjama set\",\"Other shoe\",\"Costumes\",\"Necklace\",\"Wallet\",\"Slippers\",\"Dog Wear\",\"Belt\"],\"xaxis\":\"x\",\"y\":[19484,16819,8613,8114,7704,7511,7490,6971,6733,6320,6216,5984,5879,5685,5594,5490,5037,4210,4150,3844,3636,3330,3038,2825,2666,2618,2380,2322,2295,2270,2267,2241,2235,2234,2233,2208,2088,2066,1993,1873,1866,1840,1839,1803,1761,1744,1705,1684,1675,1656,1633,1612,1537,1534,1452,1435,1414,1362,1351,1344,1321,1317,1308,1290,1247,1188,1170,1151,1143,1138,1131,1098,1078,1074,1064,1060,1057,1041,1028,1027,1023,1008,1006,1005,1004,996,970,958,955,921,918,911,893,889,884,881,873,866,861,859,855,852,846,830,829,812,801,797,791,785,785,783,779,777,777,770,768,762,747,746,735,727,722,722,718,696,696,674,672,668,658,652,648,640,639,633,617,610,603,602,601,593,590,590,586,580,574,569,567,566,557,551,549,538,521,516,513,508,508,505,496,496,488,487,483,480,479,479,476,475,470,468,467,464,463,459,455,455,454,453,452,452,451,451,449,448,440,436,433,430,422,421,419,418,416,413,400,400,398,396,392,389,388,386,385,382,379,377,374,372,371,371,370,369,368,367,365,364,362,361,360,352,347,344,343,343,342,339,333,333,332,331,330,329,329,327,326,324,320,320,319,317,312,309,308,308,306,305,304,304,304,301,297,296,296,295,294,292,292,291,290,290,290,290,288,288,285,285,280,276,274,272,270,270,269,267,266,262,260,260,260,258,258,257,257,256,254,253,252,250,249,248,247,247,246,246,245,245,243,240,239,239,237,236,233,231,230,228,227,225,224,221,221,220,220,220,220,218,217,216,215,214,213,212,211,211,210,207,206,205,204,204,204,203,202,201,200,198,198,197,197,196,194,193,193,191,191,191,188,186,185,184,184,182,182,181,180,180,180,180,178,177,177,175,175,174,174,174,173,172,171,171,169,168,166,166,166,165,165,163,162,162,161,161,160,160,160,160,159,158,158,157,156,155,154,153,153,153,149,149,149,148,148,147,147,147,146,146,146,145,143,143,142,141,141,141,140,140,138,137,137,136,135,133,132,132,131,131,131,130,130,129,129,129,129,128,128,127,127,127,126,126,125,125,124,124,123,123,122,122,122,121,121,121,121,121,120,120,119,118,118,117,117,117,117,116,115,114,114,113,113,112,112,111,111,111,111,110,110,109,109,108,108,107,105,103,103,101,101,100,99,99,99,99,98,98,97,97,97,97,97,96,95,95,95,94,94,94,94,93,92,92,91,91,91,90,89,89,89,89,89,89,89,88,88,86,86,86,86,86,85,84,84,84,83,83,83,82,82,82,82,81,81,80,80,80,79,79,78,78,77,77,77,77,76,76,76,76,76,75,75,75,75,74,74,74,74,73,73,73,72,72,72,72,71,71,71,71,71,70,70,70,70,70,69,69,69,68,67,67,67,67,67,67,67,66,66,66,66,65,65,64,64,64,64,63,63,63,63,63,63,63,62,62,62,62,61,61,61,61,61,61,60,60,60,59,59,58,58,58,58,58,58,58,58,58,57,57,57,57,57,56,56,56,56,56,55,55,55,54,54,54,54,53,53,53,53,53,53,52,52,52,52,51,51,51,51,51,50,50,50,49,49,49,49,49,49,48,48,48,48,48,48,48,48,48,48,48,47,47,47,47,47,47,47,47,46,46,46,46,46,46,46,46,45,45,45,45,45,45,45,44,44,44,44,44,44,44,44,43,43,43,43,43,43,43,43,42,42,42,42,42,42,42,42,42,42,42,42,41,41,41,41,41,41,41,41,41,40,40,40,40,40,40,40,40,40,40,40,40,40,39,39,39,39,39,39,39,39,39,39,39,39,39,39,38,38,38,38,38,38,38,38,38,37,37,37,37,37,37,37,37,37,37,37,36,36,36,36,36,36,36,35,35,35,35,35,35,35,35,35,35,35,35,35,35,34,34,34,34,34,34,34,34,34,34,34,33,33,33,33,33,33,33,33,33,33,32,32,32,32,32,32,32,32,32,32,32,32,32,31,31,31,31,31,31,31,31,31,31,31,31,31,31,30,30,30,30,30,30,30,30,30,30,30,30,30,29,29,29,29,29,29,29,29,29,29,29,29,29,29,29,29,29,28,28,28,28,28,28,28,28,28,27,27,27,27,27,27,27,27,27,27,27,27,27,27,27,26,26,26,26,26,26,26,26,26,26,26,26,26,26,26,26,26,25,25,25,25,25,25,25,25,25,24,24,24,24,24,24,24,24,24,24,24,24,24,24,24,23,23,23,23,23,23,23,23,23,23,23,22,22,22,22,22,22,22,22,22,22,22,21,21,21,21,21,21,21,21,21,21,21,21,21,21,21,21,21,20,20,20,20,20,20,20,20,20,20,20,20,20,20,20,20,20,20,20,20,19,19,19,19,19,19,19,19,19,19,19,19,19,19,19,19,19,19,19,19,19,18,18,18,18,18,18,18,18,18,18,18,18,18,18,18,18,18,18,18,17,17,17,17,17,17,17,17,17,17,17,17,17,17,17,17,17,17,17,17,17,17,17,16,16,16,16,16,16,16,16,16,16,16,16,16,16,16,16,16,16,16,16,16,16,16,16,16,16,16,15,15,15,15,15,15,15,15,15,15,15,15,15,15,15,15,15,15,15,15,15,14,14,14,14,14,14,14,14,14,14,14,14,14,14,14,14,14,14,14,14,14,14,14,14,14,14,13,13,13,13,13,13,13,13,13,13,13,13,13,13,13,13,13,13,13,13,13,13,13,13,13,13,13,13,13,13,13,13,12,12,12,12,12,12,12,12,12,12,12,12,12,12,12,12,12,12,12,12,12,12,12,12,12,12,12,12,12,12,12,12,12,12,12,12,12,11,11,11,11,11,11,11,11,11,11,11,11,11,11,11,11,11,11,11,11,11,11,11,11,11,11,11,11,11,11,11,11,11,11,11,11,11,10,10,10,10,10,10,10,10,10,10,10,10,10,10,10,10,10,10,10,10,10,10,10,10,10,10,10,10,10,10,10,9,9,9,9,9,9,9,9,9,9,9,9,9,9,9,9,9,9,9,9,9,9,9,9,9,9,9,9,9,9,9,9,9,9,9,9,9,9,9,9,8,8,8,8,8,8,8,8,8,8,8,8,8,8,8,8,8,8,8,8,8,8,8,8,8,8,8,8,8,8,8,8,8,8,8,8,8,8,8,8,8,8,8,8,8,8,8,8,8,8,8,8,7,7,7,7,7,7,7,7,7,7,7,7,7,7,7,7,7,7,7,7,7,7,7,7,7,7,7,7,7,7,7,7,6,6,6,6,6,6,6,6,6,6,6,6,6,6,6,6,6,6,6,6,6,6,6,6,6,6,6,6,6,6,6,6,6,6,6,6,6,6,6,6,5,5,5,5,5,5,5,5,5,5,5,5,5,5,5,5,5,5,5,5,5,5,5,5,5,5,5,5,5,5,5,5,5,5,5,5,5,5,5,5,5,5,5,5,5,5,5,5,5,5,5,5,5,5,5,5,5,5,5,5,5,5,5,5,5,5,5,5,5,5,5,4,4,4,4,4,4,4,4,4,4,4,4,4,4,4,4,4,4,4,4,4,4,4,4,4,4,4,4,4,4,4,4,4,4,4,4,4,4,4,4,4,4,4,4,4,4,4,4,4,4,4,4,4,4,4,4,4,4,4,4,4,4,4,4,4,4,4,4,4,4,4,4,4,4,3,3,3,3,3,3,3,3,3,3,3,3,3,3,3,3,3,3,3,3,3,3,3,3,3,3,3,3,3,3,3,3,3,3,3,3,3,3,3,3,3,3,3,3,3,3,3,3,3,3,3,3,3,3,3,3,3,3,3,3,3,3,3,3,3,3,3,3,3,3,3,3,3,3,3,3,3,3,3,3,3,3,2,2,2,2,2,2,2,2,2,2,2,2,2,2,2,2,2,2,2,2,2,2,2,2,2,2,2,2,2,2,2,2,2,2,2,2,2,2,2,2,2,2,2,2,2,2,2,2,2,2,2,2,2,2,2,2,2,2,2,2,2,2,2,2,2,2,2,2,2,2,2,2,2,2,2,2,2,2,2,2,2,2,2,2,2,2,2,2,2,2,2,2,2,2,2,2,2,2,2,2,2,2,2,2,2,2,2,2,2,2,2,2,2,2,1,1,1,1,1,1,1,1,1,1,1,1,1,1,1,1,1,1,1,1,1,1,1,1,1,1,1,1,1,1,1,1,1,1,1,1,1,1,1,1,1,1,1,1,1,1,1,1,1,1,1,1,1,1,1,1,1,1,1,1,1,1,1,1,1,1,1,1,1,1,1,1,1,1,1,1,1,1,1,1,1,1,1,1,1,1,1,1,1,1,1,1,1,1,1,1,1,1,1,1,1,1,1,1,1,1,1,1,1,1,1,1,1,1,1,1,1,1,1,1,1,1,1,1,1,1,1,1,1,1,1,1,1,1,1,1,1,1,1,1,1,1,1,1,1,1,1,1,1,1,1,1,1,1,1,1,1,1,1,1,1,1,1,1,1,1,1,1,1,1,1,1,1,1,1,1,1,1,1],\"yaxis\":\"y\",\"type\":\"histogram\"}],                        {\"template\":{\"data\":{\"bar\":[{\"error_x\":{\"color\":\"#2a3f5f\"},\"error_y\":{\"color\":\"#2a3f5f\"},\"marker\":{\"line\":{\"color\":\"#E5ECF6\",\"width\":0.5},\"pattern\":{\"fillmode\":\"overlay\",\"size\":10,\"solidity\":0.2}},\"type\":\"bar\"}],\"barpolar\":[{\"marker\":{\"line\":{\"color\":\"#E5ECF6\",\"width\":0.5},\"pattern\":{\"fillmode\":\"overlay\",\"size\":10,\"solidity\":0.2}},\"type\":\"barpolar\"}],\"carpet\":[{\"aaxis\":{\"endlinecolor\":\"#2a3f5f\",\"gridcolor\":\"white\",\"linecolor\":\"white\",\"minorgridcolor\":\"white\",\"startlinecolor\":\"#2a3f5f\"},\"baxis\":{\"endlinecolor\":\"#2a3f5f\",\"gridcolor\":\"white\",\"linecolor\":\"white\",\"minorgridcolor\":\"white\",\"startlinecolor\":\"#2a3f5f\"},\"type\":\"carpet\"}],\"choropleth\":[{\"colorbar\":{\"outlinewidth\":0,\"ticks\":\"\"},\"type\":\"choropleth\"}],\"contour\":[{\"colorbar\":{\"outlinewidth\":0,\"ticks\":\"\"},\"colorscale\":[[0.0,\"#0d0887\"],[0.1111111111111111,\"#46039f\"],[0.2222222222222222,\"#7201a8\"],[0.3333333333333333,\"#9c179e\"],[0.4444444444444444,\"#bd3786\"],[0.5555555555555556,\"#d8576b\"],[0.6666666666666666,\"#ed7953\"],[0.7777777777777778,\"#fb9f3a\"],[0.8888888888888888,\"#fdca26\"],[1.0,\"#f0f921\"]],\"type\":\"contour\"}],\"contourcarpet\":[{\"colorbar\":{\"outlinewidth\":0,\"ticks\":\"\"},\"type\":\"contourcarpet\"}],\"heatmap\":[{\"colorbar\":{\"outlinewidth\":0,\"ticks\":\"\"},\"colorscale\":[[0.0,\"#0d0887\"],[0.1111111111111111,\"#46039f\"],[0.2222222222222222,\"#7201a8\"],[0.3333333333333333,\"#9c179e\"],[0.4444444444444444,\"#bd3786\"],[0.5555555555555556,\"#d8576b\"],[0.6666666666666666,\"#ed7953\"],[0.7777777777777778,\"#fb9f3a\"],[0.8888888888888888,\"#fdca26\"],[1.0,\"#f0f921\"]],\"type\":\"heatmap\"}],\"heatmapgl\":[{\"colorbar\":{\"outlinewidth\":0,\"ticks\":\"\"},\"colorscale\":[[0.0,\"#0d0887\"],[0.1111111111111111,\"#46039f\"],[0.2222222222222222,\"#7201a8\"],[0.3333333333333333,\"#9c179e\"],[0.4444444444444444,\"#bd3786\"],[0.5555555555555556,\"#d8576b\"],[0.6666666666666666,\"#ed7953\"],[0.7777777777777778,\"#fb9f3a\"],[0.8888888888888888,\"#fdca26\"],[1.0,\"#f0f921\"]],\"type\":\"heatmapgl\"}],\"histogram\":[{\"marker\":{\"pattern\":{\"fillmode\":\"overlay\",\"size\":10,\"solidity\":0.2}},\"type\":\"histogram\"}],\"histogram2d\":[{\"colorbar\":{\"outlinewidth\":0,\"ticks\":\"\"},\"colorscale\":[[0.0,\"#0d0887\"],[0.1111111111111111,\"#46039f\"],[0.2222222222222222,\"#7201a8\"],[0.3333333333333333,\"#9c179e\"],[0.4444444444444444,\"#bd3786\"],[0.5555555555555556,\"#d8576b\"],[0.6666666666666666,\"#ed7953\"],[0.7777777777777778,\"#fb9f3a\"],[0.8888888888888888,\"#fdca26\"],[1.0,\"#f0f921\"]],\"type\":\"histogram2d\"}],\"histogram2dcontour\":[{\"colorbar\":{\"outlinewidth\":0,\"ticks\":\"\"},\"colorscale\":[[0.0,\"#0d0887\"],[0.1111111111111111,\"#46039f\"],[0.2222222222222222,\"#7201a8\"],[0.3333333333333333,\"#9c179e\"],[0.4444444444444444,\"#bd3786\"],[0.5555555555555556,\"#d8576b\"],[0.6666666666666666,\"#ed7953\"],[0.7777777777777778,\"#fb9f3a\"],[0.8888888888888888,\"#fdca26\"],[1.0,\"#f0f921\"]],\"type\":\"histogram2dcontour\"}],\"mesh3d\":[{\"colorbar\":{\"outlinewidth\":0,\"ticks\":\"\"},\"type\":\"mesh3d\"}],\"parcoords\":[{\"line\":{\"colorbar\":{\"outlinewidth\":0,\"ticks\":\"\"}},\"type\":\"parcoords\"}],\"pie\":[{\"automargin\":true,\"type\":\"pie\"}],\"scatter\":[{\"marker\":{\"colorbar\":{\"outlinewidth\":0,\"ticks\":\"\"}},\"type\":\"scatter\"}],\"scatter3d\":[{\"line\":{\"colorbar\":{\"outlinewidth\":0,\"ticks\":\"\"}},\"marker\":{\"colorbar\":{\"outlinewidth\":0,\"ticks\":\"\"}},\"type\":\"scatter3d\"}],\"scattercarpet\":[{\"marker\":{\"colorbar\":{\"outlinewidth\":0,\"ticks\":\"\"}},\"type\":\"scattercarpet\"}],\"scattergeo\":[{\"marker\":{\"colorbar\":{\"outlinewidth\":0,\"ticks\":\"\"}},\"type\":\"scattergeo\"}],\"scattergl\":[{\"marker\":{\"colorbar\":{\"outlinewidth\":0,\"ticks\":\"\"}},\"type\":\"scattergl\"}],\"scattermapbox\":[{\"marker\":{\"colorbar\":{\"outlinewidth\":0,\"ticks\":\"\"}},\"type\":\"scattermapbox\"}],\"scatterpolar\":[{\"marker\":{\"colorbar\":{\"outlinewidth\":0,\"ticks\":\"\"}},\"type\":\"scatterpolar\"}],\"scatterpolargl\":[{\"marker\":{\"colorbar\":{\"outlinewidth\":0,\"ticks\":\"\"}},\"type\":\"scatterpolargl\"}],\"scatterternary\":[{\"marker\":{\"colorbar\":{\"outlinewidth\":0,\"ticks\":\"\"}},\"type\":\"scatterternary\"}],\"surface\":[{\"colorbar\":{\"outlinewidth\":0,\"ticks\":\"\"},\"colorscale\":[[0.0,\"#0d0887\"],[0.1111111111111111,\"#46039f\"],[0.2222222222222222,\"#7201a8\"],[0.3333333333333333,\"#9c179e\"],[0.4444444444444444,\"#bd3786\"],[0.5555555555555556,\"#d8576b\"],[0.6666666666666666,\"#ed7953\"],[0.7777777777777778,\"#fb9f3a\"],[0.8888888888888888,\"#fdca26\"],[1.0,\"#f0f921\"]],\"type\":\"surface\"}],\"table\":[{\"cells\":{\"fill\":{\"color\":\"#EBF0F8\"},\"line\":{\"color\":\"white\"}},\"header\":{\"fill\":{\"color\":\"#C8D4E3\"},\"line\":{\"color\":\"white\"}},\"type\":\"table\"}]},\"layout\":{\"annotationdefaults\":{\"arrowcolor\":\"#2a3f5f\",\"arrowhead\":0,\"arrowwidth\":1},\"autotypenumbers\":\"strict\",\"coloraxis\":{\"colorbar\":{\"outlinewidth\":0,\"ticks\":\"\"}},\"colorscale\":{\"diverging\":[[0,\"#8e0152\"],[0.1,\"#c51b7d\"],[0.2,\"#de77ae\"],[0.3,\"#f1b6da\"],[0.4,\"#fde0ef\"],[0.5,\"#f7f7f7\"],[0.6,\"#e6f5d0\"],[0.7,\"#b8e186\"],[0.8,\"#7fbc41\"],[0.9,\"#4d9221\"],[1,\"#276419\"]],\"sequential\":[[0.0,\"#0d0887\"],[0.1111111111111111,\"#46039f\"],[0.2222222222222222,\"#7201a8\"],[0.3333333333333333,\"#9c179e\"],[0.4444444444444444,\"#bd3786\"],[0.5555555555555556,\"#d8576b\"],[0.6666666666666666,\"#ed7953\"],[0.7777777777777778,\"#fb9f3a\"],[0.8888888888888888,\"#fdca26\"],[1.0,\"#f0f921\"]],\"sequentialminus\":[[0.0,\"#0d0887\"],[0.1111111111111111,\"#46039f\"],[0.2222222222222222,\"#7201a8\"],[0.3333333333333333,\"#9c179e\"],[0.4444444444444444,\"#bd3786\"],[0.5555555555555556,\"#d8576b\"],[0.6666666666666666,\"#ed7953\"],[0.7777777777777778,\"#fb9f3a\"],[0.8888888888888888,\"#fdca26\"],[1.0,\"#f0f921\"]]},\"colorway\":[\"#636efa\",\"#EF553B\",\"#00cc96\",\"#ab63fa\",\"#FFA15A\",\"#19d3f3\",\"#FF6692\",\"#B6E880\",\"#FF97FF\",\"#FECB52\"],\"font\":{\"color\":\"#2a3f5f\"},\"geo\":{\"bgcolor\":\"white\",\"lakecolor\":\"white\",\"landcolor\":\"#E5ECF6\",\"showlakes\":true,\"showland\":true,\"subunitcolor\":\"white\"},\"hoverlabel\":{\"align\":\"left\"},\"hovermode\":\"closest\",\"mapbox\":{\"style\":\"light\"},\"paper_bgcolor\":\"white\",\"plot_bgcolor\":\"#E5ECF6\",\"polar\":{\"angularaxis\":{\"gridcolor\":\"white\",\"linecolor\":\"white\",\"ticks\":\"\"},\"bgcolor\":\"#E5ECF6\",\"radialaxis\":{\"gridcolor\":\"white\",\"linecolor\":\"white\",\"ticks\":\"\"}},\"scene\":{\"xaxis\":{\"backgroundcolor\":\"#E5ECF6\",\"gridcolor\":\"white\",\"gridwidth\":2,\"linecolor\":\"white\",\"showbackground\":true,\"ticks\":\"\",\"zerolinecolor\":\"white\"},\"yaxis\":{\"backgroundcolor\":\"#E5ECF6\",\"gridcolor\":\"white\",\"gridwidth\":2,\"linecolor\":\"white\",\"showbackground\":true,\"ticks\":\"\",\"zerolinecolor\":\"white\"},\"zaxis\":{\"backgroundcolor\":\"#E5ECF6\",\"gridcolor\":\"white\",\"gridwidth\":2,\"linecolor\":\"white\",\"showbackground\":true,\"ticks\":\"\",\"zerolinecolor\":\"white\"}},\"shapedefaults\":{\"line\":{\"color\":\"#2a3f5f\"}},\"ternary\":{\"aaxis\":{\"gridcolor\":\"white\",\"linecolor\":\"white\",\"ticks\":\"\"},\"baxis\":{\"gridcolor\":\"white\",\"linecolor\":\"white\",\"ticks\":\"\"},\"bgcolor\":\"#E5ECF6\",\"caxis\":{\"gridcolor\":\"white\",\"linecolor\":\"white\",\"ticks\":\"\"}},\"title\":{\"x\":0.05},\"xaxis\":{\"automargin\":true,\"gridcolor\":\"white\",\"linecolor\":\"white\",\"ticks\":\"\",\"title\":{\"standoff\":15},\"zerolinecolor\":\"white\",\"zerolinewidth\":2},\"yaxis\":{\"automargin\":true,\"gridcolor\":\"white\",\"linecolor\":\"white\",\"ticks\":\"\",\"title\":{\"standoff\":15},\"zerolinecolor\":\"white\",\"zerolinewidth\":2}}},\"xaxis\":{\"anchor\":\"y\",\"domain\":[0.0,1.0],\"title\":{\"text\":\"product_type_name\"}},\"yaxis\":{\"anchor\":\"x\",\"domain\":[0.0,1.0],\"title\":{\"text\":\"sum of count\"}},\"legend\":{\"title\":{\"text\":\"year\"},\"tracegroupgap\":0},\"title\":{\"text\":\"Yearly Product Trends\"},\"barmode\":\"group\"},                        {\"responsive\": true}                    )                };                            </script>        </div>\n",
       "</body>\n",
       "</html>"
      ]
     },
     "metadata": {
      "application/vnd.databricks.v1+output": {
       "addedWidgets": {},
       "arguments": {},
       "data": "<html>\n<head><meta charset=\"utf-8\" /></head>\n<body>\n    <div>            <script src=\"https://cdnjs.cloudflare.com/ajax/libs/mathjax/2.7.5/MathJax.js?config=TeX-AMS-MML_SVG\"></script><script type=\"text/javascript\">if (window.MathJax) {MathJax.Hub.Config({SVG: {font: \"STIX-Web\"}});}</script>                <script type=\"text/javascript\">window.PlotlyConfig = {MathJaxConfig: 'local'};</script>\n        <script src=\"https://cdn.plot.ly/plotly-2.9.0.min.js\"></script>                <div id=\"1d7b8aa1-2769-4e10-bb78-5a225049a049\" class=\"plotly-graph-div\" style=\"height:100%; width:100%;\"></div>            <script type=\"text/javascript\">                                    window.PLOTLYENV=window.PLOTLYENV || {};                                    if (document.getElementById(\"1d7b8aa1-2769-4e10-bb78-5a225049a049\")) {                    Plotly.newPlot(                        \"1d7b8aa1-2769-4e10-bb78-5a225049a049\",                        [{\"alignmentgroup\":\"True\",\"bingroup\":\"x\",\"histfunc\":\"sum\",\"hovertemplate\":\"year=2020<br>product_type_name=%{x}<br>sum of count=%{y}<extra></extra>\",\"legendgroup\":\"2020\",\"marker\":{\"color\":\"#636efa\",\"pattern\":{\"shape\":\"\"}},\"name\":\"2020\",\"offsetgroup\":\"2020\",\"orientation\":\"v\",\"showlegend\":true,\"x\":[\"Trousers\",\"Dress\",\"Leggings/Tights\",\"Top\",\"Sweater\",\"Bra\",\"Underwear bottom\",\"Trousers\",\"Trousers\",\"T-shirt\",\"Vest top\",\"T-shirt\",\"Skirt\",\"Swimwear bottom\",\"Bikini top\",\"Sweater\",\"Trousers\",\"Blouse\",\"Socks\",\"Blouse\",\"Jacket\",\"Sweater\",\"Sweater\",\"Shirt\",\"Trousers\",\"Sweater\",\"Boots\",\"Belt\",\"Top\",\"Sweater\",\"Hoodie\",\"Blazer\",\"Underwear Tights\",\"Bra\",\"Bra\",\"Shirt\",\"Bag\",\"Trousers\",\"Vest top\",\"Dress\",\"Trousers\",\"Swimsuit\",\"Dress\",\"Dress\",\"Dress\",\"Blouse\",\"Dress\",\"Sweater\",\"Trousers\",\"Sweater\",\"Sweater\",\"Top\",\"Underwear bottom\",\"Socks\",\"Swimwear bottom\",\"Bra\",\"Sweater\",\"Sweater\",\"Earring\",\"Sweater\",\"Bikini top\",\"Necklace\",\"Trousers\",\"Dress\",\"Dress\",\"T-shirt\",\"Blouse\",\"Shorts\",\"Top\",\"Blouse\",\"Underwear body\",\"Trousers\",\"T-shirt\",\"T-shirt\",\"Bra\",\"Top\",\"Sweater\",\"Sweater\",\"Trousers\",\"Underwear bottom\",\"Sweater\",\"Underwear bottom\",\"Sweater\",\"Cardigan\",\"Bodysuit\",\"T-shirt\",\"Jacket\",\"Jumpsuit/Playsuit\",\"Leggings/Tights\",\"Bra\",\"Underwear bottom\",\"Underwear bottom\",\"T-shirt\",\"Dress\",\"Trousers\",\"Sweater\",\"Dress\",\"Top\",\"Trousers\",\"Dress\",\"Unknown\",\"Bra\",\"Dress\",\"Underwear bottom\",\"Jacket\",\"Blouse\",\"Top\",\"Bikini top\",\"Sweater\",\"Shirt\",\"Dress\",\"Jacket\",\"Vest top\",\"Trousers\",\"Pyjama set\",\"Blouse\",\"Blouse\",\"Bra\",\"Bikini top\",\"Shirt\",\"Swimwear bottom\",\"Vest top\",\"Hoodie\",\"Blazer\",\"Socks\",\"Pyjama set\",\"Hoodie\",\"Shorts\",\"Blazer\",\"Sweater\",\"Shirt\",\"Swimwear bottom\",\"Dress\",\"Blazer\",\"Skirt\",\"Blazer\",\"T-shirt\",\"Hoodie\",\"Hair/alice band\",\"Shirt\",\"Skirt\",\"Sweater\",\"Sneakers\",\"T-shirt\",\"Hat/beanie\",\"Shirt\",\"Leggings/Tights\",\"Top\",\"Blouse\",\"Underwear bottom\",\"Top\",\"Earring\",\"Swimwear bottom\",\"Jacket\",\"Bra\",\"Dress\",\"Blouse\",\"Cardigan\",\"Jacket\",\"Shirt\",\"Sweater\",\"Dress\",\"Scarf\",\"Blazer\",\"Leggings/Tights\",\"Sweater\",\"Bikini top\",\"Hoodie\",\"Sweater\",\"Trousers\",\"T-shirt\",\"Vest top\",\"Bra\",\"Necklace\",\"Dress\",\"Shirt\",\"Skirt\",\"Bra\",\"Underwear bottom\",\"Bikini top\",\"Trousers\",\"Bikini top\",\"T-shirt\",\"Pyjama bottom\",\"Top\",\"Swimwear bottom\",\"Underwear bottom\",\"Sweater\",\"T-shirt\",\"Top\",\"Cardigan\",\"Bra\",\"Gloves\",\"Socks\",\"Hoodie\",\"Bra\",\"Coat\",\"Trousers\",\"Socks\",\"Underwear bottom\",\"Bra\",\"Dress\",\"Blouse\",\"Skirt\",\"Underwear Tights\",\"Shirt\",\"Shirt\",\"Top\",\"Top\",\"Skirt\",\"Jacket\",\"Socks\",\"Hoodie\",\"Socks\",\"Swimwear set\",\"Vest top\",\"Scarf\",\"Top\",\"Blouse\",\"Hoodie\",\"Bra\",\"Dress\",\"Hoodie\",\"Blazer\",\"Leggings/Tights\",\"Scarf\",\"Underwear bottom\",\"Dress\",\"Vest top\",\"Shirt\",\"Bra\",\"Sneakers\",\"Underwear bottom\",\"Hair ties\",\"Swimwear bottom\",\"Sweater\",\"Trousers\",\"Night gown\",\"Skirt\",\"Sunglasses\",\"Socks\",\"Earring\",\"Blouse\",\"Cardigan\",\"Sweater\",\"Sarong\",\"Belt\",\"Pyjama bottom\",\"Flat shoe\",\"Vest top\",\"Shirt\",\"Ring\",\"Skirt\",\"Bikini top\",\"Other accessories\",\"Shorts\",\"Underwear bottom\",\"Robe\",\"Hoodie\",\"T-shirt\",\"Underwear bottom\",\"Swimwear bottom\",\"T-shirt\",\"Skirt\",\"Sweater\",\"Swimsuit\",\"Bra\",\"Pyjama bottom\",\"Dress\",\"Dress\",\"Jacket\",\"Bikini top\",\"Blouse\",\"Trousers\",\"Blazer\",\"Cardigan\",\"Jacket\",\"Swimsuit\",\"Sweater\",\"Pyjama set\",\"Jacket\",\"Shorts\",\"Trousers\",\"Underwear body\",\"Top\",\"Top\",\"Blazer\",\"Trousers\",\"Hoodie\",\"Hoodie\",\"T-shirt\",\"Cardigan\",\"Boots\",\"Blouse\",\"Skirt\",\"Scarf\",\"Skirt\",\"Top\",\"Cardigan\",\"Skirt\",\"Ballerinas\",\"T-shirt\",\"Bikini top\",\"Top\",\"Hoodie\",\"Swimwear bottom\",\"Sweater\",\"Blazer\",\"Leggings/Tights\",\"Vest top\",\"Jacket\",\"Hair clip\",\"Cardigan\",\"Vest top\",\"Swimwear bottom\",\"Blazer\",\"Jumpsuit/Playsuit\",\"Night gown\",\"Scarf\",\"Bikini top\",\"Cardigan\",\"Bodysuit\",\"Coat\",\"Blazer\",\"Pyjama set\",\"Hair/alice band\",\"Hat/beanie\",\"Unknown\",\"Sweater\",\"Dress\",\"Blazer\",\"Shorts\",\"Jacket\",\"Blazer\",\"Top\",\"Scarf\",\"Jacket\",\"Bikini top\",\"Sarong\",\"Coat\",\"Jumpsuit/Playsuit\",\"Pyjama bottom\",\"Cardigan\",\"Socks\",\"Blazer\",\"Skirt\",\"Boots\",\"Skirt\",\"Vest top\",\"T-shirt\",\"Swimwear bottom\",\"Blouse\",\"Pyjama set\",\"Coat\",\"Dress\",\"Skirt\",\"Sweater\",\"Polo shirt\",\"Hoodie\",\"Bikini top\",\"Trousers\",\"Swimwear set\",\"Cap/peaked\",\"Vest top\",\"Leggings/Tights\",\"Blazer\",\"Sneakers\",\"Dress\",\"Shorts\",\"Pyjama bottom\",\"Skirt\",\"Blouse\",\"Swimsuit\",\"Bikini top\",\"Coat\",\"Bag\",\"Pyjama bottom\",\"Scarf\",\"T-shirt\",\"Jacket\",\"Bag\",\"Blouse\",\"Blouse\",\"Blazer\",\"Blouse\",\"Cardigan\",\"Other accessories\",\"Dress\",\"Swimwear bottom\",\"Scarf\",\"Scarf\",\"Swimwear set\",\"Vest top\",\"Sandals\",\"Dress\",\"Swimwear bottom\",\"Hoodie\",\"Shirt\",\"Hair ties\",\"Blazer\",\"Pyjama set\",\"Hair string\",\"Jumpsuit/Playsuit\",\"Skirt\",\"Jumpsuit/Playsuit\",\"Skirt\",\"Underwear bottom\",\"Hair string\",\"Bikini top\",\"Trousers\",\"Top\",\"T-shirt\",\"Dress\",\"Hoodie\",\"T-shirt\",\"Scarf\",\"Bikini top\",\"Unknown\",\"Ring\",\"Sarong\",\"Swimwear bottom\",\"Hair/alice band\",\"Bikini top\",\"Coat\",\"Pumps\",\"Cardigan\",\"Dress\",\"Skirt\",\"Pyjama set\",\"Jumpsuit/Playsuit\",\"Underwear set\",\"Swimwear set\",\"Other accessories\",\"Vest top\",\"Swimsuit\",\"Hoodie\",\"Skirt\",\"Cardigan\",\"Top\",\"Coat\",\"Other shoe\",\"Unknown\",\"Shorts\",\"Outdoor trousers\",\"Hoodie\",\"Bra\",\"Hat/brim\",\"Hair ties\",\"Hair string\",\"Hair ties\",\"Socks\",\"Bodysuit\",\"Shirt\",\"Scarf\",\"Cardigan\",\"Swimsuit\",\"T-shirt\",\"Shorts\",\"Bikini top\",\"Polo shirt\",\"Pyjama bottom\",\"Shirt\",\"Bodysuit\",\"Underwear body\",\"Underwear bottom\",\"Blouse\",\"Other accessories\",\"Hair clip\",\"Cardigan\",\"Blazer\",\"Bra\",\"Skirt\",\"Jacket\",\"Jumpsuit/Playsuit\",\"Top\",\"Coat\",\"Jacket\",\"Bikini top\",\"Shirt\",\"Underwear bottom\",\"Hat/beanie\",\"Tote bag\",\"Hair clip\",\"Other accessories\",\"Bodysuit\",\"Dungarees\",\"Cardigan\",\"Bra\",\"Hat/beanie\",\"Bikini top\",\"Boots\",\"Other accessories\",\"Bodysuit\",\"Scarf\",\"Dress\",\"Scarf\",\"Robe\",\"Vest top\",\"Jumpsuit/Playsuit\",\"Bag\",\"Garment Set\",\"Bra\",\"Jumpsuit/Playsuit\",\"Sweater\",\"Blouse\",\"Sneakers\",\"Sunglasses\",\"Swimwear bottom\",\"Shorts\",\"Vest top\",\"Cardigan\",\"Shorts\",\"Earring\",\"Shirt\",\"Swimwear bottom\",\"Coat\",\"Shorts\",\"Top\",\"Trousers\",\"Coat\",\"Socks\",\"Hair/alice band\",\"Skirt\",\"Skirt\",\"Shirt\",\"Leggings/Tights\",\"Vest top\",\"Vest top\",\"Pyjama set\",\"Shorts\",\"Robe\",\"T-shirt\",\"Leggings/Tights\",\"Leggings/Tights\",\"Underwear set\",\"Sunglasses\",\"Underwear bottom\",\"Vest top\",\"Swimwear bottom\",\"Hair string\",\"Sunglasses\",\"Hoodie\",\"Leggings/Tights\",\"Pyjama set\",\"Scarf\",\"Dress\",\"Polo shirt\",\"T-shirt\",\"Swimwear bottom\",\"Hairband\",\"Sneakers\",\"Hair string\",\"Socks\",\"Bodysuit\",\"Bodysuit\",\"Jacket\",\"Garment Set\",\"Hair clip\",\"Swimsuit\",\"Jacket\",\"Sandals\",\"Skirt\",\"Hat/beanie\",\"Shirt\",\"Bag\",\"Slippers\",\"Pyjama jumpsuit/playsuit\",\"Bucket hat\",\"Swimsuit\",\"Boots\",\"Hair/alice band\",\"Underwear bottom\",\"Dungarees\",\"Sweater\",\"Swimsuit\",\"Hair/alice band\",\"T-shirt\",\"Underwear set\",\"Pyjama set\",\"Night gown\",\"Jacket\",\"Underdress\",\"Hat/beanie\",\"Shorts\",\"Top\",\"Sunglasses\",\"Night gown\",\"Jumpsuit/Playsuit\",\"Bag\",\"Bra\",\"Vest top\",\"Underwear bottom\",\"Swimsuit\",\"Shirt\",\"Skirt\",\"Hoodie\",\"Vest top\",\"Hair/alice band\",\"Flat shoe\",\"Umbrella\",\"Bag\",\"Hoodie\",\"Jacket\",\"Blazer\",\"Cardigan\",\"Backpack\",\"Top\",\"Vest top\",\"Swimsuit\",\"Night gown\",\"Top\",\"Trousers\",\"Swimwear bottom\",\"Pyjama bottom\",\"Top\",\"T-shirt\",\"Bag\",\"Bikini top\",\"Underwear Tights\",\"Hat/beanie\",\"Scarf\",\"Hat/beanie\",\"Bag\",\"Pyjama set\",\"Hat/beanie\",\"Socks\",\"Shorts\",\"Boots\",\"Socks\",\"Sunglasses\",\"Dress\",\"Leggings/Tights\",\"Jacket\",\"Jacket\",\"T-shirt\",\"Mobile case\",\"Swimwear bottom\",\"Heeled sandals\",\"Leggings/Tights\",\"Skirt\",\"Jacket\",\"Trousers\",\"Hair string\",\"Vest top\",\"Hoodie\",\"Dress\",\"Coat\",\"Earrings\",\"Vest top\",\"Blouse\",\"Skirt\",\"Top\",\"Hoodie\",\"Dress\",\"Hat/beanie\",\"Scarf\",\"Gloves\",\"Bag\",\"Coat\",\"Costumes\",\"Skirt\",\"Jumpsuit/Playsuit\",\"Vest top\",\"Jacket\",\"Wallet\",\"Sunglasses\",\"Hair/alice band\",\"Unknown\",\"Earrings\",\"Hoodie\",\"Dungarees\",\"Leggings/Tights\",\"Bag\",\"Socks\",\"Dress\",\"Cardigan\",\"Scarf\",\"Trousers\",\"Bag\",\"Cardigan\",\"Shorts\",\"Swimsuit\",\"Night gown\",\"Blazer\",\"Swimwear bottom\",\"Shorts\",\"Coat\",\"Leggings/Tights\",\"Top\",\"Garment Set\",\"Underwear bottom\",\"Cardigan\",\"Shorts\",\"Hair clip\",\"Necklace\",\"Flip flop\",\"Socks\",\"Coat\",\"Flat shoe\",\"Underwear Tights\",\"Other accessories\",\"Jumpsuit/Playsuit\",\"Socks\",\"Unknown\",\"Trousers\",\"Top\",\"Pyjama jumpsuit/playsuit\",\"Trousers\",\"Sneakers\",\"Scarf\",\"T-shirt\",\"Scarf\",\"Boots\",\"Cardigan\",\"Hat/beanie\",\"Cap/peaked\",\"Trousers\",\"Jacket\",\"Belt\",\"Hat/beanie\",\"Beanie\",\"Swimwear bottom\",\"Hair string\",\"Hat/beanie\",\"Jumpsuit/Playsuit\",\"Vest top\",\"Blazer\",\"Bodysuit\",\"Top\",\"Pyjama set\",\"Weekend/Gym bag\",\"Gloves\",\"Ballerinas\",\"Hat/beanie\",\"Polo shirt\",\"Hair/alice band\",\"Skirt\",\"Pumps\",\"Shirt\",\"Bag\",\"Night gown\",\"Shorts\",\"Sneakers\",\"Hair ties\",\"Blazer\",\"Blouse\",\"Hair/alice band\",\"Bodysuit\",\"Flat shoe\",\"Swimwear bottom\",\"Swimwear bottom\",\"Cardigan\",\"Polo shirt\",\"Top\",\"Bracelet\",\"Heeled sandals\",\"Blazer\",\"Sweater\",\"Bodysuit\",\"Blazer\",\"Other accessories\",\"Bag\",\"Pyjama bottom\",\"Hat/brim\",\"Tie\",\"Bodysuit\",\"Garment Set\",\"Hair/alice band\",\"Scarf\",\"Scarf\",\"Other accessories\",\"Bra extender\",\"Belt\",\"Sneakers\",\"Shorts\",\"Scarf\",\"Top\",\"Vest top\",\"Hoodie\",\"Heels\",\"Slippers\",\"Sneakers\",\"Hair clip\",\"Dungarees\",\"Top\",\"Bikini top\",\"Hair ties\",\"Sunglasses\",\"Kids Underwear top\",\"Shorts\",\"Dungarees\",\"Nipple covers\",\"Flat shoe\",\"Socks\",\"T-shirt\",\"Bag\",\"Top\",\"Sarong\",\"Unknown\",\"Sunglasses\",\"Shorts\",\"Vest top\",\"Belt\",\"Other accessories\",\"Bikini top\",\"Swimwear bottom\",\"Socks\",\"Shirt\",\"Watch\",\"Hair string\",\"Swimsuit\",\"Garment Set\",\"Pumps\",\"Shorts\",\"Sarong\",\"Tailored Waistcoat\",\"Scarf\",\"Bikini top\",\"Jumpsuit/Playsuit\",\"Hat/beanie\",\"Pyjama bottom\",\"Bodysuit\",\"Earring\",\"Shirt\",\"Socks\",\"Jumpsuit/Playsuit\",\"Swimwear bottom\",\"Robe\",\"Other accessories\",\"Blazer\",\"Hair string\",\"Blazer\",\"Trousers\",\"Bikini top\",\"Underwear Tights\",\"Alice band\",\"Earring\",\"Mobile case\",\"Coat\",\"Dress\",\"Socks\",\"Robe\",\"Jacket\",\"Hair/alice band\",\"Earring\",\"Other accessories\",\"Top\",\"Skirt\",\"Shirt\",\"Cap/peaked\",\"Hair string\",\"Dress\",\"Weekend/Gym bag\",\"Nipple covers\",\"T-shirt\",\"Sneakers\",\"Shorts\",\"Blouse\",\"Necklace\",\"Hat/beanie\",\"Hair/alice band\",\"Underdress\",\"Earring\",\"Scarf\",\"Swimsuit\",\"Polo shirt\",\"Hair string\",\"Swimsuit\",\"Leggings/Tights\",\"Pyjama jumpsuit/playsuit\",\"Dungarees\",\"Blouse\",\"Hoodie\",\"Hair ties\",\"Jacket\",\"Swimsuit\",\"Polo shirt\",\"Dungarees\",\"Sandals\",\"Socks\",\"Shorts\",\"Socks\",\"Socks\",\"Earring\",\"Polo shirt\",\"Vest top\",\"Sneakers\",\"Felt hat\",\"Wallet\",\"Underwear bottom\",\"Shorts\",\"Garment Set\",\"Costumes\",\"Bodysuit\",\"Hair/alice band\",\"Necklace\",\"Socks\",\"Cap/peaked\",\"Sweater\",\"T-shirt\",\"Swimsuit\",\"Hair/alice band\",\"Pumps\",\"Ballerinas\",\"Polo shirt\",\"Pyjama bottom\",\"Shirt\",\"Cap/peaked\",\"Dungarees\",\"Heels\",\"Gloves\",\"Blouse\",\"Hat/beanie\",\"Hat/beanie\",\"Bikini top\",\"Pyjama jumpsuit/playsuit\",\"Bag\",\"Scarf\",\"Necklace\",\"Beanie\",\"Skirt\",\"Other accessories\",\"Hair/alice band\",\"Kids Underwear top\",\"Jacket\",\"Bracelet\",\"Bikini top\",\"Other accessories\",\"Garment Set\",\"Swimsuit\",\"Sunglasses\",\"Sneakers\",\"Cap/peaked\",\"Ballerinas\",\"T-shirt\",\"Hat/beanie\",\"Bodysuit\",\"Leggings/Tights\",\"Bodysuit\",\"Underwear body\",\"Hat/beanie\",\"Kids Underwear top\",\"Garment Set\",\"Garment Set\",\"Bikini top\",\"Leggings/Tights\",\"Bikini top\",\"Pyjama bottom\",\"Earring\",\"Coat\",\"Sandals\",\"Other accessories\",\"Skirt\",\"Hoodie\",\"Bag\",\"Bodysuit\",\"Pyjama set\",\"Earring\",\"Swimsuit\",\"Umbrella\",\"Ring\",\"Scarf\",\"Earring\",\"Swimwear bottom\",\"Necklace\",\"Bikini top\",\"Skirt\",\"Hoodie\",\"Tie\",\"Hat/brim\",\"Outdoor overall\",\"Pumps\",\"Sneakers\",\"Garment Set\",\"Flat shoes\",\"Robe\",\"Other accessories\",\"Jumpsuit/Playsuit\",\"Underwear Tights\",\"Other accessories\",\"Jumpsuit/Playsuit\",\"Pumps\",\"Bag\",\"Gloves\",\"Sunglasses\",\"Swimwear set\",\"Jumpsuit/Playsuit\",\"Blouse\",\"Pyjama jumpsuit/playsuit\",\"Wedge\",\"Skirt\",\"Swimsuit\",\"Blouse\",\"Bag\",\"Swimwear bottom\",\"Trousers\",\"Belt\",\"Hat/beanie\",\"Garment Set\",\"Vest top\",\"Outdoor Waistcoat\",\"Wallet\",\"Underwear Tights\",\"Blazer\",\"Flip flop\",\"Pumps\",\"Swimsuit\",\"Socks\",\"Sneakers\",\"Wedge\",\"Fine cosmetics\",\"Hair string\",\"Leggings/Tights\",\"Outdoor trousers\",\"Flip flop\",\"Blouse\",\"Ring\",\"Sandals\",\"T-shirt\",\"Other shoe\",\"Nipple covers\",\"Shirt\",\"Swimsuit\",\"Coat\",\"Skirt\",\"Hair/alice band\",\"Hat/beanie\",\"Outdoor overall\",\"Garment Set\",\"Jumpsuit/Playsuit\",\"Swimwear bottom\",\"Underwear bottom\",\"Costumes\",\"Bodysuit\",\"Outdoor Waistcoat\",\"Hair/alice band\",\"Leggings/Tights\",\"Shoulder bag\",\"Socks\",\"Outdoor Waistcoat\",\"Underwear Tights\",\"Bag\",\"Belt\",\"Outdoor overall\",\"Night gown\",\"T-shirt\",\"Dress\",\"Gloves\",\"Bag\",\"Outdoor Waistcoat\",\"Boots\",\"Pyjama set\",\"Jumpsuit/Playsuit\",\"Vest top\",\"Hat/beanie\",\"Sandals\",\"Hair clip\",\"Garment Set\",\"Pyjama set\",\"Bag\",\"Underwear set\",\"Swimwear bottom\",\"Hat/brim\",\"T-shirt\",\"Pyjama jumpsuit/playsuit\",\"Shorts\",\"Jumpsuit/Playsuit\",\"Jacket\",\"Dress\",\"Shorts\",\"Hat/beanie\",\"Heeled sandals\",\"Night gown\",\"Swimwear bottom\",\"Underwear body\",\"Vest top\",\"Hair/alice band\",\"Hat/beanie\",\"Bikini top\",\"Underwear Tights\",\"Scarf\",\"Night gown\",\"Earring\",\"Robe\",\"Earrings\",\"Pumps\",\"Earring\",\"Dungarees\",\"Underwear set\",\"Garment Set\",\"Hair string\",\"Ballerinas\",\"Jumpsuit/Playsuit\",\"Hat/beanie\",\"Blouse\",\"Bag\",\"Socks\",\"Shorts\",\"Ring\",\"Cap\",\"Sunglasses\",\"Vest top\",\"Sarong\",\"Hair/alice band\",\"Braces\",\"Wedge\",\"Garment Set\",\"Braces\",\"Swimsuit\",\"Ballerinas\",\"Coat\",\"Cardigan\",\"Hat/brim\",\"Pyjama set\",\"Sandals\",\"Pumps\",\"Scarf\",\"Pyjama bottom\",\"Sneakers\",\"Hair/alice band\",\"Hat/beanie\",\"Sneakers\",\"Other accessories\",\"Scarf\",\"Garment Set\",\"Sneakers\",\"Bodysuit\",\"Ballerinas\",\"Sneakers\",\"Bodysuit\",\"Unknown\",\"Sarong\",\"Hat/brim\",\"Flat shoe\",\"Pyjama set\",\"Shorts\",\"Ballerinas\",\"Sunglasses\",\"Bodysuit\",\"Outdoor overall\",\"Sweater\",\"Belt\",\"Other shoe\",\"Underwear bottom\",\"Boots\",\"Boots\",\"Cardigan\",\"Ring\",\"Leggings/Tights\",\"Flip flop\",\"Socks\",\"Pumps\",\"Swimwear bottom\",\"Hair clip\",\"Other shoe\",\"Hair/alice band\",\"Other shoe\",\"Hair clip\",\"Blouse\",\"Dungarees\",\"Bodysuit\",\"Garment Set\",\"Beanie\",\"Earring\",\"Shirt\",\"Blazer\",\"Trousers\",\"Other shoe\",\"Bag\",\"Sneakers\",\"Pyjama jumpsuit/playsuit\",\"Slippers\",\"Other accessories\",\"Hair clip\",\"Cap/peaked\",\"Scarf\",\"Cap/peaked\",\"Ballerinas\",\"Necklace\",\"Sweater\",\"Hair/alice band\",\"Earring\",\"Other accessories\",\"Watch\",\"Scarf\",\"Hair clip\",\"Shorts\",\"Bodysuit\",\"Dress\",\"Other accessories\",\"Dungarees\",\"Polo shirt\",\"Boots\",\"Trousers\",\"Slippers\",\"Cardigan\",\"Hair string\",\"Vest top\",\"Earring\",\"Giftbox\",\"Long John\",\"Leggings/Tights\",\"Sunglasses\",\"Hat/beanie\",\"Earring\",\"Dress\",\"Tailored Waistcoat\",\"Jacket\",\"Bodysuit\",\"Underwear Tights\",\"Costumes\",\"Swimwear bottom\",\"Blouse\",\"Garment Set\",\"Sandals\",\"Outdoor Waistcoat\",\"Gloves\",\"Pyjama set\",\"Belt\",\"Vest top\",\"Underwear set\",\"Costumes\",\"Hoodie\",\"Watch\",\"Bikini top\",\"Wedge\",\"Ballerinas\",\"Hair ties\",\"Outdoor overall\",\"Belt\",\"Headband\",\"Leggings/Tights\",\"Hair clip\",\"Outdoor trousers\",\"Bootie\",\"Bodysuit\",\"Vest top\",\"Watch\",\"Gloves\",\"Cap/peaked\",\"Blazer\",\"Jacket\",\"Pyjama jumpsuit/playsuit\",\"Tie\",\"Boots\",\"Other accessories\",\"Shorts\",\"Pyjama jumpsuit/playsuit\",\"Outdoor overall\",\"Slippers\",\"Hat/beanie\",\"Pyjama jumpsuit/playsuit\",\"Swimwear bottom\",\"Sneakers\",\"Bodysuit\",\"Heeled sandals\",\"Swimsuit\",\"Wedge\",\"Pyjama set\",\"Hair/alice band\",\"Sunglasses\",\"Bikini top\",\"Sarong\",\"Top\",\"Garment Set\",\"Socks\",\"Hat/beanie\",\"Outdoor trousers\",\"Leggings/Tights\",\"Top\",\"Pumps\",\"Outdoor trousers\",\"Bag\",\"Hat/brim\",\"Hoodie\",\"Hat/beanie\",\"Flat shoe\",\"Jumpsuit/Playsuit\",\"Cardigan\",\"Ballerinas\",\"Boots\",\"Underwear bottom\",\"Boots\",\"Pyjama set\",\"Hat/brim\",\"Swimsuit\",\"Polo shirt\",\"Hair clip\",\"Robe\",\"Jacket\",\"Earring\",\"Gloves\",\"Skirt\",\"Pyjama set\",\"Other accessories\",\"Bracelet\",\"Hoodie\",\"Sandals\",\"Shorts\",\"Sandals\",\"Sunglasses\",\"Slippers\",\"Earring\",\"T-shirt\",\"Scarf\",\"Bag\",\"Flat shoe\",\"Swimsuit\",\"Pyjama set\",\"Sneakers\",\"Bodysuit\",\"Jumpsuit/Playsuit\",\"Dress\",\"Necklace\",\"Underwear body\",\"Bra\",\"Dog Wear\",\"Underwear Tights\",\"Bra\",\"Watch\",\"Garment Set\",\"Underwear bottom\",\"Top\",\"Cap/peaked\",\"Bikini top\",\"Bootie\",\"Other accessories\",\"Sunglasses\",\"Scarf\",\"Shorts\",\"Shirt\",\"Pyjama set\",\"Swimwear set\",\"Top\",\"Towel\",\"Hair/alice band\",\"Jumpsuit/Playsuit\",\"Hair clip\",\"Costumes\",\"Cardigan\",\"Bag\",\"Tailored Waistcoat\",\"Belt\",\"Earring\",\"Dog Wear\",\"Other accessories\",\"Vest top\",\"Slippers\",\"Dungarees\",\"Fine cosmetics\",\"Pyjama set\",\"Shorts\",\"Cross-body bag\",\"Sandals\",\"Dog Wear\",\"Jacket\",\"Skirt\",\"Sandals\",\"Watch\",\"Other shoe\",\"Outdoor overall\",\"Hair clip\",\"Felt hat\",\"Outdoor Waistcoat\",\"Heeled sandals\",\"Trousers\",\"Flat shoe\",\"Hair/alice band\",\"Leggings/Tights\",\"Earring\",\"Flat shoe\",\"Flip flop\",\"Tailored Waistcoat\",\"Jumpsuit/Playsuit\",\"Hoodie\",\"Socks\",\"Hat/brim\",\"Other accessories\",\"Dog Wear\",\"Sandals\",\"Gloves\",\"Hair/alice band\",\"Costumes\",\"Boots\",\"Blazer\",\"Heeled sandals\",\"Costumes\",\"Dress\",\"Bracelet\",\"Pumps\",\"Swimwear bottom\",\"Coat\",\"Jacket\",\"Wedge\",\"Polo shirt\",\"Dog Wear\",\"Ballerinas\",\"Sneakers\",\"Dress\",\"Hair/alice band\",\"Vest top\"],\"xaxis\":\"x\",\"y\":[3304,2136,1739,1516,1499,1491,1215,1139,1084,1043,1021,897,822,746,720,664,651,568,558,540,528,487,481,479,469,458,421,406,404,386,379,365,354,331,327,327,302,291,288,287,287,274,270,265,249,248,245,229,228,212,212,207,198,194,193,191,189,188,187,185,177,175,173,170,167,166,164,163,163,163,162,160,160,159,159,154,149,149,147,145,144,142,141,139,138,137,136,135,129,129,128,128,126,124,123,122,122,121,121,115,115,114,113,112,110,110,105,104,102,100,99,99,99,97,96,96,96,95,95,95,93,93,93,89,89,89,88,88,87,87,86,86,85,84,84,84,83,83,83,82,82,81,81,80,79,78,76,75,74,74,74,74,73,72,72,72,72,72,72,72,71,71,70,69,69,68,68,68,66,66,65,65,65,64,64,64,63,63,63,63,63,63,62,62,62,61,60,60,60,59,59,59,59,57,56,54,54,53,53,52,52,52,52,52,52,52,52,52,51,51,50,50,50,50,50,50,50,49,49,49,49,49,49,48,48,48,48,48,48,47,46,46,46,46,46,45,45,45,44,44,44,44,43,43,43,43,42,42,42,42,42,41,41,41,41,41,41,39,39,39,39,39,38,38,38,38,38,38,37,37,37,37,37,37,37,37,36,36,36,36,36,35,35,35,35,35,35,35,35,35,35,35,35,35,35,34,34,34,34,34,34,33,33,33,33,33,33,33,32,32,32,32,31,31,31,31,30,30,30,30,30,29,29,29,29,29,29,28,28,28,28,28,28,27,27,27,27,27,27,27,27,26,26,26,26,26,26,26,26,25,25,25,25,25,25,25,25,24,24,24,24,24,24,24,24,24,23,23,23,23,23,23,23,23,23,23,23,23,23,23,22,22,22,22,22,22,22,22,22,22,21,21,21,21,21,21,21,21,21,21,21,21,21,21,21,20,20,20,20,20,20,20,20,20,20,20,20,20,20,20,19,19,19,19,19,19,19,19,19,19,19,19,19,19,18,18,18,18,18,18,18,18,18,18,18,18,18,18,17,17,17,17,17,17,17,17,17,17,17,17,17,17,16,16,16,16,16,16,16,16,16,16,16,16,16,16,16,16,16,16,15,15,15,15,15,15,15,15,15,15,14,14,14,14,14,14,14,14,14,14,14,14,14,14,14,14,14,14,14,14,14,14,14,14,14,13,13,13,13,13,13,13,13,13,13,13,13,13,13,13,13,13,13,13,13,13,12,12,12,12,12,12,12,12,12,12,12,12,12,12,12,12,12,12,12,12,12,12,12,12,12,12,12,12,12,11,11,11,11,11,11,11,11,11,11,11,11,11,11,11,11,11,11,11,11,11,11,11,11,11,10,10,10,10,10,10,10,10,10,10,10,10,10,10,10,10,10,10,10,10,10,10,10,10,10,10,10,10,9,9,9,9,9,9,9,9,9,9,9,9,9,9,9,9,9,9,9,9,9,9,9,9,9,9,9,9,9,9,9,9,9,9,8,8,8,8,8,8,8,8,8,8,8,8,8,8,8,8,8,8,8,8,8,8,8,8,8,8,8,8,8,8,7,7,7,7,7,7,7,7,7,7,7,7,7,7,7,7,7,7,7,7,7,7,7,7,7,7,7,7,7,7,7,7,7,7,7,7,7,7,7,7,7,7,7,7,7,7,7,7,6,6,6,6,6,6,6,6,6,6,6,6,6,6,6,6,6,6,6,6,6,6,6,6,6,6,6,6,6,6,6,6,6,6,6,6,6,6,6,5,5,5,5,5,5,5,5,5,5,5,5,5,5,5,5,5,5,5,5,5,5,5,5,5,5,5,5,5,5,5,5,5,5,5,5,5,5,5,5,5,5,5,5,5,5,5,5,5,5,5,5,5,5,5,5,5,5,5,5,5,5,5,4,4,4,4,4,4,4,4,4,4,4,4,4,4,4,4,4,4,4,4,4,4,4,4,4,4,4,4,4,4,4,4,4,4,4,4,4,4,4,4,4,4,4,4,4,4,4,4,4,4,4,4,4,4,4,4,4,4,4,4,4,4,4,4,4,4,4,4,4,4,4,4,3,3,3,3,3,3,3,3,3,3,3,3,3,3,3,3,3,3,3,3,3,3,3,3,3,3,3,3,3,3,3,3,3,3,3,3,3,3,3,3,3,3,3,3,3,3,3,3,3,3,3,3,3,3,3,3,3,3,3,3,3,3,3,3,3,3,3,3,3,3,3,3,3,3,3,3,3,3,3,3,3,3,3,3,3,3,3,3,2,2,2,2,2,2,2,2,2,2,2,2,2,2,2,2,2,2,2,2,2,2,2,2,2,2,2,2,2,2,2,2,2,2,2,2,2,2,2,2,2,2,2,2,2,2,2,2,2,2,2,2,2,2,2,2,2,2,2,2,2,2,2,2,2,2,2,2,2,2,2,2,2,2,2,2,2,2,2,2,2,2,2,2,2,2,2,2,2,2,2,2,2,2,2,2,2,2,2,2,2,2,2,2,2,2,2,2,2,2,2,2,2,2,2,2,2,2,2,2,2,2,2,2,2,2,2,2,2,2,2,2,2,2,2,2,2,2,2,2,2,2,2,2,2,2,2,2,2,2,2,2,2,1,1,1,1,1,1,1,1,1,1,1,1,1,1,1,1,1,1,1,1,1,1,1,1,1,1,1,1,1,1,1,1,1,1,1,1,1,1,1,1,1,1,1,1,1,1,1,1,1,1,1,1,1,1,1,1,1,1,1,1,1,1,1,1,1,1,1,1,1,1,1,1,1,1,1,1,1,1,1,1,1,1,1,1,1,1,1,1,1,1,1,1,1,1,1,1,1,1,1,1,1,1,1,1,1,1,1,1,1,1,1,1,1,1,1,1,1,1,1,1,1,1,1,1,1,1,1,1,1,1,1,1,1,1,1,1,1,1,1,1,1,1,1,1,1,1,1,1,1,1,1,1,1,1,1,1,1,1,1,1,1,1,1,1,1,1,1,1,1,1,1,1,1,1,1,1,1,1,1,1,1,1,1,1,1,1,1,1,1,1,1,1,1,1,1,1,1,1,1,1,1,1,1,1,1,1,1,1,1,1,1,1,1,1,1,1,1,1,1,1,1,1,1,1,1,1,1,1,1,1,1,1,1,1,1,1,1,1,1,1,1,1,1,1,1,1,1,1,1,1,1,1,1,1,1,1],\"yaxis\":\"y\",\"type\":\"histogram\"},{\"alignmentgroup\":\"True\",\"bingroup\":\"x\",\"histfunc\":\"sum\",\"hovertemplate\":\"year=2019<br>product_type_name=%{x}<br>sum of count=%{y}<extra></extra>\",\"legendgroup\":\"2019\",\"marker\":{\"color\":\"#EF553B\",\"pattern\":{\"shape\":\"\"}},\"name\":\"2019\",\"offsetgroup\":\"2019\",\"orientation\":\"v\",\"showlegend\":true,\"x\":[\"Trousers\",\"Dress\",\"T-shirt\",\"Top\",\"T-shirt\",\"Trousers\",\"Vest top\",\"Sweater\",\"Bra\",\"Leggings/Tights\",\"Trousers\",\"Blouse\",\"Swimwear bottom\",\"Underwear bottom\",\"Shorts\",\"Bikini top\",\"Skirt\",\"Top\",\"Vest top\",\"Blouse\",\"Trousers\",\"Dress\",\"Shirt\",\"Jacket\",\"Dress\",\"Trousers\",\"Dress\",\"Sweater\",\"Sweater\",\"Shorts\",\"Sweater\",\"Dress\",\"Bra\",\"Sweater\",\"Socks\",\"Shorts\",\"Trousers\",\"T-shirt\",\"Underwear Tights\",\"Belt\",\"Dress\",\"Boots\",\"Blazer\",\"Sweater\",\"Hoodie\",\"Dress\",\"Sweater\",\"Shorts\",\"Trousers\",\"Jumpsuit/Playsuit\",\"Blouse\",\"Swimsuit\",\"Swimwear bottom\",\"Bra\",\"Dress\",\"Bag\",\"Trousers\",\"Bikini top\",\"Shirt\",\"Earring\",\"Blouse\",\"Underwear bottom\",\"Sweater\",\"Trousers\",\"Sweater\",\"Cardigan\",\"Swimwear bottom\",\"Bikini top\",\"Socks\",\"Sweater\",\"Swimwear bottom\",\"T-shirt\",\"Skirt\",\"Bikini top\",\"Sweater\",\"Vest top\",\"Trousers\",\"Sweater\",\"Sweater\",\"Bra\",\"Top\",\"Dress\",\"Sweater\",\"Dress\",\"Shorts\",\"Trousers\",\"Blouse\",\"T-shirt\",\"Top\",\"Sweater\",\"Dress\",\"Sandals\",\"Dress\",\"Swimwear bottom\",\"Bodysuit\",\"Necklace\",\"Trousers\",\"Trousers\",\"Bikini top\",\"Dress\",\"Dress\",\"Shirt\",\"Bra\",\"Underwear bottom\",\"Shorts\",\"Top\",\"T-shirt\",\"Bra\",\"Blouse\",\"Shorts\",\"Dress\",\"Underwear bottom\",\"Sweater\",\"Shirt\",\"Vest top\",\"T-shirt\",\"Underwear bottom\",\"Swimwear bottom\",\"Bikini top\",\"T-shirt\",\"Top\",\"Dress\",\"Underwear bottom\",\"Sweater\",\"Shirt\",\"Shorts\",\"Shorts\",\"Blouse\",\"T-shirt\",\"Skirt\",\"Vest top\",\"Blouse\",\"Trousers\",\"Skirt\",\"Underwear body\",\"Bikini top\",\"Swimwear bottom\",\"Top\",\"Pyjama set\",\"Blouse\",\"T-shirt\",\"Sunglasses\",\"T-shirt\",\"Vest top\",\"Sneakers\",\"Top\",\"Sweater\",\"Skirt\",\"Vest top\",\"Bikini top\",\"Underwear bottom\",\"Bra\",\"Vest top\",\"Skirt\",\"Underwear bottom\",\"Vest top\",\"Dress\",\"T-shirt\",\"Dress\",\"Blouse\",\"Cardigan\",\"Jacket\",\"Swimwear bottom\",\"Trousers\",\"Dress\",\"Hoodie\",\"Jacket\",\"Necklace\",\"Bikini top\",\"Blouse\",\"Trousers\",\"Sweater\",\"Skirt\",\"Heeled sandals\",\"Leggings/Tights\",\"Socks\",\"Sweater\",\"Skirt\",\"Dress\",\"Swimwear bottom\",\"Coat\",\"Sneakers\",\"Skirt\",\"Top\",\"T-shirt\",\"Flat shoe\",\"Blazer\",\"Vest top\",\"Top\",\"Underwear bottom\",\"Top\",\"Blouse\",\"Dress\",\"Blazer\",\"T-shirt\",\"Blouse\",\"Shorts\",\"Jacket\",\"Scarf\",\"Bikini top\",\"Hoodie\",\"Sweater\",\"Bra\",\"Jacket\",\"Sweater\",\"T-shirt\",\"Earring\",\"Unknown\",\"Vest top\",\"Jumpsuit/Playsuit\",\"Bra\",\"Leggings/Tights\",\"Top\",\"Shirt\",\"Blouse\",\"Swimwear bottom\",\"Bikini top\",\"Hoodie\",\"Blouse\",\"Vest top\",\"Hoodie\",\"Hair ties\",\"Shirt\",\"Swimwear bottom\",\"Underwear bottom\",\"Socks\",\"Dress\",\"Top\",\"Bikini top\",\"Pyjama set\",\"Blouse\",\"Shirt\",\"Cardigan\",\"Pyjama bottom\",\"Jumpsuit/Playsuit\",\"Polo shirt\",\"Blazer\",\"Dress\",\"Bra\",\"Sweater\",\"Blouse\",\"Shorts\",\"Ballerinas\",\"Underwear bottom\",\"Jacket\",\"Bra\",\"Dress\",\"Belt\",\"T-shirt\",\"Blouse\",\"Dress\",\"Swimwear bottom\",\"Top\",\"Jumpsuit/Playsuit\",\"Blouse\",\"Shirt\",\"Bikini top\",\"Jacket\",\"Wedge\",\"Leggings/Tights\",\"Vest top\",\"Shirt\",\"Blazer\",\"Jacket\",\"Hair/alice band\",\"T-shirt\",\"T-shirt\",\"Sweater\",\"Sunglasses\",\"Skirt\",\"Socks\",\"Skirt\",\"Dress\",\"Underwear Tights\",\"Swimsuit\",\"Underwear bottom\",\"Top\",\"Swimsuit\",\"Bikini top\",\"Skirt\",\"Blazer\",\"Skirt\",\"Bikini top\",\"Gloves\",\"Swimsuit\",\"Swimwear bottom\",\"Skirt\",\"Top\",\"Socks\",\"Polo shirt\",\"Top\",\"Skirt\",\"Trousers\",\"Pyjama set\",\"T-shirt\",\"Vest top\",\"Ring\",\"Swimsuit\",\"T-shirt\",\"Trousers\",\"Sunglasses\",\"Dress\",\"Cardigan\",\"Trousers\",\"Top\",\"Hat/beanie\",\"Blazer\",\"Bikini top\",\"Swimwear bottom\",\"Jumpsuit/Playsuit\",\"Dress\",\"Swimwear bottom\",\"Cardigan\",\"Blazer\",\"Bikini top\",\"Swimsuit\",\"Other shoe\",\"Pumps\",\"Skirt\",\"Cardigan\",\"Scarf\",\"Pyjama set\",\"Hoodie\",\"Vest top\",\"T-shirt\",\"Night gown\",\"Blouse\",\"Bra\",\"Sweater\",\"Bra\",\"Polo shirt\",\"Jacket\",\"Vest top\",\"Pyjama set\",\"Top\",\"Shorts\",\"Socks\",\"Boots\",\"Other accessories\",\"Hoodie\",\"Cardigan\",\"Cardigan\",\"Flip flop\",\"Bag\",\"Swimwear bottom\",\"Sweater\",\"Coat\",\"Swimwear bottom\",\"Trousers\",\"Sweater\",\"Hoodie\",\"Hoodie\",\"Skirt\",\"Sarong\",\"Coat\",\"Hoodie\",\"Hoodie\",\"Swimwear bottom\",\"Hair clip\",\"Hoodie\",\"Shorts\",\"Leggings/Tights\",\"Hoodie\",\"Underwear bottom\",\"Swimwear bottom\",\"Top\",\"Vest top\",\"Coat\",\"Swimsuit\",\"Cardigan\",\"Dress\",\"Swimsuit\",\"Shorts\",\"Shirt\",\"Pyjama bottom\",\"T-shirt\",\"Top\",\"Dress\",\"Shirt\",\"Robe\",\"Bag\",\"Blazer\",\"Top\",\"Shorts\",\"Cap/peaked\",\"Underwear body\",\"Pyjama bottom\",\"Shorts\",\"Hoodie\",\"Jacket\",\"Blazer\",\"Bikini top\",\"T-shirt\",\"Shorts\",\"Socks\",\"Bikini top\",\"Shorts\",\"T-shirt\",\"Cardigan\",\"Bra\",\"Sandals\",\"Jacket\",\"Jumpsuit/Playsuit\",\"Blazer\",\"Vest top\",\"Bag\",\"Underwear bottom\",\"Dungarees\",\"Blouse\",\"Shirt\",\"Shorts\",\"Swimsuit\",\"Scarf\",\"Shirt\",\"Cardigan\",\"Shorts\",\"Pyjama bottom\",\"Pyjama set\",\"Cardigan\",\"Necklace\",\"Blouse\",\"Hoodie\",\"Hair/alice band\",\"Swimsuit\",\"Shirt\",\"Top\",\"Sarong\",\"Vest top\",\"Hair string\",\"Hair/alice band\",\"Shirt\",\"Bra\",\"Bag\",\"Sunglasses\",\"Sweater\",\"Cardigan\",\"Vest top\",\"Blazer\",\"Scarf\",\"Cardigan\",\"Vest top\",\"Jacket\",\"Bag\",\"Bikini top\",\"Swimwear bottom\",\"Jacket\",\"Jumpsuit/Playsuit\",\"Swimwear bottom\",\"Shorts\",\"Bodysuit\",\"Swimwear bottom\",\"Vest top\",\"Cardigan\",\"T-shirt\",\"Blouse\",\"Hair clip\",\"Trousers\",\"Bikini top\",\"Other accessories\",\"Pyjama set\",\"Jumpsuit/Playsuit\",\"Shorts\",\"Sarong\",\"Hat/brim\",\"Pyjama bottom\",\"Jacket\",\"Heeled sandals\",\"Skirt\",\"Blazer\",\"Hat/beanie\",\"Sweater\",\"T-shirt\",\"Leggings/Tights\",\"Bikini top\",\"Jacket\",\"Jacket\",\"Cardigan\",\"Sandals\",\"Earring\",\"Hair clip\",\"Sneakers\",\"Jacket\",\"Swimwear bottom\",\"Coat\",\"Blazer\",\"Pyjama set\",\"Top\",\"Swimwear bottom\",\"Shirt\",\"Pyjama set\",\"T-shirt\",\"Vest top\",\"Earring\",\"Hoodie\",\"Scarf\",\"Bikini top\",\"Blouse\",\"Hair ties\",\"Skirt\",\"Coat\",\"Blazer\",\"Shorts\",\"Jacket\",\"Vest top\",\"Shirt\",\"Unknown\",\"Trousers\",\"Jacket\",\"Unknown\",\"Ballerinas\",\"Sneakers\",\"Ring\",\"Cardigan\",\"Swimsuit\",\"T-shirt\",\"Skirt\",\"Scarf\",\"Swimsuit\",\"Scarf\",\"Sweater\",\"Dress\",\"Hair string\",\"Sandals\",\"Socks\",\"Scarf\",\"Coat\",\"Sunglasses\",\"Blazer\",\"Socks\",\"Leggings/Tights\",\"Blouse\",\"Other accessories\",\"Jumpsuit/Playsuit\",\"Night gown\",\"Cardigan\",\"Sneakers\",\"Socks\",\"Coat\",\"Vest top\",\"Sweater\",\"Top\",\"Pyjama bottom\",\"Bag\",\"Underdress\",\"Scarf\",\"Sweater\",\"Costumes\",\"Leggings/Tights\",\"Jacket\",\"Underwear bottom\",\"Underwear bottom\",\"Skirt\",\"Skirt\",\"Coat\",\"Garment Set\",\"Dungarees\",\"Trousers\",\"Pyjama set\",\"Hoodie\",\"Sunglasses\",\"Hat/brim\",\"Bag\",\"Bag\",\"T-shirt\",\"Other accessories\",\"Pyjama bottom\",\"Garment Set\",\"Socks\",\"Socks\",\"Hoodie\",\"Blouse\",\"Blouse\",\"Bikini top\",\"Coat\",\"Trousers\",\"Sweater\",\"Scarf\",\"Heeled sandals\",\"Dress\",\"Hair ties\",\"Flat shoe\",\"Heels\",\"Robe\",\"Shorts\",\"Underdress\",\"Skirt\",\"Bodysuit\",\"Sneakers\",\"Underwear bottom\",\"Bikini top\",\"Dress\",\"Hair/alice band\",\"Bracelet\",\"Trousers\",\"Flat shoe\",\"Skirt\",\"Earring\",\"Sunglasses\",\"Swimsuit\",\"Bodysuit\",\"Shorts\",\"T-shirt\",\"Underwear bottom\",\"Cardigan\",\"Earrings\",\"Sandals\",\"Leggings/Tights\",\"Necklace\",\"Skirt\",\"Belt\",\"Hoodie\",\"Dungarees\",\"Swimwear bottom\",\"Belt\",\"Polo shirt\",\"Top\",\"Jumpsuit/Playsuit\",\"Sandals\",\"Jumpsuit/Playsuit\",\"Bag\",\"Earring\",\"Beanie\",\"Necklace\",\"Hair string\",\"Scarf\",\"Bodysuit\",\"Heeled sandals\",\"Shirt\",\"Hat/brim\",\"Polo shirt\",\"Bag\",\"Vest top\",\"Vest top\",\"Blazer\",\"Earring\",\"Flat shoe\",\"Jumpsuit/Playsuit\",\"Sarong\",\"Swimsuit\",\"Hat/beanie\",\"Leggings/Tights\",\"Earrings\",\"Swimwear bottom\",\"Swimwear bottom\",\"Skirt\",\"Top\",\"Leggings/Tights\",\"Bra\",\"Hair ties\",\"Other accessories\",\"Sweater\",\"Bodysuit\",\"Pyjama set\",\"Top\",\"Blouse\",\"Vest top\",\"Shorts\",\"Sarong\",\"Top\",\"Bikini top\",\"Sweater\",\"Blouse\",\"Bikini top\",\"Shorts\",\"Leggings/Tights\",\"Night gown\",\"Garment Set\",\"Leggings/Tights\",\"Jacket\",\"Blazer\",\"Slippers\",\"Hat/beanie\",\"Skirt\",\"Swimsuit\",\"Socks\",\"Coat\",\"Hair/alice band\",\"Hair/alice band\",\"Scarf\",\"Trousers\",\"T-shirt\",\"Shirt\",\"Unknown\",\"Blazer\",\"Hair/alice band\",\"Sunglasses\",\"Tote bag\",\"Sarong\",\"Bikini top\",\"Vest top\",\"Skirt\",\"Swimsuit\",\"T-shirt\",\"Belt\",\"Polo shirt\",\"Swimwear bottom\",\"Swimsuit\",\"Polo shirt\",\"Sandals\",\"Hat/beanie\",\"Hair string\",\"Sarong\",\"Pyjama set\",\"Jacket\",\"Boots\",\"Cardigan\",\"Hair/alice band\",\"Bag\",\"Heeled sandals\",\"Dress\",\"Pumps\",\"Outdoor trousers\",\"Shirt\",\"Leggings/Tights\",\"Underwear set\",\"Jumpsuit/Playsuit\",\"Wedge\",\"Shorts\",\"Boots\",\"Sunglasses\",\"Earring\",\"Jacket\",\"Wedge\",\"Shirt\",\"Skirt\",\"Night gown\",\"Underwear Tights\",\"Wedge\",\"Jacket\",\"Hat/beanie\",\"Sandals\",\"Robe\",\"Pyjama set\",\"Skirt\",\"Sunglasses\",\"Nipple covers\",\"Shirt\",\"Bikini top\",\"Pyjama bottom\",\"Costumes\",\"Kids Underwear top\",\"Umbrella\",\"Heeled sandals\",\"Bag\",\"Blouse\",\"Blazer\",\"Coat\",\"Robe\",\"Bag\",\"Ballerinas\",\"Blouse\",\"Other shoe\",\"Shorts\",\"Hair/alice band\",\"Sneakers\",\"Swimwear bottom\",\"Leggings/Tights\",\"Socks\",\"Hair clip\",\"Hat/beanie\",\"Underwear set\",\"Bodysuit\",\"Coat\",\"Hat/beanie\",\"Trousers\",\"Shirt\",\"Other accessories\",\"Hair ties\",\"Swimwear set\",\"Dress\",\"Blazer\",\"Swimwear bottom\",\"Socks\",\"Shirt\",\"Underwear bottom\",\"Cap/peaked\",\"Ballerinas\",\"Underwear Tights\",\"Swimsuit\",\"Leggings/Tights\",\"Jumpsuit/Playsuit\",\"Trousers\",\"Flip flop\",\"Belt\",\"Night gown\",\"Bag\",\"Blouse\",\"Hat/beanie\",\"Pyjama set\",\"Other accessories\",\"Underwear set\",\"Other shoe\",\"Bodysuit\",\"Vest top\",\"Bra\",\"Jumpsuit/Playsuit\",\"Shirt\",\"Sneakers\",\"Underwear body\",\"Night gown\",\"Scarf\",\"Hair string\",\"Other accessories\",\"Night gown\",\"Sandals\",\"Jumpsuit/Playsuit\",\"Other accessories\",\"Other accessories\",\"T-shirt\",\"Bodysuit\",\"Cardigan\",\"Heeled sandals\",\"Pumps\",\"Flat shoe\",\"Kids Underwear top\",\"Belt\",\"Shirt\",\"Kids Underwear top\",\"Sandals\",\"Flat shoe\",\"Swimsuit\",\"Bodysuit\",\"Hair/alice band\",\"Underwear Tights\",\"Other shoe\",\"Hoodie\",\"Shorts\",\"Jacket\",\"Pyjama jumpsuit/playsuit\",\"Sandals\",\"T-shirt\",\"Hair/alice band\",\"Hair/alice band\",\"Jumpsuit/Playsuit\",\"Hair/alice band\",\"Hat/brim\",\"Coat\",\"Belt\",\"Wedge\",\"Socks\",\"Underwear bottom\",\"Bag\",\"Sandals\",\"Bodysuit\",\"Polo shirt\",\"Heeled sandals\",\"Hoodie\",\"Cardigan\",\"Shorts\",\"Blazer\",\"Necklace\",\"Bag\",\"Dungarees\",\"Sneakers\",\"Pyjama jumpsuit/playsuit\",\"Outdoor Waistcoat\",\"Pyjama bottom\",\"Hair clip\",\"Ballerinas\",\"Dress\",\"Other accessories\",\"Garment Set\",\"Polo shirt\",\"Hair/alice band\",\"Ballerinas\",\"Scarf\",\"Pumps\",\"Flip flop\",\"Jumpsuit/Playsuit\",\"Blazer\",\"Flat shoe\",\"Dungarees\",\"Bodysuit\",\"Jumpsuit/Playsuit\",\"Hoodie\",\"Dungarees\",\"Scarf\",\"Bra\",\"Bag\",\"Hair string\",\"Shorts\",\"Sunglasses\",\"Jumpsuit/Playsuit\",\"Ballerinas\",\"Outdoor Waistcoat\",\"Sandals\",\"Socks\",\"Hoodie\",\"Sunglasses\",\"Polo shirt\",\"Pyjama set\",\"Scarf\",\"Pyjama bottom\",\"Slippers\",\"Sandals\",\"Bodysuit\",\"Socks\",\"Underwear bottom\",\"Heeled sandals\",\"Hair ties\",\"Hat/beanie\",\"Blouse\",\"T-shirt\",\"Coat\",\"Swimwear bottom\",\"Other accessories\",\"Sneakers\",\"Bodysuit\",\"Shirt\",\"Hair/alice band\",\"Hair/alice band\",\"Trousers\",\"Hoodie\",\"Vest top\",\"Scarf\",\"Wedge\",\"Jumpsuit/Playsuit\",\"Bra\",\"Tie\",\"Trousers\",\"Hair ties\",\"Boots\",\"Cap/peaked\",\"Earring\",\"Hat/beanie\",\"Shorts\",\"T-shirt\",\"Hairband\",\"Blouse\",\"Robe\",\"Bikini top\",\"Dress\",\"Gloves\",\"Bodysuit\",\"Pyjama set\",\"Bra\",\"Blazer\",\"Backpack\",\"Nipple covers\",\"Bra\",\"Vest top\",\"Scarf\",\"Sandals\",\"Hat/beanie\",\"Tie\",\"Bag\",\"Hoodie\",\"Necklace\",\"Sunglasses\",\"Garment Set\",\"Skirt\",\"Sunglasses\",\"Cap/peaked\",\"Necklace\",\"Watch\",\"Shorts\",\"Vest top\",\"Other accessories\",\"Socks\",\"Earring\",\"Underwear Tights\",\"Socks\",\"Belt\",\"Swimsuit\",\"Bag\",\"Other shoe\",\"Slippers\",\"Wedge\",\"Bodysuit\",\"Underwear body\",\"Underwear body\",\"Hat/brim\",\"Bra extender\",\"Swimwear bottom\",\"Garment Set\",\"Sunglasses\",\"Hair/alice band\",\"Socks\",\"Pyjama bottom\",\"Bag\",\"Sarong\",\"Leggings/Tights\",\"Earring\",\"Blazer\",\"Polo shirt\",\"Skirt\",\"Ballerinas\",\"Tailored Waistcoat\",\"Swimwear bottom\",\"Wedge\",\"Top\",\"Dress\",\"Cardigan\",\"Top\",\"Leggings/Tights\",\"Unknown\",\"Jumpsuit/Playsuit\",\"Sneakers\",\"Slippers\",\"Bag\",\"Sunglasses\",\"Belt\",\"Leggings/Tights\",\"Earring\",\"Bra\",\"Jacket\",\"Sweater\",\"Shorts\",\"Sneakers\",\"Hat/beanie\",\"Jumpsuit/Playsuit\",\"Skirt\",\"Blazer\",\"Underwear set\",\"Scarf\",\"Pyjama bottom\",\"Cardigan\",\"Top\",\"Cap/peaked\",\"Swimwear set\",\"Leggings/Tights\",\"Other shoe\",\"Sneakers\",\"Sandals\",\"Hat/brim\",\"Vest top\",\"Underwear bottom\",\"Night gown\",\"Other shoe\",\"Night gown\",\"Underwear corset\",\"Ballerinas\",\"Coat\",\"Ballerinas\",\"Underwear set\",\"Dungarees\",\"Hoodie\",\"Bodysuit\",\"Boots\",\"Hat/brim\",\"Sunglasses\",\"Blazer\",\"Swimwear set\",\"Tailored Waistcoat\",\"Belt\",\"Wallet\",\"Garment Set\",\"Scarf\",\"Swimsuit\",\"Bikini top\",\"Necklace\",\"Socks\",\"Sunglasses\",\"Hair clip\",\"Pumps\",\"Flat shoe\",\"Underwear bottom\",\"Dog Wear\",\"Wedge\",\"Bag\",\"Trousers\",\"Swimwear set\",\"Bag\",\"Sarong\",\"Sarong\",\"Skirt\",\"Other accessories\",\"Scarf\",\"Sandals\",\"Watch\",\"Socks\",\"Cap/peaked\",\"Bag\",\"Outdoor Waistcoat\",\"Braces\",\"Hat/beanie\",\"Pyjama jumpsuit/playsuit\",\"Wallet\",\"Bodysuit\",\"Bodysuit\",\"Underwear set\",\"Night gown\",\"Trousers\",\"Swimwear set\",\"Nipple covers\",\"Ring\",\"Shirt\",\"Other accessories\",\"Swimsuit\",\"Top\",\"Night gown\",\"Polo shirt\",\"Ballerinas\",\"Vest top\",\"Other shoe\",\"Garment Set\",\"Boots\",\"Earring\",\"Shorts\",\"Pumps\",\"Trousers\",\"Flip flop\",\"Cap/peaked\",\"Robe\",\"Hair/alice band\",\"Earring\",\"Side table\",\"Blouse\",\"Sweater\",\"Sandals\",\"Garment Set\",\"Socks\",\"Heeled sandals\",\"Bag\",\"Bodysuit\",\"Trousers\",\"Cardigan\",\"Vest top\",\"Felt hat\",\"Top\",\"Hair/alice band\",\"Vest top\",\"Swimwear bottom\",\"Jacket\",\"Flip flop\",\"Other accessories\",\"Dungarees\",\"Night gown\",\"Hair/alice band\",\"Braces\",\"Hair/alice band\",\"Hair clip\",\"Other accessories\",\"Bra\",\"Underwear bottom\",\"Night gown\",\"Garment Set\",\"Gloves\",\"Skirt\",\"Underwear body\",\"Scarf\",\"Outdoor trousers\",\"Trousers\",\"Bodysuit\",\"Jacket\",\"Hair string\",\"Top\",\"Ballerinas\",\"Earring\",\"Earring\",\"Hair/alice band\",\"Shorts\",\"Skirt\",\"Underwear body\",\"Dog Wear\",\"Blouse\",\"Bodysuit\",\"Jumpsuit/Playsuit\",\"Blazer\",\"Sandals\",\"Underwear body\",\"Pyjama jumpsuit/playsuit\",\"Slippers\",\"Swimwear set\",\"Outdoor Waistcoat\",\"Hair ties\",\"Bucket hat\",\"Sunglasses\",\"Wedge\",\"Bikini top\",\"Blouse\",\"Bra\",\"Bodysuit\",\"Leggings/Tights\",\"Bodysuit\",\"Shirt\",\"Shorts\",\"Other accessories\",\"Robe\",\"Leggings/Tights\",\"Underwear Tights\",\"Pyjama jumpsuit/playsuit\",\"Socks\",\"Pyjama set\",\"Hat/beanie\",\"Hat/beanie\",\"Hat/beanie\",\"Scarf\",\"Shirt\",\"Hat/beanie\",\"Sandals\",\"Top\",\"Underwear Tights\",\"Necklace\",\"Underwear bottom\",\"Swimwear set\",\"Cardigan\",\"Blazer\",\"Robe\",\"Dress\",\"Robe\",\"Bra\",\"Ring\",\"Skirt\",\"Trousers\",\"Hat/brim\",\"Boots\",\"Sneakers\",\"Swimwear set\",\"Underwear Tights\",\"Shorts\",\"Blouse\",\"Dungarees\",\"Bikini top\",\"Bikini top\",\"Coat\",\"T-shirt\",\"Swimsuit\",\"Heeled sandals\",\"Other accessories\",\"Shirt\",\"Night gown\",\"Earring\",\"Gloves\",\"Bikini top\",\"Underwear Tights\",\"Robe\",\"Dress\",\"Robe\",\"Other accessories\",\"Polo shirt\",\"Scarf\",\"Swimwear bottom\",\"Pumps\",\"Jacket\",\"Polo shirt\",\"Hair string\",\"Cardigan\",\"Pumps\",\"T-shirt\",\"Pyjama bottom\",\"Pyjama set\",\"Belt\",\"Boots\",\"Sweater\",\"Bag\",\"Hat/beanie\",\"Socks\",\"Cap\",\"Jumpsuit/Playsuit\",\"Cardigan\",\"Dungarees\",\"Ring\",\"Bra\",\"Belt\",\"Gloves\",\"Scarf\",\"Slippers\",\"Skirt\",\"Dog Wear\",\"Polo shirt\",\"Bootie\",\"Dress\",\"Other accessories\",\"Scarf\",\"Vest top\",\"Pyjama bottom\",\"Hair/alice band\",\"Underwear body\",\"Swimwear bottom\",\"Tailored Waistcoat\",\"Garment Set\",\"Shorts\",\"Other accessories\",\"Sneakers\",\"Leggings/Tights\",\"Nipple covers\",\"Slippers\",\"Waterbottle\",\"Dress\",\"Gloves\",\"Bra\",\"Sandals\",\"Swimsuit\",\"Shirt\",\"Hair clip\",\"Jumpsuit/Playsuit\",\"Slippers\",\"Jacket\",\"Garment Set\",\"Hat/beanie\",\"Cardigan\",\"Socks\",\"Swimsuit\",\"Slippers\",\"Long John\",\"Coat\",\"Cap/peaked\",\"Pyjama bottom\",\"Ring\",\"Cap/peaked\",\"Boots\",\"Swimsuit\",\"Pumps\",\"Kids Underwear top\",\"Swimwear bottom\",\"Pyjama bottom\",\"Shirt\",\"Sneakers\",\"Jacket\",\"Bag\",\"Coat\",\"Underwear bottom\",\"Hair/alice band\",\"Sarong\",\"Cap/peaked\",\"Swimwear bottom\",\"Flat shoe\",\"Swimsuit\",\"Pyjama jumpsuit/playsuit\",\"Hair string\",\"Underwear set\",\"Pyjama set\",\"Dungarees\",\"Boots\",\"Leggings/Tights\",\"Underwear set\",\"Dog Wear\",\"Hair clip\",\"Gloves\",\"Pyjama jumpsuit/playsuit\",\"Slippers\",\"Polo shirt\",\"Hat/brim\",\"Sneakers\",\"Other accessories\",\"Jumpsuit/Playsuit\",\"Hat/beanie\",\"Nipple covers\",\"Outdoor Waistcoat\",\"Jumpsuit/Playsuit\",\"Socks\",\"Underwear Tights\",\"Sunglasses\",\"Sneakers\",\"Wedge\",\"Polo shirt\",\"Sunglasses\",\"Sarong\",\"Other shoe\",\"Jacket\",\"Sweater\",\"Heeled sandals\",\"Slippers\",\"Ring\",\"Flip flop\",\"Shirt\",\"Other accessories\",\"Garment Set\",\"Bracelet\",\"Cap/peaked\",\"Straw hat\",\"Bra\",\"Garment Set\",\"Umbrella\",\"Pyjama set\",\"Sunglasses\",\"Weekend/Gym bag\",\"Belt\",\"Flip flop\",\"Wallet\",\"Garment Set\",\"Hat/beanie\",\"Dog Wear\",\"Hat/beanie\",\"Gloves\",\"Underwear body\",\"Hair clip\",\"Sweater\",\"Hat/beanie\",\"Slippers\",\"Slippers\",\"Boots\",\"Sarong\",\"Leggings/Tights\",\"Sunglasses\",\"Sunglasses\",\"Wallet\",\"Socks\",\"Ring\",\"Watch\",\"Ballerinas\",\"Pumps\",\"Bracelet\",\"Flip flop\",\"Ballerinas\",\"Socks\",\"Sneakers\",\"T-shirt\",\"Underwear bottom\",\"Blazer\",\"Bra\",\"Watch\",\"Polo shirt\",\"Flat shoe\",\"Polo shirt\",\"Blouse\",\"Shorts\",\"Vest top\",\"Ballerinas\",\"Kids Underwear top\",\"Vest top\",\"Sneakers\",\"Tie\",\"Gloves\",\"Slippers\",\"Outdoor Waistcoat\",\"Ring\",\"Polo shirt\",\"Bag\",\"Sweater\",\"Sunglasses\",\"Jumpsuit/Playsuit\",\"Earring\",\"Trousers\",\"Outdoor trousers\",\"Other accessories\",\"Socks\",\"Sandals\",\"Hat/brim\",\"Dungarees\",\"Ring\",\"Hair clip\",\"Socks\",\"Heeled sandals\",\"Polo shirt\",\"Underwear Tights\",\"Socks\",\"Dungarees\",\"Trousers\",\"Ring\",\"Hair/alice band\",\"Sarong\",\"Scarf\",\"Bracelet\",\"Alice band\",\"Bootie\",\"Dog Wear\",\"Bootie\",\"Boots\",\"Dog Wear\",\"Hat/beanie\",\"Hair/alice band\",\"Alice band\",\"Hat/beanie\",\"Hoodie\",\"Swimsuit\",\"Other accessories\",\"Wallet\",\"Underwear bottom\",\"Leggings/Tights\",\"Heeled sandals\",\"Pyjama set\",\"Outdoor trousers\",\"Sunglasses\",\"Cardigan\",\"Slippers\",\"Swimwear set\",\"Other accessories\",\"Necklace\",\"Dungarees\",\"Polo shirt\",\"Hat/beanie\",\"Underwear bottom\",\"Garment Set\",\"Outdoor trousers\",\"Garment Set\",\"Trousers\",\"Sandals\",\"Shorts\",\"Boots\",\"Sandals\",\"Pumps\",\"Sarong\",\"Cardigan\",\"Hair/alice band\",\"Sneakers\",\"Boots\",\"Bikini top\",\"Wallet\",\"Flat shoe\",\"Boots\",\"Boots\",\"Swimwear set\",\"Sandals\",\"Straw hat\",\"Garment Set\",\"Sneakers\",\"Trousers\",\"Skirt\",\"Night gown\",\"Wedge\",\"Flat shoe\",\"Blouse\",\"Watch\",\"Watch\",\"Cap/peaked\",\"Bracelet\",\"Coat\",\"Jacket\",\"Shoulder bag\",\"Earring\",\"Cardigan\",\"Earrings\",\"Pumps\",\"Dog Wear\",\"Underwear bottom\",\"Underwear set\",\"Watch\",\"Dog Wear\",\"Bag\",\"Gloves\",\"Blouse\",\"Slippers\",\"Mobile case\",\"Beanie\",\"Swimwear set\",\"Top\",\"Leggings/Tights\",\"Coat\",\"Belt\",\"Pumps\",\"T-shirt\",\"Heeled sandals\",\"Hair string\",\"Other accessories\",\"Pumps\",\"Swimsuit\",\"Wallet\",\"Kids Underwear top\",\"Hair string\",\"Pyjama jumpsuit/playsuit\",\"Flip flop\",\"Bracelet\",\"Polo shirt\",\"Hair/alice band\",\"Garment Set\",\"Cardigan\",\"Jacket\",\"Boots\",\"Earring\",\"Flat shoe\",\"Boots\",\"Hoodie\",\"Cap/peaked\",\"Flip flop\",\"Leggings/Tights\",\"Blouse\",\"Pyjama set\",\"Garment Set\",\"Tailored Waistcoat\",\"Top\",\"Umbrella\",\"Other shoe\",\"Socks\",\"Heeled sandals\",\"Straw hat\",\"Sneakers\",\"Polo shirt\",\"Pumps\",\"Hoodie\",\"Tailored Waistcoat\",\"Necklace\",\"Bracelet\",\"Blazer\",\"Swimsuit\",\"Pyjama jumpsuit/playsuit\",\"Heels\",\"Vest top\",\"Other accessories\",\"Cap\",\"Dungarees\",\"Sarong\",\"Hat/brim\",\"Belt\",\"Earring\",\"Hat/brim\",\"Beanie\",\"Earring\",\"Ring\",\"Bootie\",\"Underwear body\",\"Hat/beanie\",\"Gloves\",\"Coat\",\"Outdoor Waistcoat\",\"Coat\",\"Boots\",\"Coat\",\"Hat/beanie\",\"Blazer\",\"Polo shirt\",\"Leggings/Tights\",\"Earring\",\"Blouse\",\"Hat/brim\",\"Bracelet\",\"Shorts\",\"Underwear body\",\"Earring\",\"Bodysuit\",\"Bra\",\"Wedge\",\"Pyjama set\",\"Heeled sandals\",\"Pumps\",\"Bodysuit\",\"Sandals\",\"Waterbottle\",\"Bra\",\"Sneakers\",\"Pumps\",\"Hoodie\",\"Blazer\",\"Watch\",\"Bodysuit\",\"Slippers\",\"Flat shoe\",\"Bodysuit\",\"Nipple covers\",\"Ballerinas\",\"Sneakers\",\"Scarf\",\"Other shoe\",\"Bodysuit\",\"Hair clip\",\"Cap/peaked\",\"Garment Set\",\"Shorts\",\"Swimwear set\",\"Scarf\",\"Dungarees\",\"Other accessories\",\"Swimsuit\",\"Tailored Waistcoat\",\"Bag\",\"Watch\",\"Hair/alice band\",\"Other shoe\",\"Other accessories\",\"Ring\",\"Cap/peaked\",\"Swimsuit\",\"Other accessories\",\"Ring\",\"Nipple covers\",\"Necklace\",\"Bag\",\"Dungarees\",\"Garment Set\",\"Garment Set\",\"Wallet\",\"Bodysuit\",\"Hair clip\",\"Shirt\",\"Boots\",\"Dog Wear\",\"Necklace\",\"Outdoor Waistcoat\",\"Pyjama jumpsuit/playsuit\",\"Earring\",\"Outdoor overall\",\"Jacket\",\"Hoodie\",\"Dog Wear\",\"Outdoor overall\",\"Top\",\"Side table\",\"Ballerinas\",\"Tie\",\"Alice band\",\"Hair string\",\"Dress\",\"Flat shoe\",\"Tailored Waistcoat\",\"Tailored Waistcoat\",\"Wallet\",\"Outdoor trousers\",\"Cap/peaked\",\"Bracelet\",\"Kids Underwear top\",\"Nipple covers\",\"Hoodie\",\"Slippers\",\"Other shoe\",\"Skirt\",\"Leggings/Tights\",\"Pumps\",\"Other shoe\",\"Bootie\",\"Bodysuit\",\"Tailored Waistcoat\",\"Other shoe\",\"Earring\",\"Jumpsuit/Playsuit\",\"Wallet\",\"Hair clip\",\"Sandals\",\"Weekend/Gym bag\",\"Cap/peaked\",\"Flat shoe\",\"Flat shoe\",\"Robe\",\"Boots\",\"Bag\",\"Wedge\",\"Underwear bottom\",\"Coat\",\"Bra\",\"Wallet\",\"Earring\",\"Other shoe\",\"Unknown\",\"Flip flop\",\"Wallet\",\"Underwear Tights\",\"Pumps\",\"Garment Set\",\"Leggings/Tights\",\"Wallet\",\"Belt\",\"Trousers\",\"Bodysuit\",\"Hair/alice band\",\"Swimwear set\",\"Hoodie\",\"Garment Set\",\"Gloves\",\"Tie\",\"Flip flop\",\"Hat/brim\",\"Flip flop\",\"Cardigan\",\"Bracelet\",\"Cap/peaked\",\"Cap/peaked\",\"Other accessories\",\"Soft Toys\",\"Bikini top\",\"Other shoe\",\"Hair/alice band\",\"Skirt\",\"Underwear Tights\",\"Sunglasses\",\"Ring\",\"Pumps\",\"Polo shirt\",\"Vest top\",\"Flat shoe\",\"Soft Toys\",\"Underwear bottom\",\"Underwear bottom\",\"Nipple covers\",\"Slippers\",\"Sewing kit\",\"Belt\",\"Pyjama jumpsuit/playsuit\",\"Chem. cosmetics\",\"Sleeping sack\",\"Earring\",\"Garment Set\",\"Bag\",\"Keychain\",\"Outdoor Waistcoat\",\"Headband\",\"Cardigan\",\"Hair clip\",\"Sleeping sack\",\"Heels\",\"Slippers\",\"Boots\",\"Outdoor overall\",\"Hat/beanie\",\"Hair/alice band\",\"Pyjama jumpsuit/playsuit\",\"Hat/beanie\",\"Gloves\",\"Scarf\",\"Ring\",\"Jumpsuit/Playsuit\",\"Robe\",\"Dress\",\"Tailored Waistcoat\",\"Earring\",\"Leggings/Tights\",\"Hair/alice band\",\"Costumes\",\"Underwear corset\",\"Pyjama set\",\"Hair string\",\"Hair/alice band\",\"Swimwear top\",\"Hoodie\",\"Other shoe\",\"Top\",\"Underwear Tights\",\"Hoodie\",\"Cap/peaked\",\"Boots\",\"Other shoe\",\"Heeled sandals\",\"Hat/brim\",\"Pumps\",\"Necklace\",\"Belt\",\"Dungarees\",\"Skirt\",\"Sunglasses\",\"Night gown\",\"Dungarees\",\"Earring\",\"Blouse\",\"Hat/brim\",\"Polo shirt\",\"Soft Toys\",\"Tie\",\"Leggings/Tights\",\"Hair string\",\"Outdoor trousers\",\"Scarf\",\"Hair string\",\"Pyjama jumpsuit/playsuit\",\"Bracelet\",\"Pumps\",\"Hat/brim\",\"Dungarees\",\"Waterbottle\",\"Hair clip\",\"Jumpsuit/Playsuit\",\"Bra\",\"Sunglasses\",\"Kids Underwear top\",\"Other accessories\",\"Vest top\",\"Jumpsuit/Playsuit\",\"Shirt\",\"T-shirt\",\"Hat/brim\",\"Flat shoes\",\"Sleeping sack\",\"Costumes\",\"Polo shirt\",\"Flip flop\",\"Cushion\",\"Ballerinas\",\"Hat/brim\",\"Bag\",\"Bracelet\",\"Bracelet\",\"Hair string\",\"Cap/peaked\",\"Unknown\",\"Other accessories\",\"Bracelet\",\"Long John\",\"Hair/alice band\",\"Underwear bottom\",\"Heeled sandals\",\"Dress\",\"Ring\",\"Pyjama set\",\"Other accessories\",\"Hat/brim\",\"Sneakers\",\"Umbrella\",\"Umbrella\",\"Other shoe\",\"Flat shoes\",\"Underwear Tights\",\"Hat/brim\",\"Swimwear top\",\"Swimwear top\",\"Gloves\",\"Giftbox\",\"Blouse\",\"Flat shoes\",\"Necklace\",\"Swimwear set\",\"Flip flop\",\"Pyjama jumpsuit/playsuit\",\"Outdoor Waistcoat\",\"Sneakers\",\"Hair string\",\"Sunglasses\",\"Sneakers\",\"Slippers\",\"Baby Bib\",\"Shirt\",\"Sneakers\",\"Soft Toys\",\"Underwear Tights\",\"Coat\",\"Ballerinas\",\"Slippers\",\"Sneakers\",\"Fine cosmetics\",\"Wallet\",\"Underwear Tights\",\"Sneakers\",\"Watch\",\"Pyjama set\",\"Beanie\",\"Jacket\",\"Outdoor Waistcoat\",\"Fine cosmetics\",\"Underwear bottom\",\"Jumpsuit/Playsuit\",\"Soft Toys\",\"Gloves\",\"Leg warmers\",\"Beanie\",\"Kids Underwear top\",\"Bracelet\",\"Leggings/Tights\",\"Other accessories\",\"Scarf\",\"Slippers\",\"Giftbox\",\"Other shoe\",\"Sweater\",\"Watch\",\"Costumes\",\"Leggings/Tights\",\"Gloves\",\"Boots\",\"Long John\",\"Costumes\",\"Coat\",\"Flat shoe\",\"Hat/beanie\",\"Heeled sandals\",\"Shirt\",\"Tie\",\"Gloves\",\"Outdoor overall\",\"Long John\",\"Pyjama set\",\"Bodysuit\",\"Dungarees\",\"Leggings/Tights\",\"Costumes\",\"Unknown\",\"Outdoor overall\",\"Top\",\"Beanie\",\"Gloves\",\"Costumes\",\"Hair string\",\"Beanie\",\"Bikini top\",\"Earring\",\"Underwear bottom\",\"Other shoe\",\"Jacket\",\"Baby Bib\",\"Bracelet\",\"Hoodie\",\"Necklace\",\"Pyjama set\",\"Other shoe\",\"Costumes\",\"Necklace\",\"Wallet\",\"Slippers\",\"Dog Wear\",\"Belt\"],\"xaxis\":\"x\",\"y\":[19484,16819,8613,8114,7704,7511,7490,6971,6733,6320,6216,5984,5879,5685,5594,5490,5037,4210,4150,3844,3636,3330,3038,2825,2666,2618,2380,2322,2295,2270,2267,2241,2235,2234,2233,2208,2088,2066,1993,1873,1866,1840,1839,1803,1761,1744,1705,1684,1675,1656,1633,1612,1537,1534,1452,1435,1414,1362,1351,1344,1321,1317,1308,1290,1247,1188,1170,1151,1143,1138,1131,1098,1078,1074,1064,1060,1057,1041,1028,1027,1023,1008,1006,1005,1004,996,970,958,955,921,918,911,893,889,884,881,873,866,861,859,855,852,846,830,829,812,801,797,791,785,785,783,779,777,777,770,768,762,747,746,735,727,722,722,718,696,696,674,672,668,658,652,648,640,639,633,617,610,603,602,601,593,590,590,586,580,574,569,567,566,557,551,549,538,521,516,513,508,508,505,496,496,488,487,483,480,479,479,476,475,470,468,467,464,463,459,455,455,454,453,452,452,451,451,449,448,440,436,433,430,422,421,419,418,416,413,400,400,398,396,392,389,388,386,385,382,379,377,374,372,371,371,370,369,368,367,365,364,362,361,360,352,347,344,343,343,342,339,333,333,332,331,330,329,329,327,326,324,320,320,319,317,312,309,308,308,306,305,304,304,304,301,297,296,296,295,294,292,292,291,290,290,290,290,288,288,285,285,280,276,274,272,270,270,269,267,266,262,260,260,260,258,258,257,257,256,254,253,252,250,249,248,247,247,246,246,245,245,243,240,239,239,237,236,233,231,230,228,227,225,224,221,221,220,220,220,220,218,217,216,215,214,213,212,211,211,210,207,206,205,204,204,204,203,202,201,200,198,198,197,197,196,194,193,193,191,191,191,188,186,185,184,184,182,182,181,180,180,180,180,178,177,177,175,175,174,174,174,173,172,171,171,169,168,166,166,166,165,165,163,162,162,161,161,160,160,160,160,159,158,158,157,156,155,154,153,153,153,149,149,149,148,148,147,147,147,146,146,146,145,143,143,142,141,141,141,140,140,138,137,137,136,135,133,132,132,131,131,131,130,130,129,129,129,129,128,128,127,127,127,126,126,125,125,124,124,123,123,122,122,122,121,121,121,121,121,120,120,119,118,118,117,117,117,117,116,115,114,114,113,113,112,112,111,111,111,111,110,110,109,109,108,108,107,105,103,103,101,101,100,99,99,99,99,98,98,97,97,97,97,97,96,95,95,95,94,94,94,94,93,92,92,91,91,91,90,89,89,89,89,89,89,89,88,88,86,86,86,86,86,85,84,84,84,83,83,83,82,82,82,82,81,81,80,80,80,79,79,78,78,77,77,77,77,76,76,76,76,76,75,75,75,75,74,74,74,74,73,73,73,72,72,72,72,71,71,71,71,71,70,70,70,70,70,69,69,69,68,67,67,67,67,67,67,67,66,66,66,66,65,65,64,64,64,64,63,63,63,63,63,63,63,62,62,62,62,61,61,61,61,61,61,60,60,60,59,59,58,58,58,58,58,58,58,58,58,57,57,57,57,57,56,56,56,56,56,55,55,55,54,54,54,54,53,53,53,53,53,53,52,52,52,52,51,51,51,51,51,50,50,50,49,49,49,49,49,49,48,48,48,48,48,48,48,48,48,48,48,47,47,47,47,47,47,47,47,46,46,46,46,46,46,46,46,45,45,45,45,45,45,45,44,44,44,44,44,44,44,44,43,43,43,43,43,43,43,43,42,42,42,42,42,42,42,42,42,42,42,42,41,41,41,41,41,41,41,41,41,40,40,40,40,40,40,40,40,40,40,40,40,40,39,39,39,39,39,39,39,39,39,39,39,39,39,39,38,38,38,38,38,38,38,38,38,37,37,37,37,37,37,37,37,37,37,37,36,36,36,36,36,36,36,35,35,35,35,35,35,35,35,35,35,35,35,35,35,34,34,34,34,34,34,34,34,34,34,34,33,33,33,33,33,33,33,33,33,33,32,32,32,32,32,32,32,32,32,32,32,32,32,31,31,31,31,31,31,31,31,31,31,31,31,31,31,30,30,30,30,30,30,30,30,30,30,30,30,30,29,29,29,29,29,29,29,29,29,29,29,29,29,29,29,29,29,28,28,28,28,28,28,28,28,28,27,27,27,27,27,27,27,27,27,27,27,27,27,27,27,26,26,26,26,26,26,26,26,26,26,26,26,26,26,26,26,26,25,25,25,25,25,25,25,25,25,24,24,24,24,24,24,24,24,24,24,24,24,24,24,24,23,23,23,23,23,23,23,23,23,23,23,22,22,22,22,22,22,22,22,22,22,22,21,21,21,21,21,21,21,21,21,21,21,21,21,21,21,21,21,20,20,20,20,20,20,20,20,20,20,20,20,20,20,20,20,20,20,20,20,19,19,19,19,19,19,19,19,19,19,19,19,19,19,19,19,19,19,19,19,19,18,18,18,18,18,18,18,18,18,18,18,18,18,18,18,18,18,18,18,17,17,17,17,17,17,17,17,17,17,17,17,17,17,17,17,17,17,17,17,17,17,17,16,16,16,16,16,16,16,16,16,16,16,16,16,16,16,16,16,16,16,16,16,16,16,16,16,16,16,15,15,15,15,15,15,15,15,15,15,15,15,15,15,15,15,15,15,15,15,15,14,14,14,14,14,14,14,14,14,14,14,14,14,14,14,14,14,14,14,14,14,14,14,14,14,14,13,13,13,13,13,13,13,13,13,13,13,13,13,13,13,13,13,13,13,13,13,13,13,13,13,13,13,13,13,13,13,13,12,12,12,12,12,12,12,12,12,12,12,12,12,12,12,12,12,12,12,12,12,12,12,12,12,12,12,12,12,12,12,12,12,12,12,12,12,11,11,11,11,11,11,11,11,11,11,11,11,11,11,11,11,11,11,11,11,11,11,11,11,11,11,11,11,11,11,11,11,11,11,11,11,11,10,10,10,10,10,10,10,10,10,10,10,10,10,10,10,10,10,10,10,10,10,10,10,10,10,10,10,10,10,10,10,9,9,9,9,9,9,9,9,9,9,9,9,9,9,9,9,9,9,9,9,9,9,9,9,9,9,9,9,9,9,9,9,9,9,9,9,9,9,9,9,8,8,8,8,8,8,8,8,8,8,8,8,8,8,8,8,8,8,8,8,8,8,8,8,8,8,8,8,8,8,8,8,8,8,8,8,8,8,8,8,8,8,8,8,8,8,8,8,8,8,8,8,7,7,7,7,7,7,7,7,7,7,7,7,7,7,7,7,7,7,7,7,7,7,7,7,7,7,7,7,7,7,7,7,6,6,6,6,6,6,6,6,6,6,6,6,6,6,6,6,6,6,6,6,6,6,6,6,6,6,6,6,6,6,6,6,6,6,6,6,6,6,6,6,5,5,5,5,5,5,5,5,5,5,5,5,5,5,5,5,5,5,5,5,5,5,5,5,5,5,5,5,5,5,5,5,5,5,5,5,5,5,5,5,5,5,5,5,5,5,5,5,5,5,5,5,5,5,5,5,5,5,5,5,5,5,5,5,5,5,5,5,5,5,5,4,4,4,4,4,4,4,4,4,4,4,4,4,4,4,4,4,4,4,4,4,4,4,4,4,4,4,4,4,4,4,4,4,4,4,4,4,4,4,4,4,4,4,4,4,4,4,4,4,4,4,4,4,4,4,4,4,4,4,4,4,4,4,4,4,4,4,4,4,4,4,4,4,4,3,3,3,3,3,3,3,3,3,3,3,3,3,3,3,3,3,3,3,3,3,3,3,3,3,3,3,3,3,3,3,3,3,3,3,3,3,3,3,3,3,3,3,3,3,3,3,3,3,3,3,3,3,3,3,3,3,3,3,3,3,3,3,3,3,3,3,3,3,3,3,3,3,3,3,3,3,3,3,3,3,3,2,2,2,2,2,2,2,2,2,2,2,2,2,2,2,2,2,2,2,2,2,2,2,2,2,2,2,2,2,2,2,2,2,2,2,2,2,2,2,2,2,2,2,2,2,2,2,2,2,2,2,2,2,2,2,2,2,2,2,2,2,2,2,2,2,2,2,2,2,2,2,2,2,2,2,2,2,2,2,2,2,2,2,2,2,2,2,2,2,2,2,2,2,2,2,2,2,2,2,2,2,2,2,2,2,2,2,2,2,2,2,2,2,2,1,1,1,1,1,1,1,1,1,1,1,1,1,1,1,1,1,1,1,1,1,1,1,1,1,1,1,1,1,1,1,1,1,1,1,1,1,1,1,1,1,1,1,1,1,1,1,1,1,1,1,1,1,1,1,1,1,1,1,1,1,1,1,1,1,1,1,1,1,1,1,1,1,1,1,1,1,1,1,1,1,1,1,1,1,1,1,1,1,1,1,1,1,1,1,1,1,1,1,1,1,1,1,1,1,1,1,1,1,1,1,1,1,1,1,1,1,1,1,1,1,1,1,1,1,1,1,1,1,1,1,1,1,1,1,1,1,1,1,1,1,1,1,1,1,1,1,1,1,1,1,1,1,1,1,1,1,1,1,1,1,1,1,1,1,1,1,1,1,1,1,1,1,1,1,1,1,1,1],\"yaxis\":\"y\",\"type\":\"histogram\"}],                        {\"template\":{\"data\":{\"bar\":[{\"error_x\":{\"color\":\"#2a3f5f\"},\"error_y\":{\"color\":\"#2a3f5f\"},\"marker\":{\"line\":{\"color\":\"#E5ECF6\",\"width\":0.5},\"pattern\":{\"fillmode\":\"overlay\",\"size\":10,\"solidity\":0.2}},\"type\":\"bar\"}],\"barpolar\":[{\"marker\":{\"line\":{\"color\":\"#E5ECF6\",\"width\":0.5},\"pattern\":{\"fillmode\":\"overlay\",\"size\":10,\"solidity\":0.2}},\"type\":\"barpolar\"}],\"carpet\":[{\"aaxis\":{\"endlinecolor\":\"#2a3f5f\",\"gridcolor\":\"white\",\"linecolor\":\"white\",\"minorgridcolor\":\"white\",\"startlinecolor\":\"#2a3f5f\"},\"baxis\":{\"endlinecolor\":\"#2a3f5f\",\"gridcolor\":\"white\",\"linecolor\":\"white\",\"minorgridcolor\":\"white\",\"startlinecolor\":\"#2a3f5f\"},\"type\":\"carpet\"}],\"choropleth\":[{\"colorbar\":{\"outlinewidth\":0,\"ticks\":\"\"},\"type\":\"choropleth\"}],\"contour\":[{\"colorbar\":{\"outlinewidth\":0,\"ticks\":\"\"},\"colorscale\":[[0.0,\"#0d0887\"],[0.1111111111111111,\"#46039f\"],[0.2222222222222222,\"#7201a8\"],[0.3333333333333333,\"#9c179e\"],[0.4444444444444444,\"#bd3786\"],[0.5555555555555556,\"#d8576b\"],[0.6666666666666666,\"#ed7953\"],[0.7777777777777778,\"#fb9f3a\"],[0.8888888888888888,\"#fdca26\"],[1.0,\"#f0f921\"]],\"type\":\"contour\"}],\"contourcarpet\":[{\"colorbar\":{\"outlinewidth\":0,\"ticks\":\"\"},\"type\":\"contourcarpet\"}],\"heatmap\":[{\"colorbar\":{\"outlinewidth\":0,\"ticks\":\"\"},\"colorscale\":[[0.0,\"#0d0887\"],[0.1111111111111111,\"#46039f\"],[0.2222222222222222,\"#7201a8\"],[0.3333333333333333,\"#9c179e\"],[0.4444444444444444,\"#bd3786\"],[0.5555555555555556,\"#d8576b\"],[0.6666666666666666,\"#ed7953\"],[0.7777777777777778,\"#fb9f3a\"],[0.8888888888888888,\"#fdca26\"],[1.0,\"#f0f921\"]],\"type\":\"heatmap\"}],\"heatmapgl\":[{\"colorbar\":{\"outlinewidth\":0,\"ticks\":\"\"},\"colorscale\":[[0.0,\"#0d0887\"],[0.1111111111111111,\"#46039f\"],[0.2222222222222222,\"#7201a8\"],[0.3333333333333333,\"#9c179e\"],[0.4444444444444444,\"#bd3786\"],[0.5555555555555556,\"#d8576b\"],[0.6666666666666666,\"#ed7953\"],[0.7777777777777778,\"#fb9f3a\"],[0.8888888888888888,\"#fdca26\"],[1.0,\"#f0f921\"]],\"type\":\"heatmapgl\"}],\"histogram\":[{\"marker\":{\"pattern\":{\"fillmode\":\"overlay\",\"size\":10,\"solidity\":0.2}},\"type\":\"histogram\"}],\"histogram2d\":[{\"colorbar\":{\"outlinewidth\":0,\"ticks\":\"\"},\"colorscale\":[[0.0,\"#0d0887\"],[0.1111111111111111,\"#46039f\"],[0.2222222222222222,\"#7201a8\"],[0.3333333333333333,\"#9c179e\"],[0.4444444444444444,\"#bd3786\"],[0.5555555555555556,\"#d8576b\"],[0.6666666666666666,\"#ed7953\"],[0.7777777777777778,\"#fb9f3a\"],[0.8888888888888888,\"#fdca26\"],[1.0,\"#f0f921\"]],\"type\":\"histogram2d\"}],\"histogram2dcontour\":[{\"colorbar\":{\"outlinewidth\":0,\"ticks\":\"\"},\"colorscale\":[[0.0,\"#0d0887\"],[0.1111111111111111,\"#46039f\"],[0.2222222222222222,\"#7201a8\"],[0.3333333333333333,\"#9c179e\"],[0.4444444444444444,\"#bd3786\"],[0.5555555555555556,\"#d8576b\"],[0.6666666666666666,\"#ed7953\"],[0.7777777777777778,\"#fb9f3a\"],[0.8888888888888888,\"#fdca26\"],[1.0,\"#f0f921\"]],\"type\":\"histogram2dcontour\"}],\"mesh3d\":[{\"colorbar\":{\"outlinewidth\":0,\"ticks\":\"\"},\"type\":\"mesh3d\"}],\"parcoords\":[{\"line\":{\"colorbar\":{\"outlinewidth\":0,\"ticks\":\"\"}},\"type\":\"parcoords\"}],\"pie\":[{\"automargin\":true,\"type\":\"pie\"}],\"scatter\":[{\"marker\":{\"colorbar\":{\"outlinewidth\":0,\"ticks\":\"\"}},\"type\":\"scatter\"}],\"scatter3d\":[{\"line\":{\"colorbar\":{\"outlinewidth\":0,\"ticks\":\"\"}},\"marker\":{\"colorbar\":{\"outlinewidth\":0,\"ticks\":\"\"}},\"type\":\"scatter3d\"}],\"scattercarpet\":[{\"marker\":{\"colorbar\":{\"outlinewidth\":0,\"ticks\":\"\"}},\"type\":\"scattercarpet\"}],\"scattergeo\":[{\"marker\":{\"colorbar\":{\"outlinewidth\":0,\"ticks\":\"\"}},\"type\":\"scattergeo\"}],\"scattergl\":[{\"marker\":{\"colorbar\":{\"outlinewidth\":0,\"ticks\":\"\"}},\"type\":\"scattergl\"}],\"scattermapbox\":[{\"marker\":{\"colorbar\":{\"outlinewidth\":0,\"ticks\":\"\"}},\"type\":\"scattermapbox\"}],\"scatterpolar\":[{\"marker\":{\"colorbar\":{\"outlinewidth\":0,\"ticks\":\"\"}},\"type\":\"scatterpolar\"}],\"scatterpolargl\":[{\"marker\":{\"colorbar\":{\"outlinewidth\":0,\"ticks\":\"\"}},\"type\":\"scatterpolargl\"}],\"scatterternary\":[{\"marker\":{\"colorbar\":{\"outlinewidth\":0,\"ticks\":\"\"}},\"type\":\"scatterternary\"}],\"surface\":[{\"colorbar\":{\"outlinewidth\":0,\"ticks\":\"\"},\"colorscale\":[[0.0,\"#0d0887\"],[0.1111111111111111,\"#46039f\"],[0.2222222222222222,\"#7201a8\"],[0.3333333333333333,\"#9c179e\"],[0.4444444444444444,\"#bd3786\"],[0.5555555555555556,\"#d8576b\"],[0.6666666666666666,\"#ed7953\"],[0.7777777777777778,\"#fb9f3a\"],[0.8888888888888888,\"#fdca26\"],[1.0,\"#f0f921\"]],\"type\":\"surface\"}],\"table\":[{\"cells\":{\"fill\":{\"color\":\"#EBF0F8\"},\"line\":{\"color\":\"white\"}},\"header\":{\"fill\":{\"color\":\"#C8D4E3\"},\"line\":{\"color\":\"white\"}},\"type\":\"table\"}]},\"layout\":{\"annotationdefaults\":{\"arrowcolor\":\"#2a3f5f\",\"arrowhead\":0,\"arrowwidth\":1},\"autotypenumbers\":\"strict\",\"coloraxis\":{\"colorbar\":{\"outlinewidth\":0,\"ticks\":\"\"}},\"colorscale\":{\"diverging\":[[0,\"#8e0152\"],[0.1,\"#c51b7d\"],[0.2,\"#de77ae\"],[0.3,\"#f1b6da\"],[0.4,\"#fde0ef\"],[0.5,\"#f7f7f7\"],[0.6,\"#e6f5d0\"],[0.7,\"#b8e186\"],[0.8,\"#7fbc41\"],[0.9,\"#4d9221\"],[1,\"#276419\"]],\"sequential\":[[0.0,\"#0d0887\"],[0.1111111111111111,\"#46039f\"],[0.2222222222222222,\"#7201a8\"],[0.3333333333333333,\"#9c179e\"],[0.4444444444444444,\"#bd3786\"],[0.5555555555555556,\"#d8576b\"],[0.6666666666666666,\"#ed7953\"],[0.7777777777777778,\"#fb9f3a\"],[0.8888888888888888,\"#fdca26\"],[1.0,\"#f0f921\"]],\"sequentialminus\":[[0.0,\"#0d0887\"],[0.1111111111111111,\"#46039f\"],[0.2222222222222222,\"#7201a8\"],[0.3333333333333333,\"#9c179e\"],[0.4444444444444444,\"#bd3786\"],[0.5555555555555556,\"#d8576b\"],[0.6666666666666666,\"#ed7953\"],[0.7777777777777778,\"#fb9f3a\"],[0.8888888888888888,\"#fdca26\"],[1.0,\"#f0f921\"]]},\"colorway\":[\"#636efa\",\"#EF553B\",\"#00cc96\",\"#ab63fa\",\"#FFA15A\",\"#19d3f3\",\"#FF6692\",\"#B6E880\",\"#FF97FF\",\"#FECB52\"],\"font\":{\"color\":\"#2a3f5f\"},\"geo\":{\"bgcolor\":\"white\",\"lakecolor\":\"white\",\"landcolor\":\"#E5ECF6\",\"showlakes\":true,\"showland\":true,\"subunitcolor\":\"white\"},\"hoverlabel\":{\"align\":\"left\"},\"hovermode\":\"closest\",\"mapbox\":{\"style\":\"light\"},\"paper_bgcolor\":\"white\",\"plot_bgcolor\":\"#E5ECF6\",\"polar\":{\"angularaxis\":{\"gridcolor\":\"white\",\"linecolor\":\"white\",\"ticks\":\"\"},\"bgcolor\":\"#E5ECF6\",\"radialaxis\":{\"gridcolor\":\"white\",\"linecolor\":\"white\",\"ticks\":\"\"}},\"scene\":{\"xaxis\":{\"backgroundcolor\":\"#E5ECF6\",\"gridcolor\":\"white\",\"gridwidth\":2,\"linecolor\":\"white\",\"showbackground\":true,\"ticks\":\"\",\"zerolinecolor\":\"white\"},\"yaxis\":{\"backgroundcolor\":\"#E5ECF6\",\"gridcolor\":\"white\",\"gridwidth\":2,\"linecolor\":\"white\",\"showbackground\":true,\"ticks\":\"\",\"zerolinecolor\":\"white\"},\"zaxis\":{\"backgroundcolor\":\"#E5ECF6\",\"gridcolor\":\"white\",\"gridwidth\":2,\"linecolor\":\"white\",\"showbackground\":true,\"ticks\":\"\",\"zerolinecolor\":\"white\"}},\"shapedefaults\":{\"line\":{\"color\":\"#2a3f5f\"}},\"ternary\":{\"aaxis\":{\"gridcolor\":\"white\",\"linecolor\":\"white\",\"ticks\":\"\"},\"baxis\":{\"gridcolor\":\"white\",\"linecolor\":\"white\",\"ticks\":\"\"},\"bgcolor\":\"#E5ECF6\",\"caxis\":{\"gridcolor\":\"white\",\"linecolor\":\"white\",\"ticks\":\"\"}},\"title\":{\"x\":0.05},\"xaxis\":{\"automargin\":true,\"gridcolor\":\"white\",\"linecolor\":\"white\",\"ticks\":\"\",\"title\":{\"standoff\":15},\"zerolinecolor\":\"white\",\"zerolinewidth\":2},\"yaxis\":{\"automargin\":true,\"gridcolor\":\"white\",\"linecolor\":\"white\",\"ticks\":\"\",\"title\":{\"standoff\":15},\"zerolinecolor\":\"white\",\"zerolinewidth\":2}}},\"xaxis\":{\"anchor\":\"y\",\"domain\":[0.0,1.0],\"title\":{\"text\":\"product_type_name\"}},\"yaxis\":{\"anchor\":\"x\",\"domain\":[0.0,1.0],\"title\":{\"text\":\"sum of count\"}},\"legend\":{\"title\":{\"text\":\"year\"},\"tracegroupgap\":0},\"title\":{\"text\":\"Yearly Product Trends\"},\"barmode\":\"group\"},                        {\"responsive\": true}                    )                };                            </script>        </div>\n</body>\n</html>",
       "datasetInfos": [],
       "metadata": {},
       "removedWidgets": [],
       "textData": null,
       "type": "htmlSandbox"
      }
     },
     "output_type": "display_data"
    }
   ],
   "source": [
    "import plotly.express as px\n",
    "\n",
    "fig = px.histogram(pd_year_trend, x='product_type_name', y='count', color='year', barmode='group',\n",
    "              title=\"Yearly Product Trends\")\n",
    "fig.show()"
   ]
  },
  {
   "cell_type": "code",
   "execution_count": null,
   "metadata": {
    "application/vnd.databricks.v1+cell": {
     "cellMetadata": {
      "byteLimit": 2048000,
      "rowLimit": 10000
     },
     "inputWidgets": {},
     "nuid": "3d0f600c-a982-46a5-9543-3e965a792f93",
     "showTitle": false,
     "tableResultSettingsMap": {},
     "title": ""
    }
   },
   "outputs": [
    {
     "name": "stdout",
     "output_type": "stream",
     "text": [
      "+----+-----------------+-----------------+-----+\n",
      "|year|product_type_name|colour_group_name|count|\n",
      "+----+-----------------+-----------------+-----+\n",
      "|2019|         Trousers|            Black|19484|\n",
      "|2019|            Dress|            Black|16819|\n",
      "|2019|          T-shirt|            White| 8613|\n",
      "|2019|              Top|            Black| 8114|\n",
      "|2019|          T-shirt|            Black| 7704|\n",
      "|2019|         Trousers|        Dark Blue| 7511|\n",
      "|2019|         Vest top|            Black| 7490|\n",
      "|2019|          Sweater|            Black| 6971|\n",
      "|2019|              Bra|            Black| 6733|\n",
      "|2019|  Leggings/Tights|            Black| 6320|\n",
      "+----+-----------------+-----------------+-----+\n",
      "\n",
      "+----+-----------------+-----------------+-----+\n",
      "|year|product_type_name|colour_group_name|count|\n",
      "+----+-----------------+-----------------+-----+\n",
      "|2020|         Trousers|            Black| 3304|\n",
      "|2020|            Dress|            Black| 2136|\n",
      "|2020|  Leggings/Tights|            Black| 1739|\n",
      "|2020|              Top|            Black| 1516|\n",
      "|2020|          Sweater|            Black| 1499|\n",
      "|2020|              Bra|            Black| 1491|\n",
      "|2020| Underwear bottom|            Black| 1215|\n",
      "|2020|         Trousers|        Dark Blue| 1139|\n",
      "|2020|         Trousers|             Blue| 1084|\n",
      "|2020|          T-shirt|            Black| 1043|\n",
      "+----+-----------------+-----------------+-----+\n",
      "\n"
     ]
    }
   ],
   "source": [
    "trend_product_2019 = year_trend_product.filter(F.col('year')==2019).limit(10)\n",
    "trend_product_2020 = year_trend_product.filter(F.col('year')==2020).limit(10)\n",
    "trend_product_2019.show()\n",
    "trend_product_2020.show()"
   ]
  },
  {
   "cell_type": "code",
   "execution_count": null,
   "metadata": {
    "application/vnd.databricks.v1+cell": {
     "cellMetadata": {
      "byteLimit": 2048000,
      "rowLimit": 10000
     },
     "inputWidgets": {},
     "nuid": "06b2ae00-7238-4fbc-8a60-1a75ebbbdd61",
     "showTitle": false,
     "tableResultSettingsMap": {},
     "title": ""
    }
   },
   "outputs": [],
   "source": [
    "trend_product_2019pd = trend_product_2019.toPandas()\n",
    "trend_product_2020pd = trend_product_2020.toPandas()"
   ]
  },
  {
   "cell_type": "code",
   "execution_count": null,
   "metadata": {
    "application/vnd.databricks.v1+cell": {
     "cellMetadata": {
      "byteLimit": 2048000,
      "rowLimit": 10000
     },
     "inputWidgets": {},
     "nuid": "bab72a80-d810-47d9-8a9f-c710cf9aff85",
     "showTitle": false,
     "tableResultSettingsMap": {},
     "title": ""
    }
   },
   "outputs": [
    {
     "data": {
      "text/html": [
       "<html>\n",
       "<head><meta charset=\"utf-8\" /></head>\n",
       "<body>\n",
       "    <div>            <script src=\"https://cdnjs.cloudflare.com/ajax/libs/mathjax/2.7.5/MathJax.js?config=TeX-AMS-MML_SVG\"></script><script type=\"text/javascript\">if (window.MathJax) {MathJax.Hub.Config({SVG: {font: \"STIX-Web\"}});}</script>                <script type=\"text/javascript\">window.PlotlyConfig = {MathJaxConfig: 'local'};</script>\n",
       "        <script src=\"https://cdn.plot.ly/plotly-2.9.0.min.js\"></script>                <div id=\"8de8c764-7f7a-4448-9f6b-85d12747c4e6\" class=\"plotly-graph-div\" style=\"height:100%; width:100%;\"></div>            <script type=\"text/javascript\">                                    window.PLOTLYENV=window.PLOTLYENV || {};                                    if (document.getElementById(\"8de8c764-7f7a-4448-9f6b-85d12747c4e6\")) {                    Plotly.newPlot(                        \"8de8c764-7f7a-4448-9f6b-85d12747c4e6\",                        [{\"alignmentgroup\":\"True\",\"hovertemplate\":\"colour_group_name=Black<br>product_type_name=%{x}<br>count=%{y}<extra></extra>\",\"legendgroup\":\"Black\",\"marker\":{\"color\":\"#636efa\",\"pattern\":{\"shape\":\"\"}},\"name\":\"Black\",\"offsetgroup\":\"Black\",\"orientation\":\"v\",\"showlegend\":true,\"textposition\":\"auto\",\"x\":[\"Trousers\",\"Dress\",\"Top\",\"T-shirt\",\"Vest top\",\"Sweater\",\"Bra\",\"Leggings/Tights\"],\"xaxis\":\"x\",\"y\":[19484,16819,8114,7704,7490,6971,6733,6320],\"yaxis\":\"y\",\"type\":\"bar\"},{\"alignmentgroup\":\"True\",\"hovertemplate\":\"colour_group_name=White<br>product_type_name=%{x}<br>count=%{y}<extra></extra>\",\"legendgroup\":\"White\",\"marker\":{\"color\":\"#EF553B\",\"pattern\":{\"shape\":\"\"}},\"name\":\"White\",\"offsetgroup\":\"White\",\"orientation\":\"v\",\"showlegend\":true,\"textposition\":\"auto\",\"x\":[\"T-shirt\"],\"xaxis\":\"x\",\"y\":[8613],\"yaxis\":\"y\",\"type\":\"bar\"},{\"alignmentgroup\":\"True\",\"hovertemplate\":\"colour_group_name=Dark Blue<br>product_type_name=%{x}<br>count=%{y}<extra></extra>\",\"legendgroup\":\"Dark Blue\",\"marker\":{\"color\":\"#00cc96\",\"pattern\":{\"shape\":\"\"}},\"name\":\"Dark Blue\",\"offsetgroup\":\"Dark Blue\",\"orientation\":\"v\",\"showlegend\":true,\"textposition\":\"auto\",\"x\":[\"Trousers\"],\"xaxis\":\"x\",\"y\":[7511],\"yaxis\":\"y\",\"type\":\"bar\"}],                        {\"template\":{\"data\":{\"bar\":[{\"error_x\":{\"color\":\"#2a3f5f\"},\"error_y\":{\"color\":\"#2a3f5f\"},\"marker\":{\"line\":{\"color\":\"#E5ECF6\",\"width\":0.5},\"pattern\":{\"fillmode\":\"overlay\",\"size\":10,\"solidity\":0.2}},\"type\":\"bar\"}],\"barpolar\":[{\"marker\":{\"line\":{\"color\":\"#E5ECF6\",\"width\":0.5},\"pattern\":{\"fillmode\":\"overlay\",\"size\":10,\"solidity\":0.2}},\"type\":\"barpolar\"}],\"carpet\":[{\"aaxis\":{\"endlinecolor\":\"#2a3f5f\",\"gridcolor\":\"white\",\"linecolor\":\"white\",\"minorgridcolor\":\"white\",\"startlinecolor\":\"#2a3f5f\"},\"baxis\":{\"endlinecolor\":\"#2a3f5f\",\"gridcolor\":\"white\",\"linecolor\":\"white\",\"minorgridcolor\":\"white\",\"startlinecolor\":\"#2a3f5f\"},\"type\":\"carpet\"}],\"choropleth\":[{\"colorbar\":{\"outlinewidth\":0,\"ticks\":\"\"},\"type\":\"choropleth\"}],\"contour\":[{\"colorbar\":{\"outlinewidth\":0,\"ticks\":\"\"},\"colorscale\":[[0.0,\"#0d0887\"],[0.1111111111111111,\"#46039f\"],[0.2222222222222222,\"#7201a8\"],[0.3333333333333333,\"#9c179e\"],[0.4444444444444444,\"#bd3786\"],[0.5555555555555556,\"#d8576b\"],[0.6666666666666666,\"#ed7953\"],[0.7777777777777778,\"#fb9f3a\"],[0.8888888888888888,\"#fdca26\"],[1.0,\"#f0f921\"]],\"type\":\"contour\"}],\"contourcarpet\":[{\"colorbar\":{\"outlinewidth\":0,\"ticks\":\"\"},\"type\":\"contourcarpet\"}],\"heatmap\":[{\"colorbar\":{\"outlinewidth\":0,\"ticks\":\"\"},\"colorscale\":[[0.0,\"#0d0887\"],[0.1111111111111111,\"#46039f\"],[0.2222222222222222,\"#7201a8\"],[0.3333333333333333,\"#9c179e\"],[0.4444444444444444,\"#bd3786\"],[0.5555555555555556,\"#d8576b\"],[0.6666666666666666,\"#ed7953\"],[0.7777777777777778,\"#fb9f3a\"],[0.8888888888888888,\"#fdca26\"],[1.0,\"#f0f921\"]],\"type\":\"heatmap\"}],\"heatmapgl\":[{\"colorbar\":{\"outlinewidth\":0,\"ticks\":\"\"},\"colorscale\":[[0.0,\"#0d0887\"],[0.1111111111111111,\"#46039f\"],[0.2222222222222222,\"#7201a8\"],[0.3333333333333333,\"#9c179e\"],[0.4444444444444444,\"#bd3786\"],[0.5555555555555556,\"#d8576b\"],[0.6666666666666666,\"#ed7953\"],[0.7777777777777778,\"#fb9f3a\"],[0.8888888888888888,\"#fdca26\"],[1.0,\"#f0f921\"]],\"type\":\"heatmapgl\"}],\"histogram\":[{\"marker\":{\"pattern\":{\"fillmode\":\"overlay\",\"size\":10,\"solidity\":0.2}},\"type\":\"histogram\"}],\"histogram2d\":[{\"colorbar\":{\"outlinewidth\":0,\"ticks\":\"\"},\"colorscale\":[[0.0,\"#0d0887\"],[0.1111111111111111,\"#46039f\"],[0.2222222222222222,\"#7201a8\"],[0.3333333333333333,\"#9c179e\"],[0.4444444444444444,\"#bd3786\"],[0.5555555555555556,\"#d8576b\"],[0.6666666666666666,\"#ed7953\"],[0.7777777777777778,\"#fb9f3a\"],[0.8888888888888888,\"#fdca26\"],[1.0,\"#f0f921\"]],\"type\":\"histogram2d\"}],\"histogram2dcontour\":[{\"colorbar\":{\"outlinewidth\":0,\"ticks\":\"\"},\"colorscale\":[[0.0,\"#0d0887\"],[0.1111111111111111,\"#46039f\"],[0.2222222222222222,\"#7201a8\"],[0.3333333333333333,\"#9c179e\"],[0.4444444444444444,\"#bd3786\"],[0.5555555555555556,\"#d8576b\"],[0.6666666666666666,\"#ed7953\"],[0.7777777777777778,\"#fb9f3a\"],[0.8888888888888888,\"#fdca26\"],[1.0,\"#f0f921\"]],\"type\":\"histogram2dcontour\"}],\"mesh3d\":[{\"colorbar\":{\"outlinewidth\":0,\"ticks\":\"\"},\"type\":\"mesh3d\"}],\"parcoords\":[{\"line\":{\"colorbar\":{\"outlinewidth\":0,\"ticks\":\"\"}},\"type\":\"parcoords\"}],\"pie\":[{\"automargin\":true,\"type\":\"pie\"}],\"scatter\":[{\"marker\":{\"colorbar\":{\"outlinewidth\":0,\"ticks\":\"\"}},\"type\":\"scatter\"}],\"scatter3d\":[{\"line\":{\"colorbar\":{\"outlinewidth\":0,\"ticks\":\"\"}},\"marker\":{\"colorbar\":{\"outlinewidth\":0,\"ticks\":\"\"}},\"type\":\"scatter3d\"}],\"scattercarpet\":[{\"marker\":{\"colorbar\":{\"outlinewidth\":0,\"ticks\":\"\"}},\"type\":\"scattercarpet\"}],\"scattergeo\":[{\"marker\":{\"colorbar\":{\"outlinewidth\":0,\"ticks\":\"\"}},\"type\":\"scattergeo\"}],\"scattergl\":[{\"marker\":{\"colorbar\":{\"outlinewidth\":0,\"ticks\":\"\"}},\"type\":\"scattergl\"}],\"scattermapbox\":[{\"marker\":{\"colorbar\":{\"outlinewidth\":0,\"ticks\":\"\"}},\"type\":\"scattermapbox\"}],\"scatterpolar\":[{\"marker\":{\"colorbar\":{\"outlinewidth\":0,\"ticks\":\"\"}},\"type\":\"scatterpolar\"}],\"scatterpolargl\":[{\"marker\":{\"colorbar\":{\"outlinewidth\":0,\"ticks\":\"\"}},\"type\":\"scatterpolargl\"}],\"scatterternary\":[{\"marker\":{\"colorbar\":{\"outlinewidth\":0,\"ticks\":\"\"}},\"type\":\"scatterternary\"}],\"surface\":[{\"colorbar\":{\"outlinewidth\":0,\"ticks\":\"\"},\"colorscale\":[[0.0,\"#0d0887\"],[0.1111111111111111,\"#46039f\"],[0.2222222222222222,\"#7201a8\"],[0.3333333333333333,\"#9c179e\"],[0.4444444444444444,\"#bd3786\"],[0.5555555555555556,\"#d8576b\"],[0.6666666666666666,\"#ed7953\"],[0.7777777777777778,\"#fb9f3a\"],[0.8888888888888888,\"#fdca26\"],[1.0,\"#f0f921\"]],\"type\":\"surface\"}],\"table\":[{\"cells\":{\"fill\":{\"color\":\"#EBF0F8\"},\"line\":{\"color\":\"white\"}},\"header\":{\"fill\":{\"color\":\"#C8D4E3\"},\"line\":{\"color\":\"white\"}},\"type\":\"table\"}]},\"layout\":{\"annotationdefaults\":{\"arrowcolor\":\"#2a3f5f\",\"arrowhead\":0,\"arrowwidth\":1},\"autotypenumbers\":\"strict\",\"coloraxis\":{\"colorbar\":{\"outlinewidth\":0,\"ticks\":\"\"}},\"colorscale\":{\"diverging\":[[0,\"#8e0152\"],[0.1,\"#c51b7d\"],[0.2,\"#de77ae\"],[0.3,\"#f1b6da\"],[0.4,\"#fde0ef\"],[0.5,\"#f7f7f7\"],[0.6,\"#e6f5d0\"],[0.7,\"#b8e186\"],[0.8,\"#7fbc41\"],[0.9,\"#4d9221\"],[1,\"#276419\"]],\"sequential\":[[0.0,\"#0d0887\"],[0.1111111111111111,\"#46039f\"],[0.2222222222222222,\"#7201a8\"],[0.3333333333333333,\"#9c179e\"],[0.4444444444444444,\"#bd3786\"],[0.5555555555555556,\"#d8576b\"],[0.6666666666666666,\"#ed7953\"],[0.7777777777777778,\"#fb9f3a\"],[0.8888888888888888,\"#fdca26\"],[1.0,\"#f0f921\"]],\"sequentialminus\":[[0.0,\"#0d0887\"],[0.1111111111111111,\"#46039f\"],[0.2222222222222222,\"#7201a8\"],[0.3333333333333333,\"#9c179e\"],[0.4444444444444444,\"#bd3786\"],[0.5555555555555556,\"#d8576b\"],[0.6666666666666666,\"#ed7953\"],[0.7777777777777778,\"#fb9f3a\"],[0.8888888888888888,\"#fdca26\"],[1.0,\"#f0f921\"]]},\"colorway\":[\"#636efa\",\"#EF553B\",\"#00cc96\",\"#ab63fa\",\"#FFA15A\",\"#19d3f3\",\"#FF6692\",\"#B6E880\",\"#FF97FF\",\"#FECB52\"],\"font\":{\"color\":\"#2a3f5f\"},\"geo\":{\"bgcolor\":\"white\",\"lakecolor\":\"white\",\"landcolor\":\"#E5ECF6\",\"showlakes\":true,\"showland\":true,\"subunitcolor\":\"white\"},\"hoverlabel\":{\"align\":\"left\"},\"hovermode\":\"closest\",\"mapbox\":{\"style\":\"light\"},\"paper_bgcolor\":\"white\",\"plot_bgcolor\":\"#E5ECF6\",\"polar\":{\"angularaxis\":{\"gridcolor\":\"white\",\"linecolor\":\"white\",\"ticks\":\"\"},\"bgcolor\":\"#E5ECF6\",\"radialaxis\":{\"gridcolor\":\"white\",\"linecolor\":\"white\",\"ticks\":\"\"}},\"scene\":{\"xaxis\":{\"backgroundcolor\":\"#E5ECF6\",\"gridcolor\":\"white\",\"gridwidth\":2,\"linecolor\":\"white\",\"showbackground\":true,\"ticks\":\"\",\"zerolinecolor\":\"white\"},\"yaxis\":{\"backgroundcolor\":\"#E5ECF6\",\"gridcolor\":\"white\",\"gridwidth\":2,\"linecolor\":\"white\",\"showbackground\":true,\"ticks\":\"\",\"zerolinecolor\":\"white\"},\"zaxis\":{\"backgroundcolor\":\"#E5ECF6\",\"gridcolor\":\"white\",\"gridwidth\":2,\"linecolor\":\"white\",\"showbackground\":true,\"ticks\":\"\",\"zerolinecolor\":\"white\"}},\"shapedefaults\":{\"line\":{\"color\":\"#2a3f5f\"}},\"ternary\":{\"aaxis\":{\"gridcolor\":\"white\",\"linecolor\":\"white\",\"ticks\":\"\"},\"baxis\":{\"gridcolor\":\"white\",\"linecolor\":\"white\",\"ticks\":\"\"},\"bgcolor\":\"#E5ECF6\",\"caxis\":{\"gridcolor\":\"white\",\"linecolor\":\"white\",\"ticks\":\"\"}},\"title\":{\"x\":0.05},\"xaxis\":{\"automargin\":true,\"gridcolor\":\"white\",\"linecolor\":\"white\",\"ticks\":\"\",\"title\":{\"standoff\":15},\"zerolinecolor\":\"white\",\"zerolinewidth\":2},\"yaxis\":{\"automargin\":true,\"gridcolor\":\"white\",\"linecolor\":\"white\",\"ticks\":\"\",\"title\":{\"standoff\":15},\"zerolinecolor\":\"white\",\"zerolinewidth\":2}}},\"xaxis\":{\"anchor\":\"y\",\"domain\":[0.0,1.0],\"title\":{\"text\":\"product_type_name\"}},\"yaxis\":{\"anchor\":\"x\",\"domain\":[0.0,1.0],\"title\":{\"text\":\"count\"}},\"legend\":{\"title\":{\"text\":\"colour_group_name\"},\"tracegroupgap\":0},\"title\":{\"text\":\"2019 Product Trends\"},\"barmode\":\"group\"},                        {\"responsive\": true}                    )                };                            </script>        </div>\n",
       "</body>\n",
       "</html>"
      ]
     },
     "metadata": {
      "application/vnd.databricks.v1+output": {
       "addedWidgets": {},
       "arguments": {},
       "data": "<html>\n<head><meta charset=\"utf-8\" /></head>\n<body>\n    <div>            <script src=\"https://cdnjs.cloudflare.com/ajax/libs/mathjax/2.7.5/MathJax.js?config=TeX-AMS-MML_SVG\"></script><script type=\"text/javascript\">if (window.MathJax) {MathJax.Hub.Config({SVG: {font: \"STIX-Web\"}});}</script>                <script type=\"text/javascript\">window.PlotlyConfig = {MathJaxConfig: 'local'};</script>\n        <script src=\"https://cdn.plot.ly/plotly-2.9.0.min.js\"></script>                <div id=\"8de8c764-7f7a-4448-9f6b-85d12747c4e6\" class=\"plotly-graph-div\" style=\"height:100%; width:100%;\"></div>            <script type=\"text/javascript\">                                    window.PLOTLYENV=window.PLOTLYENV || {};                                    if (document.getElementById(\"8de8c764-7f7a-4448-9f6b-85d12747c4e6\")) {                    Plotly.newPlot(                        \"8de8c764-7f7a-4448-9f6b-85d12747c4e6\",                        [{\"alignmentgroup\":\"True\",\"hovertemplate\":\"colour_group_name=Black<br>product_type_name=%{x}<br>count=%{y}<extra></extra>\",\"legendgroup\":\"Black\",\"marker\":{\"color\":\"#636efa\",\"pattern\":{\"shape\":\"\"}},\"name\":\"Black\",\"offsetgroup\":\"Black\",\"orientation\":\"v\",\"showlegend\":true,\"textposition\":\"auto\",\"x\":[\"Trousers\",\"Dress\",\"Top\",\"T-shirt\",\"Vest top\",\"Sweater\",\"Bra\",\"Leggings/Tights\"],\"xaxis\":\"x\",\"y\":[19484,16819,8114,7704,7490,6971,6733,6320],\"yaxis\":\"y\",\"type\":\"bar\"},{\"alignmentgroup\":\"True\",\"hovertemplate\":\"colour_group_name=White<br>product_type_name=%{x}<br>count=%{y}<extra></extra>\",\"legendgroup\":\"White\",\"marker\":{\"color\":\"#EF553B\",\"pattern\":{\"shape\":\"\"}},\"name\":\"White\",\"offsetgroup\":\"White\",\"orientation\":\"v\",\"showlegend\":true,\"textposition\":\"auto\",\"x\":[\"T-shirt\"],\"xaxis\":\"x\",\"y\":[8613],\"yaxis\":\"y\",\"type\":\"bar\"},{\"alignmentgroup\":\"True\",\"hovertemplate\":\"colour_group_name=Dark Blue<br>product_type_name=%{x}<br>count=%{y}<extra></extra>\",\"legendgroup\":\"Dark Blue\",\"marker\":{\"color\":\"#00cc96\",\"pattern\":{\"shape\":\"\"}},\"name\":\"Dark Blue\",\"offsetgroup\":\"Dark Blue\",\"orientation\":\"v\",\"showlegend\":true,\"textposition\":\"auto\",\"x\":[\"Trousers\"],\"xaxis\":\"x\",\"y\":[7511],\"yaxis\":\"y\",\"type\":\"bar\"}],                        {\"template\":{\"data\":{\"bar\":[{\"error_x\":{\"color\":\"#2a3f5f\"},\"error_y\":{\"color\":\"#2a3f5f\"},\"marker\":{\"line\":{\"color\":\"#E5ECF6\",\"width\":0.5},\"pattern\":{\"fillmode\":\"overlay\",\"size\":10,\"solidity\":0.2}},\"type\":\"bar\"}],\"barpolar\":[{\"marker\":{\"line\":{\"color\":\"#E5ECF6\",\"width\":0.5},\"pattern\":{\"fillmode\":\"overlay\",\"size\":10,\"solidity\":0.2}},\"type\":\"barpolar\"}],\"carpet\":[{\"aaxis\":{\"endlinecolor\":\"#2a3f5f\",\"gridcolor\":\"white\",\"linecolor\":\"white\",\"minorgridcolor\":\"white\",\"startlinecolor\":\"#2a3f5f\"},\"baxis\":{\"endlinecolor\":\"#2a3f5f\",\"gridcolor\":\"white\",\"linecolor\":\"white\",\"minorgridcolor\":\"white\",\"startlinecolor\":\"#2a3f5f\"},\"type\":\"carpet\"}],\"choropleth\":[{\"colorbar\":{\"outlinewidth\":0,\"ticks\":\"\"},\"type\":\"choropleth\"}],\"contour\":[{\"colorbar\":{\"outlinewidth\":0,\"ticks\":\"\"},\"colorscale\":[[0.0,\"#0d0887\"],[0.1111111111111111,\"#46039f\"],[0.2222222222222222,\"#7201a8\"],[0.3333333333333333,\"#9c179e\"],[0.4444444444444444,\"#bd3786\"],[0.5555555555555556,\"#d8576b\"],[0.6666666666666666,\"#ed7953\"],[0.7777777777777778,\"#fb9f3a\"],[0.8888888888888888,\"#fdca26\"],[1.0,\"#f0f921\"]],\"type\":\"contour\"}],\"contourcarpet\":[{\"colorbar\":{\"outlinewidth\":0,\"ticks\":\"\"},\"type\":\"contourcarpet\"}],\"heatmap\":[{\"colorbar\":{\"outlinewidth\":0,\"ticks\":\"\"},\"colorscale\":[[0.0,\"#0d0887\"],[0.1111111111111111,\"#46039f\"],[0.2222222222222222,\"#7201a8\"],[0.3333333333333333,\"#9c179e\"],[0.4444444444444444,\"#bd3786\"],[0.5555555555555556,\"#d8576b\"],[0.6666666666666666,\"#ed7953\"],[0.7777777777777778,\"#fb9f3a\"],[0.8888888888888888,\"#fdca26\"],[1.0,\"#f0f921\"]],\"type\":\"heatmap\"}],\"heatmapgl\":[{\"colorbar\":{\"outlinewidth\":0,\"ticks\":\"\"},\"colorscale\":[[0.0,\"#0d0887\"],[0.1111111111111111,\"#46039f\"],[0.2222222222222222,\"#7201a8\"],[0.3333333333333333,\"#9c179e\"],[0.4444444444444444,\"#bd3786\"],[0.5555555555555556,\"#d8576b\"],[0.6666666666666666,\"#ed7953\"],[0.7777777777777778,\"#fb9f3a\"],[0.8888888888888888,\"#fdca26\"],[1.0,\"#f0f921\"]],\"type\":\"heatmapgl\"}],\"histogram\":[{\"marker\":{\"pattern\":{\"fillmode\":\"overlay\",\"size\":10,\"solidity\":0.2}},\"type\":\"histogram\"}],\"histogram2d\":[{\"colorbar\":{\"outlinewidth\":0,\"ticks\":\"\"},\"colorscale\":[[0.0,\"#0d0887\"],[0.1111111111111111,\"#46039f\"],[0.2222222222222222,\"#7201a8\"],[0.3333333333333333,\"#9c179e\"],[0.4444444444444444,\"#bd3786\"],[0.5555555555555556,\"#d8576b\"],[0.6666666666666666,\"#ed7953\"],[0.7777777777777778,\"#fb9f3a\"],[0.8888888888888888,\"#fdca26\"],[1.0,\"#f0f921\"]],\"type\":\"histogram2d\"}],\"histogram2dcontour\":[{\"colorbar\":{\"outlinewidth\":0,\"ticks\":\"\"},\"colorscale\":[[0.0,\"#0d0887\"],[0.1111111111111111,\"#46039f\"],[0.2222222222222222,\"#7201a8\"],[0.3333333333333333,\"#9c179e\"],[0.4444444444444444,\"#bd3786\"],[0.5555555555555556,\"#d8576b\"],[0.6666666666666666,\"#ed7953\"],[0.7777777777777778,\"#fb9f3a\"],[0.8888888888888888,\"#fdca26\"],[1.0,\"#f0f921\"]],\"type\":\"histogram2dcontour\"}],\"mesh3d\":[{\"colorbar\":{\"outlinewidth\":0,\"ticks\":\"\"},\"type\":\"mesh3d\"}],\"parcoords\":[{\"line\":{\"colorbar\":{\"outlinewidth\":0,\"ticks\":\"\"}},\"type\":\"parcoords\"}],\"pie\":[{\"automargin\":true,\"type\":\"pie\"}],\"scatter\":[{\"marker\":{\"colorbar\":{\"outlinewidth\":0,\"ticks\":\"\"}},\"type\":\"scatter\"}],\"scatter3d\":[{\"line\":{\"colorbar\":{\"outlinewidth\":0,\"ticks\":\"\"}},\"marker\":{\"colorbar\":{\"outlinewidth\":0,\"ticks\":\"\"}},\"type\":\"scatter3d\"}],\"scattercarpet\":[{\"marker\":{\"colorbar\":{\"outlinewidth\":0,\"ticks\":\"\"}},\"type\":\"scattercarpet\"}],\"scattergeo\":[{\"marker\":{\"colorbar\":{\"outlinewidth\":0,\"ticks\":\"\"}},\"type\":\"scattergeo\"}],\"scattergl\":[{\"marker\":{\"colorbar\":{\"outlinewidth\":0,\"ticks\":\"\"}},\"type\":\"scattergl\"}],\"scattermapbox\":[{\"marker\":{\"colorbar\":{\"outlinewidth\":0,\"ticks\":\"\"}},\"type\":\"scattermapbox\"}],\"scatterpolar\":[{\"marker\":{\"colorbar\":{\"outlinewidth\":0,\"ticks\":\"\"}},\"type\":\"scatterpolar\"}],\"scatterpolargl\":[{\"marker\":{\"colorbar\":{\"outlinewidth\":0,\"ticks\":\"\"}},\"type\":\"scatterpolargl\"}],\"scatterternary\":[{\"marker\":{\"colorbar\":{\"outlinewidth\":0,\"ticks\":\"\"}},\"type\":\"scatterternary\"}],\"surface\":[{\"colorbar\":{\"outlinewidth\":0,\"ticks\":\"\"},\"colorscale\":[[0.0,\"#0d0887\"],[0.1111111111111111,\"#46039f\"],[0.2222222222222222,\"#7201a8\"],[0.3333333333333333,\"#9c179e\"],[0.4444444444444444,\"#bd3786\"],[0.5555555555555556,\"#d8576b\"],[0.6666666666666666,\"#ed7953\"],[0.7777777777777778,\"#fb9f3a\"],[0.8888888888888888,\"#fdca26\"],[1.0,\"#f0f921\"]],\"type\":\"surface\"}],\"table\":[{\"cells\":{\"fill\":{\"color\":\"#EBF0F8\"},\"line\":{\"color\":\"white\"}},\"header\":{\"fill\":{\"color\":\"#C8D4E3\"},\"line\":{\"color\":\"white\"}},\"type\":\"table\"}]},\"layout\":{\"annotationdefaults\":{\"arrowcolor\":\"#2a3f5f\",\"arrowhead\":0,\"arrowwidth\":1},\"autotypenumbers\":\"strict\",\"coloraxis\":{\"colorbar\":{\"outlinewidth\":0,\"ticks\":\"\"}},\"colorscale\":{\"diverging\":[[0,\"#8e0152\"],[0.1,\"#c51b7d\"],[0.2,\"#de77ae\"],[0.3,\"#f1b6da\"],[0.4,\"#fde0ef\"],[0.5,\"#f7f7f7\"],[0.6,\"#e6f5d0\"],[0.7,\"#b8e186\"],[0.8,\"#7fbc41\"],[0.9,\"#4d9221\"],[1,\"#276419\"]],\"sequential\":[[0.0,\"#0d0887\"],[0.1111111111111111,\"#46039f\"],[0.2222222222222222,\"#7201a8\"],[0.3333333333333333,\"#9c179e\"],[0.4444444444444444,\"#bd3786\"],[0.5555555555555556,\"#d8576b\"],[0.6666666666666666,\"#ed7953\"],[0.7777777777777778,\"#fb9f3a\"],[0.8888888888888888,\"#fdca26\"],[1.0,\"#f0f921\"]],\"sequentialminus\":[[0.0,\"#0d0887\"],[0.1111111111111111,\"#46039f\"],[0.2222222222222222,\"#7201a8\"],[0.3333333333333333,\"#9c179e\"],[0.4444444444444444,\"#bd3786\"],[0.5555555555555556,\"#d8576b\"],[0.6666666666666666,\"#ed7953\"],[0.7777777777777778,\"#fb9f3a\"],[0.8888888888888888,\"#fdca26\"],[1.0,\"#f0f921\"]]},\"colorway\":[\"#636efa\",\"#EF553B\",\"#00cc96\",\"#ab63fa\",\"#FFA15A\",\"#19d3f3\",\"#FF6692\",\"#B6E880\",\"#FF97FF\",\"#FECB52\"],\"font\":{\"color\":\"#2a3f5f\"},\"geo\":{\"bgcolor\":\"white\",\"lakecolor\":\"white\",\"landcolor\":\"#E5ECF6\",\"showlakes\":true,\"showland\":true,\"subunitcolor\":\"white\"},\"hoverlabel\":{\"align\":\"left\"},\"hovermode\":\"closest\",\"mapbox\":{\"style\":\"light\"},\"paper_bgcolor\":\"white\",\"plot_bgcolor\":\"#E5ECF6\",\"polar\":{\"angularaxis\":{\"gridcolor\":\"white\",\"linecolor\":\"white\",\"ticks\":\"\"},\"bgcolor\":\"#E5ECF6\",\"radialaxis\":{\"gridcolor\":\"white\",\"linecolor\":\"white\",\"ticks\":\"\"}},\"scene\":{\"xaxis\":{\"backgroundcolor\":\"#E5ECF6\",\"gridcolor\":\"white\",\"gridwidth\":2,\"linecolor\":\"white\",\"showbackground\":true,\"ticks\":\"\",\"zerolinecolor\":\"white\"},\"yaxis\":{\"backgroundcolor\":\"#E5ECF6\",\"gridcolor\":\"white\",\"gridwidth\":2,\"linecolor\":\"white\",\"showbackground\":true,\"ticks\":\"\",\"zerolinecolor\":\"white\"},\"zaxis\":{\"backgroundcolor\":\"#E5ECF6\",\"gridcolor\":\"white\",\"gridwidth\":2,\"linecolor\":\"white\",\"showbackground\":true,\"ticks\":\"\",\"zerolinecolor\":\"white\"}},\"shapedefaults\":{\"line\":{\"color\":\"#2a3f5f\"}},\"ternary\":{\"aaxis\":{\"gridcolor\":\"white\",\"linecolor\":\"white\",\"ticks\":\"\"},\"baxis\":{\"gridcolor\":\"white\",\"linecolor\":\"white\",\"ticks\":\"\"},\"bgcolor\":\"#E5ECF6\",\"caxis\":{\"gridcolor\":\"white\",\"linecolor\":\"white\",\"ticks\":\"\"}},\"title\":{\"x\":0.05},\"xaxis\":{\"automargin\":true,\"gridcolor\":\"white\",\"linecolor\":\"white\",\"ticks\":\"\",\"title\":{\"standoff\":15},\"zerolinecolor\":\"white\",\"zerolinewidth\":2},\"yaxis\":{\"automargin\":true,\"gridcolor\":\"white\",\"linecolor\":\"white\",\"ticks\":\"\",\"title\":{\"standoff\":15},\"zerolinecolor\":\"white\",\"zerolinewidth\":2}}},\"xaxis\":{\"anchor\":\"y\",\"domain\":[0.0,1.0],\"title\":{\"text\":\"product_type_name\"}},\"yaxis\":{\"anchor\":\"x\",\"domain\":[0.0,1.0],\"title\":{\"text\":\"count\"}},\"legend\":{\"title\":{\"text\":\"colour_group_name\"},\"tracegroupgap\":0},\"title\":{\"text\":\"2019 Product Trends\"},\"barmode\":\"group\"},                        {\"responsive\": true}                    )                };                            </script>        </div>\n</body>\n</html>",
       "datasetInfos": [],
       "metadata": {},
       "removedWidgets": [],
       "textData": null,
       "type": "htmlSandbox"
      }
     },
     "output_type": "display_data"
    },
    {
     "data": {
      "text/html": [
       "<html>\n",
       "<head><meta charset=\"utf-8\" /></head>\n",
       "<body>\n",
       "    <div>            <script src=\"https://cdnjs.cloudflare.com/ajax/libs/mathjax/2.7.5/MathJax.js?config=TeX-AMS-MML_SVG\"></script><script type=\"text/javascript\">if (window.MathJax) {MathJax.Hub.Config({SVG: {font: \"STIX-Web\"}});}</script>                <script type=\"text/javascript\">window.PlotlyConfig = {MathJaxConfig: 'local'};</script>\n",
       "        <script src=\"https://cdn.plot.ly/plotly-2.9.0.min.js\"></script>                <div id=\"47c578f3-36e7-429d-a9ed-f9f033941b16\" class=\"plotly-graph-div\" style=\"height:100%; width:100%;\"></div>            <script type=\"text/javascript\">                                    window.PLOTLYENV=window.PLOTLYENV || {};                                    if (document.getElementById(\"47c578f3-36e7-429d-a9ed-f9f033941b16\")) {                    Plotly.newPlot(                        \"47c578f3-36e7-429d-a9ed-f9f033941b16\",                        [{\"alignmentgroup\":\"True\",\"hovertemplate\":\"colour_group_name=Black<br>product_type_name=%{x}<br>count=%{y}<extra></extra>\",\"legendgroup\":\"Black\",\"marker\":{\"color\":\"#636efa\",\"pattern\":{\"shape\":\"\"}},\"name\":\"Black\",\"offsetgroup\":\"Black\",\"orientation\":\"v\",\"showlegend\":true,\"textposition\":\"auto\",\"x\":[\"Trousers\",\"Dress\",\"Leggings/Tights\",\"Top\",\"Sweater\",\"Bra\",\"Underwear bottom\",\"T-shirt\"],\"xaxis\":\"x\",\"y\":[3304,2136,1739,1516,1499,1491,1215,1043],\"yaxis\":\"y\",\"type\":\"bar\"},{\"alignmentgroup\":\"True\",\"hovertemplate\":\"colour_group_name=Dark Blue<br>product_type_name=%{x}<br>count=%{y}<extra></extra>\",\"legendgroup\":\"Dark Blue\",\"marker\":{\"color\":\"#EF553B\",\"pattern\":{\"shape\":\"\"}},\"name\":\"Dark Blue\",\"offsetgroup\":\"Dark Blue\",\"orientation\":\"v\",\"showlegend\":true,\"textposition\":\"auto\",\"x\":[\"Trousers\"],\"xaxis\":\"x\",\"y\":[1139],\"yaxis\":\"y\",\"type\":\"bar\"},{\"alignmentgroup\":\"True\",\"hovertemplate\":\"colour_group_name=Blue<br>product_type_name=%{x}<br>count=%{y}<extra></extra>\",\"legendgroup\":\"Blue\",\"marker\":{\"color\":\"#00cc96\",\"pattern\":{\"shape\":\"\"}},\"name\":\"Blue\",\"offsetgroup\":\"Blue\",\"orientation\":\"v\",\"showlegend\":true,\"textposition\":\"auto\",\"x\":[\"Trousers\"],\"xaxis\":\"x\",\"y\":[1084],\"yaxis\":\"y\",\"type\":\"bar\"}],                        {\"template\":{\"data\":{\"bar\":[{\"error_x\":{\"color\":\"#2a3f5f\"},\"error_y\":{\"color\":\"#2a3f5f\"},\"marker\":{\"line\":{\"color\":\"#E5ECF6\",\"width\":0.5},\"pattern\":{\"fillmode\":\"overlay\",\"size\":10,\"solidity\":0.2}},\"type\":\"bar\"}],\"barpolar\":[{\"marker\":{\"line\":{\"color\":\"#E5ECF6\",\"width\":0.5},\"pattern\":{\"fillmode\":\"overlay\",\"size\":10,\"solidity\":0.2}},\"type\":\"barpolar\"}],\"carpet\":[{\"aaxis\":{\"endlinecolor\":\"#2a3f5f\",\"gridcolor\":\"white\",\"linecolor\":\"white\",\"minorgridcolor\":\"white\",\"startlinecolor\":\"#2a3f5f\"},\"baxis\":{\"endlinecolor\":\"#2a3f5f\",\"gridcolor\":\"white\",\"linecolor\":\"white\",\"minorgridcolor\":\"white\",\"startlinecolor\":\"#2a3f5f\"},\"type\":\"carpet\"}],\"choropleth\":[{\"colorbar\":{\"outlinewidth\":0,\"ticks\":\"\"},\"type\":\"choropleth\"}],\"contour\":[{\"colorbar\":{\"outlinewidth\":0,\"ticks\":\"\"},\"colorscale\":[[0.0,\"#0d0887\"],[0.1111111111111111,\"#46039f\"],[0.2222222222222222,\"#7201a8\"],[0.3333333333333333,\"#9c179e\"],[0.4444444444444444,\"#bd3786\"],[0.5555555555555556,\"#d8576b\"],[0.6666666666666666,\"#ed7953\"],[0.7777777777777778,\"#fb9f3a\"],[0.8888888888888888,\"#fdca26\"],[1.0,\"#f0f921\"]],\"type\":\"contour\"}],\"contourcarpet\":[{\"colorbar\":{\"outlinewidth\":0,\"ticks\":\"\"},\"type\":\"contourcarpet\"}],\"heatmap\":[{\"colorbar\":{\"outlinewidth\":0,\"ticks\":\"\"},\"colorscale\":[[0.0,\"#0d0887\"],[0.1111111111111111,\"#46039f\"],[0.2222222222222222,\"#7201a8\"],[0.3333333333333333,\"#9c179e\"],[0.4444444444444444,\"#bd3786\"],[0.5555555555555556,\"#d8576b\"],[0.6666666666666666,\"#ed7953\"],[0.7777777777777778,\"#fb9f3a\"],[0.8888888888888888,\"#fdca26\"],[1.0,\"#f0f921\"]],\"type\":\"heatmap\"}],\"heatmapgl\":[{\"colorbar\":{\"outlinewidth\":0,\"ticks\":\"\"},\"colorscale\":[[0.0,\"#0d0887\"],[0.1111111111111111,\"#46039f\"],[0.2222222222222222,\"#7201a8\"],[0.3333333333333333,\"#9c179e\"],[0.4444444444444444,\"#bd3786\"],[0.5555555555555556,\"#d8576b\"],[0.6666666666666666,\"#ed7953\"],[0.7777777777777778,\"#fb9f3a\"],[0.8888888888888888,\"#fdca26\"],[1.0,\"#f0f921\"]],\"type\":\"heatmapgl\"}],\"histogram\":[{\"marker\":{\"pattern\":{\"fillmode\":\"overlay\",\"size\":10,\"solidity\":0.2}},\"type\":\"histogram\"}],\"histogram2d\":[{\"colorbar\":{\"outlinewidth\":0,\"ticks\":\"\"},\"colorscale\":[[0.0,\"#0d0887\"],[0.1111111111111111,\"#46039f\"],[0.2222222222222222,\"#7201a8\"],[0.3333333333333333,\"#9c179e\"],[0.4444444444444444,\"#bd3786\"],[0.5555555555555556,\"#d8576b\"],[0.6666666666666666,\"#ed7953\"],[0.7777777777777778,\"#fb9f3a\"],[0.8888888888888888,\"#fdca26\"],[1.0,\"#f0f921\"]],\"type\":\"histogram2d\"}],\"histogram2dcontour\":[{\"colorbar\":{\"outlinewidth\":0,\"ticks\":\"\"},\"colorscale\":[[0.0,\"#0d0887\"],[0.1111111111111111,\"#46039f\"],[0.2222222222222222,\"#7201a8\"],[0.3333333333333333,\"#9c179e\"],[0.4444444444444444,\"#bd3786\"],[0.5555555555555556,\"#d8576b\"],[0.6666666666666666,\"#ed7953\"],[0.7777777777777778,\"#fb9f3a\"],[0.8888888888888888,\"#fdca26\"],[1.0,\"#f0f921\"]],\"type\":\"histogram2dcontour\"}],\"mesh3d\":[{\"colorbar\":{\"outlinewidth\":0,\"ticks\":\"\"},\"type\":\"mesh3d\"}],\"parcoords\":[{\"line\":{\"colorbar\":{\"outlinewidth\":0,\"ticks\":\"\"}},\"type\":\"parcoords\"}],\"pie\":[{\"automargin\":true,\"type\":\"pie\"}],\"scatter\":[{\"marker\":{\"colorbar\":{\"outlinewidth\":0,\"ticks\":\"\"}},\"type\":\"scatter\"}],\"scatter3d\":[{\"line\":{\"colorbar\":{\"outlinewidth\":0,\"ticks\":\"\"}},\"marker\":{\"colorbar\":{\"outlinewidth\":0,\"ticks\":\"\"}},\"type\":\"scatter3d\"}],\"scattercarpet\":[{\"marker\":{\"colorbar\":{\"outlinewidth\":0,\"ticks\":\"\"}},\"type\":\"scattercarpet\"}],\"scattergeo\":[{\"marker\":{\"colorbar\":{\"outlinewidth\":0,\"ticks\":\"\"}},\"type\":\"scattergeo\"}],\"scattergl\":[{\"marker\":{\"colorbar\":{\"outlinewidth\":0,\"ticks\":\"\"}},\"type\":\"scattergl\"}],\"scattermapbox\":[{\"marker\":{\"colorbar\":{\"outlinewidth\":0,\"ticks\":\"\"}},\"type\":\"scattermapbox\"}],\"scatterpolar\":[{\"marker\":{\"colorbar\":{\"outlinewidth\":0,\"ticks\":\"\"}},\"type\":\"scatterpolar\"}],\"scatterpolargl\":[{\"marker\":{\"colorbar\":{\"outlinewidth\":0,\"ticks\":\"\"}},\"type\":\"scatterpolargl\"}],\"scatterternary\":[{\"marker\":{\"colorbar\":{\"outlinewidth\":0,\"ticks\":\"\"}},\"type\":\"scatterternary\"}],\"surface\":[{\"colorbar\":{\"outlinewidth\":0,\"ticks\":\"\"},\"colorscale\":[[0.0,\"#0d0887\"],[0.1111111111111111,\"#46039f\"],[0.2222222222222222,\"#7201a8\"],[0.3333333333333333,\"#9c179e\"],[0.4444444444444444,\"#bd3786\"],[0.5555555555555556,\"#d8576b\"],[0.6666666666666666,\"#ed7953\"],[0.7777777777777778,\"#fb9f3a\"],[0.8888888888888888,\"#fdca26\"],[1.0,\"#f0f921\"]],\"type\":\"surface\"}],\"table\":[{\"cells\":{\"fill\":{\"color\":\"#EBF0F8\"},\"line\":{\"color\":\"white\"}},\"header\":{\"fill\":{\"color\":\"#C8D4E3\"},\"line\":{\"color\":\"white\"}},\"type\":\"table\"}]},\"layout\":{\"annotationdefaults\":{\"arrowcolor\":\"#2a3f5f\",\"arrowhead\":0,\"arrowwidth\":1},\"autotypenumbers\":\"strict\",\"coloraxis\":{\"colorbar\":{\"outlinewidth\":0,\"ticks\":\"\"}},\"colorscale\":{\"diverging\":[[0,\"#8e0152\"],[0.1,\"#c51b7d\"],[0.2,\"#de77ae\"],[0.3,\"#f1b6da\"],[0.4,\"#fde0ef\"],[0.5,\"#f7f7f7\"],[0.6,\"#e6f5d0\"],[0.7,\"#b8e186\"],[0.8,\"#7fbc41\"],[0.9,\"#4d9221\"],[1,\"#276419\"]],\"sequential\":[[0.0,\"#0d0887\"],[0.1111111111111111,\"#46039f\"],[0.2222222222222222,\"#7201a8\"],[0.3333333333333333,\"#9c179e\"],[0.4444444444444444,\"#bd3786\"],[0.5555555555555556,\"#d8576b\"],[0.6666666666666666,\"#ed7953\"],[0.7777777777777778,\"#fb9f3a\"],[0.8888888888888888,\"#fdca26\"],[1.0,\"#f0f921\"]],\"sequentialminus\":[[0.0,\"#0d0887\"],[0.1111111111111111,\"#46039f\"],[0.2222222222222222,\"#7201a8\"],[0.3333333333333333,\"#9c179e\"],[0.4444444444444444,\"#bd3786\"],[0.5555555555555556,\"#d8576b\"],[0.6666666666666666,\"#ed7953\"],[0.7777777777777778,\"#fb9f3a\"],[0.8888888888888888,\"#fdca26\"],[1.0,\"#f0f921\"]]},\"colorway\":[\"#636efa\",\"#EF553B\",\"#00cc96\",\"#ab63fa\",\"#FFA15A\",\"#19d3f3\",\"#FF6692\",\"#B6E880\",\"#FF97FF\",\"#FECB52\"],\"font\":{\"color\":\"#2a3f5f\"},\"geo\":{\"bgcolor\":\"white\",\"lakecolor\":\"white\",\"landcolor\":\"#E5ECF6\",\"showlakes\":true,\"showland\":true,\"subunitcolor\":\"white\"},\"hoverlabel\":{\"align\":\"left\"},\"hovermode\":\"closest\",\"mapbox\":{\"style\":\"light\"},\"paper_bgcolor\":\"white\",\"plot_bgcolor\":\"#E5ECF6\",\"polar\":{\"angularaxis\":{\"gridcolor\":\"white\",\"linecolor\":\"white\",\"ticks\":\"\"},\"bgcolor\":\"#E5ECF6\",\"radialaxis\":{\"gridcolor\":\"white\",\"linecolor\":\"white\",\"ticks\":\"\"}},\"scene\":{\"xaxis\":{\"backgroundcolor\":\"#E5ECF6\",\"gridcolor\":\"white\",\"gridwidth\":2,\"linecolor\":\"white\",\"showbackground\":true,\"ticks\":\"\",\"zerolinecolor\":\"white\"},\"yaxis\":{\"backgroundcolor\":\"#E5ECF6\",\"gridcolor\":\"white\",\"gridwidth\":2,\"linecolor\":\"white\",\"showbackground\":true,\"ticks\":\"\",\"zerolinecolor\":\"white\"},\"zaxis\":{\"backgroundcolor\":\"#E5ECF6\",\"gridcolor\":\"white\",\"gridwidth\":2,\"linecolor\":\"white\",\"showbackground\":true,\"ticks\":\"\",\"zerolinecolor\":\"white\"}},\"shapedefaults\":{\"line\":{\"color\":\"#2a3f5f\"}},\"ternary\":{\"aaxis\":{\"gridcolor\":\"white\",\"linecolor\":\"white\",\"ticks\":\"\"},\"baxis\":{\"gridcolor\":\"white\",\"linecolor\":\"white\",\"ticks\":\"\"},\"bgcolor\":\"#E5ECF6\",\"caxis\":{\"gridcolor\":\"white\",\"linecolor\":\"white\",\"ticks\":\"\"}},\"title\":{\"x\":0.05},\"xaxis\":{\"automargin\":true,\"gridcolor\":\"white\",\"linecolor\":\"white\",\"ticks\":\"\",\"title\":{\"standoff\":15},\"zerolinecolor\":\"white\",\"zerolinewidth\":2},\"yaxis\":{\"automargin\":true,\"gridcolor\":\"white\",\"linecolor\":\"white\",\"ticks\":\"\",\"title\":{\"standoff\":15},\"zerolinecolor\":\"white\",\"zerolinewidth\":2}}},\"xaxis\":{\"anchor\":\"y\",\"domain\":[0.0,1.0],\"title\":{\"text\":\"product_type_name\"}},\"yaxis\":{\"anchor\":\"x\",\"domain\":[0.0,1.0],\"title\":{\"text\":\"count\"}},\"legend\":{\"title\":{\"text\":\"colour_group_name\"},\"tracegroupgap\":0},\"title\":{\"text\":\"2020 Product Trends\"},\"barmode\":\"group\"},                        {\"responsive\": true}                    )                };                            </script>        </div>\n",
       "</body>\n",
       "</html>"
      ]
     },
     "metadata": {
      "application/vnd.databricks.v1+output": {
       "addedWidgets": {},
       "arguments": {},
       "data": "<html>\n<head><meta charset=\"utf-8\" /></head>\n<body>\n    <div>            <script src=\"https://cdnjs.cloudflare.com/ajax/libs/mathjax/2.7.5/MathJax.js?config=TeX-AMS-MML_SVG\"></script><script type=\"text/javascript\">if (window.MathJax) {MathJax.Hub.Config({SVG: {font: \"STIX-Web\"}});}</script>                <script type=\"text/javascript\">window.PlotlyConfig = {MathJaxConfig: 'local'};</script>\n        <script src=\"https://cdn.plot.ly/plotly-2.9.0.min.js\"></script>                <div id=\"47c578f3-36e7-429d-a9ed-f9f033941b16\" class=\"plotly-graph-div\" style=\"height:100%; width:100%;\"></div>            <script type=\"text/javascript\">                                    window.PLOTLYENV=window.PLOTLYENV || {};                                    if (document.getElementById(\"47c578f3-36e7-429d-a9ed-f9f033941b16\")) {                    Plotly.newPlot(                        \"47c578f3-36e7-429d-a9ed-f9f033941b16\",                        [{\"alignmentgroup\":\"True\",\"hovertemplate\":\"colour_group_name=Black<br>product_type_name=%{x}<br>count=%{y}<extra></extra>\",\"legendgroup\":\"Black\",\"marker\":{\"color\":\"#636efa\",\"pattern\":{\"shape\":\"\"}},\"name\":\"Black\",\"offsetgroup\":\"Black\",\"orientation\":\"v\",\"showlegend\":true,\"textposition\":\"auto\",\"x\":[\"Trousers\",\"Dress\",\"Leggings/Tights\",\"Top\",\"Sweater\",\"Bra\",\"Underwear bottom\",\"T-shirt\"],\"xaxis\":\"x\",\"y\":[3304,2136,1739,1516,1499,1491,1215,1043],\"yaxis\":\"y\",\"type\":\"bar\"},{\"alignmentgroup\":\"True\",\"hovertemplate\":\"colour_group_name=Dark Blue<br>product_type_name=%{x}<br>count=%{y}<extra></extra>\",\"legendgroup\":\"Dark Blue\",\"marker\":{\"color\":\"#EF553B\",\"pattern\":{\"shape\":\"\"}},\"name\":\"Dark Blue\",\"offsetgroup\":\"Dark Blue\",\"orientation\":\"v\",\"showlegend\":true,\"textposition\":\"auto\",\"x\":[\"Trousers\"],\"xaxis\":\"x\",\"y\":[1139],\"yaxis\":\"y\",\"type\":\"bar\"},{\"alignmentgroup\":\"True\",\"hovertemplate\":\"colour_group_name=Blue<br>product_type_name=%{x}<br>count=%{y}<extra></extra>\",\"legendgroup\":\"Blue\",\"marker\":{\"color\":\"#00cc96\",\"pattern\":{\"shape\":\"\"}},\"name\":\"Blue\",\"offsetgroup\":\"Blue\",\"orientation\":\"v\",\"showlegend\":true,\"textposition\":\"auto\",\"x\":[\"Trousers\"],\"xaxis\":\"x\",\"y\":[1084],\"yaxis\":\"y\",\"type\":\"bar\"}],                        {\"template\":{\"data\":{\"bar\":[{\"error_x\":{\"color\":\"#2a3f5f\"},\"error_y\":{\"color\":\"#2a3f5f\"},\"marker\":{\"line\":{\"color\":\"#E5ECF6\",\"width\":0.5},\"pattern\":{\"fillmode\":\"overlay\",\"size\":10,\"solidity\":0.2}},\"type\":\"bar\"}],\"barpolar\":[{\"marker\":{\"line\":{\"color\":\"#E5ECF6\",\"width\":0.5},\"pattern\":{\"fillmode\":\"overlay\",\"size\":10,\"solidity\":0.2}},\"type\":\"barpolar\"}],\"carpet\":[{\"aaxis\":{\"endlinecolor\":\"#2a3f5f\",\"gridcolor\":\"white\",\"linecolor\":\"white\",\"minorgridcolor\":\"white\",\"startlinecolor\":\"#2a3f5f\"},\"baxis\":{\"endlinecolor\":\"#2a3f5f\",\"gridcolor\":\"white\",\"linecolor\":\"white\",\"minorgridcolor\":\"white\",\"startlinecolor\":\"#2a3f5f\"},\"type\":\"carpet\"}],\"choropleth\":[{\"colorbar\":{\"outlinewidth\":0,\"ticks\":\"\"},\"type\":\"choropleth\"}],\"contour\":[{\"colorbar\":{\"outlinewidth\":0,\"ticks\":\"\"},\"colorscale\":[[0.0,\"#0d0887\"],[0.1111111111111111,\"#46039f\"],[0.2222222222222222,\"#7201a8\"],[0.3333333333333333,\"#9c179e\"],[0.4444444444444444,\"#bd3786\"],[0.5555555555555556,\"#d8576b\"],[0.6666666666666666,\"#ed7953\"],[0.7777777777777778,\"#fb9f3a\"],[0.8888888888888888,\"#fdca26\"],[1.0,\"#f0f921\"]],\"type\":\"contour\"}],\"contourcarpet\":[{\"colorbar\":{\"outlinewidth\":0,\"ticks\":\"\"},\"type\":\"contourcarpet\"}],\"heatmap\":[{\"colorbar\":{\"outlinewidth\":0,\"ticks\":\"\"},\"colorscale\":[[0.0,\"#0d0887\"],[0.1111111111111111,\"#46039f\"],[0.2222222222222222,\"#7201a8\"],[0.3333333333333333,\"#9c179e\"],[0.4444444444444444,\"#bd3786\"],[0.5555555555555556,\"#d8576b\"],[0.6666666666666666,\"#ed7953\"],[0.7777777777777778,\"#fb9f3a\"],[0.8888888888888888,\"#fdca26\"],[1.0,\"#f0f921\"]],\"type\":\"heatmap\"}],\"heatmapgl\":[{\"colorbar\":{\"outlinewidth\":0,\"ticks\":\"\"},\"colorscale\":[[0.0,\"#0d0887\"],[0.1111111111111111,\"#46039f\"],[0.2222222222222222,\"#7201a8\"],[0.3333333333333333,\"#9c179e\"],[0.4444444444444444,\"#bd3786\"],[0.5555555555555556,\"#d8576b\"],[0.6666666666666666,\"#ed7953\"],[0.7777777777777778,\"#fb9f3a\"],[0.8888888888888888,\"#fdca26\"],[1.0,\"#f0f921\"]],\"type\":\"heatmapgl\"}],\"histogram\":[{\"marker\":{\"pattern\":{\"fillmode\":\"overlay\",\"size\":10,\"solidity\":0.2}},\"type\":\"histogram\"}],\"histogram2d\":[{\"colorbar\":{\"outlinewidth\":0,\"ticks\":\"\"},\"colorscale\":[[0.0,\"#0d0887\"],[0.1111111111111111,\"#46039f\"],[0.2222222222222222,\"#7201a8\"],[0.3333333333333333,\"#9c179e\"],[0.4444444444444444,\"#bd3786\"],[0.5555555555555556,\"#d8576b\"],[0.6666666666666666,\"#ed7953\"],[0.7777777777777778,\"#fb9f3a\"],[0.8888888888888888,\"#fdca26\"],[1.0,\"#f0f921\"]],\"type\":\"histogram2d\"}],\"histogram2dcontour\":[{\"colorbar\":{\"outlinewidth\":0,\"ticks\":\"\"},\"colorscale\":[[0.0,\"#0d0887\"],[0.1111111111111111,\"#46039f\"],[0.2222222222222222,\"#7201a8\"],[0.3333333333333333,\"#9c179e\"],[0.4444444444444444,\"#bd3786\"],[0.5555555555555556,\"#d8576b\"],[0.6666666666666666,\"#ed7953\"],[0.7777777777777778,\"#fb9f3a\"],[0.8888888888888888,\"#fdca26\"],[1.0,\"#f0f921\"]],\"type\":\"histogram2dcontour\"}],\"mesh3d\":[{\"colorbar\":{\"outlinewidth\":0,\"ticks\":\"\"},\"type\":\"mesh3d\"}],\"parcoords\":[{\"line\":{\"colorbar\":{\"outlinewidth\":0,\"ticks\":\"\"}},\"type\":\"parcoords\"}],\"pie\":[{\"automargin\":true,\"type\":\"pie\"}],\"scatter\":[{\"marker\":{\"colorbar\":{\"outlinewidth\":0,\"ticks\":\"\"}},\"type\":\"scatter\"}],\"scatter3d\":[{\"line\":{\"colorbar\":{\"outlinewidth\":0,\"ticks\":\"\"}},\"marker\":{\"colorbar\":{\"outlinewidth\":0,\"ticks\":\"\"}},\"type\":\"scatter3d\"}],\"scattercarpet\":[{\"marker\":{\"colorbar\":{\"outlinewidth\":0,\"ticks\":\"\"}},\"type\":\"scattercarpet\"}],\"scattergeo\":[{\"marker\":{\"colorbar\":{\"outlinewidth\":0,\"ticks\":\"\"}},\"type\":\"scattergeo\"}],\"scattergl\":[{\"marker\":{\"colorbar\":{\"outlinewidth\":0,\"ticks\":\"\"}},\"type\":\"scattergl\"}],\"scattermapbox\":[{\"marker\":{\"colorbar\":{\"outlinewidth\":0,\"ticks\":\"\"}},\"type\":\"scattermapbox\"}],\"scatterpolar\":[{\"marker\":{\"colorbar\":{\"outlinewidth\":0,\"ticks\":\"\"}},\"type\":\"scatterpolar\"}],\"scatterpolargl\":[{\"marker\":{\"colorbar\":{\"outlinewidth\":0,\"ticks\":\"\"}},\"type\":\"scatterpolargl\"}],\"scatterternary\":[{\"marker\":{\"colorbar\":{\"outlinewidth\":0,\"ticks\":\"\"}},\"type\":\"scatterternary\"}],\"surface\":[{\"colorbar\":{\"outlinewidth\":0,\"ticks\":\"\"},\"colorscale\":[[0.0,\"#0d0887\"],[0.1111111111111111,\"#46039f\"],[0.2222222222222222,\"#7201a8\"],[0.3333333333333333,\"#9c179e\"],[0.4444444444444444,\"#bd3786\"],[0.5555555555555556,\"#d8576b\"],[0.6666666666666666,\"#ed7953\"],[0.7777777777777778,\"#fb9f3a\"],[0.8888888888888888,\"#fdca26\"],[1.0,\"#f0f921\"]],\"type\":\"surface\"}],\"table\":[{\"cells\":{\"fill\":{\"color\":\"#EBF0F8\"},\"line\":{\"color\":\"white\"}},\"header\":{\"fill\":{\"color\":\"#C8D4E3\"},\"line\":{\"color\":\"white\"}},\"type\":\"table\"}]},\"layout\":{\"annotationdefaults\":{\"arrowcolor\":\"#2a3f5f\",\"arrowhead\":0,\"arrowwidth\":1},\"autotypenumbers\":\"strict\",\"coloraxis\":{\"colorbar\":{\"outlinewidth\":0,\"ticks\":\"\"}},\"colorscale\":{\"diverging\":[[0,\"#8e0152\"],[0.1,\"#c51b7d\"],[0.2,\"#de77ae\"],[0.3,\"#f1b6da\"],[0.4,\"#fde0ef\"],[0.5,\"#f7f7f7\"],[0.6,\"#e6f5d0\"],[0.7,\"#b8e186\"],[0.8,\"#7fbc41\"],[0.9,\"#4d9221\"],[1,\"#276419\"]],\"sequential\":[[0.0,\"#0d0887\"],[0.1111111111111111,\"#46039f\"],[0.2222222222222222,\"#7201a8\"],[0.3333333333333333,\"#9c179e\"],[0.4444444444444444,\"#bd3786\"],[0.5555555555555556,\"#d8576b\"],[0.6666666666666666,\"#ed7953\"],[0.7777777777777778,\"#fb9f3a\"],[0.8888888888888888,\"#fdca26\"],[1.0,\"#f0f921\"]],\"sequentialminus\":[[0.0,\"#0d0887\"],[0.1111111111111111,\"#46039f\"],[0.2222222222222222,\"#7201a8\"],[0.3333333333333333,\"#9c179e\"],[0.4444444444444444,\"#bd3786\"],[0.5555555555555556,\"#d8576b\"],[0.6666666666666666,\"#ed7953\"],[0.7777777777777778,\"#fb9f3a\"],[0.8888888888888888,\"#fdca26\"],[1.0,\"#f0f921\"]]},\"colorway\":[\"#636efa\",\"#EF553B\",\"#00cc96\",\"#ab63fa\",\"#FFA15A\",\"#19d3f3\",\"#FF6692\",\"#B6E880\",\"#FF97FF\",\"#FECB52\"],\"font\":{\"color\":\"#2a3f5f\"},\"geo\":{\"bgcolor\":\"white\",\"lakecolor\":\"white\",\"landcolor\":\"#E5ECF6\",\"showlakes\":true,\"showland\":true,\"subunitcolor\":\"white\"},\"hoverlabel\":{\"align\":\"left\"},\"hovermode\":\"closest\",\"mapbox\":{\"style\":\"light\"},\"paper_bgcolor\":\"white\",\"plot_bgcolor\":\"#E5ECF6\",\"polar\":{\"angularaxis\":{\"gridcolor\":\"white\",\"linecolor\":\"white\",\"ticks\":\"\"},\"bgcolor\":\"#E5ECF6\",\"radialaxis\":{\"gridcolor\":\"white\",\"linecolor\":\"white\",\"ticks\":\"\"}},\"scene\":{\"xaxis\":{\"backgroundcolor\":\"#E5ECF6\",\"gridcolor\":\"white\",\"gridwidth\":2,\"linecolor\":\"white\",\"showbackground\":true,\"ticks\":\"\",\"zerolinecolor\":\"white\"},\"yaxis\":{\"backgroundcolor\":\"#E5ECF6\",\"gridcolor\":\"white\",\"gridwidth\":2,\"linecolor\":\"white\",\"showbackground\":true,\"ticks\":\"\",\"zerolinecolor\":\"white\"},\"zaxis\":{\"backgroundcolor\":\"#E5ECF6\",\"gridcolor\":\"white\",\"gridwidth\":2,\"linecolor\":\"white\",\"showbackground\":true,\"ticks\":\"\",\"zerolinecolor\":\"white\"}},\"shapedefaults\":{\"line\":{\"color\":\"#2a3f5f\"}},\"ternary\":{\"aaxis\":{\"gridcolor\":\"white\",\"linecolor\":\"white\",\"ticks\":\"\"},\"baxis\":{\"gridcolor\":\"white\",\"linecolor\":\"white\",\"ticks\":\"\"},\"bgcolor\":\"#E5ECF6\",\"caxis\":{\"gridcolor\":\"white\",\"linecolor\":\"white\",\"ticks\":\"\"}},\"title\":{\"x\":0.05},\"xaxis\":{\"automargin\":true,\"gridcolor\":\"white\",\"linecolor\":\"white\",\"ticks\":\"\",\"title\":{\"standoff\":15},\"zerolinecolor\":\"white\",\"zerolinewidth\":2},\"yaxis\":{\"automargin\":true,\"gridcolor\":\"white\",\"linecolor\":\"white\",\"ticks\":\"\",\"title\":{\"standoff\":15},\"zerolinecolor\":\"white\",\"zerolinewidth\":2}}},\"xaxis\":{\"anchor\":\"y\",\"domain\":[0.0,1.0],\"title\":{\"text\":\"product_type_name\"}},\"yaxis\":{\"anchor\":\"x\",\"domain\":[0.0,1.0],\"title\":{\"text\":\"count\"}},\"legend\":{\"title\":{\"text\":\"colour_group_name\"},\"tracegroupgap\":0},\"title\":{\"text\":\"2020 Product Trends\"},\"barmode\":\"group\"},                        {\"responsive\": true}                    )                };                            </script>        </div>\n</body>\n</html>",
       "datasetInfos": [],
       "metadata": {},
       "removedWidgets": [],
       "textData": null,
       "type": "htmlSandbox"
      }
     },
     "output_type": "display_data"
    }
   ],
   "source": [
    "\n",
    "fig1 = px.bar(trend_product_2019pd, x=trend_product_2019pd['product_type_name'], y=trend_product_2019pd['count'], \n",
    "              color=trend_product_2019pd['colour_group_name'], barmode='group',title=\"2019 Product Trends\")\n",
    "\n",
    "fig2 = px.bar(trend_product_2020pd, x=trend_product_2020pd['product_type_name'], y=trend_product_2020pd['count'], \n",
    "              color=trend_product_2020pd['colour_group_name'], barmode='group',title=\"2020 Product Trends\")\n",
    "fig1.show()\n",
    "fig2.show()"
   ]
  },
  {
   "cell_type": "markdown",
   "metadata": {
    "application/vnd.databricks.v1+cell": {
     "cellMetadata": {},
     "inputWidgets": {},
     "nuid": "f6b3d4a9-5907-4597-870e-6832e893e8bc",
     "showTitle": false,
     "tableResultSettingsMap": {},
     "title": ""
    }
   },
   "source": [
    "Above graphs show that in both 2019 and 2020, black trousers are the leader of year trend, the same can be said about trend changes of dress. But changes are seen in 2020 trends of:\n",
    "- Leggins: In contrast to 2019, in 2020 it has been purchased much more\n",
    "- T-shirts have less popularity in purchase trends in 2020\n",
    "\n",
    "These two products' trend changes can be taken account by sales managers"
   ]
  },
  {
   "cell_type": "markdown",
   "metadata": {
    "application/vnd.databricks.v1+cell": {
     "cellMetadata": {},
     "inputWidgets": {},
     "nuid": "56a66bc3-15f9-4a75-bd59-0173c9298474",
     "showTitle": false,
     "tableResultSettingsMap": {},
     "title": ""
    }
   },
   "source": [
    "**Analyzing product trend by year seasons**"
   ]
  },
  {
   "cell_type": "code",
   "execution_count": null,
   "metadata": {
    "application/vnd.databricks.v1+cell": {
     "cellMetadata": {
      "byteLimit": 2048000,
      "rowLimit": 10000
     },
     "inputWidgets": {},
     "nuid": "035b1120-3b13-4385-8b95-5e2f16bf8716",
     "showTitle": false,
     "tableResultSettingsMap": {},
     "title": ""
    }
   },
   "outputs": [],
   "source": [
    "season_trend = transactions_with_articles.groupBy(\"year\", \"season\", \"product_type_name\", 'colour_group_name') \\\n",
    "    .count() \\\n",
    "    .orderBy(\"year\", \"season\", \"count\", ascending=False)"
   ]
  },
  {
   "cell_type": "code",
   "execution_count": null,
   "metadata": {
    "application/vnd.databricks.v1+cell": {
     "cellMetadata": {
      "byteLimit": 2048000,
      "rowLimit": 10000
     },
     "inputWidgets": {},
     "nuid": "2d72fc8e-4113-47f3-a6bc-bb8cc5e1c960",
     "showTitle": false,
     "tableResultSettingsMap": {},
     "title": ""
    }
   },
   "outputs": [
    {
     "name": "stdout",
     "output_type": "stream",
     "text": [
      "+----+------+-----------------+-----------------+-----+\n",
      "|year|season|product_type_name|colour_group_name|count|\n",
      "+----+------+-----------------+-----------------+-----+\n",
      "|2020|Winter|         Trousers|            Black| 3304|\n",
      "|2020|Winter|            Dress|            Black| 2136|\n",
      "|2020|Winter|  Leggings/Tights|            Black| 1739|\n",
      "|2020|Winter|              Top|            Black| 1516|\n",
      "|2020|Winter|          Sweater|            Black| 1499|\n",
      "|2020|Winter|              Bra|            Black| 1491|\n",
      "|2020|Winter| Underwear bottom|            Black| 1215|\n",
      "|2020|Winter|         Trousers|        Dark Blue| 1139|\n",
      "|2020|Winter|         Trousers|             Blue| 1084|\n",
      "|2020|Winter|          T-shirt|            Black| 1043|\n",
      "+----+------+-----------------+-----------------+-----+\n",
      "\n",
      "+----+------+-----------------+-----------------+-----+\n",
      "|year|season|product_type_name|colour_group_name|count|\n",
      "+----+------+-----------------+-----------------+-----+\n",
      "|2019|Spring|         Trousers|            Black| 5224|\n",
      "|2019|Spring|            Dress|            Black| 4929|\n",
      "|2019|Spring|          T-shirt|            White| 3314|\n",
      "|2019|Spring|          T-shirt|            Black| 2820|\n",
      "|2019|Spring|         Trousers|        Dark Blue| 2441|\n",
      "|2019|Spring|         Vest top|            Black| 2403|\n",
      "|2019|Spring|       Bikini top|            Black| 2400|\n",
      "|2019|Spring|  Swimwear bottom|            Black| 2345|\n",
      "|2019|Spring|              Top|            Black| 2208|\n",
      "|2019|Spring|           Blouse|            White| 2184|\n",
      "+----+------+-----------------+-----------------+-----+\n",
      "\n",
      "+----+------+-----------------+-----------------+-----+\n",
      "|year|season|product_type_name|colour_group_name|count|\n",
      "+----+------+-----------------+-----------------+-----+\n",
      "|2019|Summer|            Dress|            Black| 5983|\n",
      "|2019|Summer|         Trousers|            Black| 5288|\n",
      "|2019|Summer|          T-shirt|            White| 3715|\n",
      "|2019|Summer|           Shorts|            Black| 3429|\n",
      "|2019|Summer|         Vest top|            Black| 3405|\n",
      "|2019|Summer|  Swimwear bottom|            Black| 3184|\n",
      "|2019|Summer|          T-shirt|            Black| 2815|\n",
      "|2019|Summer|       Bikini top|            Black| 2748|\n",
      "|2019|Summer|           Blouse|            White| 2730|\n",
      "|2019|Summer|              Top|            Black| 2508|\n",
      "+----+------+-----------------+-----------------+-----+\n",
      "\n",
      "+----+------+-----------------+-----------------+-----+\n",
      "|year|season|product_type_name|colour_group_name|count|\n",
      "+----+------+-----------------+-----------------+-----+\n",
      "|2019|Autumn|         Trousers|            Black| 7015|\n",
      "|2019|Autumn|            Dress|            Black| 4335|\n",
      "|2019|Autumn|          Sweater|            Black| 4019|\n",
      "|2019|Autumn|              Top|            Black| 2718|\n",
      "|2019|Autumn|  Leggings/Tights|            Black| 2369|\n",
      "|2019|Autumn|         Trousers|             Blue| 2076|\n",
      "|2019|Autumn|         Trousers|        Dark Blue| 2062|\n",
      "|2019|Autumn|            Skirt|            Black| 1756|\n",
      "|2019|Autumn|              Bra|            Black| 1746|\n",
      "|2019|Autumn|          T-shirt|            Black| 1654|\n",
      "+----+------+-----------------+-----------------+-----+\n",
      "\n"
     ]
    }
   ],
   "source": [
    "season_trend_winter = season_trend.filter(F.col('season')=='Winter').limit(10)\n",
    "season_trend_spring = season_trend.filter(F.col('season')=='Spring').limit(10)\n",
    "season_trend_summer = season_trend.filter(F.col('season')=='Summer').limit(10)\n",
    "season_trend_autumn = season_trend.filter(F.col('season')=='Autumn').limit(10)\n",
    "season_trend_winter.show()\n",
    "season_trend_spring.show()\n",
    "season_trend_summer.show()\n",
    "season_trend_autumn.show()"
   ]
  },
  {
   "cell_type": "code",
   "execution_count": null,
   "metadata": {
    "application/vnd.databricks.v1+cell": {
     "cellMetadata": {
      "byteLimit": 2048000,
      "rowLimit": 10000
     },
     "inputWidgets": {},
     "nuid": "c30b39f4-085f-43fd-8379-7bd2d07adf8f",
     "showTitle": false,
     "tableResultSettingsMap": {},
     "title": ""
    }
   },
   "outputs": [],
   "source": [
    "season_trend_winter_pd = season_trend_winter.toPandas()\n",
    "season_trend_spring_pd = season_trend_spring.toPandas()\n",
    "season_trend_summer_pd = season_trend_summer.toPandas()\n",
    "season_trend_autumn_pd = season_trend_autumn.toPandas()"
   ]
  },
  {
   "cell_type": "code",
   "execution_count": null,
   "metadata": {
    "application/vnd.databricks.v1+cell": {
     "cellMetadata": {
      "byteLimit": 2048000,
      "rowLimit": 10000
     },
     "inputWidgets": {},
     "nuid": "f9ef1ed4-1e73-4757-b9b1-6fceada967d8",
     "showTitle": false,
     "tableResultSettingsMap": {},
     "title": ""
    }
   },
   "outputs": [
    {
     "data": {
      "text/html": [
       "<html>\n",
       "<head><meta charset=\"utf-8\" /></head>\n",
       "<body>\n",
       "    <div>            <script src=\"https://cdnjs.cloudflare.com/ajax/libs/mathjax/2.7.5/MathJax.js?config=TeX-AMS-MML_SVG\"></script><script type=\"text/javascript\">if (window.MathJax) {MathJax.Hub.Config({SVG: {font: \"STIX-Web\"}});}</script>                <script type=\"text/javascript\">window.PlotlyConfig = {MathJaxConfig: 'local'};</script>\n",
       "        <script src=\"https://cdn.plot.ly/plotly-2.9.0.min.js\"></script>                <div id=\"2b73ba05-337d-426e-b715-6533fedac21e\" class=\"plotly-graph-div\" style=\"height:100%; width:100%;\"></div>            <script type=\"text/javascript\">                                    window.PLOTLYENV=window.PLOTLYENV || {};                                    if (document.getElementById(\"2b73ba05-337d-426e-b715-6533fedac21e\")) {                    Plotly.newPlot(                        \"2b73ba05-337d-426e-b715-6533fedac21e\",                        [{\"alignmentgroup\":\"True\",\"hovertemplate\":\"colour_group_name=Black<br>product_type_name=%{x}<br>count=%{y}<extra></extra>\",\"legendgroup\":\"Black\",\"marker\":{\"color\":\"#636efa\",\"pattern\":{\"shape\":\"\"}},\"name\":\"Black\",\"offsetgroup\":\"Black\",\"orientation\":\"v\",\"showlegend\":true,\"textposition\":\"auto\",\"x\":[\"Trousers\",\"Dress\",\"Leggings/Tights\",\"Top\",\"Sweater\",\"Bra\",\"Underwear bottom\",\"T-shirt\"],\"xaxis\":\"x\",\"y\":[3304,2136,1739,1516,1499,1491,1215,1043],\"yaxis\":\"y\",\"type\":\"bar\"},{\"alignmentgroup\":\"True\",\"hovertemplate\":\"colour_group_name=Dark Blue<br>product_type_name=%{x}<br>count=%{y}<extra></extra>\",\"legendgroup\":\"Dark Blue\",\"marker\":{\"color\":\"#EF553B\",\"pattern\":{\"shape\":\"\"}},\"name\":\"Dark Blue\",\"offsetgroup\":\"Dark Blue\",\"orientation\":\"v\",\"showlegend\":true,\"textposition\":\"auto\",\"x\":[\"Trousers\"],\"xaxis\":\"x\",\"y\":[1139],\"yaxis\":\"y\",\"type\":\"bar\"},{\"alignmentgroup\":\"True\",\"hovertemplate\":\"colour_group_name=Blue<br>product_type_name=%{x}<br>count=%{y}<extra></extra>\",\"legendgroup\":\"Blue\",\"marker\":{\"color\":\"#00cc96\",\"pattern\":{\"shape\":\"\"}},\"name\":\"Blue\",\"offsetgroup\":\"Blue\",\"orientation\":\"v\",\"showlegend\":true,\"textposition\":\"auto\",\"x\":[\"Trousers\"],\"xaxis\":\"x\",\"y\":[1084],\"yaxis\":\"y\",\"type\":\"bar\"}],                        {\"template\":{\"data\":{\"bar\":[{\"error_x\":{\"color\":\"#2a3f5f\"},\"error_y\":{\"color\":\"#2a3f5f\"},\"marker\":{\"line\":{\"color\":\"#E5ECF6\",\"width\":0.5},\"pattern\":{\"fillmode\":\"overlay\",\"size\":10,\"solidity\":0.2}},\"type\":\"bar\"}],\"barpolar\":[{\"marker\":{\"line\":{\"color\":\"#E5ECF6\",\"width\":0.5},\"pattern\":{\"fillmode\":\"overlay\",\"size\":10,\"solidity\":0.2}},\"type\":\"barpolar\"}],\"carpet\":[{\"aaxis\":{\"endlinecolor\":\"#2a3f5f\",\"gridcolor\":\"white\",\"linecolor\":\"white\",\"minorgridcolor\":\"white\",\"startlinecolor\":\"#2a3f5f\"},\"baxis\":{\"endlinecolor\":\"#2a3f5f\",\"gridcolor\":\"white\",\"linecolor\":\"white\",\"minorgridcolor\":\"white\",\"startlinecolor\":\"#2a3f5f\"},\"type\":\"carpet\"}],\"choropleth\":[{\"colorbar\":{\"outlinewidth\":0,\"ticks\":\"\"},\"type\":\"choropleth\"}],\"contour\":[{\"colorbar\":{\"outlinewidth\":0,\"ticks\":\"\"},\"colorscale\":[[0.0,\"#0d0887\"],[0.1111111111111111,\"#46039f\"],[0.2222222222222222,\"#7201a8\"],[0.3333333333333333,\"#9c179e\"],[0.4444444444444444,\"#bd3786\"],[0.5555555555555556,\"#d8576b\"],[0.6666666666666666,\"#ed7953\"],[0.7777777777777778,\"#fb9f3a\"],[0.8888888888888888,\"#fdca26\"],[1.0,\"#f0f921\"]],\"type\":\"contour\"}],\"contourcarpet\":[{\"colorbar\":{\"outlinewidth\":0,\"ticks\":\"\"},\"type\":\"contourcarpet\"}],\"heatmap\":[{\"colorbar\":{\"outlinewidth\":0,\"ticks\":\"\"},\"colorscale\":[[0.0,\"#0d0887\"],[0.1111111111111111,\"#46039f\"],[0.2222222222222222,\"#7201a8\"],[0.3333333333333333,\"#9c179e\"],[0.4444444444444444,\"#bd3786\"],[0.5555555555555556,\"#d8576b\"],[0.6666666666666666,\"#ed7953\"],[0.7777777777777778,\"#fb9f3a\"],[0.8888888888888888,\"#fdca26\"],[1.0,\"#f0f921\"]],\"type\":\"heatmap\"}],\"heatmapgl\":[{\"colorbar\":{\"outlinewidth\":0,\"ticks\":\"\"},\"colorscale\":[[0.0,\"#0d0887\"],[0.1111111111111111,\"#46039f\"],[0.2222222222222222,\"#7201a8\"],[0.3333333333333333,\"#9c179e\"],[0.4444444444444444,\"#bd3786\"],[0.5555555555555556,\"#d8576b\"],[0.6666666666666666,\"#ed7953\"],[0.7777777777777778,\"#fb9f3a\"],[0.8888888888888888,\"#fdca26\"],[1.0,\"#f0f921\"]],\"type\":\"heatmapgl\"}],\"histogram\":[{\"marker\":{\"pattern\":{\"fillmode\":\"overlay\",\"size\":10,\"solidity\":0.2}},\"type\":\"histogram\"}],\"histogram2d\":[{\"colorbar\":{\"outlinewidth\":0,\"ticks\":\"\"},\"colorscale\":[[0.0,\"#0d0887\"],[0.1111111111111111,\"#46039f\"],[0.2222222222222222,\"#7201a8\"],[0.3333333333333333,\"#9c179e\"],[0.4444444444444444,\"#bd3786\"],[0.5555555555555556,\"#d8576b\"],[0.6666666666666666,\"#ed7953\"],[0.7777777777777778,\"#fb9f3a\"],[0.8888888888888888,\"#fdca26\"],[1.0,\"#f0f921\"]],\"type\":\"histogram2d\"}],\"histogram2dcontour\":[{\"colorbar\":{\"outlinewidth\":0,\"ticks\":\"\"},\"colorscale\":[[0.0,\"#0d0887\"],[0.1111111111111111,\"#46039f\"],[0.2222222222222222,\"#7201a8\"],[0.3333333333333333,\"#9c179e\"],[0.4444444444444444,\"#bd3786\"],[0.5555555555555556,\"#d8576b\"],[0.6666666666666666,\"#ed7953\"],[0.7777777777777778,\"#fb9f3a\"],[0.8888888888888888,\"#fdca26\"],[1.0,\"#f0f921\"]],\"type\":\"histogram2dcontour\"}],\"mesh3d\":[{\"colorbar\":{\"outlinewidth\":0,\"ticks\":\"\"},\"type\":\"mesh3d\"}],\"parcoords\":[{\"line\":{\"colorbar\":{\"outlinewidth\":0,\"ticks\":\"\"}},\"type\":\"parcoords\"}],\"pie\":[{\"automargin\":true,\"type\":\"pie\"}],\"scatter\":[{\"marker\":{\"colorbar\":{\"outlinewidth\":0,\"ticks\":\"\"}},\"type\":\"scatter\"}],\"scatter3d\":[{\"line\":{\"colorbar\":{\"outlinewidth\":0,\"ticks\":\"\"}},\"marker\":{\"colorbar\":{\"outlinewidth\":0,\"ticks\":\"\"}},\"type\":\"scatter3d\"}],\"scattercarpet\":[{\"marker\":{\"colorbar\":{\"outlinewidth\":0,\"ticks\":\"\"}},\"type\":\"scattercarpet\"}],\"scattergeo\":[{\"marker\":{\"colorbar\":{\"outlinewidth\":0,\"ticks\":\"\"}},\"type\":\"scattergeo\"}],\"scattergl\":[{\"marker\":{\"colorbar\":{\"outlinewidth\":0,\"ticks\":\"\"}},\"type\":\"scattergl\"}],\"scattermapbox\":[{\"marker\":{\"colorbar\":{\"outlinewidth\":0,\"ticks\":\"\"}},\"type\":\"scattermapbox\"}],\"scatterpolar\":[{\"marker\":{\"colorbar\":{\"outlinewidth\":0,\"ticks\":\"\"}},\"type\":\"scatterpolar\"}],\"scatterpolargl\":[{\"marker\":{\"colorbar\":{\"outlinewidth\":0,\"ticks\":\"\"}},\"type\":\"scatterpolargl\"}],\"scatterternary\":[{\"marker\":{\"colorbar\":{\"outlinewidth\":0,\"ticks\":\"\"}},\"type\":\"scatterternary\"}],\"surface\":[{\"colorbar\":{\"outlinewidth\":0,\"ticks\":\"\"},\"colorscale\":[[0.0,\"#0d0887\"],[0.1111111111111111,\"#46039f\"],[0.2222222222222222,\"#7201a8\"],[0.3333333333333333,\"#9c179e\"],[0.4444444444444444,\"#bd3786\"],[0.5555555555555556,\"#d8576b\"],[0.6666666666666666,\"#ed7953\"],[0.7777777777777778,\"#fb9f3a\"],[0.8888888888888888,\"#fdca26\"],[1.0,\"#f0f921\"]],\"type\":\"surface\"}],\"table\":[{\"cells\":{\"fill\":{\"color\":\"#EBF0F8\"},\"line\":{\"color\":\"white\"}},\"header\":{\"fill\":{\"color\":\"#C8D4E3\"},\"line\":{\"color\":\"white\"}},\"type\":\"table\"}]},\"layout\":{\"annotationdefaults\":{\"arrowcolor\":\"#2a3f5f\",\"arrowhead\":0,\"arrowwidth\":1},\"autotypenumbers\":\"strict\",\"coloraxis\":{\"colorbar\":{\"outlinewidth\":0,\"ticks\":\"\"}},\"colorscale\":{\"diverging\":[[0,\"#8e0152\"],[0.1,\"#c51b7d\"],[0.2,\"#de77ae\"],[0.3,\"#f1b6da\"],[0.4,\"#fde0ef\"],[0.5,\"#f7f7f7\"],[0.6,\"#e6f5d0\"],[0.7,\"#b8e186\"],[0.8,\"#7fbc41\"],[0.9,\"#4d9221\"],[1,\"#276419\"]],\"sequential\":[[0.0,\"#0d0887\"],[0.1111111111111111,\"#46039f\"],[0.2222222222222222,\"#7201a8\"],[0.3333333333333333,\"#9c179e\"],[0.4444444444444444,\"#bd3786\"],[0.5555555555555556,\"#d8576b\"],[0.6666666666666666,\"#ed7953\"],[0.7777777777777778,\"#fb9f3a\"],[0.8888888888888888,\"#fdca26\"],[1.0,\"#f0f921\"]],\"sequentialminus\":[[0.0,\"#0d0887\"],[0.1111111111111111,\"#46039f\"],[0.2222222222222222,\"#7201a8\"],[0.3333333333333333,\"#9c179e\"],[0.4444444444444444,\"#bd3786\"],[0.5555555555555556,\"#d8576b\"],[0.6666666666666666,\"#ed7953\"],[0.7777777777777778,\"#fb9f3a\"],[0.8888888888888888,\"#fdca26\"],[1.0,\"#f0f921\"]]},\"colorway\":[\"#636efa\",\"#EF553B\",\"#00cc96\",\"#ab63fa\",\"#FFA15A\",\"#19d3f3\",\"#FF6692\",\"#B6E880\",\"#FF97FF\",\"#FECB52\"],\"font\":{\"color\":\"#2a3f5f\"},\"geo\":{\"bgcolor\":\"white\",\"lakecolor\":\"white\",\"landcolor\":\"#E5ECF6\",\"showlakes\":true,\"showland\":true,\"subunitcolor\":\"white\"},\"hoverlabel\":{\"align\":\"left\"},\"hovermode\":\"closest\",\"mapbox\":{\"style\":\"light\"},\"paper_bgcolor\":\"white\",\"plot_bgcolor\":\"#E5ECF6\",\"polar\":{\"angularaxis\":{\"gridcolor\":\"white\",\"linecolor\":\"white\",\"ticks\":\"\"},\"bgcolor\":\"#E5ECF6\",\"radialaxis\":{\"gridcolor\":\"white\",\"linecolor\":\"white\",\"ticks\":\"\"}},\"scene\":{\"xaxis\":{\"backgroundcolor\":\"#E5ECF6\",\"gridcolor\":\"white\",\"gridwidth\":2,\"linecolor\":\"white\",\"showbackground\":true,\"ticks\":\"\",\"zerolinecolor\":\"white\"},\"yaxis\":{\"backgroundcolor\":\"#E5ECF6\",\"gridcolor\":\"white\",\"gridwidth\":2,\"linecolor\":\"white\",\"showbackground\":true,\"ticks\":\"\",\"zerolinecolor\":\"white\"},\"zaxis\":{\"backgroundcolor\":\"#E5ECF6\",\"gridcolor\":\"white\",\"gridwidth\":2,\"linecolor\":\"white\",\"showbackground\":true,\"ticks\":\"\",\"zerolinecolor\":\"white\"}},\"shapedefaults\":{\"line\":{\"color\":\"#2a3f5f\"}},\"ternary\":{\"aaxis\":{\"gridcolor\":\"white\",\"linecolor\":\"white\",\"ticks\":\"\"},\"baxis\":{\"gridcolor\":\"white\",\"linecolor\":\"white\",\"ticks\":\"\"},\"bgcolor\":\"#E5ECF6\",\"caxis\":{\"gridcolor\":\"white\",\"linecolor\":\"white\",\"ticks\":\"\"}},\"title\":{\"x\":0.05},\"xaxis\":{\"automargin\":true,\"gridcolor\":\"white\",\"linecolor\":\"white\",\"ticks\":\"\",\"title\":{\"standoff\":15},\"zerolinecolor\":\"white\",\"zerolinewidth\":2},\"yaxis\":{\"automargin\":true,\"gridcolor\":\"white\",\"linecolor\":\"white\",\"ticks\":\"\",\"title\":{\"standoff\":15},\"zerolinecolor\":\"white\",\"zerolinewidth\":2}}},\"xaxis\":{\"anchor\":\"y\",\"domain\":[0.0,1.0],\"title\":{\"text\":\"product_type_name\"}},\"yaxis\":{\"anchor\":\"x\",\"domain\":[0.0,1.0],\"title\":{\"text\":\"count\"}},\"legend\":{\"title\":{\"text\":\"colour_group_name\"},\"tracegroupgap\":0},\"title\":{\"text\":\"Product Trends in Winter\"},\"barmode\":\"group\"},                        {\"responsive\": true}                    )                };                            </script>        </div>\n",
       "</body>\n",
       "</html>"
      ]
     },
     "metadata": {
      "application/vnd.databricks.v1+output": {
       "addedWidgets": {},
       "arguments": {},
       "data": "<html>\n<head><meta charset=\"utf-8\" /></head>\n<body>\n    <div>            <script src=\"https://cdnjs.cloudflare.com/ajax/libs/mathjax/2.7.5/MathJax.js?config=TeX-AMS-MML_SVG\"></script><script type=\"text/javascript\">if (window.MathJax) {MathJax.Hub.Config({SVG: {font: \"STIX-Web\"}});}</script>                <script type=\"text/javascript\">window.PlotlyConfig = {MathJaxConfig: 'local'};</script>\n        <script src=\"https://cdn.plot.ly/plotly-2.9.0.min.js\"></script>                <div id=\"2b73ba05-337d-426e-b715-6533fedac21e\" class=\"plotly-graph-div\" style=\"height:100%; width:100%;\"></div>            <script type=\"text/javascript\">                                    window.PLOTLYENV=window.PLOTLYENV || {};                                    if (document.getElementById(\"2b73ba05-337d-426e-b715-6533fedac21e\")) {                    Plotly.newPlot(                        \"2b73ba05-337d-426e-b715-6533fedac21e\",                        [{\"alignmentgroup\":\"True\",\"hovertemplate\":\"colour_group_name=Black<br>product_type_name=%{x}<br>count=%{y}<extra></extra>\",\"legendgroup\":\"Black\",\"marker\":{\"color\":\"#636efa\",\"pattern\":{\"shape\":\"\"}},\"name\":\"Black\",\"offsetgroup\":\"Black\",\"orientation\":\"v\",\"showlegend\":true,\"textposition\":\"auto\",\"x\":[\"Trousers\",\"Dress\",\"Leggings/Tights\",\"Top\",\"Sweater\",\"Bra\",\"Underwear bottom\",\"T-shirt\"],\"xaxis\":\"x\",\"y\":[3304,2136,1739,1516,1499,1491,1215,1043],\"yaxis\":\"y\",\"type\":\"bar\"},{\"alignmentgroup\":\"True\",\"hovertemplate\":\"colour_group_name=Dark Blue<br>product_type_name=%{x}<br>count=%{y}<extra></extra>\",\"legendgroup\":\"Dark Blue\",\"marker\":{\"color\":\"#EF553B\",\"pattern\":{\"shape\":\"\"}},\"name\":\"Dark Blue\",\"offsetgroup\":\"Dark Blue\",\"orientation\":\"v\",\"showlegend\":true,\"textposition\":\"auto\",\"x\":[\"Trousers\"],\"xaxis\":\"x\",\"y\":[1139],\"yaxis\":\"y\",\"type\":\"bar\"},{\"alignmentgroup\":\"True\",\"hovertemplate\":\"colour_group_name=Blue<br>product_type_name=%{x}<br>count=%{y}<extra></extra>\",\"legendgroup\":\"Blue\",\"marker\":{\"color\":\"#00cc96\",\"pattern\":{\"shape\":\"\"}},\"name\":\"Blue\",\"offsetgroup\":\"Blue\",\"orientation\":\"v\",\"showlegend\":true,\"textposition\":\"auto\",\"x\":[\"Trousers\"],\"xaxis\":\"x\",\"y\":[1084],\"yaxis\":\"y\",\"type\":\"bar\"}],                        {\"template\":{\"data\":{\"bar\":[{\"error_x\":{\"color\":\"#2a3f5f\"},\"error_y\":{\"color\":\"#2a3f5f\"},\"marker\":{\"line\":{\"color\":\"#E5ECF6\",\"width\":0.5},\"pattern\":{\"fillmode\":\"overlay\",\"size\":10,\"solidity\":0.2}},\"type\":\"bar\"}],\"barpolar\":[{\"marker\":{\"line\":{\"color\":\"#E5ECF6\",\"width\":0.5},\"pattern\":{\"fillmode\":\"overlay\",\"size\":10,\"solidity\":0.2}},\"type\":\"barpolar\"}],\"carpet\":[{\"aaxis\":{\"endlinecolor\":\"#2a3f5f\",\"gridcolor\":\"white\",\"linecolor\":\"white\",\"minorgridcolor\":\"white\",\"startlinecolor\":\"#2a3f5f\"},\"baxis\":{\"endlinecolor\":\"#2a3f5f\",\"gridcolor\":\"white\",\"linecolor\":\"white\",\"minorgridcolor\":\"white\",\"startlinecolor\":\"#2a3f5f\"},\"type\":\"carpet\"}],\"choropleth\":[{\"colorbar\":{\"outlinewidth\":0,\"ticks\":\"\"},\"type\":\"choropleth\"}],\"contour\":[{\"colorbar\":{\"outlinewidth\":0,\"ticks\":\"\"},\"colorscale\":[[0.0,\"#0d0887\"],[0.1111111111111111,\"#46039f\"],[0.2222222222222222,\"#7201a8\"],[0.3333333333333333,\"#9c179e\"],[0.4444444444444444,\"#bd3786\"],[0.5555555555555556,\"#d8576b\"],[0.6666666666666666,\"#ed7953\"],[0.7777777777777778,\"#fb9f3a\"],[0.8888888888888888,\"#fdca26\"],[1.0,\"#f0f921\"]],\"type\":\"contour\"}],\"contourcarpet\":[{\"colorbar\":{\"outlinewidth\":0,\"ticks\":\"\"},\"type\":\"contourcarpet\"}],\"heatmap\":[{\"colorbar\":{\"outlinewidth\":0,\"ticks\":\"\"},\"colorscale\":[[0.0,\"#0d0887\"],[0.1111111111111111,\"#46039f\"],[0.2222222222222222,\"#7201a8\"],[0.3333333333333333,\"#9c179e\"],[0.4444444444444444,\"#bd3786\"],[0.5555555555555556,\"#d8576b\"],[0.6666666666666666,\"#ed7953\"],[0.7777777777777778,\"#fb9f3a\"],[0.8888888888888888,\"#fdca26\"],[1.0,\"#f0f921\"]],\"type\":\"heatmap\"}],\"heatmapgl\":[{\"colorbar\":{\"outlinewidth\":0,\"ticks\":\"\"},\"colorscale\":[[0.0,\"#0d0887\"],[0.1111111111111111,\"#46039f\"],[0.2222222222222222,\"#7201a8\"],[0.3333333333333333,\"#9c179e\"],[0.4444444444444444,\"#bd3786\"],[0.5555555555555556,\"#d8576b\"],[0.6666666666666666,\"#ed7953\"],[0.7777777777777778,\"#fb9f3a\"],[0.8888888888888888,\"#fdca26\"],[1.0,\"#f0f921\"]],\"type\":\"heatmapgl\"}],\"histogram\":[{\"marker\":{\"pattern\":{\"fillmode\":\"overlay\",\"size\":10,\"solidity\":0.2}},\"type\":\"histogram\"}],\"histogram2d\":[{\"colorbar\":{\"outlinewidth\":0,\"ticks\":\"\"},\"colorscale\":[[0.0,\"#0d0887\"],[0.1111111111111111,\"#46039f\"],[0.2222222222222222,\"#7201a8\"],[0.3333333333333333,\"#9c179e\"],[0.4444444444444444,\"#bd3786\"],[0.5555555555555556,\"#d8576b\"],[0.6666666666666666,\"#ed7953\"],[0.7777777777777778,\"#fb9f3a\"],[0.8888888888888888,\"#fdca26\"],[1.0,\"#f0f921\"]],\"type\":\"histogram2d\"}],\"histogram2dcontour\":[{\"colorbar\":{\"outlinewidth\":0,\"ticks\":\"\"},\"colorscale\":[[0.0,\"#0d0887\"],[0.1111111111111111,\"#46039f\"],[0.2222222222222222,\"#7201a8\"],[0.3333333333333333,\"#9c179e\"],[0.4444444444444444,\"#bd3786\"],[0.5555555555555556,\"#d8576b\"],[0.6666666666666666,\"#ed7953\"],[0.7777777777777778,\"#fb9f3a\"],[0.8888888888888888,\"#fdca26\"],[1.0,\"#f0f921\"]],\"type\":\"histogram2dcontour\"}],\"mesh3d\":[{\"colorbar\":{\"outlinewidth\":0,\"ticks\":\"\"},\"type\":\"mesh3d\"}],\"parcoords\":[{\"line\":{\"colorbar\":{\"outlinewidth\":0,\"ticks\":\"\"}},\"type\":\"parcoords\"}],\"pie\":[{\"automargin\":true,\"type\":\"pie\"}],\"scatter\":[{\"marker\":{\"colorbar\":{\"outlinewidth\":0,\"ticks\":\"\"}},\"type\":\"scatter\"}],\"scatter3d\":[{\"line\":{\"colorbar\":{\"outlinewidth\":0,\"ticks\":\"\"}},\"marker\":{\"colorbar\":{\"outlinewidth\":0,\"ticks\":\"\"}},\"type\":\"scatter3d\"}],\"scattercarpet\":[{\"marker\":{\"colorbar\":{\"outlinewidth\":0,\"ticks\":\"\"}},\"type\":\"scattercarpet\"}],\"scattergeo\":[{\"marker\":{\"colorbar\":{\"outlinewidth\":0,\"ticks\":\"\"}},\"type\":\"scattergeo\"}],\"scattergl\":[{\"marker\":{\"colorbar\":{\"outlinewidth\":0,\"ticks\":\"\"}},\"type\":\"scattergl\"}],\"scattermapbox\":[{\"marker\":{\"colorbar\":{\"outlinewidth\":0,\"ticks\":\"\"}},\"type\":\"scattermapbox\"}],\"scatterpolar\":[{\"marker\":{\"colorbar\":{\"outlinewidth\":0,\"ticks\":\"\"}},\"type\":\"scatterpolar\"}],\"scatterpolargl\":[{\"marker\":{\"colorbar\":{\"outlinewidth\":0,\"ticks\":\"\"}},\"type\":\"scatterpolargl\"}],\"scatterternary\":[{\"marker\":{\"colorbar\":{\"outlinewidth\":0,\"ticks\":\"\"}},\"type\":\"scatterternary\"}],\"surface\":[{\"colorbar\":{\"outlinewidth\":0,\"ticks\":\"\"},\"colorscale\":[[0.0,\"#0d0887\"],[0.1111111111111111,\"#46039f\"],[0.2222222222222222,\"#7201a8\"],[0.3333333333333333,\"#9c179e\"],[0.4444444444444444,\"#bd3786\"],[0.5555555555555556,\"#d8576b\"],[0.6666666666666666,\"#ed7953\"],[0.7777777777777778,\"#fb9f3a\"],[0.8888888888888888,\"#fdca26\"],[1.0,\"#f0f921\"]],\"type\":\"surface\"}],\"table\":[{\"cells\":{\"fill\":{\"color\":\"#EBF0F8\"},\"line\":{\"color\":\"white\"}},\"header\":{\"fill\":{\"color\":\"#C8D4E3\"},\"line\":{\"color\":\"white\"}},\"type\":\"table\"}]},\"layout\":{\"annotationdefaults\":{\"arrowcolor\":\"#2a3f5f\",\"arrowhead\":0,\"arrowwidth\":1},\"autotypenumbers\":\"strict\",\"coloraxis\":{\"colorbar\":{\"outlinewidth\":0,\"ticks\":\"\"}},\"colorscale\":{\"diverging\":[[0,\"#8e0152\"],[0.1,\"#c51b7d\"],[0.2,\"#de77ae\"],[0.3,\"#f1b6da\"],[0.4,\"#fde0ef\"],[0.5,\"#f7f7f7\"],[0.6,\"#e6f5d0\"],[0.7,\"#b8e186\"],[0.8,\"#7fbc41\"],[0.9,\"#4d9221\"],[1,\"#276419\"]],\"sequential\":[[0.0,\"#0d0887\"],[0.1111111111111111,\"#46039f\"],[0.2222222222222222,\"#7201a8\"],[0.3333333333333333,\"#9c179e\"],[0.4444444444444444,\"#bd3786\"],[0.5555555555555556,\"#d8576b\"],[0.6666666666666666,\"#ed7953\"],[0.7777777777777778,\"#fb9f3a\"],[0.8888888888888888,\"#fdca26\"],[1.0,\"#f0f921\"]],\"sequentialminus\":[[0.0,\"#0d0887\"],[0.1111111111111111,\"#46039f\"],[0.2222222222222222,\"#7201a8\"],[0.3333333333333333,\"#9c179e\"],[0.4444444444444444,\"#bd3786\"],[0.5555555555555556,\"#d8576b\"],[0.6666666666666666,\"#ed7953\"],[0.7777777777777778,\"#fb9f3a\"],[0.8888888888888888,\"#fdca26\"],[1.0,\"#f0f921\"]]},\"colorway\":[\"#636efa\",\"#EF553B\",\"#00cc96\",\"#ab63fa\",\"#FFA15A\",\"#19d3f3\",\"#FF6692\",\"#B6E880\",\"#FF97FF\",\"#FECB52\"],\"font\":{\"color\":\"#2a3f5f\"},\"geo\":{\"bgcolor\":\"white\",\"lakecolor\":\"white\",\"landcolor\":\"#E5ECF6\",\"showlakes\":true,\"showland\":true,\"subunitcolor\":\"white\"},\"hoverlabel\":{\"align\":\"left\"},\"hovermode\":\"closest\",\"mapbox\":{\"style\":\"light\"},\"paper_bgcolor\":\"white\",\"plot_bgcolor\":\"#E5ECF6\",\"polar\":{\"angularaxis\":{\"gridcolor\":\"white\",\"linecolor\":\"white\",\"ticks\":\"\"},\"bgcolor\":\"#E5ECF6\",\"radialaxis\":{\"gridcolor\":\"white\",\"linecolor\":\"white\",\"ticks\":\"\"}},\"scene\":{\"xaxis\":{\"backgroundcolor\":\"#E5ECF6\",\"gridcolor\":\"white\",\"gridwidth\":2,\"linecolor\":\"white\",\"showbackground\":true,\"ticks\":\"\",\"zerolinecolor\":\"white\"},\"yaxis\":{\"backgroundcolor\":\"#E5ECF6\",\"gridcolor\":\"white\",\"gridwidth\":2,\"linecolor\":\"white\",\"showbackground\":true,\"ticks\":\"\",\"zerolinecolor\":\"white\"},\"zaxis\":{\"backgroundcolor\":\"#E5ECF6\",\"gridcolor\":\"white\",\"gridwidth\":2,\"linecolor\":\"white\",\"showbackground\":true,\"ticks\":\"\",\"zerolinecolor\":\"white\"}},\"shapedefaults\":{\"line\":{\"color\":\"#2a3f5f\"}},\"ternary\":{\"aaxis\":{\"gridcolor\":\"white\",\"linecolor\":\"white\",\"ticks\":\"\"},\"baxis\":{\"gridcolor\":\"white\",\"linecolor\":\"white\",\"ticks\":\"\"},\"bgcolor\":\"#E5ECF6\",\"caxis\":{\"gridcolor\":\"white\",\"linecolor\":\"white\",\"ticks\":\"\"}},\"title\":{\"x\":0.05},\"xaxis\":{\"automargin\":true,\"gridcolor\":\"white\",\"linecolor\":\"white\",\"ticks\":\"\",\"title\":{\"standoff\":15},\"zerolinecolor\":\"white\",\"zerolinewidth\":2},\"yaxis\":{\"automargin\":true,\"gridcolor\":\"white\",\"linecolor\":\"white\",\"ticks\":\"\",\"title\":{\"standoff\":15},\"zerolinecolor\":\"white\",\"zerolinewidth\":2}}},\"xaxis\":{\"anchor\":\"y\",\"domain\":[0.0,1.0],\"title\":{\"text\":\"product_type_name\"}},\"yaxis\":{\"anchor\":\"x\",\"domain\":[0.0,1.0],\"title\":{\"text\":\"count\"}},\"legend\":{\"title\":{\"text\":\"colour_group_name\"},\"tracegroupgap\":0},\"title\":{\"text\":\"Product Trends in Winter\"},\"barmode\":\"group\"},                        {\"responsive\": true}                    )                };                            </script>        </div>\n</body>\n</html>",
       "datasetInfos": [],
       "metadata": {},
       "removedWidgets": [],
       "textData": null,
       "type": "htmlSandbox"
      }
     },
     "output_type": "display_data"
    },
    {
     "data": {
      "text/html": [
       "<html>\n",
       "<head><meta charset=\"utf-8\" /></head>\n",
       "<body>\n",
       "    <div>            <script src=\"https://cdnjs.cloudflare.com/ajax/libs/mathjax/2.7.5/MathJax.js?config=TeX-AMS-MML_SVG\"></script><script type=\"text/javascript\">if (window.MathJax) {MathJax.Hub.Config({SVG: {font: \"STIX-Web\"}});}</script>                <script type=\"text/javascript\">window.PlotlyConfig = {MathJaxConfig: 'local'};</script>\n",
       "        <script src=\"https://cdn.plot.ly/plotly-2.9.0.min.js\"></script>                <div id=\"c5ab1c11-33c6-4229-b726-4d5b3aea52ac\" class=\"plotly-graph-div\" style=\"height:100%; width:100%;\"></div>            <script type=\"text/javascript\">                                    window.PLOTLYENV=window.PLOTLYENV || {};                                    if (document.getElementById(\"c5ab1c11-33c6-4229-b726-4d5b3aea52ac\")) {                    Plotly.newPlot(                        \"c5ab1c11-33c6-4229-b726-4d5b3aea52ac\",                        [{\"alignmentgroup\":\"True\",\"hovertemplate\":\"colour_group_name=Black<br>product_type_name=%{x}<br>count=%{y}<extra></extra>\",\"legendgroup\":\"Black\",\"marker\":{\"color\":\"#636efa\",\"pattern\":{\"shape\":\"\"}},\"name\":\"Black\",\"offsetgroup\":\"Black\",\"orientation\":\"v\",\"showlegend\":true,\"textposition\":\"auto\",\"x\":[\"Trousers\",\"Dress\",\"T-shirt\",\"Vest top\",\"Bikini top\",\"Swimwear bottom\",\"Top\"],\"xaxis\":\"x\",\"y\":[5224,4929,2820,2403,2400,2345,2208],\"yaxis\":\"y\",\"type\":\"bar\"},{\"alignmentgroup\":\"True\",\"hovertemplate\":\"colour_group_name=White<br>product_type_name=%{x}<br>count=%{y}<extra></extra>\",\"legendgroup\":\"White\",\"marker\":{\"color\":\"#EF553B\",\"pattern\":{\"shape\":\"\"}},\"name\":\"White\",\"offsetgroup\":\"White\",\"orientation\":\"v\",\"showlegend\":true,\"textposition\":\"auto\",\"x\":[\"T-shirt\",\"Blouse\"],\"xaxis\":\"x\",\"y\":[3314,2184],\"yaxis\":\"y\",\"type\":\"bar\"},{\"alignmentgroup\":\"True\",\"hovertemplate\":\"colour_group_name=Dark Blue<br>product_type_name=%{x}<br>count=%{y}<extra></extra>\",\"legendgroup\":\"Dark Blue\",\"marker\":{\"color\":\"#00cc96\",\"pattern\":{\"shape\":\"\"}},\"name\":\"Dark Blue\",\"offsetgroup\":\"Dark Blue\",\"orientation\":\"v\",\"showlegend\":true,\"textposition\":\"auto\",\"x\":[\"Trousers\"],\"xaxis\":\"x\",\"y\":[2441],\"yaxis\":\"y\",\"type\":\"bar\"}],                        {\"template\":{\"data\":{\"bar\":[{\"error_x\":{\"color\":\"#2a3f5f\"},\"error_y\":{\"color\":\"#2a3f5f\"},\"marker\":{\"line\":{\"color\":\"#E5ECF6\",\"width\":0.5},\"pattern\":{\"fillmode\":\"overlay\",\"size\":10,\"solidity\":0.2}},\"type\":\"bar\"}],\"barpolar\":[{\"marker\":{\"line\":{\"color\":\"#E5ECF6\",\"width\":0.5},\"pattern\":{\"fillmode\":\"overlay\",\"size\":10,\"solidity\":0.2}},\"type\":\"barpolar\"}],\"carpet\":[{\"aaxis\":{\"endlinecolor\":\"#2a3f5f\",\"gridcolor\":\"white\",\"linecolor\":\"white\",\"minorgridcolor\":\"white\",\"startlinecolor\":\"#2a3f5f\"},\"baxis\":{\"endlinecolor\":\"#2a3f5f\",\"gridcolor\":\"white\",\"linecolor\":\"white\",\"minorgridcolor\":\"white\",\"startlinecolor\":\"#2a3f5f\"},\"type\":\"carpet\"}],\"choropleth\":[{\"colorbar\":{\"outlinewidth\":0,\"ticks\":\"\"},\"type\":\"choropleth\"}],\"contour\":[{\"colorbar\":{\"outlinewidth\":0,\"ticks\":\"\"},\"colorscale\":[[0.0,\"#0d0887\"],[0.1111111111111111,\"#46039f\"],[0.2222222222222222,\"#7201a8\"],[0.3333333333333333,\"#9c179e\"],[0.4444444444444444,\"#bd3786\"],[0.5555555555555556,\"#d8576b\"],[0.6666666666666666,\"#ed7953\"],[0.7777777777777778,\"#fb9f3a\"],[0.8888888888888888,\"#fdca26\"],[1.0,\"#f0f921\"]],\"type\":\"contour\"}],\"contourcarpet\":[{\"colorbar\":{\"outlinewidth\":0,\"ticks\":\"\"},\"type\":\"contourcarpet\"}],\"heatmap\":[{\"colorbar\":{\"outlinewidth\":0,\"ticks\":\"\"},\"colorscale\":[[0.0,\"#0d0887\"],[0.1111111111111111,\"#46039f\"],[0.2222222222222222,\"#7201a8\"],[0.3333333333333333,\"#9c179e\"],[0.4444444444444444,\"#bd3786\"],[0.5555555555555556,\"#d8576b\"],[0.6666666666666666,\"#ed7953\"],[0.7777777777777778,\"#fb9f3a\"],[0.8888888888888888,\"#fdca26\"],[1.0,\"#f0f921\"]],\"type\":\"heatmap\"}],\"heatmapgl\":[{\"colorbar\":{\"outlinewidth\":0,\"ticks\":\"\"},\"colorscale\":[[0.0,\"#0d0887\"],[0.1111111111111111,\"#46039f\"],[0.2222222222222222,\"#7201a8\"],[0.3333333333333333,\"#9c179e\"],[0.4444444444444444,\"#bd3786\"],[0.5555555555555556,\"#d8576b\"],[0.6666666666666666,\"#ed7953\"],[0.7777777777777778,\"#fb9f3a\"],[0.8888888888888888,\"#fdca26\"],[1.0,\"#f0f921\"]],\"type\":\"heatmapgl\"}],\"histogram\":[{\"marker\":{\"pattern\":{\"fillmode\":\"overlay\",\"size\":10,\"solidity\":0.2}},\"type\":\"histogram\"}],\"histogram2d\":[{\"colorbar\":{\"outlinewidth\":0,\"ticks\":\"\"},\"colorscale\":[[0.0,\"#0d0887\"],[0.1111111111111111,\"#46039f\"],[0.2222222222222222,\"#7201a8\"],[0.3333333333333333,\"#9c179e\"],[0.4444444444444444,\"#bd3786\"],[0.5555555555555556,\"#d8576b\"],[0.6666666666666666,\"#ed7953\"],[0.7777777777777778,\"#fb9f3a\"],[0.8888888888888888,\"#fdca26\"],[1.0,\"#f0f921\"]],\"type\":\"histogram2d\"}],\"histogram2dcontour\":[{\"colorbar\":{\"outlinewidth\":0,\"ticks\":\"\"},\"colorscale\":[[0.0,\"#0d0887\"],[0.1111111111111111,\"#46039f\"],[0.2222222222222222,\"#7201a8\"],[0.3333333333333333,\"#9c179e\"],[0.4444444444444444,\"#bd3786\"],[0.5555555555555556,\"#d8576b\"],[0.6666666666666666,\"#ed7953\"],[0.7777777777777778,\"#fb9f3a\"],[0.8888888888888888,\"#fdca26\"],[1.0,\"#f0f921\"]],\"type\":\"histogram2dcontour\"}],\"mesh3d\":[{\"colorbar\":{\"outlinewidth\":0,\"ticks\":\"\"},\"type\":\"mesh3d\"}],\"parcoords\":[{\"line\":{\"colorbar\":{\"outlinewidth\":0,\"ticks\":\"\"}},\"type\":\"parcoords\"}],\"pie\":[{\"automargin\":true,\"type\":\"pie\"}],\"scatter\":[{\"marker\":{\"colorbar\":{\"outlinewidth\":0,\"ticks\":\"\"}},\"type\":\"scatter\"}],\"scatter3d\":[{\"line\":{\"colorbar\":{\"outlinewidth\":0,\"ticks\":\"\"}},\"marker\":{\"colorbar\":{\"outlinewidth\":0,\"ticks\":\"\"}},\"type\":\"scatter3d\"}],\"scattercarpet\":[{\"marker\":{\"colorbar\":{\"outlinewidth\":0,\"ticks\":\"\"}},\"type\":\"scattercarpet\"}],\"scattergeo\":[{\"marker\":{\"colorbar\":{\"outlinewidth\":0,\"ticks\":\"\"}},\"type\":\"scattergeo\"}],\"scattergl\":[{\"marker\":{\"colorbar\":{\"outlinewidth\":0,\"ticks\":\"\"}},\"type\":\"scattergl\"}],\"scattermapbox\":[{\"marker\":{\"colorbar\":{\"outlinewidth\":0,\"ticks\":\"\"}},\"type\":\"scattermapbox\"}],\"scatterpolar\":[{\"marker\":{\"colorbar\":{\"outlinewidth\":0,\"ticks\":\"\"}},\"type\":\"scatterpolar\"}],\"scatterpolargl\":[{\"marker\":{\"colorbar\":{\"outlinewidth\":0,\"ticks\":\"\"}},\"type\":\"scatterpolargl\"}],\"scatterternary\":[{\"marker\":{\"colorbar\":{\"outlinewidth\":0,\"ticks\":\"\"}},\"type\":\"scatterternary\"}],\"surface\":[{\"colorbar\":{\"outlinewidth\":0,\"ticks\":\"\"},\"colorscale\":[[0.0,\"#0d0887\"],[0.1111111111111111,\"#46039f\"],[0.2222222222222222,\"#7201a8\"],[0.3333333333333333,\"#9c179e\"],[0.4444444444444444,\"#bd3786\"],[0.5555555555555556,\"#d8576b\"],[0.6666666666666666,\"#ed7953\"],[0.7777777777777778,\"#fb9f3a\"],[0.8888888888888888,\"#fdca26\"],[1.0,\"#f0f921\"]],\"type\":\"surface\"}],\"table\":[{\"cells\":{\"fill\":{\"color\":\"#EBF0F8\"},\"line\":{\"color\":\"white\"}},\"header\":{\"fill\":{\"color\":\"#C8D4E3\"},\"line\":{\"color\":\"white\"}},\"type\":\"table\"}]},\"layout\":{\"annotationdefaults\":{\"arrowcolor\":\"#2a3f5f\",\"arrowhead\":0,\"arrowwidth\":1},\"autotypenumbers\":\"strict\",\"coloraxis\":{\"colorbar\":{\"outlinewidth\":0,\"ticks\":\"\"}},\"colorscale\":{\"diverging\":[[0,\"#8e0152\"],[0.1,\"#c51b7d\"],[0.2,\"#de77ae\"],[0.3,\"#f1b6da\"],[0.4,\"#fde0ef\"],[0.5,\"#f7f7f7\"],[0.6,\"#e6f5d0\"],[0.7,\"#b8e186\"],[0.8,\"#7fbc41\"],[0.9,\"#4d9221\"],[1,\"#276419\"]],\"sequential\":[[0.0,\"#0d0887\"],[0.1111111111111111,\"#46039f\"],[0.2222222222222222,\"#7201a8\"],[0.3333333333333333,\"#9c179e\"],[0.4444444444444444,\"#bd3786\"],[0.5555555555555556,\"#d8576b\"],[0.6666666666666666,\"#ed7953\"],[0.7777777777777778,\"#fb9f3a\"],[0.8888888888888888,\"#fdca26\"],[1.0,\"#f0f921\"]],\"sequentialminus\":[[0.0,\"#0d0887\"],[0.1111111111111111,\"#46039f\"],[0.2222222222222222,\"#7201a8\"],[0.3333333333333333,\"#9c179e\"],[0.4444444444444444,\"#bd3786\"],[0.5555555555555556,\"#d8576b\"],[0.6666666666666666,\"#ed7953\"],[0.7777777777777778,\"#fb9f3a\"],[0.8888888888888888,\"#fdca26\"],[1.0,\"#f0f921\"]]},\"colorway\":[\"#636efa\",\"#EF553B\",\"#00cc96\",\"#ab63fa\",\"#FFA15A\",\"#19d3f3\",\"#FF6692\",\"#B6E880\",\"#FF97FF\",\"#FECB52\"],\"font\":{\"color\":\"#2a3f5f\"},\"geo\":{\"bgcolor\":\"white\",\"lakecolor\":\"white\",\"landcolor\":\"#E5ECF6\",\"showlakes\":true,\"showland\":true,\"subunitcolor\":\"white\"},\"hoverlabel\":{\"align\":\"left\"},\"hovermode\":\"closest\",\"mapbox\":{\"style\":\"light\"},\"paper_bgcolor\":\"white\",\"plot_bgcolor\":\"#E5ECF6\",\"polar\":{\"angularaxis\":{\"gridcolor\":\"white\",\"linecolor\":\"white\",\"ticks\":\"\"},\"bgcolor\":\"#E5ECF6\",\"radialaxis\":{\"gridcolor\":\"white\",\"linecolor\":\"white\",\"ticks\":\"\"}},\"scene\":{\"xaxis\":{\"backgroundcolor\":\"#E5ECF6\",\"gridcolor\":\"white\",\"gridwidth\":2,\"linecolor\":\"white\",\"showbackground\":true,\"ticks\":\"\",\"zerolinecolor\":\"white\"},\"yaxis\":{\"backgroundcolor\":\"#E5ECF6\",\"gridcolor\":\"white\",\"gridwidth\":2,\"linecolor\":\"white\",\"showbackground\":true,\"ticks\":\"\",\"zerolinecolor\":\"white\"},\"zaxis\":{\"backgroundcolor\":\"#E5ECF6\",\"gridcolor\":\"white\",\"gridwidth\":2,\"linecolor\":\"white\",\"showbackground\":true,\"ticks\":\"\",\"zerolinecolor\":\"white\"}},\"shapedefaults\":{\"line\":{\"color\":\"#2a3f5f\"}},\"ternary\":{\"aaxis\":{\"gridcolor\":\"white\",\"linecolor\":\"white\",\"ticks\":\"\"},\"baxis\":{\"gridcolor\":\"white\",\"linecolor\":\"white\",\"ticks\":\"\"},\"bgcolor\":\"#E5ECF6\",\"caxis\":{\"gridcolor\":\"white\",\"linecolor\":\"white\",\"ticks\":\"\"}},\"title\":{\"x\":0.05},\"xaxis\":{\"automargin\":true,\"gridcolor\":\"white\",\"linecolor\":\"white\",\"ticks\":\"\",\"title\":{\"standoff\":15},\"zerolinecolor\":\"white\",\"zerolinewidth\":2},\"yaxis\":{\"automargin\":true,\"gridcolor\":\"white\",\"linecolor\":\"white\",\"ticks\":\"\",\"title\":{\"standoff\":15},\"zerolinecolor\":\"white\",\"zerolinewidth\":2}}},\"xaxis\":{\"anchor\":\"y\",\"domain\":[0.0,1.0],\"title\":{\"text\":\"product_type_name\"}},\"yaxis\":{\"anchor\":\"x\",\"domain\":[0.0,1.0],\"title\":{\"text\":\"count\"}},\"legend\":{\"title\":{\"text\":\"colour_group_name\"},\"tracegroupgap\":0},\"title\":{\"text\":\"Product Trends in Spring\"},\"barmode\":\"group\"},                        {\"responsive\": true}                    )                };                            </script>        </div>\n",
       "</body>\n",
       "</html>"
      ]
     },
     "metadata": {
      "application/vnd.databricks.v1+output": {
       "addedWidgets": {},
       "arguments": {},
       "data": "<html>\n<head><meta charset=\"utf-8\" /></head>\n<body>\n    <div>            <script src=\"https://cdnjs.cloudflare.com/ajax/libs/mathjax/2.7.5/MathJax.js?config=TeX-AMS-MML_SVG\"></script><script type=\"text/javascript\">if (window.MathJax) {MathJax.Hub.Config({SVG: {font: \"STIX-Web\"}});}</script>                <script type=\"text/javascript\">window.PlotlyConfig = {MathJaxConfig: 'local'};</script>\n        <script src=\"https://cdn.plot.ly/plotly-2.9.0.min.js\"></script>                <div id=\"c5ab1c11-33c6-4229-b726-4d5b3aea52ac\" class=\"plotly-graph-div\" style=\"height:100%; width:100%;\"></div>            <script type=\"text/javascript\">                                    window.PLOTLYENV=window.PLOTLYENV || {};                                    if (document.getElementById(\"c5ab1c11-33c6-4229-b726-4d5b3aea52ac\")) {                    Plotly.newPlot(                        \"c5ab1c11-33c6-4229-b726-4d5b3aea52ac\",                        [{\"alignmentgroup\":\"True\",\"hovertemplate\":\"colour_group_name=Black<br>product_type_name=%{x}<br>count=%{y}<extra></extra>\",\"legendgroup\":\"Black\",\"marker\":{\"color\":\"#636efa\",\"pattern\":{\"shape\":\"\"}},\"name\":\"Black\",\"offsetgroup\":\"Black\",\"orientation\":\"v\",\"showlegend\":true,\"textposition\":\"auto\",\"x\":[\"Trousers\",\"Dress\",\"T-shirt\",\"Vest top\",\"Bikini top\",\"Swimwear bottom\",\"Top\"],\"xaxis\":\"x\",\"y\":[5224,4929,2820,2403,2400,2345,2208],\"yaxis\":\"y\",\"type\":\"bar\"},{\"alignmentgroup\":\"True\",\"hovertemplate\":\"colour_group_name=White<br>product_type_name=%{x}<br>count=%{y}<extra></extra>\",\"legendgroup\":\"White\",\"marker\":{\"color\":\"#EF553B\",\"pattern\":{\"shape\":\"\"}},\"name\":\"White\",\"offsetgroup\":\"White\",\"orientation\":\"v\",\"showlegend\":true,\"textposition\":\"auto\",\"x\":[\"T-shirt\",\"Blouse\"],\"xaxis\":\"x\",\"y\":[3314,2184],\"yaxis\":\"y\",\"type\":\"bar\"},{\"alignmentgroup\":\"True\",\"hovertemplate\":\"colour_group_name=Dark Blue<br>product_type_name=%{x}<br>count=%{y}<extra></extra>\",\"legendgroup\":\"Dark Blue\",\"marker\":{\"color\":\"#00cc96\",\"pattern\":{\"shape\":\"\"}},\"name\":\"Dark Blue\",\"offsetgroup\":\"Dark Blue\",\"orientation\":\"v\",\"showlegend\":true,\"textposition\":\"auto\",\"x\":[\"Trousers\"],\"xaxis\":\"x\",\"y\":[2441],\"yaxis\":\"y\",\"type\":\"bar\"}],                        {\"template\":{\"data\":{\"bar\":[{\"error_x\":{\"color\":\"#2a3f5f\"},\"error_y\":{\"color\":\"#2a3f5f\"},\"marker\":{\"line\":{\"color\":\"#E5ECF6\",\"width\":0.5},\"pattern\":{\"fillmode\":\"overlay\",\"size\":10,\"solidity\":0.2}},\"type\":\"bar\"}],\"barpolar\":[{\"marker\":{\"line\":{\"color\":\"#E5ECF6\",\"width\":0.5},\"pattern\":{\"fillmode\":\"overlay\",\"size\":10,\"solidity\":0.2}},\"type\":\"barpolar\"}],\"carpet\":[{\"aaxis\":{\"endlinecolor\":\"#2a3f5f\",\"gridcolor\":\"white\",\"linecolor\":\"white\",\"minorgridcolor\":\"white\",\"startlinecolor\":\"#2a3f5f\"},\"baxis\":{\"endlinecolor\":\"#2a3f5f\",\"gridcolor\":\"white\",\"linecolor\":\"white\",\"minorgridcolor\":\"white\",\"startlinecolor\":\"#2a3f5f\"},\"type\":\"carpet\"}],\"choropleth\":[{\"colorbar\":{\"outlinewidth\":0,\"ticks\":\"\"},\"type\":\"choropleth\"}],\"contour\":[{\"colorbar\":{\"outlinewidth\":0,\"ticks\":\"\"},\"colorscale\":[[0.0,\"#0d0887\"],[0.1111111111111111,\"#46039f\"],[0.2222222222222222,\"#7201a8\"],[0.3333333333333333,\"#9c179e\"],[0.4444444444444444,\"#bd3786\"],[0.5555555555555556,\"#d8576b\"],[0.6666666666666666,\"#ed7953\"],[0.7777777777777778,\"#fb9f3a\"],[0.8888888888888888,\"#fdca26\"],[1.0,\"#f0f921\"]],\"type\":\"contour\"}],\"contourcarpet\":[{\"colorbar\":{\"outlinewidth\":0,\"ticks\":\"\"},\"type\":\"contourcarpet\"}],\"heatmap\":[{\"colorbar\":{\"outlinewidth\":0,\"ticks\":\"\"},\"colorscale\":[[0.0,\"#0d0887\"],[0.1111111111111111,\"#46039f\"],[0.2222222222222222,\"#7201a8\"],[0.3333333333333333,\"#9c179e\"],[0.4444444444444444,\"#bd3786\"],[0.5555555555555556,\"#d8576b\"],[0.6666666666666666,\"#ed7953\"],[0.7777777777777778,\"#fb9f3a\"],[0.8888888888888888,\"#fdca26\"],[1.0,\"#f0f921\"]],\"type\":\"heatmap\"}],\"heatmapgl\":[{\"colorbar\":{\"outlinewidth\":0,\"ticks\":\"\"},\"colorscale\":[[0.0,\"#0d0887\"],[0.1111111111111111,\"#46039f\"],[0.2222222222222222,\"#7201a8\"],[0.3333333333333333,\"#9c179e\"],[0.4444444444444444,\"#bd3786\"],[0.5555555555555556,\"#d8576b\"],[0.6666666666666666,\"#ed7953\"],[0.7777777777777778,\"#fb9f3a\"],[0.8888888888888888,\"#fdca26\"],[1.0,\"#f0f921\"]],\"type\":\"heatmapgl\"}],\"histogram\":[{\"marker\":{\"pattern\":{\"fillmode\":\"overlay\",\"size\":10,\"solidity\":0.2}},\"type\":\"histogram\"}],\"histogram2d\":[{\"colorbar\":{\"outlinewidth\":0,\"ticks\":\"\"},\"colorscale\":[[0.0,\"#0d0887\"],[0.1111111111111111,\"#46039f\"],[0.2222222222222222,\"#7201a8\"],[0.3333333333333333,\"#9c179e\"],[0.4444444444444444,\"#bd3786\"],[0.5555555555555556,\"#d8576b\"],[0.6666666666666666,\"#ed7953\"],[0.7777777777777778,\"#fb9f3a\"],[0.8888888888888888,\"#fdca26\"],[1.0,\"#f0f921\"]],\"type\":\"histogram2d\"}],\"histogram2dcontour\":[{\"colorbar\":{\"outlinewidth\":0,\"ticks\":\"\"},\"colorscale\":[[0.0,\"#0d0887\"],[0.1111111111111111,\"#46039f\"],[0.2222222222222222,\"#7201a8\"],[0.3333333333333333,\"#9c179e\"],[0.4444444444444444,\"#bd3786\"],[0.5555555555555556,\"#d8576b\"],[0.6666666666666666,\"#ed7953\"],[0.7777777777777778,\"#fb9f3a\"],[0.8888888888888888,\"#fdca26\"],[1.0,\"#f0f921\"]],\"type\":\"histogram2dcontour\"}],\"mesh3d\":[{\"colorbar\":{\"outlinewidth\":0,\"ticks\":\"\"},\"type\":\"mesh3d\"}],\"parcoords\":[{\"line\":{\"colorbar\":{\"outlinewidth\":0,\"ticks\":\"\"}},\"type\":\"parcoords\"}],\"pie\":[{\"automargin\":true,\"type\":\"pie\"}],\"scatter\":[{\"marker\":{\"colorbar\":{\"outlinewidth\":0,\"ticks\":\"\"}},\"type\":\"scatter\"}],\"scatter3d\":[{\"line\":{\"colorbar\":{\"outlinewidth\":0,\"ticks\":\"\"}},\"marker\":{\"colorbar\":{\"outlinewidth\":0,\"ticks\":\"\"}},\"type\":\"scatter3d\"}],\"scattercarpet\":[{\"marker\":{\"colorbar\":{\"outlinewidth\":0,\"ticks\":\"\"}},\"type\":\"scattercarpet\"}],\"scattergeo\":[{\"marker\":{\"colorbar\":{\"outlinewidth\":0,\"ticks\":\"\"}},\"type\":\"scattergeo\"}],\"scattergl\":[{\"marker\":{\"colorbar\":{\"outlinewidth\":0,\"ticks\":\"\"}},\"type\":\"scattergl\"}],\"scattermapbox\":[{\"marker\":{\"colorbar\":{\"outlinewidth\":0,\"ticks\":\"\"}},\"type\":\"scattermapbox\"}],\"scatterpolar\":[{\"marker\":{\"colorbar\":{\"outlinewidth\":0,\"ticks\":\"\"}},\"type\":\"scatterpolar\"}],\"scatterpolargl\":[{\"marker\":{\"colorbar\":{\"outlinewidth\":0,\"ticks\":\"\"}},\"type\":\"scatterpolargl\"}],\"scatterternary\":[{\"marker\":{\"colorbar\":{\"outlinewidth\":0,\"ticks\":\"\"}},\"type\":\"scatterternary\"}],\"surface\":[{\"colorbar\":{\"outlinewidth\":0,\"ticks\":\"\"},\"colorscale\":[[0.0,\"#0d0887\"],[0.1111111111111111,\"#46039f\"],[0.2222222222222222,\"#7201a8\"],[0.3333333333333333,\"#9c179e\"],[0.4444444444444444,\"#bd3786\"],[0.5555555555555556,\"#d8576b\"],[0.6666666666666666,\"#ed7953\"],[0.7777777777777778,\"#fb9f3a\"],[0.8888888888888888,\"#fdca26\"],[1.0,\"#f0f921\"]],\"type\":\"surface\"}],\"table\":[{\"cells\":{\"fill\":{\"color\":\"#EBF0F8\"},\"line\":{\"color\":\"white\"}},\"header\":{\"fill\":{\"color\":\"#C8D4E3\"},\"line\":{\"color\":\"white\"}},\"type\":\"table\"}]},\"layout\":{\"annotationdefaults\":{\"arrowcolor\":\"#2a3f5f\",\"arrowhead\":0,\"arrowwidth\":1},\"autotypenumbers\":\"strict\",\"coloraxis\":{\"colorbar\":{\"outlinewidth\":0,\"ticks\":\"\"}},\"colorscale\":{\"diverging\":[[0,\"#8e0152\"],[0.1,\"#c51b7d\"],[0.2,\"#de77ae\"],[0.3,\"#f1b6da\"],[0.4,\"#fde0ef\"],[0.5,\"#f7f7f7\"],[0.6,\"#e6f5d0\"],[0.7,\"#b8e186\"],[0.8,\"#7fbc41\"],[0.9,\"#4d9221\"],[1,\"#276419\"]],\"sequential\":[[0.0,\"#0d0887\"],[0.1111111111111111,\"#46039f\"],[0.2222222222222222,\"#7201a8\"],[0.3333333333333333,\"#9c179e\"],[0.4444444444444444,\"#bd3786\"],[0.5555555555555556,\"#d8576b\"],[0.6666666666666666,\"#ed7953\"],[0.7777777777777778,\"#fb9f3a\"],[0.8888888888888888,\"#fdca26\"],[1.0,\"#f0f921\"]],\"sequentialminus\":[[0.0,\"#0d0887\"],[0.1111111111111111,\"#46039f\"],[0.2222222222222222,\"#7201a8\"],[0.3333333333333333,\"#9c179e\"],[0.4444444444444444,\"#bd3786\"],[0.5555555555555556,\"#d8576b\"],[0.6666666666666666,\"#ed7953\"],[0.7777777777777778,\"#fb9f3a\"],[0.8888888888888888,\"#fdca26\"],[1.0,\"#f0f921\"]]},\"colorway\":[\"#636efa\",\"#EF553B\",\"#00cc96\",\"#ab63fa\",\"#FFA15A\",\"#19d3f3\",\"#FF6692\",\"#B6E880\",\"#FF97FF\",\"#FECB52\"],\"font\":{\"color\":\"#2a3f5f\"},\"geo\":{\"bgcolor\":\"white\",\"lakecolor\":\"white\",\"landcolor\":\"#E5ECF6\",\"showlakes\":true,\"showland\":true,\"subunitcolor\":\"white\"},\"hoverlabel\":{\"align\":\"left\"},\"hovermode\":\"closest\",\"mapbox\":{\"style\":\"light\"},\"paper_bgcolor\":\"white\",\"plot_bgcolor\":\"#E5ECF6\",\"polar\":{\"angularaxis\":{\"gridcolor\":\"white\",\"linecolor\":\"white\",\"ticks\":\"\"},\"bgcolor\":\"#E5ECF6\",\"radialaxis\":{\"gridcolor\":\"white\",\"linecolor\":\"white\",\"ticks\":\"\"}},\"scene\":{\"xaxis\":{\"backgroundcolor\":\"#E5ECF6\",\"gridcolor\":\"white\",\"gridwidth\":2,\"linecolor\":\"white\",\"showbackground\":true,\"ticks\":\"\",\"zerolinecolor\":\"white\"},\"yaxis\":{\"backgroundcolor\":\"#E5ECF6\",\"gridcolor\":\"white\",\"gridwidth\":2,\"linecolor\":\"white\",\"showbackground\":true,\"ticks\":\"\",\"zerolinecolor\":\"white\"},\"zaxis\":{\"backgroundcolor\":\"#E5ECF6\",\"gridcolor\":\"white\",\"gridwidth\":2,\"linecolor\":\"white\",\"showbackground\":true,\"ticks\":\"\",\"zerolinecolor\":\"white\"}},\"shapedefaults\":{\"line\":{\"color\":\"#2a3f5f\"}},\"ternary\":{\"aaxis\":{\"gridcolor\":\"white\",\"linecolor\":\"white\",\"ticks\":\"\"},\"baxis\":{\"gridcolor\":\"white\",\"linecolor\":\"white\",\"ticks\":\"\"},\"bgcolor\":\"#E5ECF6\",\"caxis\":{\"gridcolor\":\"white\",\"linecolor\":\"white\",\"ticks\":\"\"}},\"title\":{\"x\":0.05},\"xaxis\":{\"automargin\":true,\"gridcolor\":\"white\",\"linecolor\":\"white\",\"ticks\":\"\",\"title\":{\"standoff\":15},\"zerolinecolor\":\"white\",\"zerolinewidth\":2},\"yaxis\":{\"automargin\":true,\"gridcolor\":\"white\",\"linecolor\":\"white\",\"ticks\":\"\",\"title\":{\"standoff\":15},\"zerolinecolor\":\"white\",\"zerolinewidth\":2}}},\"xaxis\":{\"anchor\":\"y\",\"domain\":[0.0,1.0],\"title\":{\"text\":\"product_type_name\"}},\"yaxis\":{\"anchor\":\"x\",\"domain\":[0.0,1.0],\"title\":{\"text\":\"count\"}},\"legend\":{\"title\":{\"text\":\"colour_group_name\"},\"tracegroupgap\":0},\"title\":{\"text\":\"Product Trends in Spring\"},\"barmode\":\"group\"},                        {\"responsive\": true}                    )                };                            </script>        </div>\n</body>\n</html>",
       "datasetInfos": [],
       "metadata": {},
       "removedWidgets": [],
       "textData": null,
       "type": "htmlSandbox"
      }
     },
     "output_type": "display_data"
    },
    {
     "data": {
      "text/html": [
       "<html>\n",
       "<head><meta charset=\"utf-8\" /></head>\n",
       "<body>\n",
       "    <div>            <script src=\"https://cdnjs.cloudflare.com/ajax/libs/mathjax/2.7.5/MathJax.js?config=TeX-AMS-MML_SVG\"></script><script type=\"text/javascript\">if (window.MathJax) {MathJax.Hub.Config({SVG: {font: \"STIX-Web\"}});}</script>                <script type=\"text/javascript\">window.PlotlyConfig = {MathJaxConfig: 'local'};</script>\n",
       "        <script src=\"https://cdn.plot.ly/plotly-2.9.0.min.js\"></script>                <div id=\"bfe22769-62ff-47e7-88bb-299890d1cdd7\" class=\"plotly-graph-div\" style=\"height:100%; width:100%;\"></div>            <script type=\"text/javascript\">                                    window.PLOTLYENV=window.PLOTLYENV || {};                                    if (document.getElementById(\"bfe22769-62ff-47e7-88bb-299890d1cdd7\")) {                    Plotly.newPlot(                        \"bfe22769-62ff-47e7-88bb-299890d1cdd7\",                        [{\"alignmentgroup\":\"True\",\"hovertemplate\":\"colour_group_name=Black<br>product_type_name=%{x}<br>count=%{y}<extra></extra>\",\"legendgroup\":\"Black\",\"marker\":{\"color\":\"#636efa\",\"pattern\":{\"shape\":\"\"}},\"name\":\"Black\",\"offsetgroup\":\"Black\",\"orientation\":\"v\",\"showlegend\":true,\"textposition\":\"auto\",\"x\":[\"Dress\",\"Trousers\",\"Shorts\",\"Vest top\",\"Swimwear bottom\",\"T-shirt\",\"Bikini top\",\"Top\"],\"xaxis\":\"x\",\"y\":[5983,5288,3429,3405,3184,2815,2748,2508],\"yaxis\":\"y\",\"type\":\"bar\"},{\"alignmentgroup\":\"True\",\"hovertemplate\":\"colour_group_name=White<br>product_type_name=%{x}<br>count=%{y}<extra></extra>\",\"legendgroup\":\"White\",\"marker\":{\"color\":\"#EF553B\",\"pattern\":{\"shape\":\"\"}},\"name\":\"White\",\"offsetgroup\":\"White\",\"orientation\":\"v\",\"showlegend\":true,\"textposition\":\"auto\",\"x\":[\"T-shirt\",\"Blouse\"],\"xaxis\":\"x\",\"y\":[3715,2730],\"yaxis\":\"y\",\"type\":\"bar\"}],                        {\"template\":{\"data\":{\"bar\":[{\"error_x\":{\"color\":\"#2a3f5f\"},\"error_y\":{\"color\":\"#2a3f5f\"},\"marker\":{\"line\":{\"color\":\"#E5ECF6\",\"width\":0.5},\"pattern\":{\"fillmode\":\"overlay\",\"size\":10,\"solidity\":0.2}},\"type\":\"bar\"}],\"barpolar\":[{\"marker\":{\"line\":{\"color\":\"#E5ECF6\",\"width\":0.5},\"pattern\":{\"fillmode\":\"overlay\",\"size\":10,\"solidity\":0.2}},\"type\":\"barpolar\"}],\"carpet\":[{\"aaxis\":{\"endlinecolor\":\"#2a3f5f\",\"gridcolor\":\"white\",\"linecolor\":\"white\",\"minorgridcolor\":\"white\",\"startlinecolor\":\"#2a3f5f\"},\"baxis\":{\"endlinecolor\":\"#2a3f5f\",\"gridcolor\":\"white\",\"linecolor\":\"white\",\"minorgridcolor\":\"white\",\"startlinecolor\":\"#2a3f5f\"},\"type\":\"carpet\"}],\"choropleth\":[{\"colorbar\":{\"outlinewidth\":0,\"ticks\":\"\"},\"type\":\"choropleth\"}],\"contour\":[{\"colorbar\":{\"outlinewidth\":0,\"ticks\":\"\"},\"colorscale\":[[0.0,\"#0d0887\"],[0.1111111111111111,\"#46039f\"],[0.2222222222222222,\"#7201a8\"],[0.3333333333333333,\"#9c179e\"],[0.4444444444444444,\"#bd3786\"],[0.5555555555555556,\"#d8576b\"],[0.6666666666666666,\"#ed7953\"],[0.7777777777777778,\"#fb9f3a\"],[0.8888888888888888,\"#fdca26\"],[1.0,\"#f0f921\"]],\"type\":\"contour\"}],\"contourcarpet\":[{\"colorbar\":{\"outlinewidth\":0,\"ticks\":\"\"},\"type\":\"contourcarpet\"}],\"heatmap\":[{\"colorbar\":{\"outlinewidth\":0,\"ticks\":\"\"},\"colorscale\":[[0.0,\"#0d0887\"],[0.1111111111111111,\"#46039f\"],[0.2222222222222222,\"#7201a8\"],[0.3333333333333333,\"#9c179e\"],[0.4444444444444444,\"#bd3786\"],[0.5555555555555556,\"#d8576b\"],[0.6666666666666666,\"#ed7953\"],[0.7777777777777778,\"#fb9f3a\"],[0.8888888888888888,\"#fdca26\"],[1.0,\"#f0f921\"]],\"type\":\"heatmap\"}],\"heatmapgl\":[{\"colorbar\":{\"outlinewidth\":0,\"ticks\":\"\"},\"colorscale\":[[0.0,\"#0d0887\"],[0.1111111111111111,\"#46039f\"],[0.2222222222222222,\"#7201a8\"],[0.3333333333333333,\"#9c179e\"],[0.4444444444444444,\"#bd3786\"],[0.5555555555555556,\"#d8576b\"],[0.6666666666666666,\"#ed7953\"],[0.7777777777777778,\"#fb9f3a\"],[0.8888888888888888,\"#fdca26\"],[1.0,\"#f0f921\"]],\"type\":\"heatmapgl\"}],\"histogram\":[{\"marker\":{\"pattern\":{\"fillmode\":\"overlay\",\"size\":10,\"solidity\":0.2}},\"type\":\"histogram\"}],\"histogram2d\":[{\"colorbar\":{\"outlinewidth\":0,\"ticks\":\"\"},\"colorscale\":[[0.0,\"#0d0887\"],[0.1111111111111111,\"#46039f\"],[0.2222222222222222,\"#7201a8\"],[0.3333333333333333,\"#9c179e\"],[0.4444444444444444,\"#bd3786\"],[0.5555555555555556,\"#d8576b\"],[0.6666666666666666,\"#ed7953\"],[0.7777777777777778,\"#fb9f3a\"],[0.8888888888888888,\"#fdca26\"],[1.0,\"#f0f921\"]],\"type\":\"histogram2d\"}],\"histogram2dcontour\":[{\"colorbar\":{\"outlinewidth\":0,\"ticks\":\"\"},\"colorscale\":[[0.0,\"#0d0887\"],[0.1111111111111111,\"#46039f\"],[0.2222222222222222,\"#7201a8\"],[0.3333333333333333,\"#9c179e\"],[0.4444444444444444,\"#bd3786\"],[0.5555555555555556,\"#d8576b\"],[0.6666666666666666,\"#ed7953\"],[0.7777777777777778,\"#fb9f3a\"],[0.8888888888888888,\"#fdca26\"],[1.0,\"#f0f921\"]],\"type\":\"histogram2dcontour\"}],\"mesh3d\":[{\"colorbar\":{\"outlinewidth\":0,\"ticks\":\"\"},\"type\":\"mesh3d\"}],\"parcoords\":[{\"line\":{\"colorbar\":{\"outlinewidth\":0,\"ticks\":\"\"}},\"type\":\"parcoords\"}],\"pie\":[{\"automargin\":true,\"type\":\"pie\"}],\"scatter\":[{\"marker\":{\"colorbar\":{\"outlinewidth\":0,\"ticks\":\"\"}},\"type\":\"scatter\"}],\"scatter3d\":[{\"line\":{\"colorbar\":{\"outlinewidth\":0,\"ticks\":\"\"}},\"marker\":{\"colorbar\":{\"outlinewidth\":0,\"ticks\":\"\"}},\"type\":\"scatter3d\"}],\"scattercarpet\":[{\"marker\":{\"colorbar\":{\"outlinewidth\":0,\"ticks\":\"\"}},\"type\":\"scattercarpet\"}],\"scattergeo\":[{\"marker\":{\"colorbar\":{\"outlinewidth\":0,\"ticks\":\"\"}},\"type\":\"scattergeo\"}],\"scattergl\":[{\"marker\":{\"colorbar\":{\"outlinewidth\":0,\"ticks\":\"\"}},\"type\":\"scattergl\"}],\"scattermapbox\":[{\"marker\":{\"colorbar\":{\"outlinewidth\":0,\"ticks\":\"\"}},\"type\":\"scattermapbox\"}],\"scatterpolar\":[{\"marker\":{\"colorbar\":{\"outlinewidth\":0,\"ticks\":\"\"}},\"type\":\"scatterpolar\"}],\"scatterpolargl\":[{\"marker\":{\"colorbar\":{\"outlinewidth\":0,\"ticks\":\"\"}},\"type\":\"scatterpolargl\"}],\"scatterternary\":[{\"marker\":{\"colorbar\":{\"outlinewidth\":0,\"ticks\":\"\"}},\"type\":\"scatterternary\"}],\"surface\":[{\"colorbar\":{\"outlinewidth\":0,\"ticks\":\"\"},\"colorscale\":[[0.0,\"#0d0887\"],[0.1111111111111111,\"#46039f\"],[0.2222222222222222,\"#7201a8\"],[0.3333333333333333,\"#9c179e\"],[0.4444444444444444,\"#bd3786\"],[0.5555555555555556,\"#d8576b\"],[0.6666666666666666,\"#ed7953\"],[0.7777777777777778,\"#fb9f3a\"],[0.8888888888888888,\"#fdca26\"],[1.0,\"#f0f921\"]],\"type\":\"surface\"}],\"table\":[{\"cells\":{\"fill\":{\"color\":\"#EBF0F8\"},\"line\":{\"color\":\"white\"}},\"header\":{\"fill\":{\"color\":\"#C8D4E3\"},\"line\":{\"color\":\"white\"}},\"type\":\"table\"}]},\"layout\":{\"annotationdefaults\":{\"arrowcolor\":\"#2a3f5f\",\"arrowhead\":0,\"arrowwidth\":1},\"autotypenumbers\":\"strict\",\"coloraxis\":{\"colorbar\":{\"outlinewidth\":0,\"ticks\":\"\"}},\"colorscale\":{\"diverging\":[[0,\"#8e0152\"],[0.1,\"#c51b7d\"],[0.2,\"#de77ae\"],[0.3,\"#f1b6da\"],[0.4,\"#fde0ef\"],[0.5,\"#f7f7f7\"],[0.6,\"#e6f5d0\"],[0.7,\"#b8e186\"],[0.8,\"#7fbc41\"],[0.9,\"#4d9221\"],[1,\"#276419\"]],\"sequential\":[[0.0,\"#0d0887\"],[0.1111111111111111,\"#46039f\"],[0.2222222222222222,\"#7201a8\"],[0.3333333333333333,\"#9c179e\"],[0.4444444444444444,\"#bd3786\"],[0.5555555555555556,\"#d8576b\"],[0.6666666666666666,\"#ed7953\"],[0.7777777777777778,\"#fb9f3a\"],[0.8888888888888888,\"#fdca26\"],[1.0,\"#f0f921\"]],\"sequentialminus\":[[0.0,\"#0d0887\"],[0.1111111111111111,\"#46039f\"],[0.2222222222222222,\"#7201a8\"],[0.3333333333333333,\"#9c179e\"],[0.4444444444444444,\"#bd3786\"],[0.5555555555555556,\"#d8576b\"],[0.6666666666666666,\"#ed7953\"],[0.7777777777777778,\"#fb9f3a\"],[0.8888888888888888,\"#fdca26\"],[1.0,\"#f0f921\"]]},\"colorway\":[\"#636efa\",\"#EF553B\",\"#00cc96\",\"#ab63fa\",\"#FFA15A\",\"#19d3f3\",\"#FF6692\",\"#B6E880\",\"#FF97FF\",\"#FECB52\"],\"font\":{\"color\":\"#2a3f5f\"},\"geo\":{\"bgcolor\":\"white\",\"lakecolor\":\"white\",\"landcolor\":\"#E5ECF6\",\"showlakes\":true,\"showland\":true,\"subunitcolor\":\"white\"},\"hoverlabel\":{\"align\":\"left\"},\"hovermode\":\"closest\",\"mapbox\":{\"style\":\"light\"},\"paper_bgcolor\":\"white\",\"plot_bgcolor\":\"#E5ECF6\",\"polar\":{\"angularaxis\":{\"gridcolor\":\"white\",\"linecolor\":\"white\",\"ticks\":\"\"},\"bgcolor\":\"#E5ECF6\",\"radialaxis\":{\"gridcolor\":\"white\",\"linecolor\":\"white\",\"ticks\":\"\"}},\"scene\":{\"xaxis\":{\"backgroundcolor\":\"#E5ECF6\",\"gridcolor\":\"white\",\"gridwidth\":2,\"linecolor\":\"white\",\"showbackground\":true,\"ticks\":\"\",\"zerolinecolor\":\"white\"},\"yaxis\":{\"backgroundcolor\":\"#E5ECF6\",\"gridcolor\":\"white\",\"gridwidth\":2,\"linecolor\":\"white\",\"showbackground\":true,\"ticks\":\"\",\"zerolinecolor\":\"white\"},\"zaxis\":{\"backgroundcolor\":\"#E5ECF6\",\"gridcolor\":\"white\",\"gridwidth\":2,\"linecolor\":\"white\",\"showbackground\":true,\"ticks\":\"\",\"zerolinecolor\":\"white\"}},\"shapedefaults\":{\"line\":{\"color\":\"#2a3f5f\"}},\"ternary\":{\"aaxis\":{\"gridcolor\":\"white\",\"linecolor\":\"white\",\"ticks\":\"\"},\"baxis\":{\"gridcolor\":\"white\",\"linecolor\":\"white\",\"ticks\":\"\"},\"bgcolor\":\"#E5ECF6\",\"caxis\":{\"gridcolor\":\"white\",\"linecolor\":\"white\",\"ticks\":\"\"}},\"title\":{\"x\":0.05},\"xaxis\":{\"automargin\":true,\"gridcolor\":\"white\",\"linecolor\":\"white\",\"ticks\":\"\",\"title\":{\"standoff\":15},\"zerolinecolor\":\"white\",\"zerolinewidth\":2},\"yaxis\":{\"automargin\":true,\"gridcolor\":\"white\",\"linecolor\":\"white\",\"ticks\":\"\",\"title\":{\"standoff\":15},\"zerolinecolor\":\"white\",\"zerolinewidth\":2}}},\"xaxis\":{\"anchor\":\"y\",\"domain\":[0.0,1.0],\"title\":{\"text\":\"product_type_name\"}},\"yaxis\":{\"anchor\":\"x\",\"domain\":[0.0,1.0],\"title\":{\"text\":\"count\"}},\"legend\":{\"title\":{\"text\":\"colour_group_name\"},\"tracegroupgap\":0},\"title\":{\"text\":\"Product Trends in Summer\"},\"barmode\":\"group\"},                        {\"responsive\": true}                    )                };                            </script>        </div>\n",
       "</body>\n",
       "</html>"
      ]
     },
     "metadata": {
      "application/vnd.databricks.v1+output": {
       "addedWidgets": {},
       "arguments": {},
       "data": "<html>\n<head><meta charset=\"utf-8\" /></head>\n<body>\n    <div>            <script src=\"https://cdnjs.cloudflare.com/ajax/libs/mathjax/2.7.5/MathJax.js?config=TeX-AMS-MML_SVG\"></script><script type=\"text/javascript\">if (window.MathJax) {MathJax.Hub.Config({SVG: {font: \"STIX-Web\"}});}</script>                <script type=\"text/javascript\">window.PlotlyConfig = {MathJaxConfig: 'local'};</script>\n        <script src=\"https://cdn.plot.ly/plotly-2.9.0.min.js\"></script>                <div id=\"bfe22769-62ff-47e7-88bb-299890d1cdd7\" class=\"plotly-graph-div\" style=\"height:100%; width:100%;\"></div>            <script type=\"text/javascript\">                                    window.PLOTLYENV=window.PLOTLYENV || {};                                    if (document.getElementById(\"bfe22769-62ff-47e7-88bb-299890d1cdd7\")) {                    Plotly.newPlot(                        \"bfe22769-62ff-47e7-88bb-299890d1cdd7\",                        [{\"alignmentgroup\":\"True\",\"hovertemplate\":\"colour_group_name=Black<br>product_type_name=%{x}<br>count=%{y}<extra></extra>\",\"legendgroup\":\"Black\",\"marker\":{\"color\":\"#636efa\",\"pattern\":{\"shape\":\"\"}},\"name\":\"Black\",\"offsetgroup\":\"Black\",\"orientation\":\"v\",\"showlegend\":true,\"textposition\":\"auto\",\"x\":[\"Dress\",\"Trousers\",\"Shorts\",\"Vest top\",\"Swimwear bottom\",\"T-shirt\",\"Bikini top\",\"Top\"],\"xaxis\":\"x\",\"y\":[5983,5288,3429,3405,3184,2815,2748,2508],\"yaxis\":\"y\",\"type\":\"bar\"},{\"alignmentgroup\":\"True\",\"hovertemplate\":\"colour_group_name=White<br>product_type_name=%{x}<br>count=%{y}<extra></extra>\",\"legendgroup\":\"White\",\"marker\":{\"color\":\"#EF553B\",\"pattern\":{\"shape\":\"\"}},\"name\":\"White\",\"offsetgroup\":\"White\",\"orientation\":\"v\",\"showlegend\":true,\"textposition\":\"auto\",\"x\":[\"T-shirt\",\"Blouse\"],\"xaxis\":\"x\",\"y\":[3715,2730],\"yaxis\":\"y\",\"type\":\"bar\"}],                        {\"template\":{\"data\":{\"bar\":[{\"error_x\":{\"color\":\"#2a3f5f\"},\"error_y\":{\"color\":\"#2a3f5f\"},\"marker\":{\"line\":{\"color\":\"#E5ECF6\",\"width\":0.5},\"pattern\":{\"fillmode\":\"overlay\",\"size\":10,\"solidity\":0.2}},\"type\":\"bar\"}],\"barpolar\":[{\"marker\":{\"line\":{\"color\":\"#E5ECF6\",\"width\":0.5},\"pattern\":{\"fillmode\":\"overlay\",\"size\":10,\"solidity\":0.2}},\"type\":\"barpolar\"}],\"carpet\":[{\"aaxis\":{\"endlinecolor\":\"#2a3f5f\",\"gridcolor\":\"white\",\"linecolor\":\"white\",\"minorgridcolor\":\"white\",\"startlinecolor\":\"#2a3f5f\"},\"baxis\":{\"endlinecolor\":\"#2a3f5f\",\"gridcolor\":\"white\",\"linecolor\":\"white\",\"minorgridcolor\":\"white\",\"startlinecolor\":\"#2a3f5f\"},\"type\":\"carpet\"}],\"choropleth\":[{\"colorbar\":{\"outlinewidth\":0,\"ticks\":\"\"},\"type\":\"choropleth\"}],\"contour\":[{\"colorbar\":{\"outlinewidth\":0,\"ticks\":\"\"},\"colorscale\":[[0.0,\"#0d0887\"],[0.1111111111111111,\"#46039f\"],[0.2222222222222222,\"#7201a8\"],[0.3333333333333333,\"#9c179e\"],[0.4444444444444444,\"#bd3786\"],[0.5555555555555556,\"#d8576b\"],[0.6666666666666666,\"#ed7953\"],[0.7777777777777778,\"#fb9f3a\"],[0.8888888888888888,\"#fdca26\"],[1.0,\"#f0f921\"]],\"type\":\"contour\"}],\"contourcarpet\":[{\"colorbar\":{\"outlinewidth\":0,\"ticks\":\"\"},\"type\":\"contourcarpet\"}],\"heatmap\":[{\"colorbar\":{\"outlinewidth\":0,\"ticks\":\"\"},\"colorscale\":[[0.0,\"#0d0887\"],[0.1111111111111111,\"#46039f\"],[0.2222222222222222,\"#7201a8\"],[0.3333333333333333,\"#9c179e\"],[0.4444444444444444,\"#bd3786\"],[0.5555555555555556,\"#d8576b\"],[0.6666666666666666,\"#ed7953\"],[0.7777777777777778,\"#fb9f3a\"],[0.8888888888888888,\"#fdca26\"],[1.0,\"#f0f921\"]],\"type\":\"heatmap\"}],\"heatmapgl\":[{\"colorbar\":{\"outlinewidth\":0,\"ticks\":\"\"},\"colorscale\":[[0.0,\"#0d0887\"],[0.1111111111111111,\"#46039f\"],[0.2222222222222222,\"#7201a8\"],[0.3333333333333333,\"#9c179e\"],[0.4444444444444444,\"#bd3786\"],[0.5555555555555556,\"#d8576b\"],[0.6666666666666666,\"#ed7953\"],[0.7777777777777778,\"#fb9f3a\"],[0.8888888888888888,\"#fdca26\"],[1.0,\"#f0f921\"]],\"type\":\"heatmapgl\"}],\"histogram\":[{\"marker\":{\"pattern\":{\"fillmode\":\"overlay\",\"size\":10,\"solidity\":0.2}},\"type\":\"histogram\"}],\"histogram2d\":[{\"colorbar\":{\"outlinewidth\":0,\"ticks\":\"\"},\"colorscale\":[[0.0,\"#0d0887\"],[0.1111111111111111,\"#46039f\"],[0.2222222222222222,\"#7201a8\"],[0.3333333333333333,\"#9c179e\"],[0.4444444444444444,\"#bd3786\"],[0.5555555555555556,\"#d8576b\"],[0.6666666666666666,\"#ed7953\"],[0.7777777777777778,\"#fb9f3a\"],[0.8888888888888888,\"#fdca26\"],[1.0,\"#f0f921\"]],\"type\":\"histogram2d\"}],\"histogram2dcontour\":[{\"colorbar\":{\"outlinewidth\":0,\"ticks\":\"\"},\"colorscale\":[[0.0,\"#0d0887\"],[0.1111111111111111,\"#46039f\"],[0.2222222222222222,\"#7201a8\"],[0.3333333333333333,\"#9c179e\"],[0.4444444444444444,\"#bd3786\"],[0.5555555555555556,\"#d8576b\"],[0.6666666666666666,\"#ed7953\"],[0.7777777777777778,\"#fb9f3a\"],[0.8888888888888888,\"#fdca26\"],[1.0,\"#f0f921\"]],\"type\":\"histogram2dcontour\"}],\"mesh3d\":[{\"colorbar\":{\"outlinewidth\":0,\"ticks\":\"\"},\"type\":\"mesh3d\"}],\"parcoords\":[{\"line\":{\"colorbar\":{\"outlinewidth\":0,\"ticks\":\"\"}},\"type\":\"parcoords\"}],\"pie\":[{\"automargin\":true,\"type\":\"pie\"}],\"scatter\":[{\"marker\":{\"colorbar\":{\"outlinewidth\":0,\"ticks\":\"\"}},\"type\":\"scatter\"}],\"scatter3d\":[{\"line\":{\"colorbar\":{\"outlinewidth\":0,\"ticks\":\"\"}},\"marker\":{\"colorbar\":{\"outlinewidth\":0,\"ticks\":\"\"}},\"type\":\"scatter3d\"}],\"scattercarpet\":[{\"marker\":{\"colorbar\":{\"outlinewidth\":0,\"ticks\":\"\"}},\"type\":\"scattercarpet\"}],\"scattergeo\":[{\"marker\":{\"colorbar\":{\"outlinewidth\":0,\"ticks\":\"\"}},\"type\":\"scattergeo\"}],\"scattergl\":[{\"marker\":{\"colorbar\":{\"outlinewidth\":0,\"ticks\":\"\"}},\"type\":\"scattergl\"}],\"scattermapbox\":[{\"marker\":{\"colorbar\":{\"outlinewidth\":0,\"ticks\":\"\"}},\"type\":\"scattermapbox\"}],\"scatterpolar\":[{\"marker\":{\"colorbar\":{\"outlinewidth\":0,\"ticks\":\"\"}},\"type\":\"scatterpolar\"}],\"scatterpolargl\":[{\"marker\":{\"colorbar\":{\"outlinewidth\":0,\"ticks\":\"\"}},\"type\":\"scatterpolargl\"}],\"scatterternary\":[{\"marker\":{\"colorbar\":{\"outlinewidth\":0,\"ticks\":\"\"}},\"type\":\"scatterternary\"}],\"surface\":[{\"colorbar\":{\"outlinewidth\":0,\"ticks\":\"\"},\"colorscale\":[[0.0,\"#0d0887\"],[0.1111111111111111,\"#46039f\"],[0.2222222222222222,\"#7201a8\"],[0.3333333333333333,\"#9c179e\"],[0.4444444444444444,\"#bd3786\"],[0.5555555555555556,\"#d8576b\"],[0.6666666666666666,\"#ed7953\"],[0.7777777777777778,\"#fb9f3a\"],[0.8888888888888888,\"#fdca26\"],[1.0,\"#f0f921\"]],\"type\":\"surface\"}],\"table\":[{\"cells\":{\"fill\":{\"color\":\"#EBF0F8\"},\"line\":{\"color\":\"white\"}},\"header\":{\"fill\":{\"color\":\"#C8D4E3\"},\"line\":{\"color\":\"white\"}},\"type\":\"table\"}]},\"layout\":{\"annotationdefaults\":{\"arrowcolor\":\"#2a3f5f\",\"arrowhead\":0,\"arrowwidth\":1},\"autotypenumbers\":\"strict\",\"coloraxis\":{\"colorbar\":{\"outlinewidth\":0,\"ticks\":\"\"}},\"colorscale\":{\"diverging\":[[0,\"#8e0152\"],[0.1,\"#c51b7d\"],[0.2,\"#de77ae\"],[0.3,\"#f1b6da\"],[0.4,\"#fde0ef\"],[0.5,\"#f7f7f7\"],[0.6,\"#e6f5d0\"],[0.7,\"#b8e186\"],[0.8,\"#7fbc41\"],[0.9,\"#4d9221\"],[1,\"#276419\"]],\"sequential\":[[0.0,\"#0d0887\"],[0.1111111111111111,\"#46039f\"],[0.2222222222222222,\"#7201a8\"],[0.3333333333333333,\"#9c179e\"],[0.4444444444444444,\"#bd3786\"],[0.5555555555555556,\"#d8576b\"],[0.6666666666666666,\"#ed7953\"],[0.7777777777777778,\"#fb9f3a\"],[0.8888888888888888,\"#fdca26\"],[1.0,\"#f0f921\"]],\"sequentialminus\":[[0.0,\"#0d0887\"],[0.1111111111111111,\"#46039f\"],[0.2222222222222222,\"#7201a8\"],[0.3333333333333333,\"#9c179e\"],[0.4444444444444444,\"#bd3786\"],[0.5555555555555556,\"#d8576b\"],[0.6666666666666666,\"#ed7953\"],[0.7777777777777778,\"#fb9f3a\"],[0.8888888888888888,\"#fdca26\"],[1.0,\"#f0f921\"]]},\"colorway\":[\"#636efa\",\"#EF553B\",\"#00cc96\",\"#ab63fa\",\"#FFA15A\",\"#19d3f3\",\"#FF6692\",\"#B6E880\",\"#FF97FF\",\"#FECB52\"],\"font\":{\"color\":\"#2a3f5f\"},\"geo\":{\"bgcolor\":\"white\",\"lakecolor\":\"white\",\"landcolor\":\"#E5ECF6\",\"showlakes\":true,\"showland\":true,\"subunitcolor\":\"white\"},\"hoverlabel\":{\"align\":\"left\"},\"hovermode\":\"closest\",\"mapbox\":{\"style\":\"light\"},\"paper_bgcolor\":\"white\",\"plot_bgcolor\":\"#E5ECF6\",\"polar\":{\"angularaxis\":{\"gridcolor\":\"white\",\"linecolor\":\"white\",\"ticks\":\"\"},\"bgcolor\":\"#E5ECF6\",\"radialaxis\":{\"gridcolor\":\"white\",\"linecolor\":\"white\",\"ticks\":\"\"}},\"scene\":{\"xaxis\":{\"backgroundcolor\":\"#E5ECF6\",\"gridcolor\":\"white\",\"gridwidth\":2,\"linecolor\":\"white\",\"showbackground\":true,\"ticks\":\"\",\"zerolinecolor\":\"white\"},\"yaxis\":{\"backgroundcolor\":\"#E5ECF6\",\"gridcolor\":\"white\",\"gridwidth\":2,\"linecolor\":\"white\",\"showbackground\":true,\"ticks\":\"\",\"zerolinecolor\":\"white\"},\"zaxis\":{\"backgroundcolor\":\"#E5ECF6\",\"gridcolor\":\"white\",\"gridwidth\":2,\"linecolor\":\"white\",\"showbackground\":true,\"ticks\":\"\",\"zerolinecolor\":\"white\"}},\"shapedefaults\":{\"line\":{\"color\":\"#2a3f5f\"}},\"ternary\":{\"aaxis\":{\"gridcolor\":\"white\",\"linecolor\":\"white\",\"ticks\":\"\"},\"baxis\":{\"gridcolor\":\"white\",\"linecolor\":\"white\",\"ticks\":\"\"},\"bgcolor\":\"#E5ECF6\",\"caxis\":{\"gridcolor\":\"white\",\"linecolor\":\"white\",\"ticks\":\"\"}},\"title\":{\"x\":0.05},\"xaxis\":{\"automargin\":true,\"gridcolor\":\"white\",\"linecolor\":\"white\",\"ticks\":\"\",\"title\":{\"standoff\":15},\"zerolinecolor\":\"white\",\"zerolinewidth\":2},\"yaxis\":{\"automargin\":true,\"gridcolor\":\"white\",\"linecolor\":\"white\",\"ticks\":\"\",\"title\":{\"standoff\":15},\"zerolinecolor\":\"white\",\"zerolinewidth\":2}}},\"xaxis\":{\"anchor\":\"y\",\"domain\":[0.0,1.0],\"title\":{\"text\":\"product_type_name\"}},\"yaxis\":{\"anchor\":\"x\",\"domain\":[0.0,1.0],\"title\":{\"text\":\"count\"}},\"legend\":{\"title\":{\"text\":\"colour_group_name\"},\"tracegroupgap\":0},\"title\":{\"text\":\"Product Trends in Summer\"},\"barmode\":\"group\"},                        {\"responsive\": true}                    )                };                            </script>        </div>\n</body>\n</html>",
       "datasetInfos": [],
       "metadata": {},
       "removedWidgets": [],
       "textData": null,
       "type": "htmlSandbox"
      }
     },
     "output_type": "display_data"
    },
    {
     "data": {
      "text/html": [
       "<html>\n",
       "<head><meta charset=\"utf-8\" /></head>\n",
       "<body>\n",
       "    <div>            <script src=\"https://cdnjs.cloudflare.com/ajax/libs/mathjax/2.7.5/MathJax.js?config=TeX-AMS-MML_SVG\"></script><script type=\"text/javascript\">if (window.MathJax) {MathJax.Hub.Config({SVG: {font: \"STIX-Web\"}});}</script>                <script type=\"text/javascript\">window.PlotlyConfig = {MathJaxConfig: 'local'};</script>\n",
       "        <script src=\"https://cdn.plot.ly/plotly-2.9.0.min.js\"></script>                <div id=\"af4981ce-8326-40bf-967c-e1a22e9b094b\" class=\"plotly-graph-div\" style=\"height:100%; width:100%;\"></div>            <script type=\"text/javascript\">                                    window.PLOTLYENV=window.PLOTLYENV || {};                                    if (document.getElementById(\"af4981ce-8326-40bf-967c-e1a22e9b094b\")) {                    Plotly.newPlot(                        \"af4981ce-8326-40bf-967c-e1a22e9b094b\",                        [{\"alignmentgroup\":\"True\",\"hovertemplate\":\"colour_group_name=Black<br>product_type_name=%{x}<br>count=%{y}<extra></extra>\",\"legendgroup\":\"Black\",\"marker\":{\"color\":\"#636efa\",\"pattern\":{\"shape\":\"\"}},\"name\":\"Black\",\"offsetgroup\":\"Black\",\"orientation\":\"v\",\"showlegend\":true,\"textposition\":\"auto\",\"x\":[\"Trousers\",\"Dress\",\"Sweater\",\"Top\",\"Leggings/Tights\",\"Skirt\",\"Bra\",\"T-shirt\"],\"xaxis\":\"x\",\"y\":[7015,4335,4019,2718,2369,1756,1746,1654],\"yaxis\":\"y\",\"type\":\"bar\"},{\"alignmentgroup\":\"True\",\"hovertemplate\":\"colour_group_name=Blue<br>product_type_name=%{x}<br>count=%{y}<extra></extra>\",\"legendgroup\":\"Blue\",\"marker\":{\"color\":\"#EF553B\",\"pattern\":{\"shape\":\"\"}},\"name\":\"Blue\",\"offsetgroup\":\"Blue\",\"orientation\":\"v\",\"showlegend\":true,\"textposition\":\"auto\",\"x\":[\"Trousers\"],\"xaxis\":\"x\",\"y\":[2076],\"yaxis\":\"y\",\"type\":\"bar\"},{\"alignmentgroup\":\"True\",\"hovertemplate\":\"colour_group_name=Dark Blue<br>product_type_name=%{x}<br>count=%{y}<extra></extra>\",\"legendgroup\":\"Dark Blue\",\"marker\":{\"color\":\"#00cc96\",\"pattern\":{\"shape\":\"\"}},\"name\":\"Dark Blue\",\"offsetgroup\":\"Dark Blue\",\"orientation\":\"v\",\"showlegend\":true,\"textposition\":\"auto\",\"x\":[\"Trousers\"],\"xaxis\":\"x\",\"y\":[2062],\"yaxis\":\"y\",\"type\":\"bar\"}],                        {\"template\":{\"data\":{\"bar\":[{\"error_x\":{\"color\":\"#2a3f5f\"},\"error_y\":{\"color\":\"#2a3f5f\"},\"marker\":{\"line\":{\"color\":\"#E5ECF6\",\"width\":0.5},\"pattern\":{\"fillmode\":\"overlay\",\"size\":10,\"solidity\":0.2}},\"type\":\"bar\"}],\"barpolar\":[{\"marker\":{\"line\":{\"color\":\"#E5ECF6\",\"width\":0.5},\"pattern\":{\"fillmode\":\"overlay\",\"size\":10,\"solidity\":0.2}},\"type\":\"barpolar\"}],\"carpet\":[{\"aaxis\":{\"endlinecolor\":\"#2a3f5f\",\"gridcolor\":\"white\",\"linecolor\":\"white\",\"minorgridcolor\":\"white\",\"startlinecolor\":\"#2a3f5f\"},\"baxis\":{\"endlinecolor\":\"#2a3f5f\",\"gridcolor\":\"white\",\"linecolor\":\"white\",\"minorgridcolor\":\"white\",\"startlinecolor\":\"#2a3f5f\"},\"type\":\"carpet\"}],\"choropleth\":[{\"colorbar\":{\"outlinewidth\":0,\"ticks\":\"\"},\"type\":\"choropleth\"}],\"contour\":[{\"colorbar\":{\"outlinewidth\":0,\"ticks\":\"\"},\"colorscale\":[[0.0,\"#0d0887\"],[0.1111111111111111,\"#46039f\"],[0.2222222222222222,\"#7201a8\"],[0.3333333333333333,\"#9c179e\"],[0.4444444444444444,\"#bd3786\"],[0.5555555555555556,\"#d8576b\"],[0.6666666666666666,\"#ed7953\"],[0.7777777777777778,\"#fb9f3a\"],[0.8888888888888888,\"#fdca26\"],[1.0,\"#f0f921\"]],\"type\":\"contour\"}],\"contourcarpet\":[{\"colorbar\":{\"outlinewidth\":0,\"ticks\":\"\"},\"type\":\"contourcarpet\"}],\"heatmap\":[{\"colorbar\":{\"outlinewidth\":0,\"ticks\":\"\"},\"colorscale\":[[0.0,\"#0d0887\"],[0.1111111111111111,\"#46039f\"],[0.2222222222222222,\"#7201a8\"],[0.3333333333333333,\"#9c179e\"],[0.4444444444444444,\"#bd3786\"],[0.5555555555555556,\"#d8576b\"],[0.6666666666666666,\"#ed7953\"],[0.7777777777777778,\"#fb9f3a\"],[0.8888888888888888,\"#fdca26\"],[1.0,\"#f0f921\"]],\"type\":\"heatmap\"}],\"heatmapgl\":[{\"colorbar\":{\"outlinewidth\":0,\"ticks\":\"\"},\"colorscale\":[[0.0,\"#0d0887\"],[0.1111111111111111,\"#46039f\"],[0.2222222222222222,\"#7201a8\"],[0.3333333333333333,\"#9c179e\"],[0.4444444444444444,\"#bd3786\"],[0.5555555555555556,\"#d8576b\"],[0.6666666666666666,\"#ed7953\"],[0.7777777777777778,\"#fb9f3a\"],[0.8888888888888888,\"#fdca26\"],[1.0,\"#f0f921\"]],\"type\":\"heatmapgl\"}],\"histogram\":[{\"marker\":{\"pattern\":{\"fillmode\":\"overlay\",\"size\":10,\"solidity\":0.2}},\"type\":\"histogram\"}],\"histogram2d\":[{\"colorbar\":{\"outlinewidth\":0,\"ticks\":\"\"},\"colorscale\":[[0.0,\"#0d0887\"],[0.1111111111111111,\"#46039f\"],[0.2222222222222222,\"#7201a8\"],[0.3333333333333333,\"#9c179e\"],[0.4444444444444444,\"#bd3786\"],[0.5555555555555556,\"#d8576b\"],[0.6666666666666666,\"#ed7953\"],[0.7777777777777778,\"#fb9f3a\"],[0.8888888888888888,\"#fdca26\"],[1.0,\"#f0f921\"]],\"type\":\"histogram2d\"}],\"histogram2dcontour\":[{\"colorbar\":{\"outlinewidth\":0,\"ticks\":\"\"},\"colorscale\":[[0.0,\"#0d0887\"],[0.1111111111111111,\"#46039f\"],[0.2222222222222222,\"#7201a8\"],[0.3333333333333333,\"#9c179e\"],[0.4444444444444444,\"#bd3786\"],[0.5555555555555556,\"#d8576b\"],[0.6666666666666666,\"#ed7953\"],[0.7777777777777778,\"#fb9f3a\"],[0.8888888888888888,\"#fdca26\"],[1.0,\"#f0f921\"]],\"type\":\"histogram2dcontour\"}],\"mesh3d\":[{\"colorbar\":{\"outlinewidth\":0,\"ticks\":\"\"},\"type\":\"mesh3d\"}],\"parcoords\":[{\"line\":{\"colorbar\":{\"outlinewidth\":0,\"ticks\":\"\"}},\"type\":\"parcoords\"}],\"pie\":[{\"automargin\":true,\"type\":\"pie\"}],\"scatter\":[{\"marker\":{\"colorbar\":{\"outlinewidth\":0,\"ticks\":\"\"}},\"type\":\"scatter\"}],\"scatter3d\":[{\"line\":{\"colorbar\":{\"outlinewidth\":0,\"ticks\":\"\"}},\"marker\":{\"colorbar\":{\"outlinewidth\":0,\"ticks\":\"\"}},\"type\":\"scatter3d\"}],\"scattercarpet\":[{\"marker\":{\"colorbar\":{\"outlinewidth\":0,\"ticks\":\"\"}},\"type\":\"scattercarpet\"}],\"scattergeo\":[{\"marker\":{\"colorbar\":{\"outlinewidth\":0,\"ticks\":\"\"}},\"type\":\"scattergeo\"}],\"scattergl\":[{\"marker\":{\"colorbar\":{\"outlinewidth\":0,\"ticks\":\"\"}},\"type\":\"scattergl\"}],\"scattermapbox\":[{\"marker\":{\"colorbar\":{\"outlinewidth\":0,\"ticks\":\"\"}},\"type\":\"scattermapbox\"}],\"scatterpolar\":[{\"marker\":{\"colorbar\":{\"outlinewidth\":0,\"ticks\":\"\"}},\"type\":\"scatterpolar\"}],\"scatterpolargl\":[{\"marker\":{\"colorbar\":{\"outlinewidth\":0,\"ticks\":\"\"}},\"type\":\"scatterpolargl\"}],\"scatterternary\":[{\"marker\":{\"colorbar\":{\"outlinewidth\":0,\"ticks\":\"\"}},\"type\":\"scatterternary\"}],\"surface\":[{\"colorbar\":{\"outlinewidth\":0,\"ticks\":\"\"},\"colorscale\":[[0.0,\"#0d0887\"],[0.1111111111111111,\"#46039f\"],[0.2222222222222222,\"#7201a8\"],[0.3333333333333333,\"#9c179e\"],[0.4444444444444444,\"#bd3786\"],[0.5555555555555556,\"#d8576b\"],[0.6666666666666666,\"#ed7953\"],[0.7777777777777778,\"#fb9f3a\"],[0.8888888888888888,\"#fdca26\"],[1.0,\"#f0f921\"]],\"type\":\"surface\"}],\"table\":[{\"cells\":{\"fill\":{\"color\":\"#EBF0F8\"},\"line\":{\"color\":\"white\"}},\"header\":{\"fill\":{\"color\":\"#C8D4E3\"},\"line\":{\"color\":\"white\"}},\"type\":\"table\"}]},\"layout\":{\"annotationdefaults\":{\"arrowcolor\":\"#2a3f5f\",\"arrowhead\":0,\"arrowwidth\":1},\"autotypenumbers\":\"strict\",\"coloraxis\":{\"colorbar\":{\"outlinewidth\":0,\"ticks\":\"\"}},\"colorscale\":{\"diverging\":[[0,\"#8e0152\"],[0.1,\"#c51b7d\"],[0.2,\"#de77ae\"],[0.3,\"#f1b6da\"],[0.4,\"#fde0ef\"],[0.5,\"#f7f7f7\"],[0.6,\"#e6f5d0\"],[0.7,\"#b8e186\"],[0.8,\"#7fbc41\"],[0.9,\"#4d9221\"],[1,\"#276419\"]],\"sequential\":[[0.0,\"#0d0887\"],[0.1111111111111111,\"#46039f\"],[0.2222222222222222,\"#7201a8\"],[0.3333333333333333,\"#9c179e\"],[0.4444444444444444,\"#bd3786\"],[0.5555555555555556,\"#d8576b\"],[0.6666666666666666,\"#ed7953\"],[0.7777777777777778,\"#fb9f3a\"],[0.8888888888888888,\"#fdca26\"],[1.0,\"#f0f921\"]],\"sequentialminus\":[[0.0,\"#0d0887\"],[0.1111111111111111,\"#46039f\"],[0.2222222222222222,\"#7201a8\"],[0.3333333333333333,\"#9c179e\"],[0.4444444444444444,\"#bd3786\"],[0.5555555555555556,\"#d8576b\"],[0.6666666666666666,\"#ed7953\"],[0.7777777777777778,\"#fb9f3a\"],[0.8888888888888888,\"#fdca26\"],[1.0,\"#f0f921\"]]},\"colorway\":[\"#636efa\",\"#EF553B\",\"#00cc96\",\"#ab63fa\",\"#FFA15A\",\"#19d3f3\",\"#FF6692\",\"#B6E880\",\"#FF97FF\",\"#FECB52\"],\"font\":{\"color\":\"#2a3f5f\"},\"geo\":{\"bgcolor\":\"white\",\"lakecolor\":\"white\",\"landcolor\":\"#E5ECF6\",\"showlakes\":true,\"showland\":true,\"subunitcolor\":\"white\"},\"hoverlabel\":{\"align\":\"left\"},\"hovermode\":\"closest\",\"mapbox\":{\"style\":\"light\"},\"paper_bgcolor\":\"white\",\"plot_bgcolor\":\"#E5ECF6\",\"polar\":{\"angularaxis\":{\"gridcolor\":\"white\",\"linecolor\":\"white\",\"ticks\":\"\"},\"bgcolor\":\"#E5ECF6\",\"radialaxis\":{\"gridcolor\":\"white\",\"linecolor\":\"white\",\"ticks\":\"\"}},\"scene\":{\"xaxis\":{\"backgroundcolor\":\"#E5ECF6\",\"gridcolor\":\"white\",\"gridwidth\":2,\"linecolor\":\"white\",\"showbackground\":true,\"ticks\":\"\",\"zerolinecolor\":\"white\"},\"yaxis\":{\"backgroundcolor\":\"#E5ECF6\",\"gridcolor\":\"white\",\"gridwidth\":2,\"linecolor\":\"white\",\"showbackground\":true,\"ticks\":\"\",\"zerolinecolor\":\"white\"},\"zaxis\":{\"backgroundcolor\":\"#E5ECF6\",\"gridcolor\":\"white\",\"gridwidth\":2,\"linecolor\":\"white\",\"showbackground\":true,\"ticks\":\"\",\"zerolinecolor\":\"white\"}},\"shapedefaults\":{\"line\":{\"color\":\"#2a3f5f\"}},\"ternary\":{\"aaxis\":{\"gridcolor\":\"white\",\"linecolor\":\"white\",\"ticks\":\"\"},\"baxis\":{\"gridcolor\":\"white\",\"linecolor\":\"white\",\"ticks\":\"\"},\"bgcolor\":\"#E5ECF6\",\"caxis\":{\"gridcolor\":\"white\",\"linecolor\":\"white\",\"ticks\":\"\"}},\"title\":{\"x\":0.05},\"xaxis\":{\"automargin\":true,\"gridcolor\":\"white\",\"linecolor\":\"white\",\"ticks\":\"\",\"title\":{\"standoff\":15},\"zerolinecolor\":\"white\",\"zerolinewidth\":2},\"yaxis\":{\"automargin\":true,\"gridcolor\":\"white\",\"linecolor\":\"white\",\"ticks\":\"\",\"title\":{\"standoff\":15},\"zerolinecolor\":\"white\",\"zerolinewidth\":2}}},\"xaxis\":{\"anchor\":\"y\",\"domain\":[0.0,1.0],\"title\":{\"text\":\"product_type_name\"}},\"yaxis\":{\"anchor\":\"x\",\"domain\":[0.0,1.0],\"title\":{\"text\":\"count\"}},\"legend\":{\"title\":{\"text\":\"colour_group_name\"},\"tracegroupgap\":0},\"title\":{\"text\":\"Product Trends in Autumn\"},\"barmode\":\"group\"},                        {\"responsive\": true}                    )                };                            </script>        </div>\n",
       "</body>\n",
       "</html>"
      ]
     },
     "metadata": {
      "application/vnd.databricks.v1+output": {
       "addedWidgets": {},
       "arguments": {},
       "data": "<html>\n<head><meta charset=\"utf-8\" /></head>\n<body>\n    <div>            <script src=\"https://cdnjs.cloudflare.com/ajax/libs/mathjax/2.7.5/MathJax.js?config=TeX-AMS-MML_SVG\"></script><script type=\"text/javascript\">if (window.MathJax) {MathJax.Hub.Config({SVG: {font: \"STIX-Web\"}});}</script>                <script type=\"text/javascript\">window.PlotlyConfig = {MathJaxConfig: 'local'};</script>\n        <script src=\"https://cdn.plot.ly/plotly-2.9.0.min.js\"></script>                <div id=\"af4981ce-8326-40bf-967c-e1a22e9b094b\" class=\"plotly-graph-div\" style=\"height:100%; width:100%;\"></div>            <script type=\"text/javascript\">                                    window.PLOTLYENV=window.PLOTLYENV || {};                                    if (document.getElementById(\"af4981ce-8326-40bf-967c-e1a22e9b094b\")) {                    Plotly.newPlot(                        \"af4981ce-8326-40bf-967c-e1a22e9b094b\",                        [{\"alignmentgroup\":\"True\",\"hovertemplate\":\"colour_group_name=Black<br>product_type_name=%{x}<br>count=%{y}<extra></extra>\",\"legendgroup\":\"Black\",\"marker\":{\"color\":\"#636efa\",\"pattern\":{\"shape\":\"\"}},\"name\":\"Black\",\"offsetgroup\":\"Black\",\"orientation\":\"v\",\"showlegend\":true,\"textposition\":\"auto\",\"x\":[\"Trousers\",\"Dress\",\"Sweater\",\"Top\",\"Leggings/Tights\",\"Skirt\",\"Bra\",\"T-shirt\"],\"xaxis\":\"x\",\"y\":[7015,4335,4019,2718,2369,1756,1746,1654],\"yaxis\":\"y\",\"type\":\"bar\"},{\"alignmentgroup\":\"True\",\"hovertemplate\":\"colour_group_name=Blue<br>product_type_name=%{x}<br>count=%{y}<extra></extra>\",\"legendgroup\":\"Blue\",\"marker\":{\"color\":\"#EF553B\",\"pattern\":{\"shape\":\"\"}},\"name\":\"Blue\",\"offsetgroup\":\"Blue\",\"orientation\":\"v\",\"showlegend\":true,\"textposition\":\"auto\",\"x\":[\"Trousers\"],\"xaxis\":\"x\",\"y\":[2076],\"yaxis\":\"y\",\"type\":\"bar\"},{\"alignmentgroup\":\"True\",\"hovertemplate\":\"colour_group_name=Dark Blue<br>product_type_name=%{x}<br>count=%{y}<extra></extra>\",\"legendgroup\":\"Dark Blue\",\"marker\":{\"color\":\"#00cc96\",\"pattern\":{\"shape\":\"\"}},\"name\":\"Dark Blue\",\"offsetgroup\":\"Dark Blue\",\"orientation\":\"v\",\"showlegend\":true,\"textposition\":\"auto\",\"x\":[\"Trousers\"],\"xaxis\":\"x\",\"y\":[2062],\"yaxis\":\"y\",\"type\":\"bar\"}],                        {\"template\":{\"data\":{\"bar\":[{\"error_x\":{\"color\":\"#2a3f5f\"},\"error_y\":{\"color\":\"#2a3f5f\"},\"marker\":{\"line\":{\"color\":\"#E5ECF6\",\"width\":0.5},\"pattern\":{\"fillmode\":\"overlay\",\"size\":10,\"solidity\":0.2}},\"type\":\"bar\"}],\"barpolar\":[{\"marker\":{\"line\":{\"color\":\"#E5ECF6\",\"width\":0.5},\"pattern\":{\"fillmode\":\"overlay\",\"size\":10,\"solidity\":0.2}},\"type\":\"barpolar\"}],\"carpet\":[{\"aaxis\":{\"endlinecolor\":\"#2a3f5f\",\"gridcolor\":\"white\",\"linecolor\":\"white\",\"minorgridcolor\":\"white\",\"startlinecolor\":\"#2a3f5f\"},\"baxis\":{\"endlinecolor\":\"#2a3f5f\",\"gridcolor\":\"white\",\"linecolor\":\"white\",\"minorgridcolor\":\"white\",\"startlinecolor\":\"#2a3f5f\"},\"type\":\"carpet\"}],\"choropleth\":[{\"colorbar\":{\"outlinewidth\":0,\"ticks\":\"\"},\"type\":\"choropleth\"}],\"contour\":[{\"colorbar\":{\"outlinewidth\":0,\"ticks\":\"\"},\"colorscale\":[[0.0,\"#0d0887\"],[0.1111111111111111,\"#46039f\"],[0.2222222222222222,\"#7201a8\"],[0.3333333333333333,\"#9c179e\"],[0.4444444444444444,\"#bd3786\"],[0.5555555555555556,\"#d8576b\"],[0.6666666666666666,\"#ed7953\"],[0.7777777777777778,\"#fb9f3a\"],[0.8888888888888888,\"#fdca26\"],[1.0,\"#f0f921\"]],\"type\":\"contour\"}],\"contourcarpet\":[{\"colorbar\":{\"outlinewidth\":0,\"ticks\":\"\"},\"type\":\"contourcarpet\"}],\"heatmap\":[{\"colorbar\":{\"outlinewidth\":0,\"ticks\":\"\"},\"colorscale\":[[0.0,\"#0d0887\"],[0.1111111111111111,\"#46039f\"],[0.2222222222222222,\"#7201a8\"],[0.3333333333333333,\"#9c179e\"],[0.4444444444444444,\"#bd3786\"],[0.5555555555555556,\"#d8576b\"],[0.6666666666666666,\"#ed7953\"],[0.7777777777777778,\"#fb9f3a\"],[0.8888888888888888,\"#fdca26\"],[1.0,\"#f0f921\"]],\"type\":\"heatmap\"}],\"heatmapgl\":[{\"colorbar\":{\"outlinewidth\":0,\"ticks\":\"\"},\"colorscale\":[[0.0,\"#0d0887\"],[0.1111111111111111,\"#46039f\"],[0.2222222222222222,\"#7201a8\"],[0.3333333333333333,\"#9c179e\"],[0.4444444444444444,\"#bd3786\"],[0.5555555555555556,\"#d8576b\"],[0.6666666666666666,\"#ed7953\"],[0.7777777777777778,\"#fb9f3a\"],[0.8888888888888888,\"#fdca26\"],[1.0,\"#f0f921\"]],\"type\":\"heatmapgl\"}],\"histogram\":[{\"marker\":{\"pattern\":{\"fillmode\":\"overlay\",\"size\":10,\"solidity\":0.2}},\"type\":\"histogram\"}],\"histogram2d\":[{\"colorbar\":{\"outlinewidth\":0,\"ticks\":\"\"},\"colorscale\":[[0.0,\"#0d0887\"],[0.1111111111111111,\"#46039f\"],[0.2222222222222222,\"#7201a8\"],[0.3333333333333333,\"#9c179e\"],[0.4444444444444444,\"#bd3786\"],[0.5555555555555556,\"#d8576b\"],[0.6666666666666666,\"#ed7953\"],[0.7777777777777778,\"#fb9f3a\"],[0.8888888888888888,\"#fdca26\"],[1.0,\"#f0f921\"]],\"type\":\"histogram2d\"}],\"histogram2dcontour\":[{\"colorbar\":{\"outlinewidth\":0,\"ticks\":\"\"},\"colorscale\":[[0.0,\"#0d0887\"],[0.1111111111111111,\"#46039f\"],[0.2222222222222222,\"#7201a8\"],[0.3333333333333333,\"#9c179e\"],[0.4444444444444444,\"#bd3786\"],[0.5555555555555556,\"#d8576b\"],[0.6666666666666666,\"#ed7953\"],[0.7777777777777778,\"#fb9f3a\"],[0.8888888888888888,\"#fdca26\"],[1.0,\"#f0f921\"]],\"type\":\"histogram2dcontour\"}],\"mesh3d\":[{\"colorbar\":{\"outlinewidth\":0,\"ticks\":\"\"},\"type\":\"mesh3d\"}],\"parcoords\":[{\"line\":{\"colorbar\":{\"outlinewidth\":0,\"ticks\":\"\"}},\"type\":\"parcoords\"}],\"pie\":[{\"automargin\":true,\"type\":\"pie\"}],\"scatter\":[{\"marker\":{\"colorbar\":{\"outlinewidth\":0,\"ticks\":\"\"}},\"type\":\"scatter\"}],\"scatter3d\":[{\"line\":{\"colorbar\":{\"outlinewidth\":0,\"ticks\":\"\"}},\"marker\":{\"colorbar\":{\"outlinewidth\":0,\"ticks\":\"\"}},\"type\":\"scatter3d\"}],\"scattercarpet\":[{\"marker\":{\"colorbar\":{\"outlinewidth\":0,\"ticks\":\"\"}},\"type\":\"scattercarpet\"}],\"scattergeo\":[{\"marker\":{\"colorbar\":{\"outlinewidth\":0,\"ticks\":\"\"}},\"type\":\"scattergeo\"}],\"scattergl\":[{\"marker\":{\"colorbar\":{\"outlinewidth\":0,\"ticks\":\"\"}},\"type\":\"scattergl\"}],\"scattermapbox\":[{\"marker\":{\"colorbar\":{\"outlinewidth\":0,\"ticks\":\"\"}},\"type\":\"scattermapbox\"}],\"scatterpolar\":[{\"marker\":{\"colorbar\":{\"outlinewidth\":0,\"ticks\":\"\"}},\"type\":\"scatterpolar\"}],\"scatterpolargl\":[{\"marker\":{\"colorbar\":{\"outlinewidth\":0,\"ticks\":\"\"}},\"type\":\"scatterpolargl\"}],\"scatterternary\":[{\"marker\":{\"colorbar\":{\"outlinewidth\":0,\"ticks\":\"\"}},\"type\":\"scatterternary\"}],\"surface\":[{\"colorbar\":{\"outlinewidth\":0,\"ticks\":\"\"},\"colorscale\":[[0.0,\"#0d0887\"],[0.1111111111111111,\"#46039f\"],[0.2222222222222222,\"#7201a8\"],[0.3333333333333333,\"#9c179e\"],[0.4444444444444444,\"#bd3786\"],[0.5555555555555556,\"#d8576b\"],[0.6666666666666666,\"#ed7953\"],[0.7777777777777778,\"#fb9f3a\"],[0.8888888888888888,\"#fdca26\"],[1.0,\"#f0f921\"]],\"type\":\"surface\"}],\"table\":[{\"cells\":{\"fill\":{\"color\":\"#EBF0F8\"},\"line\":{\"color\":\"white\"}},\"header\":{\"fill\":{\"color\":\"#C8D4E3\"},\"line\":{\"color\":\"white\"}},\"type\":\"table\"}]},\"layout\":{\"annotationdefaults\":{\"arrowcolor\":\"#2a3f5f\",\"arrowhead\":0,\"arrowwidth\":1},\"autotypenumbers\":\"strict\",\"coloraxis\":{\"colorbar\":{\"outlinewidth\":0,\"ticks\":\"\"}},\"colorscale\":{\"diverging\":[[0,\"#8e0152\"],[0.1,\"#c51b7d\"],[0.2,\"#de77ae\"],[0.3,\"#f1b6da\"],[0.4,\"#fde0ef\"],[0.5,\"#f7f7f7\"],[0.6,\"#e6f5d0\"],[0.7,\"#b8e186\"],[0.8,\"#7fbc41\"],[0.9,\"#4d9221\"],[1,\"#276419\"]],\"sequential\":[[0.0,\"#0d0887\"],[0.1111111111111111,\"#46039f\"],[0.2222222222222222,\"#7201a8\"],[0.3333333333333333,\"#9c179e\"],[0.4444444444444444,\"#bd3786\"],[0.5555555555555556,\"#d8576b\"],[0.6666666666666666,\"#ed7953\"],[0.7777777777777778,\"#fb9f3a\"],[0.8888888888888888,\"#fdca26\"],[1.0,\"#f0f921\"]],\"sequentialminus\":[[0.0,\"#0d0887\"],[0.1111111111111111,\"#46039f\"],[0.2222222222222222,\"#7201a8\"],[0.3333333333333333,\"#9c179e\"],[0.4444444444444444,\"#bd3786\"],[0.5555555555555556,\"#d8576b\"],[0.6666666666666666,\"#ed7953\"],[0.7777777777777778,\"#fb9f3a\"],[0.8888888888888888,\"#fdca26\"],[1.0,\"#f0f921\"]]},\"colorway\":[\"#636efa\",\"#EF553B\",\"#00cc96\",\"#ab63fa\",\"#FFA15A\",\"#19d3f3\",\"#FF6692\",\"#B6E880\",\"#FF97FF\",\"#FECB52\"],\"font\":{\"color\":\"#2a3f5f\"},\"geo\":{\"bgcolor\":\"white\",\"lakecolor\":\"white\",\"landcolor\":\"#E5ECF6\",\"showlakes\":true,\"showland\":true,\"subunitcolor\":\"white\"},\"hoverlabel\":{\"align\":\"left\"},\"hovermode\":\"closest\",\"mapbox\":{\"style\":\"light\"},\"paper_bgcolor\":\"white\",\"plot_bgcolor\":\"#E5ECF6\",\"polar\":{\"angularaxis\":{\"gridcolor\":\"white\",\"linecolor\":\"white\",\"ticks\":\"\"},\"bgcolor\":\"#E5ECF6\",\"radialaxis\":{\"gridcolor\":\"white\",\"linecolor\":\"white\",\"ticks\":\"\"}},\"scene\":{\"xaxis\":{\"backgroundcolor\":\"#E5ECF6\",\"gridcolor\":\"white\",\"gridwidth\":2,\"linecolor\":\"white\",\"showbackground\":true,\"ticks\":\"\",\"zerolinecolor\":\"white\"},\"yaxis\":{\"backgroundcolor\":\"#E5ECF6\",\"gridcolor\":\"white\",\"gridwidth\":2,\"linecolor\":\"white\",\"showbackground\":true,\"ticks\":\"\",\"zerolinecolor\":\"white\"},\"zaxis\":{\"backgroundcolor\":\"#E5ECF6\",\"gridcolor\":\"white\",\"gridwidth\":2,\"linecolor\":\"white\",\"showbackground\":true,\"ticks\":\"\",\"zerolinecolor\":\"white\"}},\"shapedefaults\":{\"line\":{\"color\":\"#2a3f5f\"}},\"ternary\":{\"aaxis\":{\"gridcolor\":\"white\",\"linecolor\":\"white\",\"ticks\":\"\"},\"baxis\":{\"gridcolor\":\"white\",\"linecolor\":\"white\",\"ticks\":\"\"},\"bgcolor\":\"#E5ECF6\",\"caxis\":{\"gridcolor\":\"white\",\"linecolor\":\"white\",\"ticks\":\"\"}},\"title\":{\"x\":0.05},\"xaxis\":{\"automargin\":true,\"gridcolor\":\"white\",\"linecolor\":\"white\",\"ticks\":\"\",\"title\":{\"standoff\":15},\"zerolinecolor\":\"white\",\"zerolinewidth\":2},\"yaxis\":{\"automargin\":true,\"gridcolor\":\"white\",\"linecolor\":\"white\",\"ticks\":\"\",\"title\":{\"standoff\":15},\"zerolinecolor\":\"white\",\"zerolinewidth\":2}}},\"xaxis\":{\"anchor\":\"y\",\"domain\":[0.0,1.0],\"title\":{\"text\":\"product_type_name\"}},\"yaxis\":{\"anchor\":\"x\",\"domain\":[0.0,1.0],\"title\":{\"text\":\"count\"}},\"legend\":{\"title\":{\"text\":\"colour_group_name\"},\"tracegroupgap\":0},\"title\":{\"text\":\"Product Trends in Autumn\"},\"barmode\":\"group\"},                        {\"responsive\": true}                    )                };                            </script>        </div>\n</body>\n</html>",
       "datasetInfos": [],
       "metadata": {},
       "removedWidgets": [],
       "textData": null,
       "type": "htmlSandbox"
      }
     },
     "output_type": "display_data"
    }
   ],
   "source": [
    "fig3 = px.bar(season_trend_winter_pd, x=season_trend_winter_pd['product_type_name'], y=season_trend_winter_pd['count'], \n",
    "              color=season_trend_winter_pd['colour_group_name'], barmode='group',title=\"Product Trends in Winter\")\n",
    "\n",
    "fig4 = px.bar(season_trend_spring_pd, x=season_trend_spring_pd['product_type_name'], y=season_trend_spring_pd['count'], \n",
    "              color=season_trend_spring_pd['colour_group_name'], barmode='group',title=\"Product Trends in Spring\")\n",
    "\n",
    "fig5 = px.bar(season_trend_summer_pd, x=season_trend_summer_pd['product_type_name'], y=season_trend_summer_pd['count'], \n",
    "              color=season_trend_summer_pd['colour_group_name'], barmode='group',title=\"Product Trends in Summer\")\n",
    "\n",
    "fig6 = px.bar(season_trend_autumn_pd, x=season_trend_autumn_pd['product_type_name'], y=season_trend_autumn_pd['count'], \n",
    "              color=season_trend_autumn_pd['colour_group_name'], barmode='group',title=\"Product Trends in Autumn\")\n",
    "\n",
    "#fig6 = px.bar(season_trend_autumn_pd, x=season_trend_autumn_pd['product_type_name'], y=season_trend_autumn_pd['count'],  color=season_trend_autumn_pd['colour_group_name'], barmode='group',title=\"Product Trends in Autumn\")\n",
    "\n",
    "for i in [fig3, fig4, fig5, fig6]:\n",
    "    i.show()"
   ]
  },
  {
   "cell_type": "markdown",
   "metadata": {
    "application/vnd.databricks.v1+cell": {
     "cellMetadata": {},
     "inputWidgets": {},
     "nuid": "d10e72e2-203b-4886-abb3-142614deb1e2",
     "showTitle": false,
     "tableResultSettingsMap": {},
     "title": ""
    }
   },
   "source": [
    "We can see that product trend greatly changes according to year season. Every season's trend is its corresponding type of clothes.\n",
    "We can also notice that white clothes are trendy in summer and spring."
   ]
  },
  {
   "cell_type": "markdown",
   "metadata": {
    "application/vnd.databricks.v1+cell": {
     "cellMetadata": {},
     "inputWidgets": {},
     "nuid": "ff386331-7de8-4ffe-9f1f-f09dbbba7ff3",
     "showTitle": false,
     "tableResultSettingsMap": {},
     "title": ""
    }
   },
   "source": [
    "### Estimations for 2 years' transactions summary"
   ]
  },
  {
   "cell_type": "markdown",
   "metadata": {
    "application/vnd.databricks.v1+cell": {
     "cellMetadata": {},
     "inputWidgets": {},
     "nuid": "94ee5815-437c-42c7-b24b-d1fb7163915d",
     "showTitle": false,
     "tableResultSettingsMap": {},
     "title": ""
    }
   },
   "source": [
    "If we assume that we have an unbiased sample, we can simply make calculations on our sample, then scale them for the full dataset with a scaling factor 33,33 (100/3)"
   ]
  },
  {
   "cell_type": "markdown",
   "metadata": {
    "application/vnd.databricks.v1+cell": {
     "cellMetadata": {},
     "inputWidgets": {},
     "nuid": "6ca28778-4e20-4a4f-af71-d07298f67f14",
     "showTitle": false,
     "tableResultSettingsMap": {},
     "title": ""
    }
   },
   "source": [
    "**a) Total revenue**"
   ]
  },
  {
   "cell_type": "code",
   "execution_count": null,
   "metadata": {
    "application/vnd.databricks.v1+cell": {
     "cellMetadata": {
      "byteLimit": 2048000,
      "rowLimit": 10000
     },
     "inputWidgets": {},
     "nuid": "b6cbd59d-6541-4180-ab20-49a4ba3c8bd9",
     "showTitle": false,
     "tableResultSettingsMap": {},
     "title": ""
    }
   },
   "outputs": [
    {
     "name": "stdout",
     "output_type": "stream",
     "text": [
      "+------------------+\n",
      "|        sum(price)|\n",
      "+------------------+\n",
      "|13468.221016949597|\n",
      "+------------------+\n",
      "\n"
     ]
    }
   ],
   "source": [
    "# As we don't have quantity of products sold, we'll have product's price as revenue of transaction\n",
    "\n",
    "from pyspark.sql.functions import col, countDistinct, sum as _sum\n",
    "\n",
    "total_revenue = df_transactions.select(F.sum(F.col(\"price\"))).alias('TotalRevenue')\n",
    "total_revenue.show()"
   ]
  },
  {
   "cell_type": "code",
   "execution_count": null,
   "metadata": {
    "application/vnd.databricks.v1+cell": {
     "cellMetadata": {
      "byteLimit": 2048000,
      "rowLimit": 10000
     },
     "inputWidgets": {},
     "nuid": "50d34ee3-4ae1-49a6-83d3-4ac0e140b181",
     "showTitle": false,
     "tableResultSettingsMap": {},
     "title": ""
    }
   },
   "outputs": [
    {
     "name": "stdout",
     "output_type": "stream",
     "text": [
      "+--------------------+\n",
      "|sum((price * 33.33))|\n",
      "+--------------------+\n",
      "|  448895.80649493926|\n",
      "+--------------------+\n",
      "\n"
     ]
    }
   ],
   "source": [
    "total_revenue_inference = df_transactions.select(F.sum(F.col(\"price\")*33.33))\n",
    "total_revenue_inference.show()"
   ]
  },
  {
   "cell_type": "markdown",
   "metadata": {
    "application/vnd.databricks.v1+cell": {
     "cellMetadata": {},
     "inputWidgets": {},
     "nuid": "b4ce277a-2229-4377-a485-e1a3e413eb47",
     "showTitle": false,
     "tableResultSettingsMap": {},
     "title": ""
    }
   },
   "source": [
    "**b)Number of customers**"
   ]
  },
  {
   "cell_type": "code",
   "execution_count": null,
   "metadata": {
    "application/vnd.databricks.v1+cell": {
     "cellMetadata": {
      "byteLimit": 2048000,
      "rowLimit": 10000
     },
     "inputWidgets": {},
     "nuid": "362ebf40-67cd-418d-8b48-aec8847eb79f",
     "showTitle": false,
     "tableResultSettingsMap": {},
     "title": ""
    }
   },
   "outputs": [
    {
     "name": "stdout",
     "output_type": "stream",
     "text": [
      "409862\n"
     ]
    }
   ],
   "source": [
    "\n",
    "number_of_customers = df_customers.distinct().count()\n",
    "print(number_of_customers)"
   ]
  },
  {
   "cell_type": "code",
   "execution_count": null,
   "metadata": {
    "application/vnd.databricks.v1+cell": {
     "cellMetadata": {
      "byteLimit": 2048000,
      "rowLimit": 10000
     },
     "inputWidgets": {},
     "nuid": "53171091-7dfa-4c8f-9559-943bcdcbd8ee",
     "showTitle": false,
     "tableResultSettingsMap": {},
     "title": ""
    }
   },
   "outputs": [
    {
     "name": "stdout",
     "output_type": "stream",
     "text": [
      "13660700.459999999\n"
     ]
    }
   ],
   "source": [
    "full_number_of_customers = number_of_customers * 33.33\n",
    "print(full_number_of_customers)"
   ]
  },
  {
   "cell_type": "markdown",
   "metadata": {
    "application/vnd.databricks.v1+cell": {
     "cellMetadata": {},
     "inputWidgets": {},
     "nuid": "6411f0eb-9d24-454a-8e39-7ad493554b4d",
     "showTitle": false,
     "tableResultSettingsMap": {},
     "title": ""
    }
   },
   "source": [
    "**c) Number of transactions**"
   ]
  },
  {
   "cell_type": "code",
   "execution_count": null,
   "metadata": {
    "application/vnd.databricks.v1+cell": {
     "cellMetadata": {
      "byteLimit": 2048000,
      "rowLimit": 10000
     },
     "inputWidgets": {},
     "nuid": "3c422122-d6cb-4381-b30c-26abd0029e58",
     "showTitle": false,
     "tableResultSettingsMap": {},
     "title": ""
    }
   },
   "outputs": [
    {
     "name": "stdout",
     "output_type": "stream",
     "text": [
      "482189\n"
     ]
    }
   ],
   "source": [
    "number_of_transactions = df_transactions.count()\n",
    "print(number_of_transactions)"
   ]
  },
  {
   "cell_type": "code",
   "execution_count": null,
   "metadata": {
    "application/vnd.databricks.v1+cell": {
     "cellMetadata": {
      "byteLimit": 2048000,
      "rowLimit": 10000
     },
     "inputWidgets": {},
     "nuid": "6a0c17ab-35c9-48ac-a76e-b6b00d2a9974",
     "showTitle": false,
     "tableResultSettingsMap": {},
     "title": ""
    }
   },
   "outputs": [
    {
     "name": "stdout",
     "output_type": "stream",
     "text": [
      "16071359.37\n"
     ]
    }
   ],
   "source": [
    "full_n_of_transactions = number_of_transactions * 33.33\n",
    "print(full_n_of_transactions)"
   ]
  },
  {
   "cell_type": "markdown",
   "metadata": {
    "application/vnd.databricks.v1+cell": {
     "cellMetadata": {},
     "inputWidgets": {},
     "nuid": "258e6c7f-7fec-4713-b0b8-561ddb7462ba",
     "showTitle": false,
     "tableResultSettingsMap": {},
     "title": ""
    }
   },
   "source": [
    "**d) Average expenses per year per customer**"
   ]
  },
  {
   "cell_type": "code",
   "execution_count": null,
   "metadata": {
    "application/vnd.databricks.v1+cell": {
     "cellMetadata": {
      "byteLimit": 2048000,
      "rowLimit": 10000
     },
     "inputWidgets": {},
     "nuid": "c40f0ef6-0880-4bd3-974b-0409f17d3136",
     "showTitle": false,
     "tableResultSettingsMap": {},
     "title": ""
    }
   },
   "outputs": [],
   "source": [
    "customer_number = df_transactions.distinct().count()"
   ]
  },
  {
   "cell_type": "code",
   "execution_count": null,
   "metadata": {
    "application/vnd.databricks.v1+cell": {
     "cellMetadata": {
      "byteLimit": 2048000,
      "rowLimit": 10000
     },
     "inputWidgets": {},
     "nuid": "9cc4b662-2f14-4e65-8d3d-8ee61949cf42",
     "showTitle": false,
     "tableResultSettingsMap": {},
     "title": ""
    }
   },
   "outputs": [],
   "source": [
    "avg_expenses = df_transactions.groupBy(\"year\", \"customer_id\").agg(F.sum(F.col(\"price\"))\n",
    "                                                                  .alias(\"total_expenses\")).agg(F.sum(F.col(\"total_expenses\") / customer_number))"
   ]
  },
  {
   "cell_type": "code",
   "execution_count": null,
   "metadata": {
    "application/vnd.databricks.v1+cell": {
     "cellMetadata": {
      "byteLimit": 2048000,
      "rowLimit": 10000
     },
     "inputWidgets": {},
     "nuid": "91413748-1062-4e1d-a0d2-471cd1254b1e",
     "showTitle": false,
     "tableResultSettingsMap": {},
     "title": ""
    }
   },
   "outputs": [
    {
     "name": "stdout",
     "output_type": "stream",
     "text": [
      "+------------------------------+\n",
      "|sum((total_expenses / 480319))|\n",
      "+------------------------------+\n",
      "|          0.028040158763133184|\n",
      "+------------------------------+\n",
      "\n"
     ]
    }
   ],
   "source": [
    "avg_expenses.show()"
   ]
  },
  {
   "cell_type": "markdown",
   "metadata": {
    "application/vnd.databricks.v1+cell": {
     "cellMetadata": {},
     "inputWidgets": {},
     "nuid": "8ba12c38-26cf-41f6-bbc3-41d207ad0b81",
     "showTitle": false,
     "tableResultSettingsMap": {},
     "title": ""
    }
   },
   "source": [
    "Another method could be usage of data distributions for more accurate scaling"
   ]
  },
  {
   "cell_type": "markdown",
   "metadata": {
    "application/vnd.databricks.v1+cell": {
     "cellMetadata": {},
     "inputWidgets": {},
     "nuid": "e0d56e5b-a0ea-4718-824c-d062f21325fa",
     "showTitle": false,
     "tableResultSettingsMap": {},
     "title": ""
    }
   },
   "source": [
    "### Data Quality Report"
   ]
  },
  {
   "cell_type": "code",
   "execution_count": null,
   "metadata": {
    "application/vnd.databricks.v1+cell": {
     "cellMetadata": {
      "byteLimit": 2048000,
      "rowLimit": 10000
     },
     "inputWidgets": {},
     "nuid": "ca92ebb4-8fbb-48f9-86d6-ee9449cab5ec",
     "showTitle": false,
     "tableResultSettingsMap": {},
     "title": ""
    }
   },
   "outputs": [
    {
     "name": "stdout",
     "output_type": "stream",
     "text": [
      "Null value analysis for Transactions:\n",
      "-RECORD 0---------------\n",
      " t_dat            | 0   \n",
      " customer_id      | 0   \n",
      " article_id       | 0   \n",
      " price            | 0   \n",
      " sales_channel_id | 0   \n",
      " date             | 0   \n",
      " year             | 0   \n",
      " Season           | 0   \n",
      "\n",
      "Null value analysis for Customers:\n",
      "-RECORD 0------------------------\n",
      " customer_id            | 0      \n",
      " FN                     | 245161 \n",
      " Active                 | 248064 \n",
      " club_member_status     | 932    \n",
      " fashion_news_frequency | 3053   \n",
      " age                    | 2501   \n",
      " postal_code            | 0      \n",
      "\n",
      "Null value analysis for Articles:\n",
      "-RECORD 0---------------------------\n",
      " article_id                   | 0   \n",
      " product_code                 | 0   \n",
      " prod_name                    | 0   \n",
      " product_type_no              | 0   \n",
      " product_type_name            | 0   \n",
      " product_group_name           | 0   \n",
      " graphical_appearance_no      | 0   \n",
      " graphical_appearance_name    | 0   \n",
      " colour_group_code            | 0   \n",
      " colour_group_name            | 0   \n",
      " perceived_colour_value_id    | 0   \n",
      " perceived_colour_value_name  | 0   \n",
      " perceived_colour_master_id   | 0   \n",
      " perceived_colour_master_name | 0   \n",
      " department_no                | 0   \n",
      " department_name              | 0   \n",
      " index_code                   | 0   \n",
      " index_name                   | 0   \n",
      " index_group_no               | 0   \n",
      " index_group_name             | 0   \n",
      " section_no                   | 0   \n",
      " section_name                 | 0   \n",
      " garment_group_no             | 0   \n",
      " garment_group_name           | 0   \n",
      " detail_desc                  | 416 \n",
      "\n"
     ]
    }
   ],
   "source": [
    "for df, name in zip([df_transactions, df_customers, df_articles], [\"Transactions\", \"Customers\", \"Articles\"]):\n",
    "    print(f\"Null value analysis for {name}:\")\n",
    "    df.select([((df[col].isNull()).cast(\"int\")).alias(col) for col in df.columns]).agg(*[\n",
    "        _sum(col).alias(col) for col in df.columns\n",
    "    ]).show(vertical = True)"
   ]
  },
  {
   "cell_type": "markdown",
   "metadata": {
    "application/vnd.databricks.v1+cell": {
     "cellMetadata": {},
     "inputWidgets": {},
     "nuid": "4387d19b-1212-4f94-bc83-27cbe771ca98",
     "showTitle": false,
     "tableResultSettingsMap": {},
     "title": ""
    }
   },
   "source": [
    "Important features don't have null values. What about customers age, or detailed description of a product, these columns' null values don't make huge loss in analysis. We can say that we don't have problem with Null values"
   ]
  },
  {
   "cell_type": "code",
   "execution_count": null,
   "metadata": {
    "application/vnd.databricks.v1+cell": {
     "cellMetadata": {
      "byteLimit": 2048000,
      "rowLimit": 10000
     },
     "inputWidgets": {},
     "nuid": "17ddce99-47b4-47b0-841c-e5a72828928b",
     "showTitle": false,
     "tableResultSettingsMap": {},
     "title": ""
    }
   },
   "outputs": [
    {
     "name": "stdout",
     "output_type": "stream",
     "text": [
      "Mismatched articles: 0\n",
      "Mismatched customers: 0\n"
     ]
    }
   ],
   "source": [
    "mismatched_articles = df_transactions.join(df_articles, \"article_id\", \"left_anti\").count()\n",
    "\n",
    "mismatched_customers = df_transactions.join(df_customers, \"customer_id\", \"left_anti\").count()\n",
    "\n",
    "print(f\"Mismatched articles: {mismatched_articles}\")\n",
    "print(f\"Mismatched customers: {mismatched_customers}\")"
   ]
  },
  {
   "cell_type": "code",
   "execution_count": null,
   "metadata": {
    "application/vnd.databricks.v1+cell": {
     "cellMetadata": {
      "byteLimit": 2048000,
      "rowLimit": 10000
     },
     "inputWidgets": {},
     "nuid": "c6f52752-a0f7-4e45-bc14-977dcb7769c8",
     "showTitle": false,
     "tableResultSettingsMap": {},
     "title": ""
    }
   },
   "outputs": [
    {
     "name": "stdout",
     "output_type": "stream",
     "text": [
      "+-------+--------------------+\n",
      "|summary|               price|\n",
      "+-------+--------------------+\n",
      "|  count|              482189|\n",
      "|   mean|0.027931414895299555|\n",
      "| stddev| 0.01947139179042385|\n",
      "|    min|3.220338983050848E-4|\n",
      "|    max|  0.5067796610169492|\n",
      "+-------+--------------------+\n",
      "\n"
     ]
    }
   ],
   "source": [
    "df_transactions.describe('price').show()"
   ]
  },
  {
   "cell_type": "code",
   "execution_count": null,
   "metadata": {
    "application/vnd.databricks.v1+cell": {
     "cellMetadata": {
      "byteLimit": 2048000,
      "rowLimit": 10000
     },
     "inputWidgets": {},
     "nuid": "a4c66627-e257-4dd9-8874-5d1de3a4fb4f",
     "showTitle": false,
     "tableResultSettingsMap": {},
     "title": ""
    }
   },
   "outputs": [
    {
     "name": "stdout",
     "output_type": "stream",
     "text": [
      "Invalid dates in transactions: 0\n"
     ]
    }
   ],
   "source": [
    "from pyspark.sql.functions import to_date, current_date\n",
    "\n",
    "df_transactions = df_transactions.withColumn(\"purchase_date\", to_date(\"date\", \"yyyy-MM-dd\"))\n",
    "invalid_dates = df_transactions.filter((col(\"purchase_date\") > current_date()) | col(\"purchase_date\").isNull()).count()\n",
    "print(f\"Invalid dates in transactions: {invalid_dates}\")"
   ]
  },
  {
   "cell_type": "markdown",
   "metadata": {
    "application/vnd.databricks.v1+cell": {
     "cellMetadata": {},
     "inputWidgets": {},
     "nuid": "a46ffdd5-55e9-49b6-99ad-5b3f59937a28",
     "showTitle": false,
     "tableResultSettingsMap": {},
     "title": ""
    }
   },
   "source": [
    "We can conclude that we have good quality data"
   ]
  },
  {
   "cell_type": "markdown",
   "metadata": {
    "application/vnd.databricks.v1+cell": {
     "cellMetadata": {},
     "inputWidgets": {},
     "nuid": "f8bf4ca4-964f-49c7-8c2a-da3ffc14317c",
     "showTitle": false,
     "tableResultSettingsMap": {},
     "title": ""
    }
   },
   "source": [
    "### Some small analysis"
   ]
  },
  {
   "cell_type": "code",
   "execution_count": null,
   "metadata": {
    "application/vnd.databricks.v1+cell": {
     "cellMetadata": {
      "byteLimit": 2048000,
      "rowLimit": 10000
     },
     "inputWidgets": {},
     "nuid": "00d66d28-e698-4fbd-9ed3-ee53023da945",
     "showTitle": false,
     "tableResultSettingsMap": {},
     "title": ""
    }
   },
   "outputs": [
    {
     "name": "stdout",
     "output_type": "stream",
     "text": [
      "+------+------+\n",
      "|season| count|\n",
      "+------+------+\n",
      "|Spring|130643|\n",
      "|Winter| 94806|\n",
      "|Summer|148098|\n",
      "|Autumn|108642|\n",
      "+------+------+\n",
      "\n"
     ]
    }
   ],
   "source": [
    "df_transactions.groupBy('season').count().show()"
   ]
  },
  {
   "cell_type": "markdown",
   "metadata": {
    "application/vnd.databricks.v1+cell": {
     "cellMetadata": {},
     "inputWidgets": {},
     "nuid": "c04b9ffd-478f-4657-b400-5c1f34501387",
     "showTitle": false,
     "tableResultSettingsMap": {},
     "title": ""
    }
   },
   "source": [
    "Most purchases are made in summer, and least in winter. The company can make good profit in summer, and make \"Christmas discounts\" or other marketing campaign in winter "
   ]
  },
  {
   "cell_type": "code",
   "execution_count": null,
   "metadata": {
    "application/vnd.databricks.v1+cell": {
     "cellMetadata": {},
     "inputWidgets": {},
     "nuid": "3622ed7d-97ec-46a1-a814-27e8601ac79e",
     "showTitle": false,
     "tableResultSettingsMap": {},
     "title": ""
    }
   },
   "outputs": [],
   "source": []
  }
 ],
 "metadata": {
  "application/vnd.databricks.v1+notebook": {
   "dashboards": [],
   "environmentMetadata": null,
   "language": "python",
   "notebookMetadata": {
    "pythonIndentUnit": 4
   },
   "notebookName": "varduhi_babayan",
   "widgets": {}
  },
  "kernelspec": {
   "display_name": "Python [conda env:base] *",
   "language": "python",
   "name": "conda-base-py"
  },
  "language_info": {
   "codemirror_mode": {
    "name": "ipython",
    "version": 3
   },
   "file_extension": ".py",
   "mimetype": "text/x-python",
   "name": "python",
   "nbconvert_exporter": "python",
   "pygments_lexer": "ipython3",
   "version": "3.11.4"
  }
 },
 "nbformat": 4,
 "nbformat_minor": 4
}
